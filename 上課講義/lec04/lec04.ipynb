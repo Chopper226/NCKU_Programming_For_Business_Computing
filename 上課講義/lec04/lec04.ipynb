{
 "cells": [
  {
   "cell_type": "markdown",
   "id": "961cde56",
   "metadata": {
    "slideshow": {
     "slide_type": "subslide"
    }
   },
   "source": [
    "### Making Choices<br>\n",
    "* Here we introduces another fundamental concept of programming: Making choices\n",
    "* We do this whenever we want our program to behave differently depending on the data it is working with\n",
    "    * For example, we might want to do different things depending on whether a solution is acidic or basic\n",
    "    * Or depending on whether a user types yes or no in response to a call on built-in function input\n",
    "* We will introduce statements for making choices here called $\\rm\\color{magenta}{control\\space flow}$ statements\n",
    "    * Because they control the way the computer executes programs\n",
    "* These statements involve a Python type that is used to represent truth and falsehood\n",
    "* Unlike the integers, floating-point numbers, and strings we have already seen, this type has only two values and three operators"
   ]
  },
  {
   "cell_type": "markdown",
   "id": "ddca7a29",
   "metadata": {
    "slideshow": {
     "slide_type": "subslide"
    }
   },
   "source": [
    "### A Boolean Type<br>\n",
    "* In Python, there is a type called bool\n",
    "* Unlike int and float, which have billions of possible values, bool has only two: $\\rm\\color{orange}{True}$ and $\\rm\\color{orange}{False}$\n",
    "* True and False are $\\rm\\color{magenta}{values}$, just as much as the numbers $37$ and $-22.9$"
   ]
  },
  {
   "cell_type": "markdown",
   "id": "bdffaa9e",
   "metadata": {
    "slideshow": {
     "slide_type": "subslide"
    }
   },
   "source": [
    "### Boolean Operators<br>\n",
    "* There are only three basic Boolean operators: $\\rm\\color{magenta}{and}$, $\\rm\\color{magenta}{or}$, and $\\rm\\color{magenta}{not}$\n",
    "* $not$ has the highest precedence, followed by and, followed by or\n",
    "* $not$ is a $\\rm\\color{magenta}{unary}$ operator: It is applied to just one value, like the negation in the expression $-(3+2)$\n",
    "* An expression involving $not$ produces True if the original value is False, and it produces False if the original value is True"
   ]
  },
  {
   "cell_type": "code",
   "execution_count": null,
   "id": "f4a6f191",
   "metadata": {
    "slideshow": {
     "slide_type": "fragment"
    }
   },
   "outputs": [],
   "source": [
    "print(not True)\n",
    "print(not False)"
   ]
  },
  {
   "cell_type": "markdown",
   "id": "40581d9c",
   "metadata": {
    "slideshow": {
     "slide_type": "subslide"
    }
   },
   "source": [
    "* $and$ is a binary operator; the expression left and right produces True if both left and right are True, and it produces False otherwise"
   ]
  },
  {
   "cell_type": "code",
   "execution_count": null,
   "id": "88acbb88",
   "metadata": {
    "slideshow": {
     "slide_type": "fragment"
    }
   },
   "outputs": [],
   "source": [
    "print(True and True)\n",
    "print(False and False)\n",
    "print(True and False)\n",
    "print(False and True)"
   ]
  },
  {
   "cell_type": "markdown",
   "id": "039ad6c5",
   "metadata": {
    "slideshow": {
     "slide_type": "subslide"
    }
   },
   "source": [
    "* $or$ is also a binary operator. It produces True if either operand is True, and it produces False only if both are False"
   ]
  },
  {
   "cell_type": "code",
   "execution_count": null,
   "id": "9af32fad",
   "metadata": {
    "slideshow": {
     "slide_type": "fragment"
    }
   },
   "outputs": [],
   "source": [
    "print(True or True)\n",
    "print(False or False)\n",
    "print(True or False)\n",
    "print(False or True)"
   ]
  },
  {
   "cell_type": "markdown",
   "id": "d92b3ffd",
   "metadata": {
    "slideshow": {
     "slide_type": "subslide"
    }
   },
   "source": [
    "* This definition is called $\\rm\\color{orange}{inclusive\\space or}$, since it allows both possibilities as well as either\n",
    "* In English, the word $or$ is also sometimes an $\\rm\\color{orange}{exclusive\\space or}$ ($\\rm\\color{orange}{互斥或}$)\n",
    "    * For example, if someone says, \"You can have pizza or tandoori chicken,\" they probably do not mean that you can have both\n",
    "* Unlike English (but like $\\rm\\color{magenta}{most}$ programming languages), Python always interprets $or$ as inclusive"
   ]
  },
  {
   "cell_type": "markdown",
   "id": "e6081af3",
   "metadata": {
    "slideshow": {
     "slide_type": "subslide"
    }
   },
   "source": [
    "* Let's say we want to express \"It is not cold and windy\" using two variables, cold and windy, that refer to Boolean values\n",
    "* We first have to decide what the ambiguous English expression means: Is it not cold but at the same time windy, or is it both not cold and not windy?\n",
    "---\n",
    "| cold | windy | cold and windy | cold or windy | (not cold) and windy | not (cold and windy) |\n",
    "| :--: | :--: | :--: | :--: | :--: | :--: |\n",
    "| True | True | True | True | False | False\n",
    "| True | False | False | True | False | True\n",
    "| False | True | False | True | True | True\n",
    "| False | False | False | False | False | True"
   ]
  },
  {
   "cell_type": "code",
   "execution_count": null,
   "id": "9103e4b0",
   "metadata": {
    "slideshow": {
     "slide_type": "fragment"
    }
   },
   "outputs": [],
   "source": [
    "cold = True\n",
    "windy = False\n",
    "print((not cold) and windy)\n",
    "print(not (cold and windy))"
   ]
  },
  {
   "cell_type": "markdown",
   "id": "2ebc6145",
   "metadata": {
    "slideshow": {
     "slide_type": "subslide"
    }
   },
   "source": [
    "### Boolean Operators in Other Languages<br>\n",
    "* If you already know another language such as C or Java, you might be used to $\\rm\\color{magenta}{\\&\\&}$ for $and$, $\\rm\\color{magenta}{||}$ for $or$, and $\\rm\\color{magenta}{!}$ for $not$\n",
    "* These will not work in Python, but the idea is the same"
   ]
  },
  {
   "cell_type": "markdown",
   "id": "021187d9",
   "metadata": {
    "slideshow": {
     "slide_type": "subslide"
    }
   },
   "source": [
    "### Relational Operators<br>\n",
    "* We said earlier that True and False are values. Typically those values are not written down directly in expressions but rather created in expressions\n",
    "* The most common way to do that is by doing a comparison using a relational operator\n",
    "    * For example, $3<5$ is a comparison using the $\\rm\\color{magenta}{relational\\space operator}$ ($\\rm\\color{magenta}{關係運算子}$) $<$ that produces the value True, while $13>77$ uses $>$ and produces the value False\n",
    "* Python has all the operators we are used to using\n",
    "    * Some of them are represented using two characters instead of one, like $<=$ instead of $\\leq$\n",
    "* The most important representation rule is that Python uses $==$ for equality instead of just $=$, because $=$ is used for $\\rm\\color{magenta}{assignment}$\n",
    "* Avoid typing $x=3$ when you mean to check whether variable $x$ is equal to three\n",
    "---\n",
    "| Symbol | Operation |\n",
    "| :--: | :--: |\n",
    "| $>$ | Greater than |\n",
    "| $<$ | Less than |\n",
    "| $>=$ | Greater than or equal to |\n",
    "| $<=$ | Less than or equal to |\n",
    "| $==$ | Equal to |\n",
    "| $!=$ | Not equal to |"
   ]
  },
  {
   "cell_type": "markdown",
   "id": "026a8d44",
   "metadata": {
    "slideshow": {
     "slide_type": "subslide"
    }
   },
   "source": [
    "* All relational operators are binary operators: They compare two values and produce True or False as appropriate\n",
    "* The greater-than ($>$) and less-than ($<$) operators work as follows"
   ]
  },
  {
   "cell_type": "code",
   "execution_count": null,
   "id": "aa12ec69",
   "metadata": {
    "slideshow": {
     "slide_type": "fragment"
    }
   },
   "outputs": [],
   "source": [
    "print(45 > 34)\n",
    "print(45 > 79)\n",
    "print(45 < 79)\n",
    "print(45 < 34)"
   ]
  },
  {
   "cell_type": "markdown",
   "id": "b2e1ad4b",
   "metadata": {
    "slideshow": {
     "slide_type": "subslide"
    }
   },
   "source": [
    "* We can compare integers to floating-point numbers with any of the relational operators\n",
    "* Integers are automatically converted to floating point when we do this, just as they are when we add $14$ to $23.3$"
   ]
  },
  {
   "cell_type": "code",
   "execution_count": null,
   "id": "49b4db7d",
   "metadata": {
    "slideshow": {
     "slide_type": "fragment"
    }
   },
   "outputs": [],
   "source": [
    "print(23.1 >= 23)\n",
    "print(23.1 >= 23.1)\n",
    "print(23.1 <= 23.1)\n",
    "print(23.1 <= 23)"
   ]
  },
  {
   "cell_type": "markdown",
   "id": "4a88ec87",
   "metadata": {
    "slideshow": {
     "slide_type": "subslide"
    }
   },
   "source": [
    "* The same holds for \"equal to\" and \"not equal to\""
   ]
  },
  {
   "cell_type": "code",
   "execution_count": null,
   "id": "649c7bdd",
   "metadata": {
    "slideshow": {
     "slide_type": "fragment"
    }
   },
   "outputs": [],
   "source": [
    "print(67.3 == 87)\n",
    "print(67.3 == 67)\n",
    "print(67.0 == 67)\n",
    "print(67.0 != 67)\n",
    "print(67.0 != 23)"
   ]
  },
  {
   "cell_type": "markdown",
   "id": "bc5d8239",
   "metadata": {
    "slideshow": {
     "slide_type": "subslide"
    }
   },
   "source": [
    "* Of course, it does not make much sense to compare two numbers that we know in advance, since we would also know the result of the comparison\n",
    "* Relational operators therefore almost always involve variables"
   ]
  },
  {
   "cell_type": "code",
   "execution_count": null,
   "id": "ca593adf",
   "metadata": {
    "slideshow": {
     "slide_type": "subslide"
    }
   },
   "outputs": [],
   "source": [
    "def is_positive(x):\n",
    "    \"\"\" (number) -> bool\n",
    "\n",
    "    Return True iff x is positive.\n",
    "\n",
    "    >>> is_positive(3)\n",
    "    True\n",
    "    >>> is_positive(-4.6)\n",
    "    False\n",
    "    \"\"\"\n",
    "    return x > 0\n",
    "\n",
    "print(is_positive(3))\n",
    "print(is_positive(-4.6))\n",
    "print(is_positive(0))"
   ]
  },
  {
   "cell_type": "markdown",
   "id": "f5e5f738",
   "metadata": {
    "slideshow": {
     "slide_type": "subslide"
    }
   },
   "source": [
    "* In the docstring above, we use the acronym \"iff,\" which stands for \"if and only if.\" An equivalent phrase is \"exactly when\"\n",
    "* The type contract states that the function will return a bool\n",
    "* The docstring describes the conditions under which True will be returned. It is implied that when those conditions are not met the function will return False"
   ]
  },
  {
   "cell_type": "markdown",
   "id": "44e84809",
   "metadata": {
    "slideshow": {
     "slide_type": "subslide"
    }
   },
   "source": [
    "### Combining Comparisons<br>\n",
    "We have now seen three types of operators: Arithmetic ($+$, $-$, and so on), Boolean (and, or, and not), and relational ($<$, $==$, and so on)<br>\n",
    "Here are the rules for combining them:\n",
    "* Arithmetic operators have higher precedence than relational operators\n",
    "    * For example, $+$ and $/$ are evaluated before $<$ or $>$\n",
    "* Relational operators have higher precedence than Boolean operators\n",
    "    * For example, comparisons are evaluated before and, or, and not\n",
    "* All relational operators have the same precedence\n",
    "\n",
    "These rules mean that the expression $1+3>7$ is evaluated as $(1+3)>7$, not as $1+(3>7)$<br>\n",
    "They also mean that we can often skip the parentheses in complicated expressions"
   ]
  },
  {
   "cell_type": "code",
   "execution_count": null,
   "id": "2ea8bcc7",
   "metadata": {
    "slideshow": {
     "slide_type": "subslide"
    }
   },
   "outputs": [],
   "source": [
    "x = 2\n",
    "y = 5\n",
    "z = 7\n",
    "print(x < y and y < z)"
   ]
  },
  {
   "cell_type": "markdown",
   "id": "e4606dc8",
   "metadata": {
    "slideshow": {
     "slide_type": "subslide"
    }
   },
   "source": [
    "* It is usually a good idea to put the parentheses in, though, since it helps the eye find the subexpressions and clearly communicates the order to anyone reading your code"
   ]
  },
  {
   "cell_type": "code",
   "execution_count": null,
   "id": "371a3cd2",
   "metadata": {
    "slideshow": {
     "slide_type": "fragment"
    }
   },
   "outputs": [],
   "source": [
    "x = 5\n",
    "y = 10\n",
    "z = 20\n",
    "print((x < y) and (y < z))"
   ]
  },
  {
   "cell_type": "markdown",
   "id": "7bc88ba3",
   "metadata": {
    "slideshow": {
     "slide_type": "subslide"
    }
   },
   "source": [
    "* It is very common in mathematics to check whether a value lies in a certain range — in other words, that it is between two other values\n",
    "* We can do this in Python by combining the comparisons with $and$"
   ]
  },
  {
   "cell_type": "code",
   "execution_count": null,
   "id": "92b988da",
   "metadata": {
    "slideshow": {
     "slide_type": "fragment"
    }
   },
   "outputs": [],
   "source": [
    "x = 3\n",
    "print((1 < x) and (x <= 5))\n",
    "x = 7\n",
    "print((1 < x) and (x <= 5))"
   ]
  },
  {
   "cell_type": "markdown",
   "id": "9c388f95",
   "metadata": {
    "slideshow": {
     "slide_type": "subslide"
    }
   },
   "source": [
    "* This comes up so often, however, that Python lets you $\\rm\\color{magenta}{chain}$ the comparisons"
   ]
  },
  {
   "cell_type": "code",
   "execution_count": null,
   "id": "7e329684",
   "metadata": {
    "slideshow": {
     "slide_type": "fragment"
    }
   },
   "outputs": [],
   "source": [
    "x = 3\n",
    "print(1 < x <= 5)"
   ]
  },
  {
   "cell_type": "markdown",
   "id": "cf7018d2",
   "metadata": {
    "slideshow": {
     "slide_type": "subslide"
    }
   },
   "source": [
    "* Most combinations work as we would expect, but there are cases that may startle us"
   ]
  },
  {
   "cell_type": "code",
   "execution_count": null,
   "id": "cee8a0f6",
   "metadata": {
    "slideshow": {
     "slide_type": "fragment"
    }
   },
   "outputs": [],
   "source": [
    "print(3 < 5 != True)\n",
    "print(3 < 5 != False)"
   ]
  },
  {
   "cell_type": "markdown",
   "id": "81c4ddde",
   "metadata": {
    "slideshow": {
     "slide_type": "subslide"
    }
   },
   "source": [
    "* It seems impossible for both of these expressions to be True\n",
    "* However, the they are equivalent to the following"
   ]
  },
  {
   "cell_type": "code",
   "execution_count": null,
   "id": "f220a76a",
   "metadata": {
    "slideshow": {
     "slide_type": "fragment"
    }
   },
   "outputs": [],
   "source": [
    "print((3 < 5) and (5 != True))\n",
    "print((3 < 5) and (5 != False))"
   ]
  },
  {
   "cell_type": "markdown",
   "id": "d7ee55a7",
   "metadata": {
    "slideshow": {
     "slide_type": "subslide"
    }
   },
   "source": [
    "* Since $5$ is neither True nor False, the second half of each expression is True, so the expression as a whole is True as well\n",
    "* This kind of expression is an example of something that is a bad idea even though it is legal\n",
    "* It is strongly recommended that we only chain comparisons in ways that would seem natural to a mathematician — in other words, that we use $<$ and $<=$ together, or $>$ and $>=$ together, and $\\rm\\color{magenta}{nothing\\space else}$. If we feel the impulse to do something else, resist\n",
    "* Use simple comparisons and combine them with and in order to keep our code readable\n",
    "* It is also a good idea to use parentheses whenever we think the expression we are writing may not be entirely clear"
   ]
  },
  {
   "cell_type": "markdown",
   "id": "ffda0e0a",
   "metadata": {
    "slideshow": {
     "slide_type": "subslide"
    }
   },
   "source": [
    "### Using Numbers and Strings with Boolean Operators<br>\n",
    "* We have already seen that Python will convert an int to a float when the integer is used in an expression involving a floating-point number\n",
    "* Along the same lines, numbers and strings can be used with Boolean operators\n",
    "* Python treats $0$ and $0.0$ as False and treats all other numbers as True"
   ]
  },
  {
   "cell_type": "code",
   "execution_count": null,
   "id": "a9d3b886",
   "metadata": {
    "slideshow": {
     "slide_type": "fragment"
    }
   },
   "outputs": [],
   "source": [
    "print(not 0)\n",
    "print(not 1)\n",
    "print(not 34.2)\n",
    "print(not -87)"
   ]
  },
  {
   "cell_type": "markdown",
   "id": "a2c9b41b",
   "metadata": {
    "slideshow": {
     "slide_type": "subslide"
    }
   },
   "source": [
    "* Similarly, the empty string is treated as False and all other strings are treated as True\n",
    "* None is also treated as False\n",
    "* In general, we should only use Boolean operators on Boolean values"
   ]
  },
  {
   "cell_type": "code",
   "execution_count": null,
   "id": "6e8b0655",
   "metadata": {
    "slideshow": {
     "slide_type": "fragment"
    }
   },
   "outputs": [],
   "source": [
    "print(not '')\n",
    "print(not 'bad')\n",
    "print(not None)"
   ]
  },
  {
   "cell_type": "markdown",
   "id": "560f1101",
   "metadata": {
    "slideshow": {
     "slide_type": "subslide"
    }
   },
   "source": [
    "### Short-Circuit Evaluation<br>\n",
    "* When Python evaluates an expression containing $and$ or $or$, it does so from left to right\n",
    "* As soon as it knows enough to stop evaluating, it stops, even if some operands have no been looked at yet\n",
    "    * This is called short-circuit evaluation\n",
    "* In an $or$ expression, if the first operand is True, we know that the expression is True\n",
    "    * Python knows this as well, so it does not even evaluate the second operand\n",
    "* Similarly, in an $and$ expression, if the first operand is False, we know that the expression is False\n",
    "    * Python knows this as well, and the second operand is not evaluated"
   ]
  },
  {
   "cell_type": "code",
   "execution_count": 2,
   "id": "36a89149",
   "metadata": {
    "slideshow": {
     "slide_type": "fragment"
    }
   },
   "outputs": [
    {
     "ename": "ZeroDivisionError",
     "evalue": "division by zero",
     "output_type": "error",
     "traceback": [
      "\u001b[1;31m---------------------------------------------------------------------------\u001b[0m",
      "\u001b[1;31mZeroDivisionError\u001b[0m                         Traceback (most recent call last)",
      "\u001b[1;32md:\\大一上\\商管程式設計\\上課講義\\lec04.ipynb Cell 41\u001b[0m line \u001b[0;36m1\n\u001b[1;32m----> <a href='vscode-notebook-cell:/d%3A/%E5%A4%A7%E4%B8%80%E4%B8%8A/%E5%95%86%E7%AE%A1%E7%A8%8B%E5%BC%8F%E8%A8%AD%E8%A8%88/%E4%B8%8A%E8%AA%B2%E8%AC%9B%E7%BE%A9/lec04.ipynb#X55sZmlsZQ%3D%3D?line=0'>1</a>\u001b[0m \u001b[39mprint\u001b[39m(\u001b[39m1\u001b[39;49m \u001b[39m/\u001b[39;49m \u001b[39m0\u001b[39;49m)\n",
      "\u001b[1;31mZeroDivisionError\u001b[0m: division by zero"
     ]
    }
   ],
   "source": [
    "print(1 / 0)"
   ]
  },
  {
   "cell_type": "markdown",
   "id": "6fb92e8a",
   "metadata": {
    "slideshow": {
     "slide_type": "subslide"
    }
   },
   "source": [
    " * We now use that expression as the second operand to or"
   ]
  },
  {
   "cell_type": "code",
   "execution_count": 1,
   "id": "679951aa",
   "metadata": {
    "slideshow": {
     "slide_type": "fragment"
    }
   },
   "outputs": [
    {
     "name": "stdout",
     "output_type": "stream",
     "text": [
      "True\n"
     ]
    }
   ],
   "source": [
    "print((2 < 3) or (1 / 0))"
   ]
  },
  {
   "cell_type": "markdown",
   "id": "f46f8b78",
   "metadata": {
    "slideshow": {
     "slide_type": "fragment"
    }
   },
   "source": [
    "* Since the first operand produces True, the second operand is not evaluated, so the computer never actually tries to divide anything by zero\n",
    "* Of course, if the first operand to an $or$ is False, the second operand must be evaluated\n",
    "* The second operand also needs to be evaluated when the first operand to an $and$ is True"
   ]
  },
  {
   "cell_type": "markdown",
   "id": "bf039f7d",
   "metadata": {
    "slideshow": {
     "slide_type": "subslide"
    }
   },
   "source": [
    "### Comparing Strings<br>\n",
    "* It is possible to compare strings just as we would compare numbers\n",
    "* The characters in strings are represented by integers: A capital $A$, for example, is represented by $65$, while a space is $32$, and a lowercase $z$ is $172$\n",
    "* This encoding is called $\\rm\\color{magenta}{ASCII}$, which stands for \"American Standard Code for Information Interchange\"\n",
    "* One of its quirks is that all the uppercase letters come before all the lowercase letters, so a capital $Z$ is less than a small $a$"
   ]
  },
  {
   "cell_type": "markdown",
   "id": "5c3a7094",
   "metadata": {
    "slideshow": {
     "slide_type": "subslide"
    }
   },
   "source": [
    "* One of the most common reasons to compare two strings is to decide which one comes first alphabetically\n",
    "* This is often referred to as or Python decides which string is greater than which by comparing corresponding characters\n",
    "from left to right\n",
    "    * If the character from one string is greater than the character from the other, the first string is greater than the second\n",
    "    * If all the characters are the same, the two strings are equal\n",
    "    * If one string runs out of characters while the comparison is being done (in other words, is shorter than the other),\n",
    "then it is less"
   ]
  },
  {
   "cell_type": "code",
   "execution_count": 3,
   "id": "44dcd4f3",
   "metadata": {
    "slideshow": {
     "slide_type": "fragment"
    }
   },
   "outputs": [
    {
     "name": "stdout",
     "output_type": "stream",
     "text": [
      "True\n"
     ]
    }
   ],
   "source": [
    "print('A' < 'a')\n",
    "# print('A' > 'z')\n",
    "# print('abc' < 'abd')\n",
    "# print('abc' < 'abcd')"
   ]
  },
  {
   "cell_type": "markdown",
   "id": "401e6e78",
   "metadata": {
    "slideshow": {
     "slide_type": "subslide"
    }
   },
   "source": [
    "* In addition to operators that compare strings lexicographically, Python provides an operator that checks whether one string appears $\\rm\\color{magenta}{inside}$ another one"
   ]
  },
  {
   "cell_type": "code",
   "execution_count": 4,
   "id": "0d06ceff",
   "metadata": {
    "slideshow": {
     "slide_type": "fragment"
    }
   },
   "outputs": [
    {
     "name": "stdout",
     "output_type": "stream",
     "text": [
      "True\n",
      "False\n"
     ]
    }
   ],
   "source": [
    "print('Jan' in '01 Jan 1838')\n",
    "print('Feb' in '01 Jan 1838')"
   ]
  },
  {
   "cell_type": "markdown",
   "id": "73f49148",
   "metadata": {
    "slideshow": {
     "slide_type": "subslide"
    }
   },
   "source": [
    "* Using this idea, we can prompt the user for a date in this format and report whether that date is in January"
   ]
  },
  {
   "cell_type": "code",
   "execution_count": 5,
   "id": "8d168ed7",
   "metadata": {
    "slideshow": {
     "slide_type": "fragment"
    }
   },
   "outputs": [],
   "source": [
    "date = input('Enter a date in the format DD MTH YYYY: ') # 24 Feb 2013\n",
    "print('Jan' in date)\n",
    "# date = input('Enter a date in the format DD MTH YYYY: ') # 03 Jan 2002\n",
    "# print('Jan' in date)"
   ]
  },
  {
   "cell_type": "markdown",
   "id": "88260372",
   "metadata": {
    "slideshow": {
     "slide_type": "subslide"
    }
   },
   "source": [
    "* The $\\rm\\color{orange}{in}$ operator produces True exactly when the first string appears in the second string\n",
    "    * This is $\\rm\\color{magenta}{case\\space sensitive}$\n",
    "    * The empty string is always a substring of every string"
   ]
  },
  {
   "cell_type": "code",
   "execution_count": 1,
   "id": "f5f8bf85",
   "metadata": {
    "slideshow": {
     "slide_type": "fragment"
    }
   },
   "outputs": [
    {
     "name": "stdout",
     "output_type": "stream",
     "text": [
      "True\n"
     ]
    }
   ],
   "source": [
    "print('a' in 'abc')\n",
    "# print('A' in 'abc')\n",
    "# print('' in 'abc')\n",
    "# print('' in '')"
   ]
  },
  {
   "cell_type": "markdown",
   "id": "bee30322",
   "metadata": {
    "slideshow": {
     "slide_type": "subslide"
    }
   },
   "source": [
    "### Choosing Which Statements to Execute<br>\n",
    "* An $\\rm\\color{orange}{if}$ statement lets you change how your program behaves based on a condition\n",
    "\n",
    "        if «condition»:\n",
    "            «block»\n",
    "\n",
    "* The condition is an expression, such as color $!=$ \"neon green\" or $x<y$\n",
    "* Note that this does not have to be a Boolean expression\n",
    "* As we previously discussed, non-Boolean values are treated as True or False when required\n",
    "* As with function bodies, the block of statements inside an if $\\rm\\color{magenta}{MUST}$ be indented"
   ]
  },
  {
   "cell_type": "markdown",
   "id": "609b0a0e",
   "metadata": {
    "slideshow": {
     "slide_type": "subslide"
    }
   },
   "source": [
    "* As a reminder, the standard indentation for Python is four spaces\n",
    "* If the condition is true, the statements in the block are executed; otherwise, they are not\n",
    "* As with functions, the block of statements must be indented to show that it belongs to the if statement\n",
    "* If we do not indent properly, Python might raise an error\n",
    "    * Or worse, it might happily execute the code that we wrote but do something you did not intend because some statements were not indented properly"
   ]
  },
  {
   "cell_type": "markdown",
   "id": "5b1aa290",
   "metadata": {
    "slideshow": {
     "slide_type": "subslide"
    }
   },
   "source": [
    "* Following is a table of solution categories based on pH level\n",
    "* We can use an $if$ statement to print a message only when the pH level given by the program’s user is acidic\n",
    "---\n",
    "| pH Level | Solution Category |\n",
    "| :--: | :--: |\n",
    "| $0-4$ | Strong acid |\n",
    "| $5-6$ | Weak acid |\n",
    "| $7$ | Neutral |\n",
    "| $8-9$ | Weak basic |\n",
    "| $10-14$ | Strong basic |"
   ]
  },
  {
   "cell_type": "code",
   "execution_count": null,
   "id": "bd3f6561",
   "metadata": {
    "slideshow": {
     "slide_type": "fragment"
    }
   },
   "outputs": [],
   "source": [
    "ph = float(input('Enter the pH level: ')) # 6.0\n",
    "if ph < 7.0:\n",
    "    print(ph, 'is acidic.')"
   ]
  },
  {
   "cell_type": "markdown",
   "id": "1b2dab91",
   "metadata": {
    "slideshow": {
     "slide_type": "subslide"
    }
   },
   "source": [
    "* Recall that we have to convert user input from a string to a floating-point number before doing the comparison\n",
    "* Also, here we are providing a prompt for the user by passing a string into function input: Python prints this string to let the user know what information to type\n",
    "* If the condition is false, the statements in the block are not executed"
   ]
  },
  {
   "cell_type": "code",
   "execution_count": null,
   "id": "76d0f13f",
   "metadata": {
    "slideshow": {
     "slide_type": "fragment"
    }
   },
   "outputs": [],
   "source": [
    "ph = float(input('Enter the pH level: ')) # 8.0\n",
    "if ph < 7.0:\n",
    "    print(ph, 'is acidic.')"
   ]
  },
  {
   "cell_type": "markdown",
   "id": "c0815844",
   "metadata": {
    "slideshow": {
     "slide_type": "subslide"
    }
   },
   "source": [
    "* If we do not indent the block, Python lets us know"
   ]
  },
  {
   "cell_type": "code",
   "execution_count": null,
   "id": "b1922257",
   "metadata": {
    "slideshow": {
     "slide_type": "fragment"
    }
   },
   "outputs": [],
   "source": [
    "ph = float(input('Enter the pH level: ')) # 6.0\n",
    "if ph < 7.0:\n",
    "print(ph, 'is acidic.')"
   ]
  },
  {
   "cell_type": "markdown",
   "id": "93467b0c",
   "metadata": {
    "slideshow": {
     "slide_type": "subslide"
    }
   },
   "source": [
    "* Since we are using a block, we can have multiple statements that are executed only if the condition is true"
   ]
  },
  {
   "cell_type": "code",
   "execution_count": null,
   "id": "91d49226",
   "metadata": {
    "slideshow": {
     "slide_type": "fragment"
    }
   },
   "outputs": [],
   "source": [
    "ph = float(input('Enter the pH level: ')) # 6.0\n",
    "if ph < 7.0:\n",
    "    print(ph, 'is acidic.')\n",
    "    print('You should be careful with that!')"
   ]
  },
  {
   "cell_type": "code",
   "execution_count": null,
   "id": "9b819610",
   "metadata": {
    "slideshow": {
     "slide_type": "subslide"
    }
   },
   "outputs": [],
   "source": [
    "ph = float(input('Enter the pH level: ')) # 8.0\n",
    "if ph < 7.0:\n",
    "    print(ph, 'is acidic.')\n",
    "\n",
    "print('You should be careful with that!')"
   ]
  },
  {
   "cell_type": "markdown",
   "id": "ecb5d6ea",
   "metadata": {
    "slideshow": {
     "slide_type": "subslide"
    }
   },
   "source": [
    "* Of course, sometimes there are situations where a single decision is not sufficient\n",
    "* If there are multiple criteria to examine, there are a couple of ways to handle it\n",
    "* One way is to use $\\rm\\color{magenta}{multiple}$ if statements\n",
    "    * For example, we might print different messages depending on whether a pH level is acidic or basic\n",
    "    * If it is exactly 7, then it is neutral and our code will not print anything"
   ]
  },
  {
   "cell_type": "code",
   "execution_count": null,
   "id": "86f8cd43",
   "metadata": {
    "slideshow": {
     "slide_type": "fragment"
    }
   },
   "outputs": [],
   "source": [
    "ph = float(input('Enter the pH level: ')) # 8.5\n",
    "\n",
    "if ph < 7.0:\n",
    "    print(ph, 'is acidic.')\n",
    "    \n",
    "if ph > 7.0:\n",
    "    print(ph, 'is basic.')"
   ]
  },
  {
   "cell_type": "markdown",
   "id": "1c0eaea4",
   "metadata": {
    "slideshow": {
     "slide_type": "subslide"
    }
   },
   "source": [
    "* Here is a flow chart that shows how Python executes the if statements\n",
    "* The diamonds are conditions, and the arrows indicate what path to take depending on the results of evaluating those conditions\n",
    "* Notice that both conditions are always evaluated, even though we know that only one of the blocks can be executed\n",
    "  \n",
    "![MultipleIfStatements](lec04-01.jpg)\n",
    "  \n"
   ]
  },
  {
   "cell_type": "markdown",
   "id": "928c71bc",
   "metadata": {
    "slideshow": {
     "slide_type": "subslide"
    }
   },
   "source": [
    "* We can merge both cases by adding another condition/block pair using the $\\rm\\color{orange}{elif}$ keyword (which stands for \"else if)\n",
    "    * Each condition/block pair is called a $\\rm\\color{magenta}{clause}$"
   ]
  },
  {
   "cell_type": "code",
   "execution_count": null,
   "id": "f2876af9",
   "metadata": {
    "slideshow": {
     "slide_type": "fragment"
    }
   },
   "outputs": [],
   "source": [
    "ph = float(input('Enter the pH level: ')) # 8.5\n",
    "\n",
    "if ph < 7.0:\n",
    "    print(ph, 'is acidic.')\n",
    "elif ph > 7.0:\n",
    "    print(ph, 'is basic.')"
   ]
  },
  {
   "cell_type": "markdown",
   "id": "982f5638",
   "metadata": {
    "slideshow": {
     "slide_type": "subslide"
    }
   },
   "source": [
    "* The difference between the two is that elif is checked only when the if condition above it evaluated to False\n",
    "* Here is a flow chart for this code\n",
    "* This flow chart shows that if the first condition evaluates to True, the second condition is skipped\n",
    "  \n",
    "![ElifStatements](lec04-02.jpg)"
   ]
  },
  {
   "cell_type": "markdown",
   "id": "f2c2faeb",
   "metadata": {
    "slideshow": {
     "slide_type": "subslide"
    }
   },
   "source": [
    "* If the pH is exactly $7.0$, neither clause matches, so nothing is printed"
   ]
  },
  {
   "cell_type": "code",
   "execution_count": null,
   "id": "17233187",
   "metadata": {
    "slideshow": {
     "slide_type": "fragment"
    }
   },
   "outputs": [],
   "source": [
    "ph = float(input('Enter the pH level: ')) # 7.0\n",
    "\n",
    "if ph < 7.0:\n",
    "    print(ph, 'is acidic.')\n",
    "elif ph > 7.0:\n",
    "    print(ph, 'is basic.')"
   ]
  },
  {
   "cell_type": "markdown",
   "id": "7622af10",
   "metadata": {
    "slideshow": {
     "slide_type": "subslide"
    }
   },
   "source": [
    "* With the ph example, we accomplished the same thing with two if statementsas we did with an if/elif\n",
    "* This is not always the case; for example, if the body of the first if changes the value of a variable used in the second condition, they are not equivalent\n",
    "* Following is the version with two ifs"
   ]
  },
  {
   "cell_type": "code",
   "execution_count": null,
   "id": "9fd541fc",
   "metadata": {
    "slideshow": {
     "slide_type": "fragment"
    }
   },
   "outputs": [],
   "source": [
    "ph = float(input('Enter the pH level: ')) # 6.0\n",
    "if ph < 7.0:\n",
    "    ph = 8.0\n",
    "\n",
    "if ph > 7.0:\n",
    "    print(ph, 'is acidic.')"
   ]
  },
  {
   "cell_type": "markdown",
   "id": "914924d9",
   "metadata": {
    "slideshow": {
     "slide_type": "subslide"
    }
   },
   "source": [
    "* And here is the version with an if/elif"
   ]
  },
  {
   "cell_type": "code",
   "execution_count": null,
   "id": "8438ea3b",
   "metadata": {
    "slideshow": {
     "slide_type": "fragment"
    }
   },
   "outputs": [],
   "source": [
    "ph = float(input('Enter the pH level: ')) # 6.0\n",
    "if ph < 7.0:\n",
    "    ph = 8.0\n",
    "elif ph > 7.0:\n",
    "    print(ph, 'is acidic.')"
   ]
  },
  {
   "cell_type": "markdown",
   "id": "57327181",
   "metadata": {
    "slideshow": {
     "slide_type": "subslide"
    }
   },
   "source": [
    "* As a rule of thumb, if two conditions are related, use if/elif instead of two ifs\n",
    "* An if statement can be followed by multiple elif clauses\n",
    "* This longer example translates a chemical formula into English"
   ]
  },
  {
   "cell_type": "code",
   "execution_count": null,
   "id": "be7e99de",
   "metadata": {
    "slideshow": {
     "slide_type": "fragment"
    }
   },
   "outputs": [],
   "source": [
    "compound = input('Enter the compound: ') # CH4\n",
    "if compound == 'H2O':\n",
    "    print('Water')\n",
    "elif compound == 'NH3':\n",
    "    print('Ammonia')\n",
    "elif compound == 'CH4'\n",
    "    print('Methane')"
   ]
  },
  {
   "cell_type": "markdown",
   "id": "df28bee4",
   "metadata": {
    "slideshow": {
     "slide_type": "subslide"
    }
   },
   "source": [
    "* If none of the conditions in a chain of if/elif statements are satisfied, Python does not execute any of the associated blocks\n",
    "* This is not always what we would like, though\n",
    "* In our translation example, we probably want our program to print something even if it does not recognize the compound\n",
    "* To do this, we add an $\\rm\\color{orange}{else}$ clause at the end of the chain"
   ]
  },
  {
   "cell_type": "code",
   "execution_count": null,
   "id": "1b849fce",
   "metadata": {
    "slideshow": {
     "slide_type": "fragment"
    }
   },
   "outputs": [],
   "source": [
    "compound = input('Enter the compound: ') # H2SO4\n",
    "if compound == 'H2O':\n",
    "    print('Water')\n",
    "elif compound == 'NH3':\n",
    "    print('Ammonia')\n",
    "elif compound == 'CH4':\n",
    "    print('Methane')\n",
    "else:\n",
    "    print('Unknown compound')"
   ]
  },
  {
   "cell_type": "markdown",
   "id": "99c0d47d",
   "metadata": {
    "slideshow": {
     "slide_type": "subslide"
    }
   },
   "source": [
    "* An if statement can have at most one else clause, and it has to be the final clause in the statement\n",
    "* Notice there is $\\rm\\color{magenta}{no}$ condition associated with else\n",
    "\n",
    "        if «condition»:\n",
    "            «if_block»\n",
    "        else:\n",
    "            «else_block»\n",
    "\n",
    "* Logically, that code is the same as the following code \n",
    "* Except that the condition is evaluated only once in the first form but twice in the second form\n",
    "\n",
    "        if «condition»:\n",
    "            «if_block»\n",
    "        if not «condition»:\n",
    "            «else_block»"
   ]
  },
  {
   "cell_type": "markdown",
   "id": "27514b6f",
   "metadata": {
    "slideshow": {
     "slide_type": "subslide"
    }
   },
   "source": [
    "### Nested If Statements<br>\n",
    "* An if statement’s block can contain any type of Python statement, which implies that it can include other if statements\n",
    "* An if statement inside another is called a $\\rm\\color{magenta}{nested}$ if statement"
   ]
  },
  {
   "cell_type": "code",
   "execution_count": null,
   "id": "292209ee",
   "metadata": {
    "slideshow": {
     "slide_type": "fragment"
    }
   },
   "outputs": [],
   "source": [
    "value = input('Enter the pH level: ')\n",
    "if len(value) > 0:\n",
    "    ph = float(value)\n",
    "    if ph < 7.0:\n",
    "        print(ph, 'is acidic.')\n",
    "    elif ph > 7.0:\n",
    "        print(ph, 'is basic.')\n",
    "    else:\n",
    "        print(ph, 'is neutral.')\n",
    "else:\n",
    "    print('No pH value was given!')"
   ]
  },
  {
   "cell_type": "markdown",
   "id": "30188971",
   "metadata": {
    "slideshow": {
     "slide_type": "subslide"
    }
   },
   "source": [
    "* In this case, we ask the user to provide a pH value, which we will initially receive as a $\\rm\\color{magenta}{string}$\n",
    "* The first, or outer, if statement checks whether the user typed something, which determines whether we examine the value of pH with the inner if statement\n",
    "    * If the user did not enter a number, then function call $float(value)$ will produce a $\\rm\\color{red}{ValueError}$\n",
    "* Nested if statements are sometimes necessary, but they can get complicated and difficult to understand\n",
    "* To describe when a statement is executed, we have to mentally combine conditions\n",
    "    * For example, the statement print(ph, 'is acidic.') is executed only if the length of the string that value refers to is greater than $0$ and pH $<7.0$ also evaluates to True (assuming the user entered a number)"
   ]
  },
  {
   "cell_type": "markdown",
   "id": "141bc1d8",
   "metadata": {
    "slideshow": {
     "slide_type": "subslide"
    }
   },
   "source": [
    "### Remembering the Results of a Boolean Expression Evaluation<br>\n",
    "* Take a look at the following line of code and guess what value is stored in $x$"
   ]
  },
  {
   "cell_type": "code",
   "execution_count": null,
   "id": "68f6aa59",
   "metadata": {
    "slideshow": {
     "slide_type": "fragment"
    }
   },
   "outputs": [],
   "source": [
    "x = 15 > 5"
   ]
  },
  {
   "cell_type": "markdown",
   "id": "5741e291",
   "metadata": {
    "slideshow": {
     "slide_type": "subslide"
    }
   },
   "source": [
    "* If you said True, you were right: 15 is greater than 5, so the comparison produces True, and since that is a $\\rm\\color{magenta}{value}$ like any other, it can be assigned to a variable\n",
    "* The most common situation in which you would want to do this comes up when translating decision tables into software\n",
    "* For example, suppose you want to calculate someone’s risk of heart disease using the following rules based on age and body mass index (BMI)\n",
    "  \n",
    "![BMI](lec04-03.jpg)\n",
    "  \n",
    "* One way to implement this would be to use nested if statements"
   ]
  },
  {
   "cell_type": "code",
   "execution_count": null,
   "id": "d3db664d",
   "metadata": {
    "slideshow": {
     "slide_type": "fragment"
    }
   },
   "outputs": [],
   "source": [
    "if age < 45:\n",
    "    if bmi < 22.0:\n",
    "        risk = 'low'\n",
    "    else:\n",
    "        risk = 'medium'\n",
    "else:\n",
    "    if bmi < 22.0:\n",
    "        risk = 'medium'\n",
    "    else:\n",
    "        risk = 'high'"
   ]
  },
  {
   "cell_type": "markdown",
   "id": "b8cdc5c8",
   "metadata": {
    "slideshow": {
     "slide_type": "subslide"
    }
   },
   "source": [
    "* The expression $bmi<22.0$ is used multiple times\n",
    "* To simplify this code, we can evaluate each of the Boolean expressions once, create variables that refer to the values produced by those expressions, and use those variables multiple times"
   ]
  },
  {
   "cell_type": "code",
   "execution_count": null,
   "id": "0ddb106c",
   "metadata": {
    "slideshow": {
     "slide_type": "fragment"
    }
   },
   "outputs": [],
   "source": [
    "young = age < 45\n",
    "slim = bmi < 22.0\n",
    "if young:\n",
    "    if slim:\n",
    "        risk = 'low'\n",
    "    else:\n",
    "        risk = 'medium'\n",
    "else:\n",
    "    if slim:\n",
    "        risk = 'medium'\n",
    "    else:\n",
    "        risk = 'high'"
   ]
  },
  {
   "cell_type": "markdown",
   "id": "d7233a1d",
   "metadata": {
    "slideshow": {
     "slide_type": "subslide"
    }
   },
   "source": [
    "* We could also write this without nesting as follows"
   ]
  },
  {
   "cell_type": "code",
   "execution_count": null,
   "id": "20494c43",
   "metadata": {
    "slideshow": {
     "slide_type": "fragment"
    }
   },
   "outputs": [],
   "source": [
    "young = age < 45\n",
    "slim = bmi < 22.0\n",
    "if young and slim:\n",
    "    risk = 'low'\n",
    "elif young and not slim:\n",
    "    risk = 'medium'\n",
    "elif not young and slim:\n",
    "    risk = 'medium'\n",
    "elif not young and not slim:\n",
    "    risk = 'high'"
   ]
  }
 ],
 "metadata": {
  "kernelspec": {
   "display_name": "Python 3 (ipykernel)",
   "language": "python",
   "name": "python3"
  },
  "language_info": {
   "codemirror_mode": {
    "name": "ipython",
    "version": 3
   },
   "file_extension": ".py",
   "mimetype": "text/x-python",
   "name": "python",
   "nbconvert_exporter": "python",
   "pygments_lexer": "ipython3",
   "version": "3.11.4"
  }
 },
 "nbformat": 4,
 "nbformat_minor": 5
}
