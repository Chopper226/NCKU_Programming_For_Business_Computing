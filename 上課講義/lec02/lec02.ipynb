{
 "cells": [
  {
   "cell_type": "markdown",
   "id": "78d20530",
   "metadata": {
    "slideshow": {
     "slide_type": "subslide"
    }
   },
   "source": [
    "### Functions That Python Provides<br>\n",
    "* Python comes with many built-in functions that perform common operations\n",
    "* For example, each of these statements is a $\\rm\\color{orange}{function\\space call}$"
   ]
  },
  {
   "cell_type": "code",
   "execution_count": null,
   "id": "5ee5d54e",
   "metadata": {
    "slideshow": {
     "slide_type": "fragment"
    }
   },
   "outputs": [],
   "source": [
    "print(abs(-9))\n",
    "print(abs(3.3))"
   ]
  },
  {
   "cell_type": "markdown",
   "id": "ea51463a",
   "metadata": {
    "slideshow": {
     "slide_type": "fragment"
    }
   },
   "source": [
    "* The general form of a function call is as follows\n",
    "\n",
    "        «function_name»(«arguments»)\n",
    "\n",
    "* An $\\rm\\color{orange}{argument}$ ($\\color{orange}{引數}$) is an expression that appears between the parentheses of a\n",
    "function call\n",
    "    * In abs($-9$), the argument is $-9$"
   ]
  },
  {
   "cell_type": "code",
   "execution_count": null,
   "id": "b7967bfa",
   "metadata": {
    "slideshow": {
     "slide_type": "subslide"
    }
   },
   "outputs": [],
   "source": [
    "day_temperature = 3\n",
    "night_temperature = 10\n",
    "print(abs(day_temperature - night_temperature))"
   ]
  },
  {
   "cell_type": "markdown",
   "id": "110c0da1",
   "metadata": {
    "slideshow": {
     "slide_type": "fragment"
    }
   },
   "source": [
    "* Here are the rules to executing a function call\n",
    "    1. Evaluate each argument one at a time, working from left to right\n",
    "    2. Pass the resulting values into the function\n",
    "    3. Execute the function. When the function call finishes, it $\\rm\\color{orange}{produces\\space a\\space value}$\n",
    "* Because function calls produce values, they can be used in expressions"
   ]
  },
  {
   "cell_type": "code",
   "execution_count": 1,
   "id": "e1ec309e",
   "metadata": {
    "slideshow": {
     "slide_type": "fragment"
    }
   },
   "outputs": [
    {
     "name": "stdout",
     "output_type": "stream",
     "text": [
      "10.3\n"
     ]
    }
   ],
   "source": [
    "print(abs(-7) + abs(3.3))"
   ]
  },
  {
   "cell_type": "markdown",
   "id": "b0875b0b",
   "metadata": {
    "slideshow": {
     "slide_type": "subslide"
    }
   },
   "source": [
    "* We can also use function calls as arguments to other functions"
   ]
  },
  {
   "cell_type": "code",
   "execution_count": 2,
   "id": "0caf61ea",
   "metadata": {
    "slideshow": {
     "slide_type": "fragment"
    }
   },
   "outputs": [
    {
     "name": "stdout",
     "output_type": "stream",
     "text": [
      "16\n"
     ]
    }
   ],
   "source": [
    "print(pow(abs(-2), round(4.3)))"
   ]
  },
  {
   "cell_type": "markdown",
   "id": "5cc19492",
   "metadata": {
    "slideshow": {
     "slide_type": "subslide"
    }
   },
   "source": [
    "1. Python sees the call on pow and starts by evaluating the arguments from left\n",
    "to right\n",
    "2. The first argument is a call on function abs, so Python executes it\n",
    "3. abs($-2$) produces $2$, so that is the first value for the call on pow\n",
    "4. Then Python executes round($4.3$), which produces $4$\n",
    "5. Now that the arguments to the call on function pow have been evaluated, Python finishes calling pow, sending in $2$ and $4$ as the argument values\n",
    "6. That means that pow(abs($-2$), round($4.3$)) is equivalent to pow($2$, $4$), and $2^4$ is $16$<br>\n",
    "![EvaluationOrders](lec02-01.jpg)"
   ]
  },
  {
   "cell_type": "markdown",
   "id": "7b673411",
   "metadata": {
    "slideshow": {
     "slide_type": "subslide"
    }
   },
   "source": [
    "* Some of the most useful built-in functions are ones that convert from one type to another\n",
    "    * Type names int and float can be used as functions"
   ]
  },
  {
   "cell_type": "code",
   "execution_count": 3,
   "id": "f5b23f9b",
   "metadata": {
    "slideshow": {
     "slide_type": "fragment"
    }
   },
   "outputs": [
    {
     "name": "stdout",
     "output_type": "stream",
     "text": [
      "34\n",
      "-4\n",
      "21.0\n"
     ]
    }
   ],
   "source": [
    "print(int(34.6))\n",
    "print(int(-4.3))\n",
    "print(float(21))"
   ]
  },
  {
   "cell_type": "markdown",
   "id": "24abefdd",
   "metadata": {
    "slideshow": {
     "slide_type": "subslide"
    }
   },
   "source": [
    "* If you are not sure what a function does, try calling built-in function help, which shows documentation for any function"
   ]
  },
  {
   "cell_type": "code",
   "execution_count": null,
   "id": "bdae4466",
   "metadata": {
    "slideshow": {
     "slide_type": "fragment"
    }
   },
   "outputs": [],
   "source": [
    "help(abs)"
   ]
  },
  {
   "cell_type": "markdown",
   "id": "8e3d7275",
   "metadata": {
    "slideshow": {
     "slide_type": "subslide"
    }
   },
   "source": [
    "* Another built-in function is round, which rounds a floating-point number to the nearest integer"
   ]
  },
  {
   "cell_type": "code",
   "execution_count": null,
   "id": "b831ed49",
   "metadata": {
    "slideshow": {
     "slide_type": "fragment"
    }
   },
   "outputs": [],
   "source": [
    "help(round)"
   ]
  },
  {
   "cell_type": "code",
   "execution_count": 4,
   "id": "d2fc54ad",
   "metadata": {
    "slideshow": {
     "slide_type": "fragment"
    }
   },
   "outputs": [
    {
     "name": "stdout",
     "output_type": "stream",
     "text": [
      "4\n",
      "3\n",
      "4\n",
      "-3\n",
      "-4\n",
      "3.14\n"
     ]
    }
   ],
   "source": [
    "print(round(3.8))\n",
    "print(round(3.3))\n",
    "print(round(3.5))\n",
    "print(round(-3.3))\n",
    "print(round(-3.5))\n",
    "print(round(3.141592653, 2))"
   ]
  },
  {
   "cell_type": "code",
   "execution_count": 6,
   "id": "610914cf",
   "metadata": {
    "slideshow": {
     "slide_type": "subslide"
    }
   },
   "outputs": [
    {
     "name": "stdout",
     "output_type": "stream",
     "text": [
      "Help on built-in function pow in module builtins:\n",
      "\n",
      "pow(base, exp, mod=None)\n",
      "    Equivalent to base**exp with 2 arguments or base**exp % mod with 3 arguments\n",
      "    \n",
      "    Some types, such as ints, are able to use a more efficient algorithm when\n",
      "    invoked using the three argument form.\n",
      "\n"
     ]
    }
   ],
   "source": [
    "help(pow)"
   ]
  },
  {
   "cell_type": "code",
   "execution_count": 5,
   "id": "e56c378b",
   "metadata": {
    "slideshow": {
     "slide_type": "fragment"
    }
   },
   "outputs": [
    {
     "name": "stdout",
     "output_type": "stream",
     "text": [
      "16\n",
      "1\n"
     ]
    }
   ],
   "source": [
    "print(pow(2, 4))\n",
    "print(pow(2, 4, 3))"
   ]
  },
  {
   "cell_type": "markdown",
   "id": "25edf33c",
   "metadata": {
    "slideshow": {
     "slide_type": "subslide"
    }
   },
   "source": [
    "### Memory Address: How Python Keep Track of Values<br>\n",
    "* Python keeps track of each value in a separate object and that each object has a memory address\n",
    "* We can discover the actual memory address of an object using built-in function $\\rm\\color{orange}{id}$"
   ]
  },
  {
   "cell_type": "code",
   "execution_count": 7,
   "id": "9772c470",
   "metadata": {
    "slideshow": {
     "slide_type": "subslide"
    }
   },
   "outputs": [
    {
     "name": "stdout",
     "output_type": "stream",
     "text": [
      "Help on built-in function id in module builtins:\n",
      "\n",
      "id(obj, /)\n",
      "    Return the identity of an object.\n",
      "    \n",
      "    This is guaranteed to be unique among simultaneously existing objects.\n",
      "    (CPython uses the object's memory address.)\n",
      "\n"
     ]
    }
   ],
   "source": [
    "help(id)"
   ]
  },
  {
   "cell_type": "code",
   "execution_count": 8,
   "id": "5d7701cf",
   "metadata": {
    "slideshow": {
     "slide_type": "fragment"
    }
   },
   "outputs": [
    {
     "name": "stdout",
     "output_type": "stream",
     "text": [
      "2227471540016\n",
      "2227452629328\n",
      "2227471539600\n",
      "2227471539856\n"
     ]
    }
   ],
   "source": [
    "print(id(-9))\n",
    "print(id(23.1))\n",
    "\n",
    "shoe_size = 10.5\n",
    "print(id(shoe_size))\n",
    "\n",
    "fahrenheit = 77.7\n",
    "print(id(fahrenheit))"
   ]
  },
  {
   "cell_type": "markdown",
   "id": "aeb5d60f",
   "metadata": {
    "slideshow": {
     "slide_type": "subslide"
    }
   },
   "source": [
    "* The addresses you get will probably be different from what is listed above since values get stored wherever there happens to be free space\n",
    "* Function objects also have memory addresses"
   ]
  },
  {
   "cell_type": "code",
   "execution_count": 9,
   "id": "9379b8bc",
   "metadata": {
    "slideshow": {
     "slide_type": "fragment"
    }
   },
   "outputs": [
    {
     "name": "stdout",
     "output_type": "stream",
     "text": [
      "2227379476800\n",
      "2227379479760\n"
     ]
    }
   ],
   "source": [
    "print(id(abs))\n",
    "print(id(round))"
   ]
  },
  {
   "cell_type": "markdown",
   "id": "bf034eae",
   "metadata": {
    "slideshow": {
     "slide_type": "subslide"
    }
   },
   "source": [
    "### (Optional) Python Remembers and Reuses Some Objects<br>\n",
    "* A $\\rm\\color{orange}{cache}$ ($\\rm\\color{orange}{快取}$) is a collection of data\n",
    "* Because small integers (up to about 250 or so, depending on the version of Python you are using) are so common, Python creates those objects as it starts up and reuses the same objects whenever it can\n",
    "* This speeds up operations involving these values"
   ]
  },
  {
   "cell_type": "code",
   "execution_count": 10,
   "id": "a0b9310c",
   "metadata": {
    "slideshow": {
     "slide_type": "fragment"
    }
   },
   "outputs": [
    {
     "name": "stdout",
     "output_type": "stream",
     "text": [
      "140735706686312\n",
      "140735706686312\n",
      "140735706686312\n"
     ]
    }
   ],
   "source": [
    "i = 3\n",
    "j = 3\n",
    "k = 4 - 1\n",
    "print(id(i))\n",
    "print(id(j))\n",
    "print(id(k))"
   ]
  },
  {
   "cell_type": "markdown",
   "id": "ebd1deb0",
   "metadata": {
    "slideshow": {
     "slide_type": "subslide"
    }
   },
   "source": [
    "* What that means is that variables i, j, and k refer to the exact same object. This is called $\\rm\\color{orange}{aliasing}$\n",
    "* Larger integers and all floating-point values are not necessarily cached"
   ]
  },
  {
   "cell_type": "code",
   "execution_count": 11,
   "id": "6be8e687",
   "metadata": {
    "slideshow": {
     "slide_type": "fragment"
    }
   },
   "outputs": [
    {
     "name": "stdout",
     "output_type": "stream",
     "text": [
      "2227471540112\n",
      "2227471539344\n",
      "2227471539760\n",
      "2227452633520\n"
     ]
    }
   ],
   "source": [
    "i = 30000000000\n",
    "j = 30000000000\n",
    "print(id(i))\n",
    "print(id(j))\n",
    "\n",
    "f = 0.0\n",
    "g = 0.0\n",
    "print(id(f))\n",
    "print(id(g))"
   ]
  },
  {
   "cell_type": "markdown",
   "id": "93190260",
   "metadata": {
    "slideshow": {
     "slide_type": "fragment"
    }
   },
   "source": [
    "* Python decides for itself when to cache a value\n",
    "* The output of your program is not affected by when Python decides to cache"
   ]
  },
  {
   "cell_type": "markdown",
   "id": "62530db6",
   "metadata": {
    "slideshow": {
     "slide_type": "subslide"
    }
   },
   "source": [
    "### Defining Our Own Functions<br>\n",
    "* The built-in functions are useful but pretty generic\n",
    "* Often there are not builtin functions that do what we want, such as calculate mileage or play a game of cribbage\n",
    "* When we want functions to do these sorts of things, we have to write them ourselves"
   ]
  },
  {
   "cell_type": "code",
   "execution_count": null,
   "id": "eed0a6c2",
   "metadata": {
    "slideshow": {
     "slide_type": "fragment"
    }
   },
   "outputs": [],
   "source": [
    "print(convert_to_celsius(212))\n",
    "# 100.0\n",
    "\n",
    "print(convert_to_celsius(78.8))\n",
    "# 26.0\n",
    "\n",
    "print(convert_to_celsius(10.4))\n",
    "# -12.0"
   ]
  },
  {
   "cell_type": "markdown",
   "id": "0b34539c",
   "metadata": {
    "slideshow": {
     "slide_type": "subslide"
    }
   },
   "source": [
    "* We have to write a function definition that tells Python what to do when the function is called"
   ]
  },
  {
   "cell_type": "code",
   "execution_count": null,
   "id": "0cb80395",
   "metadata": {
    "slideshow": {
     "slide_type": "fragment"
    }
   },
   "outputs": [],
   "source": [
    "def convert_to_celsius(fahrenheit):\n",
    "    return (fahrenheit - 32) * 5 / 9"
   ]
  },
  {
   "cell_type": "markdown",
   "id": "75b089d3",
   "metadata": {
    "slideshow": {
     "slide_type": "fragment"
    }
   },
   "source": [
    "* The function body is indented\n",
    "* We indent $\\rm\\color{orange}{four}$ spaces, as the Python style guide recommends\n",
    "* If you forget to indent, you get $\\rm\\color{orange}{IndentationError}$"
   ]
  },
  {
   "cell_type": "code",
   "execution_count": null,
   "id": "7da91170",
   "metadata": {
    "slideshow": {
     "slide_type": "subslide"
    }
   },
   "outputs": [],
   "source": [
    "help(convert_to_celsius)"
   ]
  },
  {
   "cell_type": "markdown",
   "id": "fc4eab12",
   "metadata": {
    "slideshow": {
     "slide_type": "fragment"
    }
   },
   "source": [
    "* This shows the first line of the function definition, which we call the $\\rm\\color{orange}{function\\space header}$"
   ]
  },
  {
   "cell_type": "code",
   "execution_count": null,
   "id": "bc0e4975",
   "metadata": {
    "slideshow": {
     "slide_type": "subslide"
    }
   },
   "outputs": [],
   "source": [
    "print(convert_to_celsius(80))"
   ]
  },
  {
   "cell_type": "markdown",
   "id": "593b6217",
   "metadata": {
    "slideshow": {
     "slide_type": "fragment"
    }
   },
   "source": [
    "1. Python executes the function definition\n",
    "    1. It creates the function object, but does not execute it yet\n",
    "2. Next, Python executes function call convert_to_celsius($80$)\n",
    "    1. It assigns $80$ to fahrenheit (which is a variable)\n",
    "    2. For the duration of this function call, fahrenheit refers to $80$\n",
    "3. Python now executes the return statement\n",
    "    1. Fahrenheit refers to $80$, so the expression that appears after return is equivalent to $(80-32)*5/9$\n",
    "    2. When Python evaluates that expression, $26.666666666666668$ is produced\n",
    "    3. We use the word $\\rm\\color{orange}{return}$ to tell Python what value to produce as the result of the function call\n",
    "    4. The result of calling convert_to_celsius($80$) is $26.666666666666668$\n",
    "4. Once Python has finished executing the function call, it $\\rm\\color{orange}{returns\\space to\\space the\\space place\\space where\\space the\\space function\\space was\\space originally\\space called}$<br>\n",
    "![SequenceOfCallingAFunction](lec02-02.jpg)"
   ]
  },
  {
   "cell_type": "markdown",
   "id": "908d0e96",
   "metadata": {
    "slideshow": {
     "slide_type": "subslide"
    }
   },
   "source": [
    "* A function definition is a kind of Python statement\n",
    "* The general form of a function definition is as follows:\n",
    "\n",
    "        def «function_name»(«parameters»):\n",
    "            «block»\n",
    "  \n",
    "* The function header (that is the first line of the function definition)\n",
    "    * Starts with $\\rm\\color{orange}{def}$\n",
    "    * Followed by the name of the function\n",
    "    * Then a comma-separated list of $\\rm\\color{orange}{parameters}$ ($\\rm\\color{orange}{參數}$) within $\\rm\\color{orange}{parentheses}$\n",
    "    * Then a $\\rm\\color{orange}{colon}$\n",
    "    * A parameter is a $\\rm\\color{orange}{variable}$\n",
    "* You cannot have two functions with the same name\n",
    "    * It is not an error, but $\\rm\\color{orange}{if\\space you\\space do\\space it}$, the second function definition replaces the first one\n",
    "    * Much like assigning a value to a variable a second time replaces the first value\n",
    "* Below the function header and indented is a block of statements called the function body\n",
    "    * The function body must contain at least one statement\n",
    "---\n",
    "* Most function definitions will include a return statement that, when executed, ends the function and produces a value\n",
    "* The general form of a return statement is as follows\n",
    "  \n",
    "        return «expression»\n",
    "  \n",
    "* When Python executes a return statement, it evaluates the expression and then produces the result of that expression as the result of the function call"
   ]
  },
  {
   "cell_type": "markdown",
   "id": "de2b94f9",
   "metadata": {
    "slideshow": {
     "slide_type": "subslide"
    }
   },
   "source": [
    "* $\\rm\\color{orange}{Keywords}$ are words that Python reserves for its own use\n",
    "* We cannot use them except as Python intends\n",
    "    * Two of them are $\\rm\\color{orange}{def}$ and $\\rm\\color{orange}{return}$\n",
    "* If we try to use them as either variable names or as function names (or anything else), Python produces an error"
   ]
  },
  {
   "cell_type": "code",
   "execution_count": null,
   "id": "1ea5a8d5",
   "metadata": {
    "slideshow": {
     "slide_type": "subslide"
    }
   },
   "outputs": [],
   "source": [
    "help()"
   ]
  },
  {
   "cell_type": "code",
   "execution_count": null,
   "id": "882aba8b",
   "metadata": {
    "slideshow": {
     "slide_type": "subslide"
    }
   },
   "outputs": [],
   "source": [
    "def = 3"
   ]
  },
  {
   "cell_type": "code",
   "execution_count": null,
   "id": "1b792bb3",
   "metadata": {
    "slideshow": {
     "slide_type": "fragment"
    }
   },
   "outputs": [],
   "source": [
    "def return(x):"
   ]
  },
  {
   "cell_type": "markdown",
   "id": "0f880ad8",
   "metadata": {
    "slideshow": {
     "slide_type": "subslide"
    }
   },
   "source": [
    "### Using Local Variables for Temporary Storage<br>\n",
    "* Some computations are complex, and breaking them down into separate steps can lead to clearer code\n",
    "* We break down the evaluation of the quadratic polynomial $ax^2+bx+c$ into several steps\n",
    "    * Notice that all the statements inside the function are indented the same amount of spaces"
   ]
  },
  {
   "cell_type": "code",
   "execution_count": null,
   "id": "d4fe7d1a",
   "metadata": {
    "slideshow": {
     "slide_type": "fragment"
    }
   },
   "outputs": [],
   "source": [
    "def quadratic(a, b, c, x):\n",
    "    first = a * x ** 2\n",
    "    second = b * x\n",
    "    third = c\n",
    "    \n",
    "    return first + second + third\n",
    "\n",
    "print(quadratic(2, 3, 4, 0.5))\n",
    "print(quadratic(2, 3, 4, 1.5))"
   ]
  },
  {
   "cell_type": "markdown",
   "id": "e18d4b6e",
   "metadata": {
    "slideshow": {
     "slide_type": "subslide"
    }
   },
   "source": [
    "* Variables like first, second, and third that are created within a function are called $\\rm\\color{orange}{local\\space variables}$\n",
    "* Local variables get created each time that function is called, and they are $\\rm\\color{orange}{erased}$ when the function returns\n",
    "* Because they only exist when the function is being executed, they cannot be used outside of the function\n",
    "* This means that trying to access a local variable from outside the function is an error\n",
    "    * Just like trying to access a variable that has never been defined is an error"
   ]
  },
  {
   "cell_type": "code",
   "execution_count": null,
   "id": "86ec0e1b",
   "metadata": {
    "slideshow": {
     "slide_type": "fragment"
    }
   },
   "outputs": [],
   "source": [
    "print(quadratic(2, 3, 4, 1.3))\n",
    "print(first)"
   ]
  },
  {
   "cell_type": "markdown",
   "id": "059baaab",
   "metadata": {
    "slideshow": {
     "slide_type": "subslide"
    }
   },
   "source": [
    "* A function’s parameters are also local variables\n",
    "* We get the same error if we try to use them outside of a function definition"
   ]
  },
  {
   "cell_type": "code",
   "execution_count": null,
   "id": "91aff83d",
   "metadata": {
    "slideshow": {
     "slide_type": "fragment"
    }
   },
   "outputs": [],
   "source": [
    "print(a)"
   ]
  },
  {
   "cell_type": "markdown",
   "id": "3393f76d",
   "metadata": {
    "slideshow": {
     "slide_type": "subslide"
    }
   },
   "source": [
    "* The area of a program that a variable can be used in is called the variable’s $\\rm\\color{orange}{scope}$ ($\\rm\\color{orange}{作用域}$)\n",
    "* The scope of a local variable is from the line in which it is defined up until the end of the function\n",
    "---\n",
    "* If a function is defined to take a certain number of parameters, a call on that function must have the same number of arguments\n",
    "* Remember that we can call built-in function help to find out information about the parameters of a function"
   ]
  },
  {
   "cell_type": "code",
   "execution_count": null,
   "id": "4d399e71",
   "metadata": {
    "slideshow": {
     "slide_type": "fragment"
    }
   },
   "outputs": [],
   "source": [
    "print(quadratic(1, 2, 3))"
   ]
  },
  {
   "cell_type": "markdown",
   "id": "b5d4b596",
   "metadata": {
    "slideshow": {
     "slide_type": "subslide"
    }
   },
   "source": [
    "### Tracing Function Calls in the Memory Model<br>\n",
    "* Read the following code. Can you predict what it will do when we run it?"
   ]
  },
  {
   "cell_type": "code",
   "execution_count": null,
   "id": "b035e526",
   "metadata": {
    "slideshow": {
     "slide_type": "fragment"
    }
   },
   "outputs": [],
   "source": [
    "def f(x):\n",
    "    x = 2 * x\n",
    "    return x\n",
    "\n",
    "x = 1\n",
    "x = f(x + 1) + f(x + 2)\n",
    "print(x)"
   ]
  },
  {
   "cell_type": "markdown",
   "id": "465604de",
   "metadata": {
    "slideshow": {
     "slide_type": "subslide"
    }
   },
   "source": [
    "* That code is confusing, in large part because $x$ is used all over the place\n",
    "* However, it is pretty short and it only uses Python features that we have seen so far: Assignment statements, expressions, function definitions, and function calls\n",
    "* We’re missing some information:\n",
    "    * Are all the $x$’s the same variable?\n",
    "    * Does Python make a new $x$ for each assignment? For each function call? For each function definition?\n",
    "---\n",
    "* Here is the answer: Whenever Python executes a function call, it creates a $\\rm\\color{orange}{namespace}$ (literally, a space for names) in which to store local variables for that call\n",
    "* You can think of a namespace as a scrap piece of paper: Python writes down the local variables on that piece of paper, keeps track of them as long as the function is being executed, and throws that paper away when the function returns\n",
    "* Separately, Python keeps another namespace for variables created in the shell\n",
    "* That means that the $x$ that is a parameter of function $f$ is a different variable than the $x$ in the shell"
   ]
  },
  {
   "cell_type": "markdown",
   "id": "7b575611",
   "metadata": {
    "slideshow": {
     "slide_type": "subslide"
    }
   },
   "source": [
    "* Let’s refine our rules for executing a function call to include this namespace creation\n",
    "    1. Evaluate the arguments left to right\n",
    "    2. Create a namespace to hold the function call’s local variables, including the parameters\n",
    "    3. Pass the resulting argument values into the function by assigning them to the parameters\n",
    "    4. Execute the function body. As before, when a return statement is executed, execution of the body terminates and the value of the expression in the return statement is used as the value of the function call\n",
    "---\n",
    "* From now on in our memory model, we will draw a separate box for each namespace to indicate that the variables inside it are in a separate area of computer memory\n",
    "* The programming world calls this box a frame. We separate the frames from the objects by a vertical dotted line<br>\n",
    "![Frame](lec02-03.jpg)"
   ]
  },
  {
   "cell_type": "markdown",
   "id": "1e18ee4b",
   "metadata": {
    "slideshow": {
     "slide_type": "subslide"
    }
   },
   "source": [
    "* Using our newfound knowledge, let’s trace that confusing code\n",
    "\n",
    "        ➤ def f(x):\n",
    "              x = 2 * x\n",
    "              return x\n",
    "\n",
    "          x = 1\n",
    "          x = f(x + 1) + f(x + 2)\n",
    "          print(x)\n",
    "        \n",
    "* When Python executes that function definition, it creates a variable $f$ in the frame for the shell’s namespace plus a function object\n",
    "* Python did not execute the body of the function; that will not happen until the function is called<br>\n",
    "![Frame01](lec02-04.jpg)"
   ]
  },
  {
   "cell_type": "markdown",
   "id": "969748b4",
   "metadata": {
    "slideshow": {
     "slide_type": "subslide"
    }
   },
   "source": [
    "* Now we are about to execute the first assignment to $x$ in the shell<br>\n",
    "\n",
    "          def f(x):\n",
    "              x = 2 * x\n",
    "              return x\n",
    "\n",
    "        ➤ x = 1\n",
    "          x = f(x + 1) + f(x + 2)\n",
    "          print(x)\n",
    "\n",
    "* Once that assignment happens, both $f$ and $x$ are in the frame for the shell<br>\n",
    "![Frame01](lec02-05.jpg)"
   ]
  },
  {
   "cell_type": "markdown",
   "id": "32183161",
   "metadata": {
    "slideshow": {
     "slide_type": "subslide"
    }
   },
   "source": [
    "* Now we are about to execute the second assignment to $x$ in the shell<br>\n",
    "\n",
    "        def f(x):\n",
    "              x = 2 * x\n",
    "              return x\n",
    "\n",
    "          x = 1\n",
    "        ➤ x = f(x + 1) + f(x + 2)\n",
    "          print(x)\n",
    "\n",
    "* Following the rules for executing an assignment, we first evaluate the expression on the right of the $=$, which is $f(x+1)+f(x+2)$\n",
    "* Python evaluates the left function call first: $f(x+1)$\n",
    "---\n",
    "* Following the rules for executing a function call, Python evaluates the argument, $x+1$\n",
    "* In order to find the value for $x$, Python looks in the current frame\n",
    "* The current frame is the frame for the shell, and its variable $x$ refers to $1$, so $x+1$ evaluates to $2$\n",
    "---\n",
    "* Now we have evaluated the argument to $f$. The next step is to create a namespace for the function call\n",
    "* We draw a frame, write in parameter $x$, and assign $2$ to that parameter<br>\n",
    "![Frame01](lec02-06.jpg)<br>\n",
    "* Notice that there are two variables called $x$, and they refer to different values\n",
    "* Python will always look in the current frame, which we will draw with a thicker border"
   ]
  },
  {
   "cell_type": "markdown",
   "id": "596cc31d",
   "metadata": {
    "slideshow": {
     "slide_type": "subslide"
    }
   },
   "source": [
    "* We are now about to execute the first statement of function $f$<br>\n",
    "\n",
    "        def f(x):\n",
    "      ➤     x = 2 * x\n",
    "            return x\n",
    "\n",
    "        x = 1\n",
    "        x = f(x + 1) + f(x + 2)\n",
    "\n",
    "* $x=2*x$ is an assignment statement\n",
    "    * The right side is the expression $2*x$\n",
    "    * Python looks up the value of $x$ in the current frame and finds $2$, so that expression evaluates to $4$\n",
    "* Python finishes executing that assignment statement by making $x$ refer to that $4$<br>\n",
    "![Frame02](lec02-07.jpg)<br>"
   ]
  },
  {
   "cell_type": "markdown",
   "id": "735be8ab",
   "metadata": {
    "slideshow": {
     "slide_type": "subslide"
    }
   },
   "source": [
    "* We are now about to execute the second statement of function $f$<br>\n",
    "\n",
    "        def f(x):\n",
    "            x = 2 * x\n",
    "      ➤     return x\n",
    "\n",
    "        x = 1\n",
    "        x = f(x + 1) + f(x + 2)\n",
    "        \n",
    "* This is a return statement, so we evaluate the expression, which is simply $x$\n",
    "* Python looks up the value for $x$ in the current frame and finds $4$, so that is the return value<br>\n",
    "![Frame03](lec02-08.jpg)<br>"
   ]
  },
  {
   "cell_type": "markdown",
   "id": "da48e995",
   "metadata": {
    "slideshow": {
     "slide_type": "subslide"
    }
   },
   "source": [
    "* When the function returns, Python comes back to this expression: $f(x+1)+f(x+2)$\n",
    "    * Python just finished executing $f(x+1)$, which produced the value $4$\n",
    "* It then executes the right function call: $f(x+2)$\n",
    "---\n",
    "* Following the rules for executing a function call, Python evaluates the argument, $x+$2\n",
    "* In order to find the value for $x$, Python looks in the current frame\n",
    "* The call on function $f$ has returned, so that frame is erased\n",
    "* The only frame left is the frame for the shell, and its variable $x$ still refers to $1$, so $x+2$ evaluates to $3$\n",
    "* Now we have evaluated the argument to $f$"
   ]
  },
  {
   "cell_type": "markdown",
   "id": "907bf8f1",
   "metadata": {
    "slideshow": {
     "slide_type": "subslide"
    }
   },
   "source": [
    "* The next step is to create a namespace for the function call\n",
    "* We draw a frame, write in the parameter $x$, and assign $3$ to that parameter<br>\n",
    "![Frame04](lec02-09.jpg)<br>\n",
    "* Again, we have two variables called $x$"
   ]
  },
  {
   "cell_type": "markdown",
   "id": "509da01a",
   "metadata": {
    "slideshow": {
     "slide_type": "subslide"
    }
   },
   "source": [
    "* We are now about to execute the first statement of function $f$\n",
    "\n",
    "        def f(x):\n",
    "      ➤     x = 2 * x\n",
    "            return x\n",
    "\n",
    "        x = 1\n",
    "        x = f(x + 1) + f(x + 2)\n",
    "        \n",
    "* $x=2*x$ is an assignment statement\n",
    "    * The right side is the expression $2*x$\n",
    "    * Python looks up the value of $x$ in the current frame and finds $3$, so that expression evaluates to $6$\n",
    "* Python finished executing that assignment statement by making $x$ refer to that $6$<br>\n",
    "![Frame05](lec02-10.jpg)<br>"
   ]
  },
  {
   "cell_type": "markdown",
   "id": "db3230f3",
   "metadata": {
    "slideshow": {
     "slide_type": "subslide"
    }
   },
   "source": [
    "* We are now about to execute the second statement of function $f$\n",
    "\n",
    "        def f(x):\n",
    "            x = 2 * x\n",
    "      ➤     return x\n",
    "\n",
    "        x = 1\n",
    "        x = f(x + 1) + f(x + 2)\n",
    "        \n",
    "* This is a return statement, so we evaluate the expression, which is simply $x$\n",
    "* Python looks up the value for $x$ in the current frame and finds $6$, so that is the return value<br>\n",
    "![Frame06](lec02-11.jpg)<br>"
   ]
  },
  {
   "cell_type": "markdown",
   "id": "96ebc2d6",
   "metadata": {
    "slideshow": {
     "slide_type": "subslide"
    }
   },
   "source": [
    "* When the function returns, Python comes back to this expression: $f(x+1)+f(x+2)$\n",
    "* Python just finished executing $f(x+2)$, which produced the value $6$\n",
    "* Both function calls have been executed, so Python applies the $+$ operator to $4$ and $6$, giving us $10$\n",
    "---\n",
    "* We have now evaluated the right side of the assignment statement\n",
    "* Python completes it by making the variable on the left side, $x$, refer to $10$<br>\n",
    "![Frame07](lec02-12.jpg)<br>\n",
    "* That is a lot to keep track of, and Python does all that bookkeeping for us\n",
    "* To become a good programmer, it is important to understand each individual step"
   ]
  },
  {
   "cell_type": "markdown",
   "id": "ef7bddde",
   "metadata": {
    "slideshow": {
     "slide_type": "subslide"
    }
   },
   "source": [
    "### Designing New Functions: A Recipe<br>\n",
    "* Writing a good function also requires planning\n",
    "* We have an idea of what we want the function to do, but we need to decide on the details:\n",
    "    * What do we name the function? What are the parameters? What does it return?\n",
    "* We demonstrate a step-by-step recipe for designing and writing a function\n",
    "* Part of the outcome will be a working function, but almost as important is the documentation for the function\n",
    "* Python uses $\\rm\\color{orange}{three\\space double\\space quotes}$ to start and end this documentation; everything in between is meant for humans to read\n",
    "* This notation is called a $\\rm\\color{orange}{docstring}$, which is short for $\\rm\\color{orange}{documentation\\space string}$"
   ]
  },
  {
   "cell_type": "code",
   "execution_count": 4,
   "id": "b596d06d",
   "metadata": {
    "slideshow": {
     "slide_type": "subslide"
    }
   },
   "outputs": [],
   "source": [
    "def days_difference(day1, day2):\n",
    "    \"\"\" (int, int) -> int\n",
    "    \n",
    "    Return the number of days between day1 and day2, which are\n",
    "    both in the range 1-365 (thus indicating the day of the year)\n",
    "\n",
    "    >>> days_difference(200, 224)\n",
    "    24\n",
    "    >>> days_difference(50, 50)\n",
    "    0\n",
    "    >>> days_difference(100, 99)\n",
    "    -1\n",
    "    \"\"\"\n",
    "    return day2 - day1"
   ]
  },
  {
   "cell_type": "markdown",
   "id": "44f43097",
   "metadata": {
    "slideshow": {
     "slide_type": "fragment"
    }
   },
   "source": [
    "1. The first line is the $\\rm\\color{orange}{function\\space header}$\n",
    "2. The second line has three double quotes to start the docstring\n",
    "    * The (int, int) part describes the types of values expected to be passed to parameters day1 and day2\n",
    "    * The int after the -> is the type of value the function will return\n",
    "3. After that is a description of what the function will do when it is called\n",
    "4. It mentions both parameters and describes what the function returns\n",
    "5. Next are some example calls and return values as we would expect to see in the Python shell\n",
    "6. The last line is the body of the function"
   ]
  },
  {
   "cell_type": "markdown",
   "id": "a2a76e2f",
   "metadata": {
    "slideshow": {
     "slide_type": "subslide"
    }
   },
   "source": [
    "There are six steps to the function desing recipe<br><br>\n",
    "$\\rm\\color{orange}{Examples}$. The first step is to figure out what arguments you want to give to your function and what information it will return<br>\n",
    "Pick a name (often a verb or verb phrase): This name is often a short answer to the question, “What does your function do?” Type a couple of example calls and return values\n",
    "    \n",
    "        >>> days_difference(200, 224)\n",
    "        24\n",
    "        >>> days_difference(50, 50)\n",
    "        0\n",
    "        >>> days_difference(100, 99)\n",
    "        -1"
   ]
  },
  {
   "cell_type": "markdown",
   "id": "d59bbf36",
   "metadata": {
    "slideshow": {
     "slide_type": "subslide"
    }
   },
   "source": [
    "$\\rm\\color{orange}{Type\\space Contract}$. The second step is to figure out the types of information your function will handle: Are you giving it integers? Floating-point numbers? Maybe both?<br>\n",
    "Also, what type of value is returned? An integer, a floating-point number, or possibly either one of them?<br>\n",
    "This is called a contract because we are claiming that if you call this function with the right types of values, we will give you back the right type of value\n",
    "\n",
    "        \"\"\" (int, int) -> int"
   ]
  },
  {
   "cell_type": "markdown",
   "id": "013ff3be",
   "metadata": {
    "slideshow": {
     "slide_type": "subslide"
    }
   },
   "source": [
    "$\\rm\\color{orange}{Header}$. Write the function header. Pick meaningful parameter names to make it easy for other programmers to understand what information to give to your function\n",
    "\n",
    "        def days_difference(day1, day2):"
   ]
  },
  {
   "cell_type": "markdown",
   "id": "fc6555e5",
   "metadata": {
    "slideshow": {
     "slide_type": "subslide"
    }
   },
   "source": [
    "$\\rm\\color{orange}{Description}$. Write a short paragraph describing your function<br>\n",
    "This is what other programmers will read in order to understand what your function does, so it is important to practice this<br>\n",
    "Mention every parameter in your description and describe the return value\n",
    "\n",
    "        Return the number of days between day1 and day2, which are\n",
    "        both in the range 1-365 (thus indicating the day of the year)"
   ]
  },
  {
   "cell_type": "markdown",
   "id": "204c38f1",
   "metadata": {
    "slideshow": {
     "slide_type": "subslide"
    }
   },
   "source": [
    "$\\rm\\color{orange}{Body}$. By now, we have a good idea of what we need to do in order to get your function to behave properly<br>\n",
    "It is time to write some code\n",
    "\n",
    "        return day2 - day1"
   ]
  },
  {
   "cell_type": "markdown",
   "id": "fb695e2a",
   "metadata": {
    "slideshow": {
     "slide_type": "subslide"
    }
   },
   "source": [
    "$\\rm\\color{orange}{Test}$. Run the examples to make sure your function body is correct<br>\n",
    "Feel free to add more example calls if you happen to think of them<br>\n",
    "For days_difference, we copy and paste our examples into the shell and compare the results to what we expected\n",
    "\n",
    "        >>> days_difference(200, 224)\n",
    "        24\n",
    "        >>> days_difference(50, 50)\n",
    "        0\n",
    "        >>> days_difference(100, 99)\n",
    "        -1"
   ]
  },
  {
   "cell_type": "markdown",
   "id": "0b3bf294",
   "metadata": {
    "slideshow": {
     "slide_type": "subslide"
    }
   },
   "source": [
    "### Designing Three Birthday-related Functions<br>\n",
    "* We will now apply our function design recipe to solve this problem: Which day of the week will a birthday fall upon, given what day of the week it is today and what day of the year the birthday is on?\n",
    "* For example, if today is the third day of the year and it is a Thursday, and a birthday is on the 116th day of the year, what day of the week will it be on that birthday?\n",
    "* We will design three functions that together will help us do this calculation\n",
    "    * We will write them in the same file until we learn modular approach to program organization\n",
    "---\n",
    "| Days of the Week | Number |\n",
    "| :--: | :--: |\n",
    "| Sunday | 1 |\n",
    "| Monday | 2 |\n",
    "| Tuesday | 3 |\n",
    "| Wednesday | 4 |\n",
    "| Thursday | 5 |\n",
    "| Friday | 6 |\n",
    "| Saturday | 7 |"
   ]
  },
  {
   "cell_type": "markdown",
   "id": "9a653aeb",
   "metadata": {
    "slideshow": {
     "slide_type": "subslide"
    }
   },
   "source": [
    "### What Day Will It Be in the Future?<br>\n",
    "* It will help our birthday calculations if we write a function to calculate what day of the week it will be given the current weekday and how many days ahead we are interested in\n",
    "* Remember that we are using the numbers $1$ through $7$ to represent Sunday through Saturday\n",
    "* Again, we will follow the function design recipe"
   ]
  },
  {
   "cell_type": "markdown",
   "id": "9b0b8fec",
   "metadata": {
    "slideshow": {
     "slide_type": "subslide"
    }
   },
   "source": [
    "$\\rm\\color{orange}{Examples}$. We want a short name for what it means to calculate what weekday it will be in the future<br> We could choose something like which_weekday or what_day; we will use $\\rm\\color{magenta}{get\\_weekday}$. There are lots of choices<br>\n",
    "We will start with an example that asks what day it will be if today is Tuesday (day $3$ of the week) and we want to know what tomorrow will be ($1$ day ahead)\n",
    "\n",
    "        >>> get_weekday(3, 1)\n",
    "        4\n",
    "        \n",
    "Whenever we have a function that should return a value in a particular range, we should write example calls where we expect either end of that range as a result<br>\n",
    "What if it is Friday (day $6$)? If we ask what day it will be tomorrow, we expect to get Saturday (day $7$)\n",
    "\n",
    "        >>> get_weekday(6, 1)\n",
    "        7"
   ]
  },
  {
   "cell_type": "markdown",
   "id": "ad693f71",
   "metadata": {
    "slideshow": {
     "slide_type": "subslide"
    }
   },
   "source": [
    "What if it is Saturday (day $7$)? If we ask what day it will be tomorrow, we expect to get Sunday (day $1$):\n",
    "\n",
    "        >>> get_weekday(7, 1)\n",
    "        1\n",
    "\n",
    "We will also try asking about $0$ days in the future as well as a week ahead; both of these cases should give back the day of the week we started with\n",
    "\n",
    "        >>> get_weekday(1, 0)\n",
    "        1\n",
    "        >>> get_weekday(4, 7)\n",
    "        4\n",
    "        \n",
    "Let’s also try $10$ weeks and $2$ days in the future so we have a case where there are several intervening weeks\n",
    "\n",
    "        >>> get_weekday(7, 72)\n",
    "        2"
   ]
  },
  {
   "cell_type": "markdown",
   "id": "3c0322fb",
   "metadata": {
    "slideshow": {
     "slide_type": "subslide"
    }
   },
   "source": [
    "$\\rm\\color{orange}{Type\\space Contract}$. The arguments in our function call examples are all integers, and the return values are integers too, so here is our type contract\n",
    "\n",
    "        (int, int) -> int"
   ]
  },
  {
   "cell_type": "markdown",
   "id": "7860050a",
   "metadata": {
    "slideshow": {
     "slide_type": "subslide"
    }
   },
   "source": [
    "$\\rm\\color{orange}{Header}$. We have a couple of example calls, and we know what types the parameters are, so we can now write the header<br>\n",
    "The function name is clear, so we’ll stick with it<br>\n",
    "The first argument is the current day of the week, so we will use $\\rm\\color{magenta}{current\\_weekday}$<br>\n",
    "The second argument is how many days from now to calculate. We will pick $\\rm\\color{magenta}{days\\_ahead}$, although days_from_now would also be fine\n",
    "\n",
    "        def get_weekday(current_weekday, days_ahead):"
   ]
  },
  {
   "cell_type": "markdown",
   "id": "35878e19",
   "metadata": {
    "slideshow": {
     "slide_type": "subslide"
    }
   },
   "source": [
    "$\\rm\\color{orange}{Description}$. We need a complete description of what this function will do<br>\n",
    "We will start with a sentence describing what the function does, and then describe what the parameters mean:<br>\n",
    "\n",
    "        Return which day of the week it will be days_ahead days from current_weekday\n",
    "        \n",
    "        current_weekday is the current day of the week and is in the range 1-7,\n",
    "        indicating whether today is Sunday (1), Monday (2), ..., Saturday (7)\n",
    "        \n",
    "        days_ahead is the number of days after today\n",
    "\n",
    "Notice that our first sentence uses both parameters and also describes\n",
    "what the function will return"
   ]
  },
  {
   "cell_type": "markdown",
   "id": "d729f4c1",
   "metadata": {
    "slideshow": {
     "slide_type": "subslide"
    }
   },
   "source": [
    "$\\rm\\color{orange}{Body}$. Looking at the examples, we see that we can solve the first example with this: $\\rm\\color{magenta}{return\\space current\\_weekday+days\\_ahead}$<br>\n",
    "That, however, will not work for all of the examples; we need to wrap around from day $7$ (Saturday) back to day $1$ (Sunday)<br>\n",
    "When we have this kind of wraparound, usually the remainder operator, $\\rm\\color{orange}{\\%}$, will help<br>\n",
    "Notice that evaluation of $(7+1)\\%7$ produces $1$, $(7+2)\\%7$ produces $2$, and so on"
   ]
  },
  {
   "cell_type": "markdown",
   "id": "aebc3838",
   "metadata": {
    "slideshow": {
     "slide_type": "subslide"
    }
   },
   "source": [
    "Let’s try taking the remainder of the sum: $\\rm\\color{magenta}{return\\space current\\_weekday+days\\_ahead\\%7}$<br>\n",
    "Here is the whole function again, including the body"
   ]
  },
  {
   "cell_type": "code",
   "execution_count": null,
   "id": "9e4d0ffa",
   "metadata": {
    "slideshow": {
     "slide_type": "subslide"
    }
   },
   "outputs": [],
   "source": [
    "def get_weekday(current_weekday, days_ahead):\n",
    "    \"\"\" (int, int) -> int\n",
    "\n",
    "    Return which day of the week it will be days_ahead days from\n",
    "    current_weekday.\n",
    "\n",
    "    current_weekday is the current day of the week and is in the\n",
    "    range 1-7, indicating whether today is Sunday (1), Monday (2),\n",
    "    ..., Saturday (7).\n",
    "\n",
    "    days_ahead is the number of days after today.\n",
    "\n",
    "    >>> get_weekday(3, 1)\n",
    "    4\n",
    "    >>> get_weekday(6, 1)\n",
    "    7\n",
    "    >>> get_weekday(7, 1)\n",
    "    1\n",
    "    >>> get_weekday(1, 0)\n",
    "    1\n",
    "    >>> get_weekday(4, 7)\n",
    "    4\n",
    "    >>> get_weekday(7, 72)\n",
    "    2\n",
    "    \"\"\"\n",
    "    return current_weekday + days_ahead % 7"
   ]
  },
  {
   "cell_type": "markdown",
   "id": "ac912a51",
   "metadata": {
    "slideshow": {
     "slide_type": "subslide"
    }
   },
   "source": [
    "$\\rm\\color{orange}{Test}$. To test it, we copy and paste the calls into a Jupyter notebook cell, checking that we get back what we expect"
   ]
  },
  {
   "cell_type": "code",
   "execution_count": null,
   "id": "7296685c",
   "metadata": {
    "slideshow": {
     "slide_type": "fragment"
    }
   },
   "outputs": [],
   "source": [
    "print(get_weekday(3, 1))\n",
    "print(get_weekday(6, 1))\n",
    "print(get_weekday(7, 1))"
   ]
  },
  {
   "cell_type": "markdown",
   "id": "aaf9cae4",
   "metadata": {
    "slideshow": {
     "slide_type": "subslide"
    }
   },
   "source": [
    "Wait, that is not right. We expected a $1$ on that third example, not an $8$, because $8$ is not a valid number for a day of the week<br>\n",
    "We should have wrapped around to $1$\n",
    "Taking another look at our function body, we see that because $\\%$ has higher precedence than $+$, we need parentheses"
   ]
  },
  {
   "cell_type": "code",
   "execution_count": 3,
   "id": "6eda7dd6",
   "metadata": {
    "slideshow": {
     "slide_type": "fragment"
    }
   },
   "outputs": [],
   "source": [
    "def get_weekday(current_weekday, days_ahead):\n",
    "    \"\"\" (int, int) -> int\n",
    "\n",
    "    Return which day of the week it will be days_ahead days from\n",
    "    current_weekday.\n",
    "\n",
    "    current_weekday is the current day of the week and is in the\n",
    "    range 1-7, indicating whether today is Sunday (1), Monday (2),\n",
    "    ..., Saturday (7).\n",
    "\n",
    "    days_ahead is the number of days after today.\n",
    "\n",
    "    >>> get_weekday(3, 1)\n",
    "    4\n",
    "    >>> get_weekday(6, 1)\n",
    "    7\n",
    "    >>> get_weekday(7, 1)\n",
    "    1\n",
    "    >>> get_weekday(1, 0)\n",
    "    1\n",
    "    >>> get_weekday(4, 7)\n",
    "    4\n",
    "    >>> get_weekday(7, 72)\n",
    "    2\n",
    "    \"\"\"\n",
    "    return (current_weekday + days_ahead) % 7"
   ]
  },
  {
   "cell_type": "markdown",
   "id": "ab22b707",
   "metadata": {
    "slideshow": {
     "slide_type": "subslide"
    }
   },
   "source": [
    "Testing again, we see that we have fixed that bug in our code, but now we are getting the wrong answer for the second test!"
   ]
  },
  {
   "cell_type": "code",
   "execution_count": null,
   "id": "79298495",
   "metadata": {
    "slideshow": {
     "slide_type": "fragment"
    }
   },
   "outputs": [],
   "source": [
    "print(get_weekday(3, 1))\n",
    "print(get_weekday(6, 1))\n",
    "print(get_weekday(7, 1))"
   ]
  },
  {
   "cell_type": "markdown",
   "id": "ca18f325",
   "metadata": {
    "slideshow": {
     "slide_type": "subslide"
    }
   },
   "source": [
    "The problem here is that when $\\rm\\color{magenta}{current\\_weekday+days\\_ahead}$ evaluates to a multiple of $7$, then $\\rm\\color{magenta}{(current\\_weekday+days\\_ahead)\\%7}$ will evaluate to $0$, not $7$<br>\n",
    "All the other results work well; it is just that pesky $7$"
   ]
  },
  {
   "cell_type": "markdown",
   "id": "84880753",
   "metadata": {
    "slideshow": {
     "slide_type": "subslide"
    }
   },
   "source": [
    "Because we want a number in the range $1$ through $7$ but we are getting an answer in the range $0$ through $6$ and all the answers are correct except that we are seeing a $0$ instead of a $7$, we can use this trick:<br>\n",
    "1. Subtract $1$ from the expression: $\\rm\\color{magenta}{current\\_weekday+days\\_ahead-1}$\n",
    "2. Take the remainder\n",
    "3. Add $1$ to the entire result: $\\rm\\color{magenta}{(current\\_weekday+days\\_ahead-1)\\%7+1}$\n",
    "\n",
    "Test it again, and we find that we have passed all the tests, so we can now move on"
   ]
  },
  {
   "cell_type": "code",
   "execution_count": null,
   "id": "5b0a4ba9",
   "metadata": {
    "slideshow": {
     "slide_type": "fragment"
    }
   },
   "outputs": [],
   "source": [
    "print(get_weekday(3, 1))\n",
    "print(get_weekday(6, 1))\n",
    "print(get_weekday(7, 1))\n",
    "print(get_weekday(1, 0))\n",
    "print(get_weekday(4, 7))\n",
    "print(get_weekday(7, 72))"
   ]
  },
  {
   "cell_type": "markdown",
   "id": "a1122983",
   "metadata": {
    "slideshow": {
     "slide_type": "subslide"
    }
   },
   "source": [
    "### What Day Is My Birthday On?<br>\n",
    "* We now have two functions related to day-of-year calculations\n",
    "    * One of them calculates the difference between two days of the year\n",
    "    * The other calculates the weekday for a day in the future given the weekday today\n",
    "* We can use these two functions to help figure out:\n",
    "    1. What day of the week a birthday falls on given what day of the week it is today\n",
    "    2. What the current day of the year is\n",
    "    3. What day of the year the birthday falls on"
   ]
  },
  {
   "cell_type": "markdown",
   "id": "754ed830",
   "metadata": {
    "slideshow": {
     "slide_type": "subslide"
    }
   },
   "source": [
    "$\\rm\\color{orange}{Examples}$. We want a name for what it means to calculate what weekday a birthday will fall on<br>\n",
    "Once more, there are lots of choices; we will use $\\rm\\color{magenta}{get\\_birthday\\_weekday}$<br>\n",
    "If today is a Thursday (day $5$ of the week), and today is the third day of the year, what day will it be on the fourth day of the year?\n",
    "\n",
    "        >>> get_birthday_weekday(5, 3, 4)\n",
    "        6\n",
    "\n",
    "What if it is the same day (Thursday, the $3$rd day of the year), but the birthday is the $116$th day of the year?\n",
    "\n",
    "        >>> get_birthday_weekday(5, 3, 116)\n",
    "        6\n",
    "\n",
    "What if today is Friday, $26$ April, the $116$th day of the year, but the birthday we want is the $3$rd day of the year? (Note that the birthday is a couple months before the current day)\n",
    "\n",
    "        >>> get_birthday_weekday(6, 116, 3)\n",
    "        5"
   ]
  },
  {
   "cell_type": "markdown",
   "id": "677cd71d",
   "metadata": {
    "slideshow": {
     "slide_type": "subslide"
    }
   },
   "source": [
    "$\\rm\\color{orange}{Type\\space Contract}$. The arguments in our function call examples are all integers, and the return values are integers too\n",
    "\n",
    "        (int, int, int) -> int"
   ]
  },
  {
   "cell_type": "markdown",
   "id": "deb31d06",
   "metadata": {
    "slideshow": {
     "slide_type": "subslide"
    }
   },
   "source": [
    "$\\rm\\color{orange}{Header}$. We have a couple of example calls, and we know what types the parameters are, so we can now write the header. We are happy enough with the function name so again we will stick with it<br>\n",
    "The first argument is the current day of the week, so we will use $\\rm\\color{magenta}{current\\_weekday}$, as we did for the previous function<br>\n",
    "The second argument is what day of the year it is today, and we will choose $\\rm\\color{magenta}{current\\_day}$<br>\n",
    "The third argument is the day of the year the birthday is, and we will choose $\\rm\\color{magenta}{birthday\\_day}$\n",
    "\n",
    "        def get_birthday_weekday(current_weekday, current_day, birthday_day):"
   ]
  },
  {
   "cell_type": "markdown",
   "id": "7d081b9f",
   "metadata": {
    "slideshow": {
     "slide_type": "subslide"
    }
   },
   "source": [
    "$\\rm\\color{orange}{Description}$. We need a complete description of what this function will do<br>\n",
    "We will start with a sentence describing what the function does, and then describe what the parameters mean\n",
    "\n",
    "        Return the day of the week it will be on birthday_day, given that\n",
    "        the day of the week is current_weekday and the day of the year is\n",
    "        current_day.\n",
    "        current_weekday is the current day of the week and is in the range 1-7,\n",
    "        indicating whether today is Sunday (1), Monday (2), ..., Saturday (7).\n",
    "        current_day and birthday_day are both in the range 1-365.\n",
    "\n",
    "Again, notice that our first sentence uses all parameters and also describes what the function will return<br>\n",
    "If it gets more complicated, we will start to write multiple sentences to describe what the function does"
   ]
  },
  {
   "cell_type": "markdown",
   "id": "4168e87f",
   "metadata": {
    "slideshow": {
     "slide_type": "subslide"
    }
   },
   "source": [
    "$\\rm\\color{orange}{Body}$. We know by now that\n",
    "1. Using $\\rm\\color{magenta}{days\\_difference}$, we can figure out how many days there are between two days\n",
    "2. Using $\\rm\\color{magenta}{get\\_weekday}$, we can figure out what day of the week it will be given the current day of the week and the number of days away  \n",
    "  \n",
    "We will start by figuring out how many days from now the birthday falls:\n",
    "\n",
    "        days_diff = days_difference(current_day, birthday_day)\n",
    "\n",
    "Now that we know that, we can use it to solve our problem: Given the current weekday and that number of days ahead, we can call function get_weekday to get our answer:\n",
    "\n",
    "        return get_weekday(current_weekday, days_diff)"
   ]
  },
  {
   "cell_type": "code",
   "execution_count": 1,
   "id": "9f4b9f62",
   "metadata": {
    "slideshow": {
     "slide_type": "subslide"
    }
   },
   "outputs": [],
   "source": [
    "def get_birthday_weekday(current_weekday, current_day, birthday_day):\n",
    "    \"\"\" (int, int, int) -> int\n",
    "\n",
    "    Return the day of the week it will be on birthday_day,\n",
    "    given that the day of the week is current_weekday and the\n",
    "    day of the year is current_day.\n",
    "\n",
    "    current_weekday is the current day of the week and is in\n",
    "    the range 1-7, indicating whether today is Sunday (1),\n",
    "    Monday (2), ..., Saturday (7).\n",
    "\n",
    "    current_day and birthday_day are both in the range 1-365.\n",
    "\n",
    "    >>> get_birthday_weekday(5, 3, 4)\n",
    "    6\n",
    "    >>> get_birthday_weekday(5, 3, 116)\n",
    "    6\n",
    "    >>> get_birthday_weekday(6, 116, 3)\n",
    "    5\n",
    "    \"\"\"\n",
    "    \n",
    "    days_diff = days_difference(current_day, birthday_day)\n",
    "    return get_weekday(current_weekday, days_diff)"
   ]
  },
  {
   "cell_type": "markdown",
   "id": "63d055f5",
   "metadata": {
    "slideshow": {
     "slide_type": "subslide"
    }
   },
   "source": [
    "$\\rm\\color{orange}{Test}$. To test it, we copy and paste the calls into Jupyter Notebook, checking that we get back what we expect"
   ]
  },
  {
   "cell_type": "code",
   "execution_count": 5,
   "id": "2166f334",
   "metadata": {
    "slideshow": {
     "slide_type": "fragment"
    }
   },
   "outputs": [
    {
     "name": "stdout",
     "output_type": "stream",
     "text": [
      "6\n",
      "6\n",
      "5\n"
     ]
    }
   ],
   "source": [
    "print(get_birthday_weekday(5, 3, 4))\n",
    "print(get_birthday_weekday(5, 3, 116))\n",
    "print(get_birthday_weekday(6, 116, 3))"
   ]
  },
  {
   "cell_type": "markdown",
   "id": "95abe73c",
   "metadata": {
    "slideshow": {
     "slide_type": "subslide"
    }
   },
   "source": [
    "### Omitting a Return Statement: None<br>\n",
    "If you do not have a return statement in a function, nothing is produced. $\\rm\\color{red}{BUT}$, if res does not have a value, shouldn’t we get a $\\rm\\color{red}{NameError}$?"
   ]
  },
  {
   "cell_type": "code",
   "execution_count": 7,
   "id": "b2f91f06",
   "metadata": {
    "slideshow": {
     "slide_type": "fragment"
    }
   },
   "outputs": [
    {
     "name": "stdout",
     "output_type": "stream",
     "text": [
      "None\n",
      "140715268074224\n"
     ]
    }
   ],
   "source": [
    "def f(x):\n",
    "    x = 2 * x\n",
    "\n",
    "res = f(3)\n",
    "print(res)\n",
    "# print(id(res))"
   ]
  },
  {
   "cell_type": "markdown",
   "id": "3a3dbcf5",
   "metadata": {
    "slideshow": {
     "slide_type": "subslide"
    }
   },
   "source": [
    "* Variable res has a value: It is $\\rm\\color{orange}{None}$! And None has a memory address\n",
    "* If you do not have a return statement in your function, your function will return None\n",
    "* You can return None yourself if you like\n",
    "* The value None is used to signal the absence of a value. We will see some uses for it later in this course"
   ]
  },
  {
   "cell_type": "code",
   "execution_count": 8,
   "id": "8f677adb",
   "metadata": {
    "slideshow": {
     "slide_type": "fragment"
    }
   },
   "outputs": [
    {
     "name": "stdout",
     "output_type": "stream",
     "text": [
      "None\n"
     ]
    }
   ],
   "source": [
    "def f(x):\n",
    "    x = 2 * x\n",
    "    return None\n",
    "\n",
    "print(f(3))"
   ]
  },
  {
   "cell_type": "markdown",
   "id": "2d9ef5b2",
   "metadata": {
    "slideshow": {
     "slide_type": "subslide"
    }
   },
   "source": [
    "### Dealing with Situations That Your Code Does Not Handle<br>\n",
    "* You will often write a function that only works in some situations\n",
    "* For example, you might write a function that takes as a parameter a number of people who want to eat a pie and returns the percentage of the pie that each person gets to eat"
   ]
  },
  {
   "cell_type": "code",
   "execution_count": 9,
   "id": "830cf7f3",
   "metadata": {
    "slideshow": {
     "slide_type": "subslide"
    }
   },
   "outputs": [],
   "source": [
    "def pie_percent(n):\n",
    "    \"\"\" (int) -> int\n",
    "    \n",
    "    Assuming there are n people who want to eat a pie, return the percentage\n",
    "    of the pie that each person gets to eat.\n",
    "    \n",
    "    >>> pie_percent(5)\n",
    "    20\n",
    "    >>> pie_percent(2)\n",
    "    50\n",
    "    >>> pie_percent(1)\n",
    "    100\n",
    "    \"\"\"\n",
    "    \n",
    "    return int(100 / n)"
   ]
  },
  {
   "cell_type": "markdown",
   "id": "cb02123d",
   "metadata": {
    "slideshow": {
     "slide_type": "subslide"
    }
   },
   "source": [
    "* If someone calls pie($0$), then you probably see that this will result in a $\\rm\\color{red}{ZeroDivisionError}$\n",
    "* As a programmer, you warn other people about situations that your function is not set up to handle by describing your assumptions in a $\\rm\\color{orange}{precondition}$\n",
    "* Whenever you write a function and you have assumed something about the parameter values, write a precondition that lets other programmers know your assumptions\n",
    "* If they ignore your warning and call it with invalid values, the fault does not lie with you"
   ]
  },
  {
   "cell_type": "code",
   "execution_count": null,
   "id": "47aa4546",
   "metadata": {
    "slideshow": {
     "slide_type": "subslide"
    }
   },
   "outputs": [],
   "source": [
    "def pie_percent(n):\n",
    "    \"\"\" (int) -> int\n",
    "    \n",
    "    Precondition: n > 0\n",
    "    \n",
    "    Assuming there are n people who want to eat a pie, return the percentage\n",
    "    of the pie that each person gets to eat.\n",
    "    \n",
    "    >>> pie_percent(5)\n",
    "    20\n",
    "    >>> pie_percent(2)\n",
    "    50\n",
    "    >>> pie_percent(1)\n",
    "    100\n",
    "    \"\"\"\n",
    "    \n",
    "    return int(100 / n)"
   ]
  }
 ],
 "metadata": {
  "kernelspec": {
   "display_name": "Python 3 (ipykernel)",
   "language": "python",
   "name": "python3"
  },
  "language_info": {
   "codemirror_mode": {
    "name": "ipython",
    "version": 3
   },
   "file_extension": ".py",
   "mimetype": "text/x-python",
   "name": "python",
   "nbconvert_exporter": "python",
   "pygments_lexer": "ipython3",
   "version": "3.11.4"
  },
  "toc": {
   "base_numbering": 1,
   "nav_menu": {},
   "number_sections": true,
   "sideBar": true,
   "skip_h1_title": false,
   "title_cell": "Table of Contents",
   "title_sidebar": "Contents",
   "toc_cell": false,
   "toc_position": {},
   "toc_section_display": true,
   "toc_window_display": false
  },
  "varInspector": {
   "cols": {
    "lenName": 16,
    "lenType": 16,
    "lenVar": 40
   },
   "kernels_config": {
    "python": {
     "delete_cmd_postfix": "",
     "delete_cmd_prefix": "del ",
     "library": "var_list.py",
     "varRefreshCmd": "print(var_dic_list())"
    },
    "r": {
     "delete_cmd_postfix": ") ",
     "delete_cmd_prefix": "rm(",
     "library": "var_list.r",
     "varRefreshCmd": "cat(var_dic_list()) "
    }
   },
   "types_to_exclude": [
    "module",
    "function",
    "builtin_function_or_method",
    "instance",
    "_Feature"
   ],
   "window_display": false
  }
 },
 "nbformat": 4,
 "nbformat_minor": 5
}
