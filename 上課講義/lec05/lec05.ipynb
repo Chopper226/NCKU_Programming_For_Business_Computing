{
 "cells": [
  {
   "cell_type": "markdown",
   "id": "7eaf9252",
   "metadata": {
    "slideshow": {
     "slide_type": "subslide"
    }
   },
   "source": [
    "* Mathematicians do not prove every theorem from scratch. Instead, they build their proofs on the truths their predecessors have already established\n",
    "* In the same way, it is vanishingly rare for someone to write all of a program alone\n",
    "* It is much more common — and productive — to make use of the millions of lines of code that other programmers have written before"
   ]
  },
  {
   "cell_type": "markdown",
   "id": "2c8ad4af",
   "metadata": {
    "slideshow": {
     "slide_type": "subslide"
    }
   },
   "source": [
    "* A $\\rm\\color{orange}{module}$ is a collection of variables and functions that are grouped together in a single file\n",
    "* The variables and functions in a module are usually related to one another in some way\n",
    "    * For example, module math contains the variable pi and mathematical functions such as cos (cosine) and sqrt (square root)\n",
    "* This lecture shows how to use some of the hundreds of modules that come with Python"
   ]
  },
  {
   "cell_type": "markdown",
   "id": "6b4a46bb",
   "metadata": {
    "slideshow": {
     "slide_type": "subslide"
    }
   },
   "source": [
    "### Importing Modules<br>\n",
    "* To gain access to the variables and functions from a module, we have to import it\n",
    "* To tell Python that you want to use functions in module math, for example, we use this $\\rm\\color{orange}{import}$ statement"
   ]
  },
  {
   "cell_type": "code",
   "execution_count": null,
   "id": "fe13df46",
   "metadata": {
    "slideshow": {
     "slide_type": "fragment"
    }
   },
   "outputs": [],
   "source": [
    "import math"
   ]
  },
  {
   "cell_type": "markdown",
   "id": "025e3410",
   "metadata": {
    "slideshow": {
     "slide_type": "subslide"
    }
   },
   "source": [
    "* Importing a module creates a new variable with that name\n",
    "* That variable refers to an object whose type is module"
   ]
  },
  {
   "cell_type": "code",
   "execution_count": null,
   "id": "131bc067",
   "metadata": {
    "slideshow": {
     "slide_type": "fragment"
    }
   },
   "outputs": [],
   "source": [
    "print(type(math))"
   ]
  },
  {
   "cell_type": "markdown",
   "id": "ce19e011",
   "metadata": {
    "slideshow": {
     "slide_type": "subslide"
    }
   },
   "source": [
    "* Once you have imported a module, you can use built-in function help to see what it contains"
   ]
  },
  {
   "cell_type": "code",
   "execution_count": null,
   "id": "6c3b328c",
   "metadata": {
    "slideshow": {
     "slide_type": "subslide"
    }
   },
   "outputs": [],
   "source": [
    "help(math)"
   ]
  },
  {
   "cell_type": "markdown",
   "id": "65b26b4a",
   "metadata": {
    "slideshow": {
     "slide_type": "subslide"
    }
   },
   "source": [
    "* The statement import math creates a variable called math that refers to a module\n",
    "object\n",
    "* In that object are all the names defined in that module\n",
    "* Each of them refers to a function object\n",
    "---\n",
    "![MathModule](lec05-01.jpg)"
   ]
  },
  {
   "cell_type": "markdown",
   "id": "f187692f",
   "metadata": {
    "slideshow": {
     "slide_type": "subslide"
    }
   },
   "source": [
    "* When we try to calculate a square root, though, we get an error telling us that Python is still unable to find function $sqrt$"
   ]
  },
  {
   "cell_type": "code",
   "execution_count": null,
   "id": "a4ac755b",
   "metadata": {
    "slideshow": {
     "slide_type": "fragment"
    }
   },
   "outputs": [],
   "source": [
    "print(sqrt(9))"
   ]
  },
  {
   "cell_type": "markdown",
   "id": "e40b85c9",
   "metadata": {
    "slideshow": {
     "slide_type": "subslide"
    }
   },
   "source": [
    "* The solution is to tell Python explicitly to look for the function in module math by combining the module’s name with the function’s name using a $\\rm\\color{magenta}{dot}$"
   ]
  },
  {
   "cell_type": "code",
   "execution_count": null,
   "id": "f85e5ee9",
   "metadata": {
    "slideshow": {
     "slide_type": "fragment"
    }
   },
   "outputs": [],
   "source": [
    "print(math.sqrt(9))"
   ]
  },
  {
   "cell_type": "markdown",
   "id": "1a49374b",
   "metadata": {
    "slideshow": {
     "slide_type": "subslide"
    }
   },
   "source": [
    "* The dot is an $\\rm\\color{magenta}{operator}$, just like $+$ and $**$ are operators\n",
    "* Its meaning is \"look up the object that the variable to the left of the dot refers to and, in that object, find the name that occurs to the right of the dot\"\n",
    "* In $math.sqrt(9)$, Python finds math in the current namespace, looks up the module object that math refers to, finds function sqrt inside that module, and then executes the function call"
   ]
  },
  {
   "cell_type": "markdown",
   "id": "e1c009a4",
   "metadata": {
    "slideshow": {
     "slide_type": "subslide"
    }
   },
   "source": [
    "* Modules can contain more than just functions\n",
    "* Module math, for example, also defines some variables like $\\rm\\color{orange}{pi}$\n",
    "* Once the module has been imported, you can use these variables like any others"
   ]
  },
  {
   "cell_type": "code",
   "execution_count": null,
   "id": "1802c429",
   "metadata": {
    "slideshow": {
     "slide_type": "fragment"
    }
   },
   "outputs": [],
   "source": [
    "import math\n",
    "\n",
    "print(math.pi)\n",
    "radius = 5\n",
    "print('Area is', math.pi * radius ** 2)"
   ]
  },
  {
   "cell_type": "markdown",
   "id": "f1f2bc9a",
   "metadata": {
    "slideshow": {
     "slide_type": "subslide"
    }
   },
   "source": [
    "* We can even assign to variables imported from modules"
   ]
  },
  {
   "cell_type": "code",
   "execution_count": null,
   "id": "42b53c85",
   "metadata": {
    "slideshow": {
     "slide_type": "fragment"
    }
   },
   "outputs": [],
   "source": [
    "import math\n",
    "\n",
    "math.pi = 3\n",
    "radius = 5\n",
    "print('Area is', math.pi * radius ** 2)"
   ]
  },
  {
   "cell_type": "markdown",
   "id": "4796b932",
   "metadata": {
    "slideshow": {
     "slide_type": "subslide"
    }
   },
   "source": [
    "* $\\rm\\color{red}{DON'T\\space DO\\space THIS!}$ Changing the value of $\\pi$ is not a good idea\n",
    "* In fact, it is such a bad idea that many languages allow programmers to define unchangeable constants as well as variables\n",
    "* As the name suggests, the value of a constant cannot be changed after it has been defined\n",
    "    * $\\pi$ is always 3.14159 and a little bit\n",
    "    * SECONDS_PER_DAY is always 86,400\n",
    "* The fact that Python does not allow programmers to \"freeze\" values like this is one of the language’s few significant\n",
    "flaws"
   ]
  },
  {
   "cell_type": "markdown",
   "id": "358bdf39",
   "metadata": {
    "slideshow": {
     "slide_type": "subslide"
    }
   },
   "source": [
    "* Combining the module’s name with the names of the things it contains is safe, but it is not always convenient\n",
    "* For this reason, Python lets you specify exactly what you want to import from a module"
   ]
  },
  {
   "cell_type": "code",
   "execution_count": null,
   "id": "16b518be",
   "metadata": {
    "slideshow": {
     "slide_type": "fragment"
    }
   },
   "outputs": [],
   "source": [
    "from math import sqrt, pi\n",
    "\n",
    "print(sqrt(9))\n",
    "radius = 5\n",
    "print('Circumference is', 2 * pi * radius)"
   ]
  },
  {
   "cell_type": "markdown",
   "id": "8e3dd525",
   "metadata": {
    "slideshow": {
     "slide_type": "subslide"
    }
   },
   "source": [
    "* This does not introduce a variable called $math$\n",
    "* Instead, it creates function $sqrt$ and variable $pi$ in the current namespace, as if you had typed the function definition and variable assignment yourself\n",
    "* Restart the kernel and try the following"
   ]
  },
  {
   "cell_type": "code",
   "execution_count": null,
   "id": "452be2f5",
   "metadata": {
    "slideshow": {
     "slide_type": "fragment"
    }
   },
   "outputs": [],
   "source": [
    "from math import sqrt, pi\n",
    "\n",
    "print(math.sqrt(9))"
   ]
  },
  {
   "cell_type": "code",
   "execution_count": null,
   "id": "d505b673",
   "metadata": {
    "slideshow": {
     "slide_type": "fragment"
    }
   },
   "outputs": [],
   "source": [
    "print(sqrt(9))"
   ]
  },
  {
   "cell_type": "markdown",
   "id": "c0514d6a",
   "metadata": {
    "slideshow": {
     "slide_type": "subslide"
    }
   },
   "source": [
    "* Here, we do not have a variable called $math$\n",
    "* Instead, we imported variables $sqrt$ and $pi$ directly into the current namespace\n",
    "---\n",
    "![FromImport](lec05-02.jpg)"
   ]
  },
  {
   "cell_type": "markdown",
   "id": "5a0db0eb",
   "metadata": {
    "slideshow": {
     "slide_type": "subslide"
    }
   },
   "source": [
    "* This can lead to problems when different modules provide functions that have the same name\n",
    "* If you import a function called $\\rm\\color{aqua}{spell}$ from a module called $\\rm\\color{aqua}{magic}$ and then you import another function called $\\rm\\color{lime}{spell}$ from the $\\rm\\color{lime}{grammar}$ module, the second replaces the first\n",
    "* It is exactly like assigning one value to a variable and then assigning another value: The most recent assignment or import wins"
   ]
  },
  {
   "cell_type": "markdown",
   "id": "500a3823",
   "metadata": {
    "slideshow": {
     "slide_type": "subslide"
    }
   },
   "source": [
    "* This is why it is usually $\\rm\\color{magenta}{NOT}$ a good idea to use $\\rm\\color{magenta}{import\\space *}$, which brings in everything from the module at once\n",
    "* Although $\\rm\\color{magenta}{import\\space *}$ saves some typing, you run the risk of your program accessing the incorrect function and not working properly"
   ]
  },
  {
   "cell_type": "code",
   "execution_count": null,
   "id": "96bd9316",
   "metadata": {
    "slideshow": {
     "slide_type": "fragment"
    }
   },
   "outputs": [],
   "source": [
    "from math import *\n",
    "\n",
    "print(sqrt(8))"
   ]
  },
  {
   "cell_type": "markdown",
   "id": "43593b66",
   "metadata": {
    "slideshow": {
     "slide_type": "subslide"
    }
   },
   "source": [
    "* The standard Python library contains several hundred modules to do everything from figuring out what day of the week it is to fetching data from a website\n",
    "* The full list is online at [here](https://docs.python.org/3/py-modindex.html)\n",
    "* Knowing how to use the library well is one of the things that distinguishes good programmers from poor ones"
   ]
  }
 ],
 "metadata": {
  "kernelspec": {
   "display_name": "Python 3 (ipykernel)",
   "language": "python",
   "name": "python3"
  },
  "language_info": {
   "codemirror_mode": {
    "name": "ipython",
    "version": 3
   },
   "file_extension": ".py",
   "mimetype": "text/x-python",
   "name": "python",
   "nbconvert_exporter": "python",
   "pygments_lexer": "ipython3",
   "version": "3.11.4"
  }
 },
 "nbformat": 4,
 "nbformat_minor": 5
}
