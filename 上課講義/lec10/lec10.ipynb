{
 "cells": [
  {
   "cell_type": "markdown",
   "id": "62c30c9b",
   "metadata": {
    "slideshow": {
     "slide_type": "subslide"
    }
   },
   "source": [
    "### Storing Data Using Other Collection Types<br>\n",
    "* We have learned how to store collections of data using lists. In this lecture, we will learn about three other kinds of collections: Sets, tuples, and dictionaries\n",
    "* With four different options for storing our collections of data, we will be able to pick the one that best matches our problem in order to keep your code as simple and efficient as possible"
   ]
  },
  {
   "cell_type": "markdown",
   "id": "ed1ab828",
   "metadata": {
    "slideshow": {
     "slide_type": "subslide"
    }
   },
   "source": [
    "### Storing Data Using Sets<br>\n",
    "* A $\\rm\\color{orange}{set}$ is an $\\rm\\color{magenta}{unordered}$ collection of $\\rm\\color{magenta}{distinct}$ items\n",
    "* $\\rm\\color{magenta}{Unordered}$ means that items are not stored in any particular order. Something is either in the set or it is not, but there is no notion of it being the first, second, or last item\n",
    "* $\\rm\\color{magenta}{Distinct}$ means that any item appears in a set at most once; in other words, there are no duplicates.\n",
    "* Python has a type called $\\rm\\color{orange}{set}$ that allows us to store $\\rm\\color{magenta}{mutable}$ collections of unordered, distinct items (Remember that a mutable object means one that we can modify)"
   ]
  },
  {
   "cell_type": "code",
   "execution_count": null,
   "id": "b632c093",
   "metadata": {
    "slideshow": {
     "slide_type": "fragment"
    }
   },
   "outputs": [],
   "source": [
    "vowels = {'a', 'e', 'i', 'o', 'u'}\n",
    "print(vowels)"
   ]
  },
  {
   "cell_type": "markdown",
   "id": "fc9bb33c",
   "metadata": {
    "slideshow": {
     "slide_type": "subslide"
    }
   },
   "source": [
    "* It looks much like a list, except that sets use braces (that is, $\\rm\\color{magenta}\\{$ and $\\rm\\color{magenta}\\}$) instead of brackets (that is, $\\rm\\color{magenta}[$ and $\\rm\\color{magenta}]$)\n",
    "* Notice that, when displayed in the shell, the set is unordered\n",
    "* Python does some mathematical tricks behind the scenes to make accessing the items very fast, and one of the side effects of this is that the items are not in any particular order"
   ]
  },
  {
   "cell_type": "code",
   "execution_count": null,
   "id": "a7a14e83",
   "metadata": {
    "slideshow": {
     "slide_type": "fragment"
    }
   },
   "outputs": [],
   "source": [
    "vowels = {'a', 'e', 'a', 'a', 'i', 'o', 'u', 'u'}\n",
    "print(vowels)"
   ]
  },
  {
   "cell_type": "markdown",
   "id": "8edd9e3e",
   "metadata": {
    "slideshow": {
     "slide_type": "subslide"
    }
   },
   "source": [
    "* Even though there were three $a$'s and two $u$'s when we created the set, only one of each was kept\n",
    "* Python considers the two sets to be equal"
   ]
  },
  {
   "cell_type": "code",
   "execution_count": null,
   "id": "9c9a4f44",
   "metadata": {
    "slideshow": {
     "slide_type": "fragment"
    }
   },
   "outputs": [],
   "source": [
    "print({'a', 'e', 'i', 'o', 'u'} == {'a', 'e', 'a', 'a', 'i', 'o', 'u', 'u'})"
   ]
  },
  {
   "cell_type": "markdown",
   "id": "86df07c5",
   "metadata": {
    "slideshow": {
     "slide_type": "subslide"
    }
   },
   "source": [
    "* The reason they are equal is that they contain the same items\n",
    "* Again, order does not matter, and only one of each element is kept\n",
    "* Variable vowels refers to an object of type set"
   ]
  },
  {
   "cell_type": "code",
   "execution_count": null,
   "id": "768064e9",
   "metadata": {
    "slideshow": {
     "slide_type": "fragment"
    }
   },
   "outputs": [],
   "source": [
    "print(type(vowels))\n",
    "print(type({1, 2, 3}))"
   ]
  },
  {
   "cell_type": "markdown",
   "id": "84fbcca8",
   "metadata": {
    "slideshow": {
     "slide_type": "subslide"
    }
   },
   "source": [
    "* We will learn about a type that uses the notation $\\rm\\color{magenta}{\\{\\}}$, which prevents us from using that notation\n",
    "to represent an empty set\n",
    "* Instead, to create an empty set, we need to call function set with no arguments"
   ]
  },
  {
   "cell_type": "code",
   "execution_count": null,
   "id": "d51c6599",
   "metadata": {
    "slideshow": {
     "slide_type": "fragment"
    }
   },
   "outputs": [],
   "source": [
    "set()\n",
    "print(type(set()))"
   ]
  },
  {
   "cell_type": "markdown",
   "id": "53ef3f7f",
   "metadata": {
    "slideshow": {
     "slide_type": "subslide"
    }
   },
   "source": [
    "* Function set expects either no arguments (to create an empty set) or a single argument that is a collection of values\n",
    "* We can, for example, create a set from a list"
   ]
  },
  {
   "cell_type": "code",
   "execution_count": null,
   "id": "7879178b",
   "metadata": {
    "slideshow": {
     "slide_type": "fragment"
    }
   },
   "outputs": [],
   "source": [
    "print(set([2, 3, 2, 5]))"
   ]
  },
  {
   "cell_type": "markdown",
   "id": "12489bf1",
   "metadata": {
    "slideshow": {
     "slide_type": "subslide"
    }
   },
   "source": [
    "* Because duplicates are not allowed, only one of the $2$s appears in the set<br><br>\n",
    "  \n",
    "![SetExample](lec10-01.jpg)\n",
    "  \n",
    "* Function set expects at most one argument. You cannot pass several values as separate arguments"
   ]
  },
  {
   "cell_type": "code",
   "execution_count": null,
   "id": "c3c3b9e8",
   "metadata": {
    "slideshow": {
     "slide_type": "fragment"
    }
   },
   "outputs": [],
   "source": [
    "print(set(2, 3, 5))"
   ]
  },
  {
   "cell_type": "markdown",
   "id": "44964912",
   "metadata": {
    "slideshow": {
     "slide_type": "subslide"
    }
   },
   "source": [
    "* In addition to lists, there are a couple of other types that can be used as arguments to function set. One is a set"
   ]
  },
  {
   "cell_type": "code",
   "execution_count": null,
   "id": "4b318103",
   "metadata": {
    "slideshow": {
     "slide_type": "fragment"
    }
   },
   "outputs": [],
   "source": [
    "vowels = {'a', 'e', 'a', 'a', 'i', 'o', 'u', 'u'}\n",
    "print(vowels)\n",
    "print(set(vowels))\n",
    "print(set({5, 3, 1}))"
   ]
  },
  {
   "cell_type": "markdown",
   "id": "5ae04426",
   "metadata": {
    "slideshow": {
     "slide_type": "subslide"
    }
   },
   "source": [
    "* Another such type is $\\rm\\color{orange}{range}$\n",
    "* In the following code a set is created with the values $0$ to $4$ inclusive\n",
    "* We will learn about the $\\rm\\color{orange}{tuple}$ type, another type of sequence, that can also be used as an argument\n",
    "to function set"
   ]
  },
  {
   "cell_type": "code",
   "execution_count": null,
   "id": "4323f7bb",
   "metadata": {
    "slideshow": {
     "slide_type": "fragment"
    }
   },
   "outputs": [],
   "source": [
    "print(set(range(5)))"
   ]
  },
  {
   "cell_type": "markdown",
   "id": "fe5c259a",
   "metadata": {
    "slideshow": {
     "slide_type": "subslide"
    }
   },
   "source": [
    "### Set Operations<br>\n",
    "* In mathematics, set operations include union, intersection, add, and remove\n",
    "* In Python, these are implemented as methods\n",
    "* Sets are mutable, which means we can change what is in a set object\n",
    "* The methods $\\rm\\color{orange}{add}$, $\\rm\\color{orange}{remove}$, and $\\rm\\color{orange}{clear}$ all modify what is in a set"
   ]
  },
  {
   "cell_type": "code",
   "execution_count": null,
   "id": "ca6124c0",
   "metadata": {
    "slideshow": {
     "slide_type": "fragment"
    }
   },
   "outputs": [],
   "source": [
    "vowels = {'a', 'e', 'i', 'o', 'u'}\n",
    "print(vowels)\n",
    "vowels.add('y')\n",
    "print(vowels)"
   ]
  },
  {
   "cell_type": "markdown",
   "id": "d22ce8c9",
   "metadata": {
    "slideshow": {
     "slide_type": "subslide"
    }
   },
   "source": [
    "* Other methods, such as $\\rm\\color{orange}{intersection}$ and $\\rm\\color{orange}{union}$, return new sets based on their arguments"
   ]
  },
  {
   "cell_type": "code",
   "execution_count": null,
   "id": "b5bdb218",
   "metadata": {
    "slideshow": {
     "slide_type": "fragment"
    }
   },
   "outputs": [],
   "source": [
    "ten = set(range(10))\n",
    "lows = {0, 1, 2, 3, 4}\n",
    "odds = {1, 3, 5, 7, 9}\n",
    "lows.add(9)\n",
    "print(lows)\n",
    "print(lows.difference(odds))\n",
    "print(lows.intersection(odds))\n",
    "print(lows.issubset(ten))\n",
    "print(lows.issuperset(odds))\n",
    "lows.remove(0)\n",
    "print(lows)\n",
    "print(lows.symmetric_difference(odds))\n",
    "print(lows.union(odds))\n",
    "lows.clear()\n",
    "print(lows)"
   ]
  },
  {
   "cell_type": "markdown",
   "id": "9fe5f60e",
   "metadata": {
    "slideshow": {
     "slide_type": "subslide"
    }
   },
   "source": [
    "| Method | Description |\n",
    "| :--: | :--: |\n",
    "| S.add(v) | Adds item $v$ to a set $S$—this has no effect if $v$ is already in $S$ |\n",
    "| S.clear() | Removes all items from set $S$ |\n",
    "| S.difference(other) | Returns a set with items that occur in set $S$ but not in set $other$ |\n",
    "| S.intersection(other) | Returns a set with items that occur both in sets $S$ and $other$ |\n",
    "| S.issubset(other) | Returns True if and only if all of set $S$'s items are also in set $other$ |\n",
    "| S.issuperset(other) | Returns True if and only if set $S$ contains all of set $other$'s items |\n",
    "| S.remove(v) | Removes item $v$ from set $S$ |\n",
    "| S.symmetric_difference(other) | Returns a set with items that are in exactly one of sets $S$ and $other$—any items that are in both sets are not included in the result |\n",
    "| S.union(other) | Returns a set with items that are either in set $S$ or $other$ (or in both) |"
   ]
  },
  {
   "cell_type": "markdown",
   "id": "4b9783a1",
   "metadata": {
    "slideshow": {
     "slide_type": "subslide"
    }
   },
   "source": [
    "* Many of the tasks performed by methods can also be accomplished using operators\n",
    "* If $acids$ and $bases$ are two sets, for example, then $acids|bases$ creates a new set containing their union (that is, all the elements from both $acids$ and $bases$), while $acids<=bases$ tests whether all the values in acids are also in bases\n",
    "* Some of the operators that sets support are listed below\n",
    "---\n",
    "| Method Call | Operator |\n",
    "| :--: | :--: |\n",
    "| set1.difference(set2) | set1 - set2 |\n",
    "| set1.intersection(set2) | set1 & set2 |\n",
    "| set1.issubset(set2) | set1 <= set2 |\n",
    "| set1.issuperset(set2) | set1 >= set2 |\n",
    "| set1.union(set2) | set1 \\| set2 |\n",
    "| set1.symmetric_difference(set2) | set1 ^ set2 |"
   ]
  },
  {
   "cell_type": "code",
   "execution_count": null,
   "id": "837dbb06",
   "metadata": {
    "slideshow": {
     "slide_type": "subslide"
    }
   },
   "outputs": [],
   "source": [
    "lows = set([0, 1, 2, 3, 4])\n",
    "odds = set([1, 3, 5, 7, 9])\n",
    "print(lows - odds)\n",
    "print(lows & odds)\n",
    "print(lows <= odds)\n",
    "print(lows >= odds)\n",
    "print(lows | odds)\n",
    "print(lows ^ odds)"
   ]
  },
  {
   "cell_type": "markdown",
   "id": "30d891a3",
   "metadata": {
    "slideshow": {
     "slide_type": "subslide"
    }
   },
   "source": [
    "### Arctic Birds<br>\n",
    "* To see how sets are used, suppose we have a file used to record observations of birds in the Canadian Arctic and we want to know which species have been observed\n",
    "* The observations file, observations.txt, has one species per line\n",
    "  \n",
    "        canada goose\n",
    "        canada goose\n",
    "        long-tailed jaeger\n",
    "        canada goose\n",
    "        snow goose\n",
    "        canada goose\n",
    "        long-tailed jaeger\n",
    "        canada goose\n",
    "        northern fulmar\n",
    "  \n",
    "* The program below reads each line of the file, strips off the leading and trailing whitespace, and adds the species on that line to the set"
   ]
  },
  {
   "cell_type": "code",
   "execution_count": null,
   "id": "4a01f3ff",
   "metadata": {
    "slideshow": {
     "slide_type": "subslide"
    }
   },
   "outputs": [],
   "source": [
    "with open('observations.txt') as observations_file:\n",
    "    birds_observed = set()\n",
    "    for line in observations_file:\n",
    "        bird = line.strip()\n",
    "        birds_observed.add(bird)\n",
    "\n",
    "print(birds_observed)"
   ]
  },
  {
   "cell_type": "markdown",
   "id": "c5a89109",
   "metadata": {
    "slideshow": {
     "slide_type": "subslide"
    }
   },
   "source": [
    "* The resulting set contains four species. Since sets do not contain duplicates, calling the add method with a species already in the set had no effect\n",
    "* We can loop over the values in a set\n",
    "* Looping over a set works exactly like a loop over a list, except that the order in which items are encountered is arbitrary: There is no guarantee that they will come out in the order in which they were added, in alphabetical order,\n",
    "in order by length, or in any other order"
   ]
  },
  {
   "cell_type": "code",
   "execution_count": null,
   "id": "226ca3bd",
   "metadata": {
    "slideshow": {
     "slide_type": "fragment"
    }
   },
   "outputs": [],
   "source": [
    "for species in birds_observed:\n",
    "    print(species)"
   ]
  },
  {
   "cell_type": "markdown",
   "id": "79ad016a",
   "metadata": {
    "slideshow": {
     "slide_type": "subslide"
    }
   },
   "source": [
    "### Storing Data Using Tuples<br>\n",
    "* Lists are not the only kind of ordered sequence in Python\n",
    "* We have already learned about one of the others: Strings\n",
    "* Formally, a string is an immutable sequence of characters. The characters in a string are ordered and a string can be indexed and sliced like a list to create new strings"
   ]
  },
  {
   "cell_type": "code",
   "execution_count": null,
   "id": "623d01f2",
   "metadata": {
    "slideshow": {
     "slide_type": "fragment"
    }
   },
   "outputs": [],
   "source": [
    "rock = 'anthracite'\n",
    "print(rock[9])\n",
    "print(rock[0:3])\n",
    "print(rock[-5:])\n",
    "\n",
    "for character in rock[:5]:\n",
    "    print(character)"
   ]
  },
  {
   "cell_type": "markdown",
   "id": "c6499850",
   "metadata": {
    "slideshow": {
     "slide_type": "subslide"
    }
   },
   "source": [
    "* Python also has an immutable sequence type called a $\\rm\\color{orange}{tuple}$\n",
    "* Tuples are written using $\\rm\\color{magenta}{parentheses}$ instead of brackets; like strings and lists, they can be subscripted, sliced, and looped over"
   ]
  },
  {
   "cell_type": "code",
   "execution_count": null,
   "id": "0704ad9b",
   "metadata": {
    "slideshow": {
     "slide_type": "fragment"
    }
   },
   "outputs": [],
   "source": [
    "bases = ('A', 'C', 'G', 'T')\n",
    "for base in bases:\n",
    "    print(base)"
   ]
  },
  {
   "cell_type": "markdown",
   "id": "081d3aff",
   "metadata": {
    "slideshow": {
     "slide_type": "subslide"
    }
   },
   "source": [
    "* There is one small catch: Although $\\rm\\color{magenta}{()}$ represents the empty tuple, a tuple with one\n",
    "element is not written as $(x)$ but as $(x,)$ (with a trailing comma)\n",
    "* This is done to avoid ambiguity. If the trailing comma were not required, $(5+3)$ could mean either $8$ (under the normal rules of arithmetic) or the tuple containing only the value 8"
   ]
  },
  {
   "cell_type": "code",
   "execution_count": null,
   "id": "300a413b",
   "metadata": {
    "slideshow": {
     "slide_type": "fragment"
    }
   },
   "outputs": [],
   "source": [
    "print((8))\n",
    "print(type((8)))\n",
    "print((8,))\n",
    "print(type((8,)))\n",
    "print((5 + 3))\n",
    "print((5 + 3,))"
   ]
  },
  {
   "cell_type": "markdown",
   "id": "343ed788",
   "metadata": {
    "slideshow": {
     "slide_type": "subslide"
    }
   },
   "source": [
    "* Unlike lists, once a tuple is created, it $\\rm\\color{cyan}{cannot}$ be mutated"
   ]
  },
  {
   "cell_type": "code",
   "execution_count": null,
   "id": "ec8310d6",
   "metadata": {
    "slideshow": {
     "slide_type": "fragment"
    }
   },
   "outputs": [],
   "source": [
    "life = (['Canada', 76.5], ['United States', 75.5], ['Mexico', 72.0])\n",
    "life[0] = life[1]"
   ]
  },
  {
   "cell_type": "markdown",
   "id": "2ecb84ca",
   "metadata": {
    "slideshow": {
     "slide_type": "subslide"
    }
   },
   "source": [
    "* However, the objects inside it $\\rm\\color{cyan}{can}$ still be mutated"
   ]
  },
  {
   "cell_type": "code",
   "execution_count": null,
   "id": "946f0d48",
   "metadata": {
    "slideshow": {
     "slide_type": "fragment"
    }
   },
   "outputs": [],
   "source": [
    "life = (['Canada', 76.5], ['United States', 75.5], ['Mexico', 72.0])\n",
    "life[0][1] = 80.0\n",
    "print(life)"
   ]
  },
  {
   "cell_type": "markdown",
   "id": "12966390",
   "metadata": {
    "slideshow": {
     "slide_type": "subslide"
    }
   },
   "source": [
    "* Rather than saying that a tuple cannot change, it is more accurate to say this: The references contained in a tuple cannot be changed after the tuple has been created, though the objects referred to may themselves be mutated\n",
    "* Here is an example that explores what is mutable and what is not. We will build the same tuple as in the previous example, but we will do it in steps<br><br>\n",
    "  \n",
    "![Lists](lec10-02.jpg)"
   ]
  },
  {
   "cell_type": "code",
   "execution_count": null,
   "id": "4d39a179",
   "metadata": {
    "slideshow": {
     "slide_type": "fragment"
    }
   },
   "outputs": [],
   "source": [
    "canada = ['Canada', 76.5]\n",
    "usa = ['United States', 75.5]\n",
    "mexico = ['Mexico', 72.0]\n",
    "life = (canada, usa, mexico)"
   ]
  },
  {
   "cell_type": "markdown",
   "id": "61b734cd",
   "metadata": {
    "slideshow": {
     "slide_type": "subslide"
    }
   },
   "source": [
    "![TupleOfLists](lec10-03.jpg)"
   ]
  },
  {
   "cell_type": "markdown",
   "id": "b3c98b86",
   "metadata": {
    "slideshow": {
     "slide_type": "subslide"
    }
   },
   "source": [
    "* The most important thing to notice is that none of the four variables know about the others\n",
    "* The tuple object contains three references, one for each of the country lists\n",
    "* Now let's change what variable mexico refers to"
   ]
  },
  {
   "cell_type": "code",
   "execution_count": null,
   "id": "bbc0b9eb",
   "metadata": {
    "slideshow": {
     "slide_type": "fragment"
    }
   },
   "outputs": [],
   "source": [
    "mexico = ['Mexico', 72.5]\n",
    "print(life)"
   ]
  },
  {
   "cell_type": "markdown",
   "id": "3adf0114",
   "metadata": {
    "slideshow": {
     "slide_type": "subslide"
    }
   },
   "source": [
    "* Notice that the tuple that variable life refers to has not changed. Here is the new picture<br><br>\n",
    "  \n",
    "![Immutable](lec10-04.jpg)"
   ]
  },
  {
   "cell_type": "markdown",
   "id": "eacf5732",
   "metadata": {
    "slideshow": {
     "slide_type": "subslide"
    }
   },
   "source": [
    "* life$[0]$ will always refer to the same list object—we cannot change the memory address stored in life$[0]$—but we can mutate that list object; and because variable canada also refers to that list, it sees the mutation<br><br>\n",
    "  \n",
    "![MutatingTheListObject](lec10-05.jpg)\n",
    "\n",
    "* We hope that it is clear how essential it is to thoroughly understand variables and references and how collections contain references to objects and not to variables"
   ]
  },
  {
   "cell_type": "code",
   "execution_count": null,
   "id": "df650286",
   "metadata": {
    "slideshow": {
     "slide_type": "fragment"
    }
   },
   "outputs": [],
   "source": [
    "life[0][1] = 80.0\n",
    "print(canada)"
   ]
  },
  {
   "cell_type": "markdown",
   "id": "6fa89487",
   "metadata": {
    "slideshow": {
     "slide_type": "subslide"
    }
   },
   "source": [
    "### Assigning to Multiple Variables Using Tuples<br>\n",
    "* We can assign to multiple variables at the same time"
   ]
  },
  {
   "cell_type": "code",
   "execution_count": null,
   "id": "4764d594",
   "metadata": {
    "slideshow": {
     "slide_type": "fragment"
    }
   },
   "outputs": [],
   "source": [
    "(x, y) = (10, 20)\n",
    "print(x)\n",
    "print(y)"
   ]
  },
  {
   "cell_type": "markdown",
   "id": "4cf7e363",
   "metadata": {
    "slideshow": {
     "slide_type": "subslide"
    }
   },
   "source": [
    "* As with a normal assignment statement, Python first evaluates all expressions on the right side of the $=$ symbol, and then it assigns those values to the variables on the left side\n",
    "* Python uses the comma as a tuple constructor, so we can leave off the parentheses"
   ]
  },
  {
   "cell_type": "code",
   "execution_count": null,
   "id": "6e573541",
   "metadata": {
    "slideshow": {
     "slide_type": "fragment"
    }
   },
   "outputs": [],
   "source": [
    "x, y = 10, 20\n",
    "print(x)\n",
    "print(y)"
   ]
  },
  {
   "cell_type": "markdown",
   "id": "4727b527",
   "metadata": {
    "slideshow": {
     "slide_type": "subslide"
    }
   },
   "source": [
    "* In fact, multiple assignment will work with lists and sets as well\n",
    "* Python will happily pull apart information out of any collection"
   ]
  },
  {
   "cell_type": "code",
   "execution_count": null,
   "id": "caf0d6fb",
   "metadata": {
    "slideshow": {
     "slide_type": "fragment"
    }
   },
   "outputs": [],
   "source": [
    "[[w, x], [[y], z]] = [{10, 20}, [(30,), 40]]\n",
    "print(w)\n",
    "print(x)\n",
    "print(y)\n",
    "print(z)"
   ]
  },
  {
   "cell_type": "markdown",
   "id": "5a5f746e",
   "metadata": {
    "slideshow": {
     "slide_type": "subslide"
    }
   },
   "source": [
    "* Any depth of nesting will work as long as the structure on the right can be translated into the structure on the left\n",
    "* One of the most common uses of multiple assignment is to swap the values of two variables\n",
    "* This works because the expressions on the right side of operator $=$ are evaluated before assigning to the variables on the left side"
   ]
  },
  {
   "cell_type": "code",
   "execution_count": null,
   "id": "89338875",
   "metadata": {
    "slideshow": {
     "slide_type": "fragment"
    }
   },
   "outputs": [],
   "source": [
    "s1 = 'first'\n",
    "s2 = 'second'\n",
    "s1, s2 = s2, s1\n",
    "print(s1)\n",
    "print(s2)"
   ]
  },
  {
   "cell_type": "markdown",
   "id": "7b8666bd",
   "metadata": {
    "slideshow": {
     "slide_type": "subslide"
    }
   },
   "source": [
    "### Storing Data Using Dictionaries<br>\n",
    "* Suppose we want to know how often each species was seen\n",
    "* Our first attempt uses a list of lists, in which each inner list has two items\n",
    "* The item at index $0$ of the inner list contains the species, and the item at index $1$ contains the number of times it has been seen so far\n",
    "* To build this list, we iterate over the lines of the observations file\n",
    "* For each line, we iterate over the list, looking for the species on that line\n",
    "* If we find that the species occurs in the list, we add one to the number of times it has been observed"
   ]
  },
  {
   "cell_type": "code",
   "execution_count": null,
   "id": "8fbe6af6",
   "metadata": {
    "slideshow": {
     "slide_type": "subslide"
    }
   },
   "outputs": [],
   "source": [
    "with open('observations.txt') as observations_file:\n",
    "    bird_counts = []\n",
    "    for line in observations_file:\n",
    "        bird = line.strip()\n",
    "        found = False\n",
    "        # Find bird in the list of bird counts.\n",
    "        for entry in bird_counts:\n",
    "            if entry[0] == bird:\n",
    "                entry[1] = entry[1] + 1\n",
    "                found = True\n",
    "        if not found:\n",
    "            bird_counts.append([bird, 1])\n",
    "\n",
    "for entry in bird_counts:\n",
    "    print(entry[0], entry[1])"
   ]
  },
  {
   "cell_type": "markdown",
   "id": "2a91fe19",
   "metadata": {
    "slideshow": {
     "slide_type": "subslide"
    }
   },
   "source": [
    "* The code above uses a Boolean variable, $\\rm\\color{cyan}{found}$. Once a species is read from the file, found is assigned False\n",
    "* The program then iterates over the list, looking for that species at index $0$ of one of the inner lists. If the species occurs in an inner list, found is assigned True\n",
    "* At the end of the loop over the list, if found still refers to False it means that this species is not yet present in the list and so it is added, along with the number of observations of it, which is currently $1$"
   ]
  },
  {
   "cell_type": "markdown",
   "id": "e6fb8315",
   "metadata": {
    "slideshow": {
     "slide_type": "fragment"
    }
   },
   "source": [
    "* The code above works, but there are two things wrong with it\n",
    "* The first is that it is complex. The more nested loops our programs contain, the harder they are to understand, fix, and extend\n",
    "* The second is that it is inefficient. Suppose we were interested in beetles instead of birds and that we had millions of\n",
    "observations of tens of thousands of species\n",
    "* Scanning the list of names each time we want to add one new observation would take a long, long time, even on a fast computer"
   ]
  },
  {
   "cell_type": "markdown",
   "id": "de6e90ff",
   "metadata": {
    "slideshow": {
     "slide_type": "subslide"
    }
   },
   "source": [
    "* Can we use a set to solve both problems at once? Sets can look up values in a single step; why not combine each bird's name and the number of times it has been seen into a two-valued tuple and put those tuples in a set?\n",
    "* The problem with this idea is that we can look for values only if we know what those values are. In this case, we will not. We will know only the name of the species, not how many times it has already been seen\n",
    "* The right approach is to use another data structure called a $\\rm\\color{orange}{dictionary}$\n",
    "* Also known as a $\\rm\\color{orange}{map}$, a dictionary is an unordered mutable collection of $\\rm\\color{magenta}{key/value}$ pairs\n",
    "* In plain English, Python's dictionaries are like dictionaries that map words to definitions. They associate a key (like a word) with a value (such as a definition)\n",
    "* The keys form a set. Any particular key can appear once at most in a dictionary; and like the elements in sets, keys must be immutable (though the values associated with them do not have to be)\n",
    "* Dictionaries are created by putting key/value pairs inside $\\rm\\color{magenta}{braces}$ (each key is followed by a colon and then by its value)"
   ]
  },
  {
   "cell_type": "code",
   "execution_count": null,
   "id": "94f51f17",
   "metadata": {
    "slideshow": {
     "slide_type": "fragment"
    }
   },
   "outputs": [],
   "source": [
    "bird_to_observations = {'canada goose': 3, 'northern fulmar': 1}\n",
    "print(bird_to_observations)"
   ]
  },
  {
   "cell_type": "markdown",
   "id": "c674b986",
   "metadata": {
    "slideshow": {
     "slide_type": "subslide"
    }
   },
   "source": [
    "* We chose variable name bird_to_observations since this variable refers to a dictionary where each key is a bird and each value is the number of observations of that bird\n",
    "* In other words, the dictionary maps birds to observations<br><br>\n",
    "  \n",
    "![Dictionary](lec10-06.jpg)"
   ]
  },
  {
   "cell_type": "markdown",
   "id": "26e38670",
   "metadata": {
    "slideshow": {
     "slide_type": "subslide"
    }
   },
   "source": [
    "* To get the value associated with a key, we put the key in square brackets, much like indexing into a list"
   ]
  },
  {
   "cell_type": "code",
   "execution_count": null,
   "id": "d0047d00",
   "metadata": {
    "slideshow": {
     "slide_type": "fragment"
    }
   },
   "outputs": [],
   "source": [
    "print(bird_to_observations['northern fulmar'])"
   ]
  },
  {
   "cell_type": "markdown",
   "id": "0c789170",
   "metadata": {
    "slideshow": {
     "slide_type": "subslide"
    }
   },
   "source": [
    "* Indexing a dictionary with a key it does not contain produces an error, just like an out-of-range index for a list does\n",
    "* The empty dictionary is written $\\rm\\color{magenta}{\\{\\}}$ (this is why we cannot use this notation for the empty set)\n",
    "* It does not contain any key/value pairs, so indexing into it always results in an error"
   ]
  },
  {
   "cell_type": "code",
   "execution_count": null,
   "id": "7077b3d4",
   "metadata": {
    "slideshow": {
     "slide_type": "fragment"
    }
   },
   "outputs": [],
   "source": [
    "print(bird_to_observations['canada goose'])\n",
    "print(bird_to_observations['long-tailed jaeger'])"
   ]
  },
  {
   "cell_type": "markdown",
   "id": "26a72907",
   "metadata": {
    "slideshow": {
     "slide_type": "subslide"
    }
   },
   "source": [
    "### Updating and Checking Membership<br>\n",
    "* To update the value associated with a key, we use the same notation as for lists, except we use a key instead of an index\n",
    "* If the key is already in the dictionary, this assignment statement changes the value associated with it\n",
    "* If the key is not present, the key/value pair is added to the dictionary"
   ]
  },
  {
   "cell_type": "code",
   "execution_count": null,
   "id": "dacfe335",
   "metadata": {
    "slideshow": {
     "slide_type": "fragment"
    }
   },
   "outputs": [],
   "source": [
    "bird_to_observations = {}\n",
    "# Add a new key/value pair, 'snow goose': 33\n",
    "bird_to_observations['snow goose'] = 33\n",
    "\n",
    "# Add a new key/value pair, 'eagle': 999\n",
    "bird_to_observations['eagle'] = 999\n",
    "print(bird_to_observations)\n",
    "\n",
    "# Change the value associated with key 'eagle' to 9\n",
    "bird_to_observations['eagle'] = 9\n",
    "print(bird_to_observations)"
   ]
  },
  {
   "cell_type": "markdown",
   "id": "e2a5dff4",
   "metadata": {
    "slideshow": {
     "slide_type": "subslide"
    }
   },
   "source": [
    "* To remove an entry from a dictionary, use $\\rm\\color{cyan}{del\\space d[k]}$, where d is the dictionary and $k$ is the key being removed\n",
    "* Only entries that are present can be removed; trying to remove one that is not there results in an error"
   ]
  },
  {
   "cell_type": "code",
   "execution_count": null,
   "id": "0a897cf2",
   "metadata": {
    "slideshow": {
     "slide_type": "fragment"
    }
   },
   "outputs": [],
   "source": [
    "bird_to_observations = {'snow goose': 33, 'eagle': 9}\n",
    "del bird_to_observations['snow goose']\n",
    "print(bird_to_observations)\n",
    "\n",
    "del bird_to_observations['gannet']"
   ]
  },
  {
   "cell_type": "markdown",
   "id": "37081db6",
   "metadata": {
    "slideshow": {
     "slide_type": "subslide"
    }
   },
   "source": [
    "* To test whether a key is in a dictionary, we can use the $\\rm\\color{orange}{in}$ operator\n",
    "* The in operator only checks the keys of a dictionary"
   ]
  },
  {
   "cell_type": "code",
   "execution_count": null,
   "id": "837b9ca0",
   "metadata": {
    "slideshow": {
     "slide_type": "fragment"
    }
   },
   "outputs": [],
   "source": [
    "bird_to_observations = {'eagle': 999, 'snow goose': 33}\n",
    "if 'eagle' in bird_to_observations:\n",
    "    print('eagles have been seen')\n",
    "\n",
    "# del bird_to_observations['eagle']\n",
    "# if 'eagle' in bird_to_observations:\n",
    "#     print('eagles have been seen')\n",
    "    \n",
    "print(33 in bird_to_observations)"
   ]
  },
  {
   "cell_type": "markdown",
   "id": "88345d74",
   "metadata": {
    "slideshow": {
     "slide_type": "subslide"
    }
   },
   "source": [
    "### Looping Over Dictionaries<br>\n",
    "* Like the other collections we have seen, we can loop over dictionaries\n",
    "* The general form of a for loop over a dictionary is as follows:\n",
    "  \n",
    "        for «variable» in «dictionary»:\n",
    "            «block»\n",
    "  \n",
    "* For dictionaries, the loop variable is assigned each key from the dictionary in turn\n",
    "* When Python loops over a dictionary, it assigns the keys to the loop variable\n",
    "* It is a lot easier to go from a dictionary key to the associated value than it is to take the value and find the associated key"
   ]
  },
  {
   "cell_type": "code",
   "execution_count": null,
   "id": "421f122b",
   "metadata": {
    "slideshow": {
     "slide_type": "subslide"
    }
   },
   "outputs": [],
   "source": [
    "bird_to_observations = {'canada goose': 183, 'long-tailed jaeger': 71,\n",
    "                        'snow goose': 63, 'northern fulmar': 1}\n",
    "for bird in bird_to_observations:\n",
    "    print(bird, bird_to_observations[bird])"
   ]
  },
  {
   "cell_type": "markdown",
   "id": "d301ef04",
   "metadata": {
    "slideshow": {
     "slide_type": "subslide"
    }
   },
   "source": [
    "### Dictionary Operations<br>\n",
    "* Like lists, tuples, and sets, dictionaries are objects\n",
    "* Their methods are described in the table below\n",
    "---\n",
    "| Method | Description |\n",
    "| :--: | :--: |\n",
    "| D.clear() | Removes all key/value pairs from dictionary $D$ |\n",
    "| D.get(k) | Returns the value associated with key $k$, or None if the key is not present (Usually we will want to use $D[k]$ instead) |\n",
    "| D.get(k, v) | Returns the value associated with key $k$, or a default value $v$ if the key is not present |\n",
    "| D.keys() | Returns dictionary $D$'s keys as a set-like object—entries are guaranteed to be unique |\n",
    "| D.items() | Returns dictionary $D$'s (key, value) pairs as set-like objects |\n",
    "| D.pop(k) | Removes key $k$ from dictionary $D$ and returns the value that was associated with $k$—if $k$ is not in $D$, an error is raised |\n",
    "| D.pop(k, v) | Removes key $k$ from dictionary $D$ and returns the value that was associated with $k$; if $k$ is not in $D$, returns $v$ |\n",
    "| D.setdefault(k) | Returns the value associated with key $k$ in $D$ |\n",
    "| D.setdefault(k, v) | Returns the value associated with key $k$ in $D$; if $k$ is not a key in $D$, adds the key $k$ with the value $v$ to $D$ and returns $v$ |\n",
    "| D.values() | Returns dictionary $D$'s values as a list-like object—entries may or may not be unique |\n",
    "| D.update(other) | Updates dictionary $D$ with the contents of dictionary other; for each key in other, if it is also a key in $D$, replaces that key in $D$'s value with the value from other; for each key in other, if that key is not in $D$, adds that key/value pair to $D$ |"
   ]
  },
  {
   "cell_type": "code",
   "execution_count": null,
   "id": "cd00c23d",
   "metadata": {
    "slideshow": {
     "slide_type": "subslide"
    }
   },
   "outputs": [],
   "source": [
    "scientist_to_birthdate = {'Newton' : 1642, 'Darwin' : 1809, 'Turing' : 1912}\n",
    "print(scientist_to_birthdate.keys())\n",
    "print(scientist_to_birthdate.values())\n",
    "print(scientist_to_birthdate.items())\n",
    "print(scientist_to_birthdate.get('Newton'))\n",
    "print(scientist_to_birthdate.get('Curie', 1867))\n",
    "print(scientist_to_birthdate)\n",
    "\n",
    "researcher_to_birthdate = {'Curie' : 1867, 'Hopper' : 1906, 'Franklin' : 1920}\n",
    "scientist_to_birthdate.update(researcher_to_birthdate)\n",
    "print(scientist_to_birthdate)\n",
    "print(researcher_to_birthdate)\n",
    "researcher_to_birthdate.clear()\n",
    "print(researcher_to_birthdate)"
   ]
  },
  {
   "cell_type": "markdown",
   "id": "62b7c544",
   "metadata": {
    "slideshow": {
     "slide_type": "subslide"
    }
   },
   "source": [
    "* As we can see from this output, the keys and values methods return the dictionary's keys and values, respectively, while items returns the (key, value) pairs\n",
    "* Like the range object that we learned about previously, these are virtual sequences over which we can loop\n",
    "* Similarly, function list can be applied to them to create lists of keys/values or key/value tuples\n",
    "* Because dictionaries usually map values from one concept (scientists, in our example) to another (birthdays), it is common to use variable names linking the two—hence, scientist_to_birthdate\n",
    "* One common use of items is to loop over the keys and values in a dictionary together\n",
    "  \n",
    "        for key, value in dictionary.items():\n",
    "            # Do something with the key and value"
   ]
  },
  {
   "cell_type": "code",
   "execution_count": null,
   "id": "a27a7f76",
   "metadata": {
    "slideshow": {
     "slide_type": "subslide"
    }
   },
   "outputs": [],
   "source": [
    "scientist_to_birthdate = {'Newton' : 1642, 'Darwin' : 1809, 'Turing' : 1912}\n",
    "for scientist, birthdate in scientist_to_birthdate.items():\n",
    "    print(scientist, 'was born in', birthdate)"
   ]
  },
  {
   "cell_type": "markdown",
   "id": "7bc1a44a",
   "metadata": {
    "slideshow": {
     "slide_type": "fragment"
    }
   },
   "source": [
    "* Instead of a single loop variable, there are two\n",
    "* The two parts of each of the two-item tuples returned by the method items is associated with a variable\n",
    "* Variable scientist refers to the first item in the tuple, which is the key, and birthdate refers to the second item, which is the value"
   ]
  },
  {
   "cell_type": "markdown",
   "id": "ce43569b",
   "metadata": {
    "slideshow": {
     "slide_type": "subslide"
    }
   },
   "source": [
    "### Dictionary Example<br>\n",
    "* Back to birdwatching once again. Like before, we want to count the number of times each species has been seen\n",
    "* To do this, we create a dictionary that is initially empty\n",
    "* Each time we read an observation from a file, we check to see whether we have encountered that bird before—that is, whether the bird is already a key in our dictionary\n",
    "* If it is, we add $1$ to the value associated with it. If it is not, we add the bird as a key to the dictionary with the value $1$"
   ]
  },
  {
   "cell_type": "code",
   "execution_count": null,
   "id": "6bc51545",
   "metadata": {
    "slideshow": {
     "slide_type": "subslide"
    }
   },
   "outputs": [],
   "source": [
    "with open('observations.txt') as observations_file:\n",
    "    bird_to_observations = {}\n",
    "    for line in observations_file:\n",
    "        bird = line.strip()\n",
    "        if bird in bird_to_observations:\n",
    "            bird_to_observations[bird] += 1\n",
    "        else:\n",
    "            bird_to_observations[bird] = 1\n",
    "\n",
    "for bird, observations in bird_to_observations.items():\n",
    "    print(bird, observations)"
   ]
  },
  {
   "cell_type": "markdown",
   "id": "5bd49de9",
   "metadata": {
    "slideshow": {
     "slide_type": "subslide"
    }
   },
   "source": [
    "* This program can be shortened by using the method $\\rm\\color{orange}{dict.get}$, which saves three lines"
   ]
  },
  {
   "cell_type": "code",
   "execution_count": null,
   "id": "e37f757b",
   "metadata": {
    "slideshow": {
     "slide_type": "subslide"
    }
   },
   "outputs": [],
   "source": [
    "with open('observations.txt') as observations_file:\n",
    "    bird_to_observations = {}\n",
    "    for line in observations_file:\n",
    "        bird = line.strip()\n",
    "        bird_to_observations[bird] = bird_to_observations.get(bird, 0) + 1\n",
    "\n",
    "for bird, observations in bird_to_observations.items():\n",
    "    print(bird, observations)"
   ]
  },
  {
   "cell_type": "markdown",
   "id": "73a964f0",
   "metadata": {
    "slideshow": {
     "slide_type": "subslide"
    }
   },
   "source": [
    "* Using the $\\rm\\color{orange}{get}$ method makes the program shorter, but some programmers find it harder to understand at a glance\n",
    "* If the first argument to get is not a key in the dictionary, it returns $0$; otherwise it returns the value associated\n",
    "with that key\n",
    "* After that, $1$ is added to that value\n",
    "* The dictionary is updated to associate that sum with the key that bird refers to"
   ]
  },
  {
   "cell_type": "markdown",
   "id": "829e4c86",
   "metadata": {
    "slideshow": {
     "slide_type": "subslide"
    }
   },
   "source": [
    "* Instead of printing the birds' names in whatever arbitrary order they are accessed by the loop, we can create a list of the dictionary's keys, sort that list alphabetically, and then loop over the sorted list\n",
    "* This way, the entries appear in a sensible order\n",
    "* If order matters, then an ordered sequence like lists or tuples should be used instead of sets and dictionaries"
   ]
  },
  {
   "cell_type": "code",
   "execution_count": null,
   "id": "08316752",
   "metadata": {
    "slideshow": {
     "slide_type": "fragment"
    }
   },
   "outputs": [],
   "source": [
    "sorted_birds = sorted(bird_to_observations.keys())\n",
    "for bird in sorted_birds:\n",
    "    print(bird, bird_to_observations[bird])"
   ]
  },
  {
   "cell_type": "markdown",
   "id": "cd45aa5f",
   "metadata": {
    "slideshow": {
     "slide_type": "subslide"
    }
   },
   "source": [
    "### Inverting a Dictionary<br>\n",
    "* We might want to print the birds in another order—in order of the number of observations, for example\n",
    "* To do this, we need to invert the dictionary; that is, create a new dictionary in which you use the values as keys and the\n",
    "keys as values\n",
    "* This is a little trickier than it first appears. There's no guarantee that the values are unique, so we have to handle what are called $\\rm\\color{cyan}{collisions}$\n",
    "* For example, if we invert the dictionary $\\{$'$a$': $1$, '$b$': $1$, '$c$': $1$$\\}$, a value would be $1$, but it is not clear what the key associated with it would be\n",
    "* Since we would like to keep all of the data from the original dictionary, we may need to use a collection, such as a list, to keep track of the values associated with a key\n",
    "* If we go this route, the inverse of the dictionary shown earlier would be $\\{1$: $[$'$a$', '$b$', '$c$'$]\\}$"
   ]
  },
  {
   "cell_type": "code",
   "execution_count": null,
   "id": "53900c6c",
   "metadata": {
    "slideshow": {
     "slide_type": "subslide"
    }
   },
   "outputs": [],
   "source": [
    "print(bird_to_observations)\n",
    "\n",
    "# Invert the dictionary\n",
    "observations_to_birds_list = {}\n",
    "for bird, observations in bird_to_observations.items():\n",
    "    if observations in observations_to_birds_list:\n",
    "        observations_to_birds_list[observations].append(bird)\n",
    "    else:\n",
    "        observations_to_birds_list[observations] = [bird]\n",
    "\n",
    "print(observations_to_birds_list)"
   ]
  },
  {
   "cell_type": "markdown",
   "id": "c3de43c8",
   "metadata": {
    "slideshow": {
     "slide_type": "subslide"
    }
   },
   "source": [
    "* The program above loops over each key/value pair in the original dictionary, bird_to_observations\n",
    "* If that value is not yet a key in the inverted dictionary, observations_to_birds_list, it is added as a key and its value is a single-item list containing the key associated with it in the original dictionary\n",
    "* On the other hand, if that value is already a key, then the key associated with it in the original dictionary is appended to its list of values\n",
    "* Now that the dictionary is inverted, we can print each key and all of the items in its value list"
   ]
  },
  {
   "cell_type": "code",
   "execution_count": null,
   "id": "2a80338d",
   "metadata": {
    "slideshow": {
     "slide_type": "subslide"
    }
   },
   "outputs": [],
   "source": [
    "# Print the inverted dictionary\n",
    "observations_sorted = sorted(observations_to_birds_list.keys())\n",
    "for observations in observations_sorted:\n",
    "    print(f'{observations}: ', end=' ')\n",
    "    for bird in observations_to_birds_list[observations]:\n",
    "        print(f' {bird}', end=' ')\n",
    "    print()"
   ]
  },
  {
   "cell_type": "markdown",
   "id": "d86af217",
   "metadata": {
    "slideshow": {
     "slide_type": "subslide"
    }
   },
   "source": [
    "### Using the In Operator on Tuples, Sets, and Dictionaries<br>\n",
    "* As with lists, the $\\rm\\color{orange}{in}$ operator can be applied to tuples and sets to check whether an item is a member of the collection"
   ]
  },
  {
   "cell_type": "code",
   "execution_count": null,
   "id": "ff7726d2",
   "metadata": {
    "slideshow": {
     "slide_type": "fragment"
    }
   },
   "outputs": [],
   "source": [
    "odds = set([1, 3, 5, 7, 9])\n",
    "print(9 in odds)\n",
    "print(8 in odds)\n",
    "print('9' in odds)\n",
    "\n",
    "evens = (0, 2, 4, 6, 8)\n",
    "print(4 in evens)\n",
    "print(11 in evens)"
   ]
  },
  {
   "cell_type": "markdown",
   "id": "8484e5be",
   "metadata": {
    "slideshow": {
     "slide_type": "subslide"
    }
   },
   "source": [
    "* When used on a dictionary, $\\rm\\color{orange}{in}$ checks whether a value is a key in the dictionary\n",
    "* Notice that the values in the dictionary are ignored; the $\\rm\\color{orange}{in}$ operator only looks at the keys"
   ]
  },
  {
   "cell_type": "code",
   "execution_count": null,
   "id": "9acdf01b",
   "metadata": {
    "slideshow": {
     "slide_type": "fragment"
    }
   },
   "outputs": [],
   "source": [
    "bird_to_observations = {'canada goose': 183, 'long-tailed jaeger': 71,\n",
    "                        'snow goose': 63, 'northern fulmar': 1}\n",
    "print('snow goose' in bird_to_observations)\n",
    "print(183 in bird_to_observations)"
   ]
  },
  {
   "cell_type": "markdown",
   "id": "64659f39",
   "metadata": {
    "slideshow": {
     "slide_type": "subslide"
    }
   },
   "source": [
    "### Comparing Collections<br>\n",
    "We have now seen strings, lists, sets, tuples, and dictionaries. They all have their uses. Here is a table comparing them\n",
    "  \n",
    "---\n",
    "| Collection | Mutable? | Ordered? | Used When... |\n",
    "| :--: | :--: | :--: | :--: |\n",
    "| string | No | Yes | We want to keep track of text |\n",
    "| list | Yes | Yes | We want to keep track of an ordered sequence that you want to update |\n",
    "| tuple | No | Yes | We want to build an ordered sequence that we know will not change or that we want to use as a key in a dictionary or as a value in a set |\n",
    "| set | Yes | No | We want to keep track of values, but order does not matter, and we do not want to keep duplicates. The values must be immutable |\n",
    "| dictionary | Yes | No | We want to keep a mapping of keys to values. The keys must be immutable |"
   ]
  }
 ],
 "metadata": {
  "kernelspec": {
   "display_name": "Python 3 (ipykernel)",
   "language": "python",
   "name": "python3"
  },
  "language_info": {
   "codemirror_mode": {
    "name": "ipython",
    "version": 3
   },
   "file_extension": ".py",
   "mimetype": "text/x-python",
   "name": "python",
   "nbconvert_exporter": "python",
   "pygments_lexer": "ipython3",
   "version": "3.11.5"
  }
 },
 "nbformat": 4,
 "nbformat_minor": 5
}
