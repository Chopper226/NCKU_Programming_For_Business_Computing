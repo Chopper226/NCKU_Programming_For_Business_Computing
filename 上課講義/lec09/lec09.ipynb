{
 "cells": [
  {
   "cell_type": "markdown",
   "id": "8500cde8",
   "metadata": {
    "slideshow": {
     "slide_type": "subslide"
    }
   },
   "source": [
    "### Opening a File<br>\n",
    "* When we want to write a program that opens and reads a file, that program needs to tell Python where that file is\n",
    "* By default, Python assumes that the file we want to read is in the same directory as the program that is doing\n",
    "the reading"
   ]
  },
  {
   "cell_type": "code",
   "execution_count": null,
   "id": "441cc277",
   "metadata": {
    "slideshow": {
     "slide_type": "fragment"
    }
   },
   "outputs": [],
   "source": [
    "file = open('file_example.txt', 'r')\n",
    "contents = file.read()\n",
    "print(contents)\n",
    "file.close()"
   ]
  },
  {
   "cell_type": "markdown",
   "id": "1d884163",
   "metadata": {
    "slideshow": {
     "slide_type": "subslide"
    }
   },
   "source": [
    "* It is important that we save the two files in the same directory\n",
    "* Built-in function $\\rm\\color{orange}{open}$ opens a file (much like we open a book when we want to read it) and returns an object that knows how to get information from the file, how much we have read, and which part of the file we are about to read next\n",
    "* The marker that keeps track of the current location in the file is called a $\\rm\\color{magenta}{file\\space cursor}$ and acts much like a bookmark\n",
    "* The file cursor is initially at the beginning of the file, but as we read or write data it moves to the end of what we just read or wrote"
   ]
  },
  {
   "cell_type": "markdown",
   "id": "a4be7c64",
   "metadata": {
    "slideshow": {
     "slide_type": "subslide"
    }
   },
   "source": [
    "* The first argument in the example call on function open, 'file_example.txt', is the name of the file to open, and the second argument, '$\\rm\\color{orange}{r}$', tells Python that we want to read the file; this is called the file $\\rm\\color{magenta}{mode}$\n",
    "    * Other options for the mode include '$\\rm\\color{orange}{w}$' for writing and '$\\rm\\color{orange}{a}$' for appending, which we will see later in this lecture\n",
    "* If we call open with only the name of the file (omitting the mode), then the default is 'r'\n",
    "* The second statement, $contents=file.read()$, tells Python that we want to read the contents of the entire file into a string, which we assign to a variable called $\\rm\\color{magenta}{contents}$\n",
    "* The third statement prints that string\n",
    "* When we run the program, we will see that newline characters are treated just like every other character; a newline character is just another character in the file\n",
    "* The last statement, $file.close()$, releases all resources associated with the open file object"
   ]
  },
  {
   "cell_type": "markdown",
   "id": "b9a384fd",
   "metadata": {
    "slideshow": {
     "slide_type": "subslide"
    }
   },
   "source": [
    "### The with Statement<br>\n",
    "* Because every call on function open should have a corresponding call on method close, Python provides a $\\rm\\color{orange}{with}$ statement that automatically closes a file when the end of the block is reached\n",
    "* Here is the same example using a with statement:\n",
    "  \n",
    "        with open('file_example.txt', 'r') as file:\n",
    "            contents = file.read()\n",
    "        \n",
    "        print(contents)\n",
    "  \n",
    "* The general form of a with statement is as follows:\n",
    "  \n",
    "        with open(«filename», «mode») as «variable»:\n",
    "            «block»"
   ]
  },
  {
   "cell_type": "markdown",
   "id": "18ac49ab",
   "metadata": {
    "slideshow": {
     "slide_type": "subslide"
    }
   },
   "source": [
    "### Techniques for Reading Files<br>\n",
    "* Python provides several techniques for reading files\n",
    "* All of these techniques work starting at the current file cursor. That allows us to combine the techniques as we need to"
   ]
  },
  {
   "cell_type": "markdown",
   "id": "03c06f75",
   "metadata": {
    "slideshow": {
     "slide_type": "subslide"
    }
   },
   "source": [
    "### The Read Technique<br>\n",
    "* Use this technique when we want to read the contents of a file into a single string, or when we want to specify exactly how many characters to read"
   ]
  },
  {
   "cell_type": "code",
   "execution_count": null,
   "id": "fea1c282",
   "metadata": {
    "slideshow": {
     "slide_type": "fragment"
    }
   },
   "outputs": [],
   "source": [
    "with open('file_example.txt', 'r') as file:\n",
    "    contents = file.read()\n",
    "\n",
    "print(contents)"
   ]
  },
  {
   "cell_type": "markdown",
   "id": "90740873",
   "metadata": {
    "slideshow": {
     "slide_type": "subslide"
    }
   },
   "source": [
    "* When called with no arguments, it reads everything from the current file cursor all the way to the end of the file and moves the file cursor to the end of the file\n",
    "* When called with one integer argument, it reads that many characters and moves the file cursor after the characters that were just read\n",
    "* Here is a version of the same program that reads ten characters and then the rest of the file\n",
    "    * Method call example_file.read(10) moves the file cursor\n",
    "    * The next call, example_file.read(), reads everything from character 11 to the end of the file"
   ]
  },
  {
   "cell_type": "code",
   "execution_count": null,
   "id": "d207b909",
   "metadata": {
    "slideshow": {
     "slide_type": "fragment"
    }
   },
   "outputs": [],
   "source": [
    "with open('file_example.txt', 'r') as example_file:\n",
    "    first_ten_chars = example_file.read(10)\n",
    "    the_rest = example_file.read()\n",
    "    \n",
    "print(f'The first 10 characters: {first_ten_chars}')\n",
    "print(f'The rest of the file: {the_rest}')"
   ]
  },
  {
   "cell_type": "markdown",
   "id": "32072e13",
   "metadata": {
    "slideshow": {
     "slide_type": "subslide"
    }
   },
   "source": [
    "### Reading at the End of a File<br>\n",
    "* When the file cursor is at the end of the file, functions read, readlines, and readline all return an empty string\n",
    "* In order to read the contents of a file a second time, we will need to close and reopen the file"
   ]
  },
  {
   "cell_type": "markdown",
   "id": "239d631d",
   "metadata": {
    "slideshow": {
     "slide_type": "subslide"
    }
   },
   "source": [
    "### The Readlines Technique<br>\n",
    "* Use this technique when we want to get a Python list of strings containing the individual lines from a file\n",
    "* Function $\\rm\\color{orange}{readlines}$ works much like function $\\rm\\color{orange}{read}$, except that it splits up the lines into a list of strings\n",
    "* As with $\\rm\\color{orange}{read}$, the file cursor is moved to the end of the file"
   ]
  },
  {
   "cell_type": "code",
   "execution_count": null,
   "id": "ab7a062d",
   "metadata": {
    "slideshow": {
     "slide_type": "fragment"
    }
   },
   "outputs": [],
   "source": [
    "with open('file_example.txt', 'r') as example_file:\n",
    "    lines = example_file.readlines()\n",
    "\n",
    "print(lines)"
   ]
  },
  {
   "cell_type": "markdown",
   "id": "a3d1d0aa",
   "metadata": {
    "slideshow": {
     "slide_type": "subslide"
    }
   },
   "source": [
    "* Take a close look at that list; we will see that each line ends in $\\rm{\\backslash n}$ characters\n",
    "* Python does not remove any characters from what is read; it only splits them into separate strings\n",
    "* The last line of a file may or may not end with a newline character"
   ]
  },
  {
   "cell_type": "markdown",
   "id": "c0453c10",
   "metadata": {
    "slideshow": {
     "slide_type": "subslide"
    }
   },
   "source": [
    "* The file planets.txt contains the following text\n",
    "  \n",
    "        Mercury\n",
    "        Venus\n",
    "        Earth\n",
    "        Mars\n",
    "  \n",
    "* The following example prints the lines in planets.txt backward, from the last line to the first\n",
    "* Here, we use built-in function $\\rm\\color{orange}{reversed}$, which returns the items in the list in reverse order"
   ]
  },
  {
   "cell_type": "code",
   "execution_count": null,
   "id": "3410a02e",
   "metadata": {
    "slideshow": {
     "slide_type": "fragment"
    }
   },
   "outputs": [],
   "source": [
    "with open('planets.txt', 'r') as planets_file:\n",
    "    planets = planets_file.readlines()\n",
    "\n",
    "print(planets)\n",
    "\n",
    "for planet in reversed(planets):\n",
    "    print(planet.strip())"
   ]
  },
  {
   "cell_type": "markdown",
   "id": "e13610ea",
   "metadata": {
    "slideshow": {
     "slide_type": "subslide"
    }
   },
   "source": [
    "* We can use the $\\rm\\color{orange}{readlines}$ technique to read the file, sort the lines, and print the planets alphabetically\n",
    "* Here, we use built-in function $\\rm\\color{orange}{sorted}$, which returns the items in the list in order from smallest to largest"
   ]
  },
  {
   "cell_type": "code",
   "execution_count": null,
   "id": "845a717d",
   "metadata": {
    "slideshow": {
     "slide_type": "fragment"
    }
   },
   "outputs": [],
   "source": [
    "with open('planets.txt', 'r') as planets_file:\n",
    "    planets = planets_file.readlines()\n",
    "    \n",
    "print(planets)\n",
    "\n",
    "for planet in sorted(planets):\n",
    "    print(planet.strip())"
   ]
  },
  {
   "cell_type": "markdown",
   "id": "e0287048",
   "metadata": {
    "slideshow": {
     "slide_type": "subslide"
    }
   },
   "source": [
    "### The \"For Line in File\" Technique<br>\n",
    "* Use this technique when we want to do the same thing to every line from the file cursor to the end of a file\n",
    "* On each iteration, the file cursor is moved to the beginning of the next line\n",
    "* The following code opens file planets.txt and prints the length of each line in that file"
   ]
  },
  {
   "cell_type": "code",
   "execution_count": null,
   "id": "c40e0e26",
   "metadata": {
    "slideshow": {
     "slide_type": "fragment"
    }
   },
   "outputs": [],
   "source": [
    "with open('planets.txt', 'r') as data_file:\n",
    "    for line in data_file:\n",
    "        print(len(line))"
   ]
  },
  {
   "cell_type": "markdown",
   "id": "76b225b0",
   "metadata": {
    "slideshow": {
     "slide_type": "subslide"
    }
   },
   "source": [
    "* Take a close look at the last line of output. There are only four characters in the word Mars, but our program is reporting that the line is five characters long\n",
    "* The reason for this is the same as for function readlines: Each of the lines we read from the file has a $\\rm\\color{magenta}{newline}$ character at the end\n",
    "* We can get rid of it using string method $\\rm\\color{orange}{strip}$, which returns a copy of a string that has leading\n",
    "and trailing whitespace characters (spaces, tabs, and newlines) stripped away"
   ]
  },
  {
   "cell_type": "code",
   "execution_count": null,
   "id": "b3d4d19c",
   "metadata": {
    "slideshow": {
     "slide_type": "fragment"
    }
   },
   "outputs": [],
   "source": [
    "with open('planets.txt', 'r') as data_file:\n",
    "    for line in data_file:\n",
    "        print(len(line.strip()))"
   ]
  },
  {
   "cell_type": "markdown",
   "id": "83e27c7e",
   "metadata": {
    "slideshow": {
     "slide_type": "subslide"
    }
   },
   "source": [
    "### The Readline Technique<br>\n",
    "* This technique reads one line at a time, unlike the Readlines technique\n",
    "* Use this technique when we want to read only part of a file\n",
    "* For example, we might want to treat lines differently depending on context; perhaps we want to process a file that has a header section followed by a series of records, either one record per line or with multiline records\n",
    "* The following data, taken from the $\\rm\\color{cyan}{Time\\space Series\\space Data\\space Library}$, describes the number of colored fox fur pelts produced in Hopedale, Labrador, in the years 1834–1842 (The full data set has values for the years 1834–1925.)"
   ]
  },
  {
   "cell_type": "code",
   "execution_count": null,
   "id": "85ddfb3b",
   "metadata": {
    "slideshow": {
     "slide_type": "subslide"
    }
   },
   "outputs": [],
   "source": [
    "with open('hopedale.txt', 'r') as hopedale_file:\n",
    "    # Read the description line\n",
    "    hopedale_file.readline()\n",
    "\n",
    "    # Keep reading comment lines until we read the first piece of data\n",
    "    data = hopedale_file.readline().strip()\n",
    "    while data.startswith('#'):\n",
    "        data = hopedale_file.readline().strip()\n",
    "\n",
    "    # Now we have the first piece of data. Accumulate the total number of pelts\n",
    "    total_pelts = int(data)\n",
    "\n",
    "    # Read the rest of the data\n",
    "    for data in hopedale_file:\n",
    "        total_pelts = total_pelts + int(data.strip())\n",
    "    \n",
    "print(f'Total number of pelts: {total_pelts}')"
   ]
  },
  {
   "cell_type": "markdown",
   "id": "8c0587db",
   "metadata": {
    "slideshow": {
     "slide_type": "subslide"
    }
   },
   "source": [
    "* Sometimes leading whitespace is important and we will want to preserve it\n",
    "* In the Hopedale data, for example, the integers are right-justified to make them line up nicely\n",
    "* In order to preserve this, you can use $\\rm\\color{orange}{rstrip}$ instead of strip to remove the trailing newline"
   ]
  },
  {
   "cell_type": "code",
   "execution_count": null,
   "id": "31a32d9c",
   "metadata": {
    "slideshow": {
     "slide_type": "subslide"
    }
   },
   "outputs": [],
   "source": [
    "with open('hopedale.txt', 'r') as hopedale_file:\n",
    "    # Read the description line\n",
    "    hopedale_file.readline()\n",
    "\n",
    "    # Keep reading comment lines until we read the first piece of data\n",
    "    data = hopedale_file.readline().rstrip()\n",
    "    while data.startswith('#'):\n",
    "        data = hopedale_file.readline().rstrip()\n",
    "\n",
    "    # Now we have the first piece of data\n",
    "    print(data)\n",
    "    \n",
    "    # Read the rest of the data\n",
    "    for data in hopedale_file:\n",
    "        print(data.rstrip())"
   ]
  },
  {
   "cell_type": "markdown",
   "id": "f3a56deb",
   "metadata": {
    "slideshow": {
     "slide_type": "subslide"
    }
   },
   "source": [
    "### Files over the Internet<br>\n",
    "* These days, of course, the file containing the data we want could be on a machine half a world away\n",
    "* Provided the file is accessible over the Internet, though, we can read it just as we do a local file\n",
    "* For example, the Hopedale data not only exists on our computers, but it is also on a web page\n",
    "* The URL for the file is [here](http://robjhyndman.com/tsdldata/ecology1/hopedale.dat)"
   ]
  },
  {
   "cell_type": "markdown",
   "id": "194f91b3",
   "metadata": {
    "slideshow": {
     "slide_type": "subslide"
    }
   },
   "source": [
    "* Module $\\rm\\color{orange}{urllib.urlrequest}$ contains a function called $\\rm\\color{orange}{urlopen}$ that opens a web page for reading\n",
    "* $\\rm\\color{orange}{urlopen}$ returns a file-like object that we can use much as if we were reading a local file\n",
    "* There is a hitch: Because there are many kinds of files (images, music, videos, text, and more), the file-like object’s read and readline methods both return a type we have not yet encountered: bytes"
   ]
  },
  {
   "cell_type": "markdown",
   "id": "882303b8",
   "metadata": {
    "slideshow": {
     "slide_type": "subslide"
    }
   },
   "source": [
    "### What Is a Byte?<br>\n",
    "* To a computer, information is nothing but bits, which we think of as ones and zeros\n",
    "* All data—for example, characters, sounds, and pixels—are represented as sequences of bits\n",
    "* Computers organize these bits into groups of $\\rm\\color{magenta}{eight}$. Each group of eight bits is called a $\\rm\\color{magenta}{byte}$\n",
    "* Programming languages interpret these bytes for us and let us think of them as integers, strings, functions, and documents"
   ]
  },
  {
   "cell_type": "markdown",
   "id": "eba9a715",
   "metadata": {
    "slideshow": {
     "slide_type": "subslide"
    }
   },
   "source": [
    "* When dealing with type bytes, such as a piece of information returned by a call on function urllib.urlrequest.read, we need to $\\rm\\color{magenta}{decode}$ it\n",
    "* In order to decode it, we need to know how it was $\\rm\\color{magenta}{encoded}$\n",
    "* Common encoding schemes are described in the online Python documentation [here](http://docs.python.org/3/library/codecs.html#standard-encodings)\n",
    "* The Hopedale data on the Web is encoded using $\\rm\\color{magenta}{UTF-8}$\n",
    "* This program reads that web page and uses string method decode in order to decode the bytes object"
   ]
  },
  {
   "cell_type": "code",
   "execution_count": null,
   "id": "12f7e44f",
   "metadata": {
    "slideshow": {
     "slide_type": "subslide"
    }
   },
   "outputs": [],
   "source": [
    "import urllib.request\n",
    "url = 'http://robjhyndman.com/tsdldata/ecology1/hopedale.dat'\n",
    "with urllib.request.urlopen(url) as webpage:\n",
    "    for line in webpage:\n",
    "        line = line.strip()\n",
    "        line = line.decode('utf-8')\n",
    "        print(line)"
   ]
  },
  {
   "cell_type": "markdown",
   "id": "ed702bf5",
   "metadata": {
    "slideshow": {
     "slide_type": "subslide"
    }
   },
   "source": [
    "### Writing Files<br>\n",
    "* This program opens a file called topics.txt, writes the words $\\rm\\color{cyan}{Computer\\space Science}$ to the file, and then closes the file"
   ]
  },
  {
   "cell_type": "code",
   "execution_count": null,
   "id": "a28f5ece",
   "metadata": {
    "slideshow": {
     "slide_type": "fragment"
    }
   },
   "outputs": [],
   "source": [
    "with open('topics.txt', 'w') as output_file:\n",
    "    output_file.write('Computer Science')"
   ]
  },
  {
   "cell_type": "markdown",
   "id": "58949f2d",
   "metadata": {
    "slideshow": {
     "slide_type": "subslide"
    }
   },
   "source": [
    "* In addition to writing characters to a file, method write $\\rm\\color{cyan}{returns}$ the number of characters written. For example, output_file.write('Computer Science') returns $16$\n",
    "* To create a new file or to replace the contents of an existing file, we use write mode ('$\\rm\\color{orange}{w}$'). If the filename does not exist already, then a new file is created; otherwise the file contents are $\\rm\\color{magenta}{erased\\space and\\space replaced}$\n",
    "* Once opened for writing, we can use method write to write a string to the file\n",
    "* Rather than replacing the file contents, we can also add to a file using the append mode ('$\\rm\\color{orange}{a}$')\n",
    "* When we write to a file that is opened in append mode, the data we write is added to the end of the file and the current file contents are not overwritten"
   ]
  },
  {
   "cell_type": "code",
   "execution_count": null,
   "id": "45baac0c",
   "metadata": {
    "slideshow": {
     "slide_type": "fragment"
    }
   },
   "outputs": [],
   "source": [
    "with open('topics.txt', 'a') as output_file:\n",
    "    output_file.write('Software Engineering')"
   ]
  },
  {
   "cell_type": "markdown",
   "id": "db4608ee",
   "metadata": {
    "slideshow": {
     "slide_type": "subslide"
    }
   },
   "source": [
    "* At this point, if we print the contents of topics.txt, we would see the following\n",
    "  \n",
    "        Computer ScienceSoftware Engineering\n",
    "  \n",
    "* Unlike function print, method write does not automatically start a new line; if we want a string to end in a newline, we have to include it manually using '$\\rm{\\backslash n}$'\n",
    "* In each of the previous examples, we called write only once, but we will typically call it multiple times"
   ]
  },
  {
   "cell_type": "markdown",
   "id": "9d10ffdb",
   "metadata": {
    "slideshow": {
     "slide_type": "subslide"
    }
   },
   "source": [
    "* The next example is more complex, and it involves both reading from and writing to a file\n",
    "* Our input file contains two numbers per line separated by a space\n",
    "* The output file will contain three numbers: The two from the input file and their sum (all separated by spaces)"
   ]
  },
  {
   "cell_type": "code",
   "execution_count": null,
   "id": "4c87cf99",
   "metadata": {
    "slideshow": {
     "slide_type": "subslide"
    }
   },
   "outputs": [],
   "source": [
    "def sum_number_pairs(input_file, output_filename):\n",
    "    \"\"\" (file open for reading, str) -> NoneType\n",
    "    Read the data from input_file, which contains two floats per line\n",
    "    separated by a space. Open file named output_file and, for each line in\n",
    "    input_file, write a line to the output file that contains the two floats\n",
    "    from the corresponding line of input_file plus a space and the sum of the\n",
    "    two floats.\n",
    "    \"\"\"\n",
    "\n",
    "    with open(output_filename, 'w') as output_file:\n",
    "        for number_pair in input_file:\n",
    "            number_pair = number_pair.strip()\n",
    "            operands = number_pair.split()\n",
    "            total = float(operands[0]) + float(operands[1])\n",
    "            new_line = f'{number_pair} {total}\\n'\n",
    "            output_file.write(new_line)\n",
    "            \n",
    "sum_number_pairs(open('number_pairs.txt', 'r'), 'out.txt')"
   ]
  },
  {
   "cell_type": "markdown",
   "id": "e28c77a9",
   "metadata": {
    "slideshow": {
     "slide_type": "subslide"
    }
   },
   "source": [
    "### Writing Algorithms That Use the File-Reading Techniques<br>\n",
    "* There are several common ways to organize information in files\n",
    "* The rest of this lecture will show how to apply the various file-reading techniques to these situations and how to develop some algorithms to help with this"
   ]
  },
  {
   "cell_type": "markdown",
   "id": "cc7714ae",
   "metadata": {
    "slideshow": {
     "slide_type": "fragment"
    }
   },
   "source": [
    "### Skipping the Header<br>\n",
    "* Many data files begin with a $\\rm\\color{magenta}{header}$\n",
    "* As described earlier, TSDL files begin with a one-line description followed by comments in lines beginning with a $\\rm\\color{orange}{\\#}$, and the Readline technique can be used to skip that header\n",
    "* The technique ends when we read the first real piece of data, which will be the first line after the description that does not start with a $\\rm\\color{orange}{\\#}$"
   ]
  },
  {
   "cell_type": "markdown",
   "id": "ea6f2fb2",
   "metadata": {
    "slideshow": {
     "slide_type": "subslide"
    }
   },
   "source": [
    "* In English, we might try this $\\rm\\color{cyan}{algorithm}$ to process this kind of a file\n",
    "  \n",
    "        Skip the first line in the file\n",
    "        Skip over the comment lines in the file\n",
    "        For each of the remaining lines in the file:\n",
    "            Process the data on that line\n",
    "  \n",
    "* The problem with this approach is that we cannot tell whether a line is a comment line until we have read it, but we can read a line from a file only once—there is no simple way to \"back up\" in the file\n",
    "* An alternative approach is to read the line, skip it if it is a comment, and process it if it is not\n",
    "* Once we have processed the first line of data, we process the remaining lines\n",
    "  \n",
    "        Skip the first line in the file\n",
    "        Find and process the first line of data in the file\n",
    "        For each of the remaining lines:\n",
    "            Process the data on that line\n",
    "  \n",
    "* The thing to notice about this algorithm is that it processes lines in two places\n",
    "    * Once when it finds the first \"interesting\" line in the file and\n",
    "    * Once when it handles all of the following lines"
   ]
  },
  {
   "cell_type": "code",
   "execution_count": null,
   "id": "604ec680",
   "metadata": {
    "slideshow": {
     "slide_type": "subslide"
    }
   },
   "outputs": [],
   "source": [
    "def skip_header(reader):\n",
    "    \"\"\" (file open for reading) -> str\n",
    "    Skip the header in reader and return the first real piece of data.\n",
    "    \"\"\"\n",
    "\n",
    "    # Read the description line\n",
    "    line = reader.readline()\n",
    "    # Find the first non-comment line\n",
    "    line = reader.readline()\n",
    "    while line.startswith('#'):\n",
    "        line = reader.readline()\n",
    "    # Now line contains the first real piece of data\n",
    "    \n",
    "    return line\n",
    "\n",
    "def process_file(reader):\n",
    "    \"\"\" (file open for reading) -> NoneType\n",
    "    Read and print the data from reader, which must start with a single\n",
    "    description line, then a sequence of lines beginning with '#', then a\n",
    "    sequence of data.\n",
    "    \"\"\"\n",
    "    \n",
    "    # Find and print the first piece of data\n",
    "    line = skip_header(reader).strip()\n",
    "    print(line)\n",
    "    # Read the rest of the data\n",
    "    for line in reader:\n",
    "        line = line.strip()\n",
    "        print(line)\n",
    "\n",
    "with open('hopedale.txt', 'r') as input_file:\n",
    "    process_file(input_file)"
   ]
  },
  {
   "cell_type": "markdown",
   "id": "f0ef66e7",
   "metadata": {
    "slideshow": {
     "slide_type": "subslide"
    }
   },
   "source": [
    "* In $\\rm\\color{cyan}{skip\\_header}$, we return the first line of read data, because once we have found it, we cannot read it again (we can go forward but not backward)\n",
    "* We will want to use $\\rm\\color{cyan}{skip\\_header}$ in all of the file-processing functions in this section"
   ]
  },
  {
   "cell_type": "markdown",
   "id": "6a353635",
   "metadata": {
    "slideshow": {
     "slide_type": "fragment"
    }
   },
   "source": [
    "* This program processes the Hopedale data set to find the smallest number of fox pelts produced in any year\n",
    "* As we progress through the file, we keep the smallest value seen so far in a variable called smallest\n",
    "* That variable is initially set to the value on the first line, since it is the smallest (and only) value seen so far"
   ]
  },
  {
   "cell_type": "code",
   "execution_count": null,
   "id": "36492f66",
   "metadata": {
    "slideshow": {
     "slide_type": "subslide"
    }
   },
   "outputs": [],
   "source": [
    "def smallest_value(reader):\n",
    "    \"\"\" (file open for reading) -> NoneType\n",
    "    Read and process reader and return the smallest value after the\n",
    "    time_series header.\n",
    "    \"\"\"\n",
    "    \n",
    "    line = skip_header(reader).strip()\n",
    "    # Now line contains the first data value; this is also the smallest value\n",
    "    # found so far, because it is the only one we have seen\n",
    "    smallest = int(line)\n",
    "    for line in reader:\n",
    "        value = int(line.strip())\n",
    "    # If we find a smaller value, remember it\n",
    "    if value < smallest:\n",
    "        smallest = value\n",
    "        \n",
    "    # We can replace the if statement with this single line\n",
    "#     smallest = min(smallest, value)\n",
    "\n",
    "    return smallest\n",
    "\n",
    "with open('hopedale.txt', 'r') as input_file:\n",
    "    print(smallest_value(input_file))"
   ]
  },
  {
   "cell_type": "markdown",
   "id": "b6e95499",
   "metadata": {
    "slideshow": {
     "slide_type": "subslide"
    }
   },
   "source": [
    "### Dealing with Missing Values in Data<br>\n",
    "* We also have data for colored fox production in Hebron, Labrador\n",
    "  \n",
    "        Coloured fox fur production, Hebron, Labrador, 1834-1839\n",
    "        #Source: C. Elton (1942) \"Voles, Mice and Lemmings\", Oxford Univ. Press\n",
    "        #Table 17, p.265--266\n",
    "        #remark: missing value for 1836\n",
    "            55\n",
    "           262\n",
    "           -\n",
    "           102\n",
    "           178\n",
    "           227\n",
    "  \n",
    "* The hyphen indicates that data for the year 1836 is missing\n",
    "* Unfortunately, calling read_smallest on the Hebron data produces this error"
   ]
  },
  {
   "cell_type": "code",
   "execution_count": null,
   "id": "77ee9d1a",
   "metadata": {
    "slideshow": {
     "slide_type": "subslide"
    }
   },
   "outputs": [],
   "source": [
    "smallest_value(open('hebron.txt', 'r'))"
   ]
  },
  {
   "cell_type": "markdown",
   "id": "9fd84455",
   "metadata": {
    "slideshow": {
     "slide_type": "subslide"
    }
   },
   "source": [
    "* The problem is that '-' is not an integer, so calling int('-') fails\n",
    "* This is not an isolated problem. In general, we will often need to skip blank lines, comments, or lines containing other \"nonvalues\" in our data\n",
    "* Real data sets often contain omissions or contradictions; dealing with them is just a fact of scientific life\n",
    "* To fix our code, we must add a check inside the loop that processes a line only if it contains a real value\n",
    "* In the TSDL data sets, missing entries are always marked with hyphens, so we just need to check for that before trying\n",
    "to convert the string we have read to an integer\n",
    "* Notice that the update to smallest is nested inside the check for hyphens"
   ]
  },
  {
   "cell_type": "code",
   "execution_count": null,
   "id": "317c273c",
   "metadata": {
    "slideshow": {
     "slide_type": "subslide"
    }
   },
   "outputs": [],
   "source": [
    "def smallest_value_skip(reader):\n",
    "    \"\"\" (file open for reading) -> NoneType\n",
    "    Read and process reader, which must start with a time_series header.\n",
    "    Return the smallest value after the header. Skip missing values, which\n",
    "    are indicated with a hyphen.\n",
    "    \"\"\"\n",
    "\n",
    "    line = time_series.skip_header(reader).strip()\n",
    "    # Now line contains the first data value; this is also the smallest value\n",
    "    # found so far, because it is the only one we have seen\n",
    "    smallest = int(line)\n",
    "    for line in reader:\n",
    "        line = line.strip()\n",
    "        if line != '-':\n",
    "            value = int(line)\n",
    "            smallest = min(smallest, value)\n",
    "\n",
    "    return smallest\n",
    "\n",
    "with open('hebron.txt', 'r') as input_file:\n",
    "    print(smallest_value_skip(input_file))"
   ]
  },
  {
   "cell_type": "markdown",
   "id": "6187070d",
   "metadata": {
    "slideshow": {
     "slide_type": "subslide"
    }
   },
   "source": [
    "### Processing Whitespace-Delimited Data<br>\n",
    "* The file at [here](http://robjhyndman.com/tsdldata/ecology1/lynx.dat) (Time Series Data Library [Hyn06]) contains information about lynx pelts in the years 1821–1934\n",
    "* All data values are integers, each line contains many values, the values are separated by whitespace, and for reasons best known to the file’s author, each value ends with a period"
   ]
  },
  {
   "cell_type": "markdown",
   "id": "bb8e0852",
   "metadata": {
    "slideshow": {
     "slide_type": "subslide"
    }
   },
   "source": [
    "* To process this, we will break each line into pieces and strip off the periods\n",
    "* Our algorithm is the same as it was for the fox pelt data: Find and process the first line of data in the file, and then process each of the subsequent lines\n",
    "* However, the notion of \"processing a line\" needs to be examined further because there are many values per line\n",
    "* Our refined algorithm, shown next, uses nested loops to handle the notion of \"for each line and for each value on that line\"\n",
    "  \n",
    "        Find the first line containing real data after the header\n",
    "        For each piece of data in the current line:\n",
    "            Process that piece\n",
    "        For each of the remaining lines of data:\n",
    "            For each piece of data in the current line:\n",
    "                Process that piece\n",
    "  \n",
    "* Once again we are processing lines in two different places\n",
    "* That is a strong hint that we should write a helper function to avoid duplicate code\n",
    "* Rewriting our algorithm and making it specific to the problem of finding the largest value, makes this clearer\n",
    "  \n",
    "        Find the first line of real data after the header\n",
    "        Find the largest value in that line\n",
    "        \n",
    "        For each of the remaining lines of data:\n",
    "            Find the largest value in that line\n",
    "                If that value is larger than the previous largest, remember it"
   ]
  },
  {
   "cell_type": "markdown",
   "id": "f9776d47",
   "metadata": {
    "slideshow": {
     "slide_type": "subslide"
    }
   },
   "source": [
    "* The helper function required is one that finds the largest value in a line, and it must split up the line\n",
    "* String method $\\rm\\color{orange}{split}$ will split around the whitespace, but we still have to remove the periods at the ends of the values\n",
    "* We can also simplify our code by initializing largest to $-1$, because that value is guaranteed to be smaller than any of the (positive) values in the file\n",
    "* That way, no matter what the first real value is, it will be larger than the \"previous\" value (our $-1$) and replace it"
   ]
  },
  {
   "cell_type": "code",
   "execution_count": null,
   "id": "e6b9c74c",
   "metadata": {
    "slideshow": {
     "slide_type": "subslide"
    }
   },
   "outputs": [],
   "source": [
    "def find_largest(line):\n",
    "    \"\"\" (str) -> int\n",
    "    Return the largest value in line, which is a whitespace-delimited string\n",
    "    of integers that each end with a '.'.\n",
    "    >>> find_largest('1. 3. 2. 5. 2.')\n",
    "    5\n",
    "    \"\"\"\n",
    "\n",
    "    # The largest value seen so far\n",
    "    largest = -1\n",
    "    for value in line.split():\n",
    "        # Remove the trailing period\n",
    "        v = int(value[:-1])\n",
    "        # If we find a larger value, remember it\n",
    "        if v > largest:\n",
    "            largest = v\n",
    "\n",
    "    return largest\n",
    "\n",
    "def process_file(reader):\n",
    "    \"\"\" (file open for reading) -> int\n",
    "    Read and process reader, which must start with a time_series header.\n",
    "    Return the largest value after the header. There may be multiple pieces\n",
    "    of data on each line.\n",
    "    \"\"\"\n",
    "\n",
    "    line = skip_header(reader).strip()\n",
    "    # The largest value so far is the largest on this first line of data.\n",
    "    largest = find_largest(line)\n",
    "    # Check the rest of the lines for larger values.\n",
    "    for line in reader:\n",
    "        large = find_largest(line)\n",
    "        if large > largest:\n",
    "            largest = large\n",
    "            \n",
    "    return largest\n",
    "\n",
    "with open('lynx.txt', 'r') as input_file:\n",
    "    print(process_file(input_file))"
   ]
  },
  {
   "cell_type": "markdown",
   "id": "c01dbd5d",
   "metadata": {
    "slideshow": {
     "slide_type": "subslide"
    }
   },
   "source": [
    "### Multiline Records<br>\n",
    "* Not every data record will fit onto a single line\n",
    "* $\\rm\\color{cyan}{multimol\\_simple.pdb}$ is a file in simplified Protein Data Bank (PDB) format that describes the arrangements of atoms in ammonia\n",
    "* The first line is the name of the molecule. All subsequent lines down to the one containing END specify the ID, type, and XYZ coordinates of one of the atoms in the molecule\n",
    "* Reading this file is straightforward using the techniques we have built up in this lecture\n",
    "* But what if the file contained two or more molecules, like $\\rm\\color{cyan}{multimol.pdb}$?"
   ]
  },
  {
   "cell_type": "markdown",
   "id": "d6f622f8",
   "metadata": {
    "slideshow": {
     "slide_type": "subslide"
    }
   },
   "source": [
    "* As always, we tackle this problem by dividing into smaller ones and solving each of those in turn\n",
    "* Our first algorithm is as follows\n",
    "  \n",
    "        While there are more molecules in the file:\n",
    "            Read a molecule from the file\n",
    "            Append it to the list of molecules read so far\n",
    "  \n",
    "* Simple, except the only way to tell whether there is another molecule left in the file is to try to read it\n",
    "* Our modified algorithm is as follows\n",
    "  \n",
    "        reading = True\n",
    "        while reading:\n",
    "            Try to read a molecule from the file\n",
    "            If there is one:\n",
    "                Append it to the list of molecules read so far\n",
    "            else: # nothing left\n",
    "                reading = False"
   ]
  },
  {
   "cell_type": "code",
   "execution_count": null,
   "id": "1913982c",
   "metadata": {
    "slideshow": {
     "slide_type": "subslide"
    }
   },
   "outputs": [],
   "source": [
    "def read_molecule(reader):\n",
    "    \"\"\" (file open for reading) -> list or NoneType\n",
    "    Read a single molecule from reader and return it, or return None to signal\n",
    "    end of file. The first item in the result is the name of the compound;\n",
    "    each list contains an atom type and the X, Y, and Z coordinates of that\n",
    "    atom.\n",
    "    \"\"\"\n",
    "\n",
    "    # If there isn't another line, we're at the end of the file\n",
    "    line = reader.readline()\n",
    "    if not line:\n",
    "        return None\n",
    "    # Name of the molecule: \"COMPND name\"\n",
    "    key, name = line.split()\n",
    "    # Other lines are either \"END\" or \"ATOM num atom_type x y z\"\n",
    "    molecule = [name]\n",
    "    line = reader.readline()\n",
    "    # Parse all the atoms in the molecule.\n",
    "    while not line.startswith('END'):\n",
    "        key, num, atom_type, x, y, z = line.split()\n",
    "        molecule.append([atom_type, x, y, z])\n",
    "        line = reader.readline()\n",
    "\n",
    "    return molecule\n",
    "\n",
    "def read_all_molecules(reader):\n",
    "    \"\"\" (file open for reading) -> list\n",
    "    Read zero or more molecules from reader, returning a list of the molecule\n",
    "    information.\n",
    "    \"\"\"\n",
    "    \n",
    "    # The list of molecule information.\n",
    "    result = []\n",
    "    reading = True\n",
    "    while reading:\n",
    "        molecule = read_molecule(reader)\n",
    "        if molecule: # None is treated as False in an if statement\n",
    "            result.append(molecule)\n",
    "        else:\n",
    "            reading = False\n",
    "\n",
    "    return result\n",
    "\n",
    "molecule_file = open('multimol.pdb', 'r')\n",
    "molecule = read_molecule(molecule_file)\n",
    "molecules = read_all_molecules(molecule_file)\n",
    "print(molecule)\n",
    "print()\n",
    "print(molecules)"
   ]
  },
  {
   "cell_type": "markdown",
   "id": "c601d6f7",
   "metadata": {
    "slideshow": {
     "slide_type": "subslide"
    }
   },
   "source": [
    "* The work of actually reading a single molecule has been put in a function of its own that must return some false value (such as None) if it cannot find another molecule in the file\n",
    "* This function checks the first line it tries to read to see whether there is actually any data left in the file\n",
    "    * If not, it returns immediately to tell read_all_molecules that the end of the file has been reached\n",
    "    * Otherwise, it pulls the name of the molecule out of the first line and then reads the molecule’s atoms one at a time down to the END line\n",
    "* Notice that this function uses exactly the same trick to spot the END that marks the end of a single molecule as the first function used to spot the end of the file"
   ]
  },
  {
   "cell_type": "code",
   "execution_count": null,
   "id": "88576931",
   "metadata": {
    "slideshow": {
     "slide_type": "subslide"
    }
   },
   "outputs": [],
   "source": [
    "def read_molecule(reader):\n",
    "    \"\"\" (file open for reading) -> list or NoneType\n",
    "    Read a single molecule from reader and return it, or return None to signal\n",
    "    end of file. The first item in the result is the name of the compound;\n",
    "    each list contains an atom type and the X, Y, and Z coordinates of that\n",
    "    atom.\n",
    "    \"\"\"\n",
    "\n",
    "    # If there isn't another line, we're at the end of the file.\n",
    "    line = reader.readline()\n",
    "    if not line:\n",
    "        return None\n",
    "    # Name of the molecule: \"COMPND name\"\n",
    "    key, name = line.split()\n",
    "    # Other lines are either \"END\" or \"ATOM num atom_type x y z\"\n",
    "    molecule = [name]\n",
    "    reading = True\n",
    "    while reading:\n",
    "        line = reader.readline()\n",
    "        if line.startswith('END'):\n",
    "            reading = False\n",
    "        else:\n",
    "            key, num, atom_type, x, y, z = line.split()\n",
    "            molecule.append([atom_type, x, y, z])\n",
    "    return molecule"
   ]
  }
 ],
 "metadata": {
  "kernelspec": {
   "display_name": "Python 3 (ipykernel)",
   "language": "python",
   "name": "python3"
  },
  "language_info": {
   "codemirror_mode": {
    "name": "ipython",
    "version": 3
   },
   "file_extension": ".py",
   "mimetype": "text/x-python",
   "name": "python",
   "nbconvert_exporter": "python",
   "pygments_lexer": "ipython3",
   "version": "3.11.5"
  }
 },
 "nbformat": 4,
 "nbformat_minor": 5
}
