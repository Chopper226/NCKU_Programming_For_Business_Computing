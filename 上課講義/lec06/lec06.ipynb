{
 "cells": [
  {
   "cell_type": "markdown",
   "id": "7c4bf4d1",
   "metadata": {
    "slideshow": {
     "slide_type": "subslide"
    }
   },
   "source": [
    "* So far we have seen lots of functions: Built-in functions, functions inside modules, and functions that we have defined\n",
    "* A $\\rm\\color{magenta}{method}$ is another kind of function that is $\\rm\\color{magenta}{attached\\space to\\space a\\space particular\\space type}$\n",
    "* There are str methods, int methods, bool methods, and more — every type has its own set of methods\n",
    "* In this lecture, we will explore how to use methods and also how they differ from the rest of the functions that we have seen"
   ]
  },
  {
   "cell_type": "markdown",
   "id": "1edebae2",
   "metadata": {
    "slideshow": {
     "slide_type": "subslide"
    }
   },
   "source": [
    "### Modules, Classes, and Methods<br>\n",
    "* We saw that a module is a kind of object, one that can contain functions and other variables\n",
    "* There is another kind of object that is similar to a module: a $\\rm\\color{orange}{class}$\n",
    "* We have been using classes all along, probably without realizing it: A class is how Python represents a type\n",
    "* We may have called built-in function help on int, float, bool, or str\n",
    "* We will do that now with str (notice that the first line says that it is a class)"
   ]
  },
  {
   "cell_type": "code",
   "execution_count": null,
   "id": "7abd7b86",
   "metadata": {
    "slideshow": {
     "slide_type": "fragment"
    }
   },
   "outputs": [],
   "source": [
    "help(str)"
   ]
  },
  {
   "cell_type": "markdown",
   "id": "1a204619",
   "metadata": {
    "slideshow": {
     "slide_type": "subslide"
    }
   },
   "source": [
    "* Near the top of this documentation is this\n",
    "  \n",
    "        | str(object[, encoding[, errors]]) -> str\n",
    "        |\n",
    "        | Create a new string object from the given object\n",
    "  \n",
    "* That describes how to use str as a function: We can call it to create a string\n",
    "* For example, str($17$) creates the string '$17$'\n",
    "* We can also use str to call a method in class str, much like we call a function in module math\n",
    "* The main difference is that every method in class str requires a string as its first argument"
   ]
  },
  {
   "cell_type": "code",
   "execution_count": null,
   "id": "90521e09",
   "metadata": {
    "slideshow": {
     "slide_type": "fragment"
    }
   },
   "outputs": [],
   "source": [
    "print(str.capitalize('browning'))"
   ]
  },
  {
   "cell_type": "markdown",
   "id": "23aacc01",
   "metadata": {
    "slideshow": {
     "slide_type": "subslide"
    }
   },
   "source": [
    "* This is how methods are different from functions: The first argument to every string method must be a string, and the parameter is not described in the documentation for the method\n",
    "* This is because all string methods require a string as the first argument, and more generally, all methods in a class require an object of that class as the first argument"
   ]
  },
  {
   "cell_type": "code",
   "execution_count": null,
   "id": "cc0a986b",
   "metadata": {
    "slideshow": {
     "slide_type": "fragment"
    }
   },
   "outputs": [],
   "source": [
    "print(str.center('Sonnet 43', 26))\n",
    "print(str.count('How do I love thee? Let me count the ways.', 'the'))"
   ]
  },
  {
   "cell_type": "markdown",
   "id": "5f69a088",
   "metadata": {
    "slideshow": {
     "slide_type": "fragment"
    }
   },
   "source": [
    "* The first method call produces a new string that centers 'Sonnet $43$' in a string of length $26$, padding to the left and right with spaces\n",
    "* The second method call counts how many times 'the' occurs in 'How do I love thee? Let me count the ways.'"
   ]
  },
  {
   "cell_type": "markdown",
   "id": "7cc4c812",
   "metadata": {
    "slideshow": {
     "slide_type": "subslide"
    }
   },
   "source": [
    "### Calling Methods the Object-Oriented Way<br>\n",
    "* Every method in class str requires a string as the first argument\n",
    "    * More generally, $\\rm\\color{magenta}{every}$ method in any class requires an object of $\\rm\\color{magenta}{that}$ class as the first argument\n",
    "* Python provides a shorthand form for calling a method where the object appears first and then the method call"
   ]
  },
  {
   "cell_type": "code",
   "execution_count": null,
   "id": "cb4adb32",
   "metadata": {
    "slideshow": {
     "slide_type": "fragment"
    }
   },
   "outputs": [],
   "source": [
    "print('browning'.capitalize())\n",
    "print('Sonnet 43'.center(26))\n",
    "print('How do I love thee? Let me count the ways.'.count('the'))"
   ]
  },
  {
   "cell_type": "markdown",
   "id": "6e5720ca",
   "metadata": {
    "slideshow": {
     "slide_type": "subslide"
    }
   },
   "source": [
    "* When Python encounters one of these method calls, it translates it to the more long-winded form\n",
    "* We will use this shorthand form throughout the rest of the class\n",
    "* The help documentation for methods uses this form. Here is the help for method $\\rm\\color{magenta}{lower}$ in class str"
   ]
  },
  {
   "cell_type": "code",
   "execution_count": null,
   "id": "f08615aa",
   "metadata": {
    "slideshow": {
     "slide_type": "fragment"
    }
   },
   "outputs": [],
   "source": [
    "help(str.lower)"
   ]
  },
  {
   "cell_type": "markdown",
   "id": "2dd9b736",
   "metadata": {
    "slideshow": {
     "slide_type": "subslide"
    }
   },
   "source": [
    "* The general form of a method call is as follows\n",
    "  \n",
    "        «expression».«method_name»(«arguments»)\n",
    "  \n",
    "* So far every example we have seen has a single object as the expression, but any expression can be used as long as it evaluates to the correct type"
   ]
  },
  {
   "cell_type": "code",
   "execution_count": null,
   "id": "f9a96064",
   "metadata": {
    "slideshow": {
     "slide_type": "fragment"
    }
   },
   "outputs": [],
   "source": [
    "print(('TTA' + 'G' * 3).count('T'))"
   ]
  },
  {
   "cell_type": "markdown",
   "id": "c957db88",
   "metadata": {
    "slideshow": {
     "slide_type": "subslide"
    }
   },
   "source": [
    "Here are the steps for executing a method call. These steps are quite similar to those for executing a function call<br>\n",
    "1. Evaluate «expression»\n",
    "    * This may be something simple, like 'Elizabeth Barrett Browning' (a poet from the 1800s)\n",
    "    * Or it may be more complicated, like ('TTA' + 'G' * $3$)\n",
    "    * Either way, a single object is produced, and that will be the object we are interacting with during the method call\n",
    "2. Now that we have an object, evaluate the method arguments left to right\n",
    "    * In our DNA example, the argument is 'T'\n",
    "3. Pass the result of evaluating the initial expression as the first argument, and also pass the argument values from the previous step, into the method\n",
    "    * In our DNA example, our code is equivalent to str.count('TTAGGG', 'T')\n",
    "4. Execute the method<br>\n",
    "  \n",
    "When the method call finishes, it produces a value. In our DNA example, str.count('TTAGGG', 'T') returns the number of times 'T' occurs in 'TTAGGG', which is $2$"
   ]
  },
  {
   "cell_type": "markdown",
   "id": "efb5c63f",
   "metadata": {
    "slideshow": {
     "slide_type": "subslide"
    }
   },
   "source": [
    "### Why Programming Languages Are Called Object Oriented?<br>\n",
    "* The phrase $\\rm\\color{cyan}{object\\space oriented}$ was introduced to describe the style of programming where the objects are the main focus\n",
    "    * We tell objects to do things (by calling their methods)\n",
    "* As opposed to $\\rm\\color{cyan}{imperative\\space programming}$, where functions are the primary focus and we pass them objects to work with\n",
    "* Python allows a mixture of both styles"
   ]
  },
  {
   "cell_type": "markdown",
   "id": "42bc283b",
   "metadata": {
    "slideshow": {
     "slide_type": "subslide"
    }
   },
   "source": [
    "### Exploring String Methods<br>\n",
    "* Strings are central to programming; almost every program uses strings in some way\n",
    "* We will explore some of the ways in which we can manipulate strings and, at the same time, firm up our understanding of methods\n",
    "---\n",
    "| Method | Description |\n",
    "| :--: | :--: |\n",
    "| str.capitalize() | Returns a copy of the string with the first letter capitalized and the rest lowercase |\n",
    "| str.count(s) | Returns the number of nonoverlapping occurrences of s in the string |\n",
    "| str.endswith(end) | Returns True iff the string ends with the characters in the end string — this is case sensitive |\n",
    "| str.find(s) | Returns the index of the first occurrence of s in the string, or -1 if s does not occur in the string — the first character is at index 0. This is case sensitive |\n",
    "| str.find(s, beg) | Returns the index of the first occurrence of s at or after index beg in the string, or -1 if s does not occur in the string at or after index beg — the first character is at index 0. This is case sensitive |\n",
    "| str.find(s, beg, end) | Returns the index of the first occurrence of s between indices beg (inclusive) and end (exclusive) in the string, or -1 if s does not occur in the string between indices beg and end — the first character is at index 0. This is case sensitive |\n",
    "| str.format(«expressions») | Returns a string made by substituting for placeholder fields in the string — each field is a pair of braces ('{' and '}') with an integer in between; the expression arguments are numbered from left to right starting at 0. Each field is replaced by the value produced by evaluating the expression whose index corresponds with the integer in between the braces of the field. If an expression produces a value that is not a string, that value is converted into a string|\n",
    "| str.islower() | Returns True iff all characters in the string are lowercase |\n",
    "| str.isupper() | Returns True iff all characters in the string are uppercase |"
   ]
  },
  {
   "cell_type": "markdown",
   "id": "eaf4fcfc",
   "metadata": {
    "slideshow": {
     "slide_type": "subslide"
    }
   },
   "source": [
    "| Method | Description |\n",
    "| :--: | :--: |\n",
    "| str.lower() | Returns a copy of the string with all letters converted to lowercase |\n",
    "| str.lstrip() | Returns a copy of the string with leading whitespace removed |\n",
    "| str.lstrip(s) | Returns a copy of the string with leading occurrences of the characters in s removed |\n",
    "| str.replace(old, new) | Returns a copy of the string with all occurrences of substring old replaced with string new |\n",
    "| str.rstrip() | Returns a copy of the string with trailing whitespace removed |\n",
    "| str.rstrip(s) | Returns a copy of the string with trailing occurrences of the characters in s removed |\n",
    "| str.split() | Returns the whitespace-separated words in the string as a list |\n",
    "| str.startswith(beginning) | Returns True iff the string starts with the letters in the string beginning — this is case sensitive |\n",
    "| str.strip() | Returns a copy of the string with trailing whitespace removed |\n",
    "| str.strip(s) | Returns a copy of the string with leading and trailing occurrences of the characters in s removed |\n",
    "| str.swapcase() | Returns a copy of the string with all lowercase letters capitalized and all uppercase letters made lowercase |\n",
    "| str.upper() | Returns a copy of the string with all letters converted to uppercase |"
   ]
  },
  {
   "cell_type": "markdown",
   "id": "a2c18c8b",
   "metadata": {
    "slideshow": {
     "slide_type": "subslide"
    }
   },
   "source": [
    "* Method calls look almost the same as function calls, except that in order to call a method we need an object of the type associated with that method"
   ]
  },
  {
   "cell_type": "code",
   "execution_count": null,
   "id": "e41d379c",
   "metadata": {
    "slideshow": {
     "slide_type": "fragment"
    }
   },
   "outputs": [],
   "source": [
    "print('species'.startswith('a'))\n",
    "print('species'.startswith('spe'))"
   ]
  },
  {
   "cell_type": "markdown",
   "id": "b4ecb23b",
   "metadata": {
    "slideshow": {
     "slide_type": "subslide"
    }
   },
   "source": [
    "* String method $\\rm\\color{magenta}{startswith}$ takes a string argument and returns a bool indicating whether the string starts with the string that is given as an argument\n",
    "* There is also an $\\rm\\color{magenta}{endswith}$ method"
   ]
  },
  {
   "cell_type": "code",
   "execution_count": null,
   "id": "b6bb8cce",
   "metadata": {
    "slideshow": {
     "slide_type": "fragment"
    }
   },
   "outputs": [],
   "source": [
    "print('species'.endswith('a'))\n",
    "print('species'.endswith('es'))"
   ]
  },
  {
   "cell_type": "markdown",
   "id": "f0f32f3f",
   "metadata": {
    "slideshow": {
     "slide_type": "subslide"
    }
   },
   "source": [
    "* Sometimes strings have extra whitespace at the beginning and the end\n",
    "* The string methods $\\rm\\color{magenta}{lstrip}$, $\\rm\\color{magenta}{rstrip}$, and $\\rm\\color{magenta}{strip}$ remove this whitespace from the front, from the end, and from both, respectively"
   ]
  },
  {
   "cell_type": "code",
   "execution_count": null,
   "id": "c9b099a9",
   "metadata": {
    "slideshow": {
     "slide_type": "fragment"
    }
   },
   "outputs": [],
   "source": [
    "compound = ' \\n Methyl \\n butanol \\n'\n",
    "# print(compound)\n",
    "# print(compound.lstrip())\n",
    "# print(compound.rstrip())\n",
    "print(compound.strip())"
   ]
  },
  {
   "cell_type": "markdown",
   "id": "2c0a4172",
   "metadata": {
    "slideshow": {
     "slide_type": "subslide"
    }
   },
   "source": [
    "* Note that the other whitespace inside the string is unaffected; these methods only work from the front and end"
   ]
  },
  {
   "cell_type": "code",
   "execution_count": null,
   "id": "3ade7aac",
   "metadata": {
    "slideshow": {
     "slide_type": "fragment"
    }
   },
   "outputs": [],
   "source": [
    "print('Computer Science'.swapcase())"
   ]
  },
  {
   "cell_type": "markdown",
   "id": "d8f9a941",
   "metadata": {
    "slideshow": {
     "slide_type": "subslide"
    }
   },
   "source": [
    "### Formatted string literals (f-strings)<br>\n",
    "* Introduced in Python $3.6$, offer a more intuitive and readable way to format strings\n",
    "* Simplify the process of string formatting by directly embedding expressions inside string literals"
   ]
  },
  {
   "cell_type": "code",
   "execution_count": null,
   "id": "c8247a0b",
   "metadata": {
    "slideshow": {
     "slide_type": "subslide"
    }
   },
   "outputs": [],
   "source": [
    "name = 'world'\n",
    "greeting = f'Hello, {name}!'\n",
    "print(greeting)\n",
    "\n",
    "number = 42\n",
    "message = f'The answer is {number}'\n",
    "print(message)\n",
    "\n",
    "year = 2023\n",
    "event = 'conference'\n",
    "announcement = f'The next {event} will be held in {year}'\n",
    "print(announcement)"
   ]
  },
  {
   "cell_type": "markdown",
   "id": "fc498260",
   "metadata": {
    "slideshow": {
     "slide_type": "subslide"
    }
   },
   "source": [
    "* F-strings in Python allow for versatile formatting, including precision control in displaying numbers\n",
    "* We can format a floating-point number to a specified number of decimal places directly within an f-string"
   ]
  },
  {
   "cell_type": "code",
   "execution_count": null,
   "id": "60e48019",
   "metadata": {
    "slideshow": {
     "slide_type": "fragment"
    }
   },
   "outputs": [],
   "source": [
    "my_pi = 3.14159\n",
    "formatted_string = f'Pi rounded to 2 decimal places is {my_pi:.2f}'\n",
    "print(formatted_string)\n",
    "\n",
    "formatted_string = f'Pi rounded to 3 decimal places is {my_pi:.3f}'\n",
    "print(formatted_string)"
   ]
  },
  {
   "cell_type": "code",
   "execution_count": null,
   "id": "b8cf39eb",
   "metadata": {
    "slideshow": {
     "slide_type": "subslide"
    }
   },
   "outputs": [],
   "source": [
    "name = 'Alice'\n",
    "age = 30\n",
    "city = 'New York'\n",
    "\n",
    "# Using commas in print()\n",
    "print('My name is', name, '. I am', age, 'years old and live in', city, '.')\n",
    "\n",
    "# Using an f-string\n",
    "print(f'My name is {name}. I am {age} years old and live in {city}.')"
   ]
  },
  {
   "cell_type": "markdown",
   "id": "f6ccca13",
   "metadata": {
    "slideshow": {
     "slide_type": "fragment"
    }
   },
   "source": [
    "* Here, the f-string provides a much neater and more readable format. It embeds variables directly within the string, ensuring correct spacing and formatting\n",
    "* This becomes increasingly beneficial with more complex strings and when precision formatting is needed"
   ]
  },
  {
   "cell_type": "markdown",
   "id": "451877e7",
   "metadata": {
    "slideshow": {
     "slide_type": "subslide"
    }
   },
   "source": [
    "* Recall how a method call starts with an expression\n",
    "* Because 'Computer Science'.swapcase() is an expression, we can immediately call method $\\rm\\color{magenta}{endswith}$ on the result of that expression to check whether that result has 'ENCE' as its last four characters\n",
    "* The call on method $\\rm\\color{magenta}{swapcase}$ produces a new string, and that new string is used for the call on method $\\rm\\color{magenta}{endswith}$"
   ]
  },
  {
   "cell_type": "code",
   "execution_count": null,
   "id": "79df1f2a",
   "metadata": {
    "slideshow": {
     "slide_type": "fragment"
    }
   },
   "outputs": [],
   "source": [
    "print('Computer Science'.swapcase().endswith('ENCE'))"
   ]
  },
  {
   "cell_type": "markdown",
   "id": "b9760e0a",
   "metadata": {
    "slideshow": {
     "slide_type": "subslide"
    }
   },
   "source": [
    "* Both $\\rm\\color{orange}{int}$ and $\\rm\\color{orange}{float}$ are classes\n",
    "* It is possible to access the documentation for these either by calling help(int) or by calling help on an object of the class"
   ]
  },
  {
   "cell_type": "code",
   "execution_count": null,
   "id": "d0e5da1d",
   "metadata": {
    "slideshow": {
     "slide_type": "fragment"
    }
   },
   "outputs": [],
   "source": [
    "help(0)"
   ]
  },
  {
   "cell_type": "markdown",
   "id": "579b26f0",
   "metadata": {
    "slideshow": {
     "slide_type": "fragment"
    }
   },
   "source": [
    "* Most modern programming languages are structured this way: The \"things\" in the program are objects, and most of the code in the program consists of methods that use the data stored in those objects"
   ]
  },
  {
   "cell_type": "markdown",
   "id": "14d96a1b",
   "metadata": {
    "slideshow": {
     "slide_type": "subslide"
    }
   },
   "source": [
    "### What Are Those Underscores? (Optional)<br>\n",
    "* Any method (or other name) beginning and ending with two underscores is considered special by Python\n",
    "* The help documentation for strings shows these methods, among many others\n",
    "  \n",
    "        | Methods defined here:\n",
    "        |\n",
    "        | __add__(...)\n",
    "        | x.__add__(y) <==> x+y\n",
    "  \n",
    "* These methods are typically connected with some other syntax in Python: Use of that syntax will trigger a method call"
   ]
  },
  {
   "cell_type": "code",
   "execution_count": null,
   "id": "6c95d756",
   "metadata": {
    "slideshow": {
     "slide_type": "fragment"
    }
   },
   "outputs": [],
   "source": [
    "print('TTA' + 'GGG')\n",
    "print('TTA'.__add__('GGG'))"
   ]
  },
  {
   "cell_type": "markdown",
   "id": "16a9d729",
   "metadata": {
    "slideshow": {
     "slide_type": "subslide"
    }
   },
   "source": [
    "* Programmers $\\rm\\color{magenta}{almost\\space never}$ call these special methods directly\n",
    "* It is eye-opening to see this and may help us to understand how Python works"
   ]
  },
  {
   "cell_type": "markdown",
   "id": "4f3752e3",
   "metadata": {
    "slideshow": {
     "slide_type": "subslide"
    }
   },
   "source": [
    "* Integers and floating-point numbers have similar features\n",
    "  \n",
    "        Help on class int in module builtins:\n",
    "        class int(object)\n",
    "        ...\n",
    "        | Methods defined here:\n",
    "        |\n",
    "        | __abs__(...)\n",
    "        | x.__abs__() <==> abs(x)\n",
    "        |\n",
    "        | __add__(...)\n",
    "        | x.__add__(y) <==> x+y\n",
    "        |\n",
    "        | __gt__(...)\n",
    "        | x.__gt__(y) <==> x>y\n",
    "  \n",
    "* The documentation describes when these are called\n",
    "* Here we show both versions of getting the absolute value of a number"
   ]
  },
  {
   "cell_type": "code",
   "execution_count": null,
   "id": "c397bdf0",
   "metadata": {
    "slideshow": {
     "slide_type": "subslide"
    }
   },
   "outputs": [],
   "source": [
    "print(abs(-3))\n",
    "print(-3 .__abs__())"
   ]
  },
  {
   "cell_type": "markdown",
   "id": "dc6983d1",
   "metadata": {
    "slideshow": {
     "slide_type": "fragment"
    }
   },
   "source": [
    "* We need to put a space after $-3$ in the second instance (with the underscores) so that Python does not think we are making a floating-point number $-3.$ (remember that we can leave off the trailing $0$)"
   ]
  },
  {
   "cell_type": "code",
   "execution_count": null,
   "id": "d4faeb9b",
   "metadata": {
    "slideshow": {
     "slide_type": "subslide"
    }
   },
   "outputs": [],
   "source": [
    "print(3 + 5)\n",
    "print(3 .__add__(5))"
   ]
  },
  {
   "cell_type": "code",
   "execution_count": null,
   "id": "7bebc8cd",
   "metadata": {
    "slideshow": {
     "slide_type": "fragment"
    }
   },
   "outputs": [],
   "source": [
    "print(3 > 5)\n",
    "print(3 .__gt__(5))\n",
    "print(5 > 3)\n",
    "print(5 .__gt__(3))"
   ]
  },
  {
   "cell_type": "markdown",
   "id": "bc18e547",
   "metadata": {
    "slideshow": {
     "slide_type": "fragment"
    }
   },
   "source": [
    "* Again, programmers do not typically do this, but it is worth knowing that Python uses methods to handle all of these operators"
   ]
  },
  {
   "cell_type": "markdown",
   "id": "37510ccf",
   "metadata": {
    "slideshow": {
     "slide_type": "subslide"
    }
   },
   "source": [
    "* Function objects, like other objects, contain double-underscore variables\n",
    "* For example, the documentation for each function is stored in a variable called $\\rm\\color{orange}{\\_\\_doc\\_\\_}$"
   ]
  },
  {
   "cell_type": "code",
   "execution_count": null,
   "id": "9ce7d130",
   "metadata": {
    "slideshow": {
     "slide_type": "fragment"
    }
   },
   "outputs": [],
   "source": [
    "print(abs.__doc__)"
   ]
  },
  {
   "cell_type": "markdown",
   "id": "34c02e3e",
   "metadata": {
    "slideshow": {
     "slide_type": "subslide"
    }
   },
   "source": [
    "* It looks just like the output from calling built-in function help on *abs*"
   ]
  },
  {
   "cell_type": "code",
   "execution_count": null,
   "id": "a0ccfcbe",
   "metadata": {
    "slideshow": {
     "slide_type": "fragment"
    }
   },
   "outputs": [],
   "source": [
    "help(abs)"
   ]
  },
  {
   "cell_type": "markdown",
   "id": "65757f00",
   "metadata": {
    "slideshow": {
     "slide_type": "fragment"
    }
   },
   "source": [
    "* Every function object keeps track of its docstring in a special variable called $\\rm\\color{orange}{\\_\\_doc\\_\\_}$"
   ]
  }
 ],
 "metadata": {
  "kernelspec": {
   "display_name": "Python 3 (ipykernel)",
   "language": "python",
   "name": "python3"
  },
  "language_info": {
   "codemirror_mode": {
    "name": "ipython",
    "version": 3
   },
   "file_extension": ".py",
   "mimetype": "text/x-python",
   "name": "python",
   "nbconvert_exporter": "python",
   "pygments_lexer": "ipython3",
   "version": "3.11.4"
  }
 },
 "nbformat": 4,
 "nbformat_minor": 5
}
