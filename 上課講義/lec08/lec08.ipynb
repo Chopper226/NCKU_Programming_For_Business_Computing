{
 "cells": [
  {
   "cell_type": "markdown",
   "id": "6494e17a-90e0-4705-b704-7efaae8927ae",
   "metadata": {
    "slideshow": {
     "slide_type": "subslide"
    }
   },
   "source": [
    "* This chapter introduces another fundamental kind of control flow: Repetition\n",
    "* Up to now, to execute an instruction two hundred times, we would need to write that instruction two hundred times. Now we will see how to write the instruction once and use loops to repeat that code the desired number of times"
   ]
  },
  {
   "cell_type": "markdown",
   "id": "e3b4381f-8c5d-4e7f-9b64-80841aae260f",
   "metadata": {
    "slideshow": {
     "slide_type": "subslide"
    }
   },
   "source": [
    "### Processing Items in a List<br>\n",
    "* With what we have learned so far, to print the items from a list of velocities of falling objects in metric and Imperial units, we would need to write a call on function $print$ for each velocity in the list"
   ]
  },
  {
   "cell_type": "code",
   "execution_count": null,
   "id": "685e01af-4ea9-422a-9338-a4aef10ab31d",
   "metadata": {
    "slideshow": {
     "slide_type": "fragment"
    }
   },
   "outputs": [],
   "source": [
    "velocities = [0.0, 9.81, 19.62, 29.43]\n",
    "print(f'Metric: {velocities[0]}, m/sec; Imperial: {velocities[0] * 3.28} ft/sec')\n",
    "print(f'Metric: {velocities[1]}, m/sec; Imperial: {velocities[1] * 3.28} ft/sec')\n",
    "print(f'Metric: {velocities[2]}, m/sec; Imperial: {velocities[2] * 3.28} ft/sec')\n",
    "print(f'Metric: {velocities[3]}, m/sec; Imperial: {velocities[3] * 3.28} ft/sec')"
   ]
  },
  {
   "cell_type": "markdown",
   "id": "20521004-2309-47e7-9990-7a6def641549",
   "metadata": {
    "slideshow": {
     "slide_type": "subslide"
    }
   },
   "source": [
    "* The code above is used to process a list with just four values. Imagine processing\n",
    "a list with a thousand values\n",
    "* Lists were invented so that we would not have to create a thousand variables to store a thousand values\n",
    "* For the same reason, Python has a for loop that lets you process each element in a list in turn without having to write one statement per element\n",
    "* We can use a $\\rm\\color{orange}{for\\space loop}$ to print the velocities"
   ]
  },
  {
   "cell_type": "code",
   "execution_count": null,
   "id": "507e1c98-eb8d-4273-a237-954c60b9c60e",
   "metadata": {
    "slideshow": {
     "slide_type": "fragment"
    }
   },
   "outputs": [],
   "source": [
    "velocities = [0.0, 9.81, 19.62, 29.43]\n",
    "for velocity in velocities:\n",
    "    print(f'Metric: {velocity} m/sec; Imperial: {velocity * 3.28} ft/sec')"
   ]
  },
  {
   "cell_type": "markdown",
   "id": "8c070e77-5ac2-4236-9d5f-31a5d01e1c5c",
   "metadata": {
    "slideshow": {
     "slide_type": "subslide"
    }
   },
   "source": [
    "* The general form of a for loop over a list is as follows\n",
    "  \n",
    "        for «variable» in «list»:\n",
    "            «block»\n",
    "  \n",
    "* A for loop is executed as follows\n",
    "    * The loop variable is assigned the first item in the list, and the loop block—the body of the for loop—is executed\n",
    "    * The loop variable is then assigned the second item in the list and the loop body is executed again\n",
    "    * ...\n",
    "    * Finally, the loop variable is assigned the last item of the list and the loop body is executed one last time"
   ]
  },
  {
   "cell_type": "markdown",
   "id": "0e71ebc0-73f2-405f-8074-3d72ca3c9077",
   "metadata": {
    "slideshow": {
     "slide_type": "subslide"
    }
   },
   "source": [
    "* As we previously mentioned, a block is just a sequence of one or more statements\n",
    "* Each pass through the block is called an $\\rm\\color{magenta}{iteration}$; and at the start of each iteration, Python assigns the next item in the list to the loop variable\n",
    "* As with function definitions and if statements, the statements in the loop block are indented"
   ]
  },
  {
   "cell_type": "markdown",
   "id": "deab685c-b6bf-4699-b5c0-c5aa07d831f9",
   "metadata": {
    "slideshow": {
     "slide_type": "subslide"
    }
   },
   "source": [
    "* In the code above, before the first iteration, variable velocity is assigned velocities$[0]$ and then the loop body is executed; before the second iteration it is assigned velocities$[1]$ and then the loop body is executed; and so on\n",
    "* In this way, the program can do something with each item in turn\n",
    "---\n",
    "| Iteration | List Item Referred to at Start of Iteration | What Is Printed During This Iteration |\n",
    "| :--: | :--: | :--: |\n",
    "| 1st | velocities[0] | Metric: 0.0 m/sec; Imperial: 0.0 ft/sec |\n",
    "| 2nd | velocities[1] | Metric: 9.81 m/sec; Imperial: 32.1768 ft/sec |\n",
    "| 3rd | velocities[2] | Metric: 19.62 m/sec; Imperial: 64.3536 ft/sec |\n",
    "| 4th | velocities[3] | Metric: 29.43 m/sec; Imperial: 96.5304 ft/sec |"
   ]
  },
  {
   "cell_type": "markdown",
   "id": "a80df79e",
   "metadata": {
    "slideshow": {
     "slide_type": "subslide"
    }
   },
   "source": [
    "* In the previous example, we created a new variable, $\\rm\\color{cyan}{velocity}$, to refer to the current item of the list inside the loop. We could equally well have used an existing variable\n",
    "* If we use an existing variable, the loop still starts with the variable referring to the first element of the list. The content of the variable before the loop is lost, exactly as if we had used an assignment statement to give a new value\n",
    "to that variable"
   ]
  },
  {
   "cell_type": "code",
   "execution_count": null,
   "id": "b1e9e471",
   "metadata": {
    "slideshow": {
     "slide_type": "fragment"
    }
   },
   "outputs": [],
   "source": [
    "speed = 2\n",
    "velocities = [0.0, 9.81, 19.62, 29.43]\n",
    "for speed in velocities:\n",
    "    print(f'Metric: {speed} m/sec')\n",
    "\n",
    "print(f'Final: {speed}')"
   ]
  },
  {
   "cell_type": "markdown",
   "id": "b7e6cacb",
   "metadata": {
    "slideshow": {
     "slide_type": "fragment"
    }
   },
   "source": [
    "* The variable is left holding its last value when the loop finishes\n",
    "* Notice that the last print statement is NOT indented, so it is not part of the for loop\n",
    "* It is executed, only once, after the for loop execution has finished"
   ]
  },
  {
   "cell_type": "markdown",
   "id": "6bab953e",
   "metadata": {
    "slideshow": {
     "slide_type": "subslide"
    }
   },
   "source": [
    "### Processing Characters in Strings<br>\n",
    "* It is also possible to loop over the characters of a string\n",
    "* The general form of a for loop over a string is as follows\n",
    "  \n",
    "        for «variable» in «str»:\n",
    "            «block»\n",
    "  \n",
    "* As with a for loop over a list, the loop variable gets assigned a new value at the beginning of each iteration\n",
    "* In the case of a loop over a string, the variable is assigned a $\\rm\\color{cyan}{single\\space character}$"
   ]
  },
  {
   "cell_type": "code",
   "execution_count": null,
   "id": "17e96f36",
   "metadata": {
    "slideshow": {
     "slide_type": "fragment"
    }
   },
   "outputs": [],
   "source": [
    "country = 'United States of America'\n",
    "for ch in country:\n",
    "    if ch.isupper():\n",
    "        print(ch)"
   ]
  },
  {
   "cell_type": "markdown",
   "id": "75716dd7",
   "metadata": {
    "slideshow": {
     "slide_type": "subslide"
    }
   },
   "source": [
    "* In the code above, variable ch is assigned country$[0]$ before the first iteration, country$[1]$ before the second, and so on\n",
    "* The loop iterates twenty-four times (once per character) and the if statement block is executed three times (once per uppercase letter)"
   ]
  },
  {
   "cell_type": "markdown",
   "id": "a6bc8cb5",
   "metadata": {
    "slideshow": {
     "slide_type": "subslide"
    }
   },
   "source": [
    "### Looping Over a Range of Numbers<br>\n",
    "* We can also loop over a $\\rm\\color{orange}{range}$ of values\n",
    "* This allows us to perform tasks a certain number of times and to do more sophisticated processing of lists and strings\n",
    "* To begin, we need to generate the range of numbers over which to iterate"
   ]
  },
  {
   "cell_type": "markdown",
   "id": "0bc2a2a1",
   "metadata": {
    "slideshow": {
     "slide_type": "subslide"
    }
   },
   "source": [
    "### Generating Ranges of Numbers<br>\n",
    "* Python's built-in function range produces an object that will generate a sequence of $\\rm\\color{magenta}{integers}$\n",
    "* When passed a single argument, as in range(stop), the sequence starts at $\\rm\\color{magenta}{0}$ and continues to the integer $\\rm\\color{magenta}{before}$ stop"
   ]
  },
  {
   "cell_type": "code",
   "execution_count": null,
   "id": "60f1fbad",
   "metadata": {
    "slideshow": {
     "slide_type": "fragment"
    }
   },
   "outputs": [],
   "source": [
    "print(range(10))"
   ]
  },
  {
   "cell_type": "markdown",
   "id": "61459529",
   "metadata": {
    "slideshow": {
     "slide_type": "subslide"
    }
   },
   "source": [
    "* This is the first time that we have seen Python's range type\n",
    "* We can use a loop to access each number in the sequence one at a time"
   ]
  },
  {
   "cell_type": "code",
   "execution_count": null,
   "id": "f6fd3ba8",
   "metadata": {
    "slideshow": {
     "slide_type": "fragment"
    }
   },
   "outputs": [],
   "source": [
    "for num in range(10):\n",
    "    print(num)"
   ]
  },
  {
   "cell_type": "markdown",
   "id": "0bea7c6c",
   "metadata": {
    "slideshow": {
     "slide_type": "subslide"
    }
   },
   "source": [
    "* To get the numbers from the sequence all at once, we can use built-in function $\\rm\\color{orange}{list}$ to create a list of those numbers"
   ]
  },
  {
   "cell_type": "code",
   "execution_count": null,
   "id": "8bc57a2e",
   "metadata": {
    "slideshow": {
     "slide_type": "fragment"
    }
   },
   "outputs": [],
   "source": [
    "print(list(range(10)))"
   ]
  },
  {
   "cell_type": "code",
   "execution_count": null,
   "id": "faa84473",
   "metadata": {
    "slideshow": {
     "slide_type": "fragment"
    }
   },
   "outputs": [],
   "source": [
    "print(list(range(3)))\n",
    "print(list(range(1)))\n",
    "print(list(range(0)))"
   ]
  },
  {
   "cell_type": "markdown",
   "id": "6c80b77b",
   "metadata": {
    "slideshow": {
     "slide_type": "subslide"
    }
   },
   "source": [
    "* The sequence produced includes the start value and excludes the stop value, which is (deliberately) consistent with how sequence indexing works: The expression seq$[0:5]$ takes a slice of seq up to, but not including, the value at index $5$\n",
    "* Notice that in the code above, we call list on the value produced by the call on range\n",
    "* Function range returns a range object, and we create a list based on its values in order to work with it using the set of list operations and methods we are already familiar with\n",
    "* Function range can also be passed two arguments, where the first is the start value and the second is the stop value"
   ]
  },
  {
   "cell_type": "code",
   "execution_count": null,
   "id": "d23f703f",
   "metadata": {
    "slideshow": {
     "slide_type": "fragment"
    }
   },
   "outputs": [],
   "source": [
    "print(list(range(1, 5)))\n",
    "print(list(range(1, 10)))"
   ]
  },
  {
   "cell_type": "markdown",
   "id": "37061135",
   "metadata": {
    "slideshow": {
     "slide_type": "subslide"
    }
   },
   "source": [
    "* By default, function range generates numbers that successively increase by one—this is called its $\\rm\\color{magenta}{step\\space size}$\n",
    "* We can specify a different step size for range with an optional third parameter\n",
    "* Here we produce a list of leap years in the first half of this century"
   ]
  },
  {
   "cell_type": "code",
   "execution_count": null,
   "id": "a4582087",
   "metadata": {
    "slideshow": {
     "slide_type": "fragment"
    }
   },
   "outputs": [],
   "source": [
    "print(list(range(2000, 2050, 4)))"
   ]
  },
  {
   "cell_type": "markdown",
   "id": "ce817c29",
   "metadata": {
    "slideshow": {
     "slide_type": "subslide"
    }
   },
   "source": [
    "* The step size can also be negative, which produces a descending sequence\n",
    "* When the step size is negative, the starting index should be larger than the stopping index"
   ]
  },
  {
   "cell_type": "code",
   "execution_count": null,
   "id": "178d02f8",
   "metadata": {
    "slideshow": {
     "slide_type": "fragment"
    }
   },
   "outputs": [],
   "source": [
    "print(list(range(2050, 2000, -4)))"
   ]
  },
  {
   "cell_type": "markdown",
   "id": "512446b1",
   "metadata": {
    "slideshow": {
     "slide_type": "subslide"
    }
   },
   "source": [
    "* Otherwise, range’s result will be empty"
   ]
  },
  {
   "cell_type": "code",
   "execution_count": null,
   "id": "d327932c",
   "metadata": {
    "slideshow": {
     "slide_type": "fragment"
    }
   },
   "outputs": [],
   "source": [
    "print(list(range(2000, 2050, -4)))\n",
    "print(list(range(2050, 2000, 4)))"
   ]
  },
  {
   "cell_type": "markdown",
   "id": "e4461742",
   "metadata": {
    "slideshow": {
     "slide_type": "subslide"
    }
   },
   "source": [
    "* It is possible to loop over the sequence produced by a call on range\n",
    "* Notice that the upper bound passed to range is $101$. It is one more than the greatest integer we actually want"
   ]
  },
  {
   "cell_type": "code",
   "execution_count": null,
   "id": "0f1f1182",
   "metadata": {
    "slideshow": {
     "slide_type": "fragment"
    }
   },
   "outputs": [],
   "source": [
    "total = 0\n",
    "for i in range(1, 101):\n",
    "    total += i\n",
    "\n",
    "print(total)"
   ]
  },
  {
   "cell_type": "markdown",
   "id": "f6f28999",
   "metadata": {
    "slideshow": {
     "slide_type": "subslide"
    }
   },
   "source": [
    "### Processing Lists Using Indices<br>\n",
    "* The loops over lists that we have written so far have been used to access list items\n",
    "* But what if we want to change the items in a list?\n",
    "* For example, suppose we want to double all of the values in a list. The following does NOT work"
   ]
  },
  {
   "cell_type": "code",
   "execution_count": null,
   "id": "917c2d39",
   "metadata": {
    "slideshow": {
     "slide_type": "fragment"
    }
   },
   "outputs": [],
   "source": [
    "values = [4, 10, 3, 8, -6]\n",
    "for num in values:\n",
    "    num = num * 2\n",
    "\n",
    "print(values)"
   ]
  },
  {
   "cell_type": "markdown",
   "id": "407c2231",
   "metadata": {
    "slideshow": {
     "slide_type": "subslide"
    }
   },
   "source": [
    "* Each loop iteration assigned an item in the list values to variable $\\rm\\color{cyan}{num}$\n",
    "* Doubling that value inside the loop changes what $\\rm\\color{cyan}{num}$ refers to, but it does not mutate the list object\n",
    "  \n",
    "![LoopOverList](lec08-01.jpg)\n",
    "  "
   ]
  },
  {
   "cell_type": "markdown",
   "id": "4b5992f5",
   "metadata": {
    "slideshow": {
     "slide_type": "subslide"
    }
   },
   "source": [
    "* Let’s add a call on function print to show how the value that num refers to changes during each iteration"
   ]
  },
  {
   "cell_type": "code",
   "execution_count": null,
   "id": "3d3e31fc",
   "metadata": {
    "slideshow": {
     "slide_type": "fragment"
    }
   },
   "outputs": [],
   "source": [
    "values = [4, 10, 3, 8, -6]\n",
    "for num in values:\n",
    "    num = num * 2\n",
    "    print(num)\n",
    "\n",
    "print(values)"
   ]
  },
  {
   "cell_type": "markdown",
   "id": "0a970a02",
   "metadata": {
    "slideshow": {
     "slide_type": "subslide"
    }
   },
   "source": [
    "* The correct approach is to loop over the $\\rm\\color{magenta}{indices}$ of the list\n",
    "* If variable values refers to a list, then $\\rm\\color{orange}{len(values)}$ is the number of items it contains, and the\n",
    "expression $\\rm\\color{orange}{range(len(values))}$ produces a sequence containing exactly the indices for values"
   ]
  },
  {
   "cell_type": "code",
   "execution_count": null,
   "id": "ec0961a3",
   "metadata": {
    "slideshow": {
     "slide_type": "fragment"
    }
   },
   "outputs": [],
   "source": [
    "values = [4, 10, 3, 8, -6]\n",
    "print(len(values))\n",
    "print(list(range(5)))\n",
    "print(list(range(len(values))))"
   ]
  },
  {
   "cell_type": "markdown",
   "id": "b935dfd1",
   "metadata": {
    "slideshow": {
     "slide_type": "subslide"
    }
   },
   "source": [
    "* The list that values refers to has five items, so its indices are 0, 1, 2, 3, and 4\n",
    "* Rather than looping over values, we can iterate over its indices, which are produced by range(len(values))"
   ]
  },
  {
   "cell_type": "code",
   "execution_count": null,
   "id": "65a33924",
   "metadata": {
    "slideshow": {
     "slide_type": "fragment"
    }
   },
   "outputs": [],
   "source": [
    "values = [4, 10, 3, 8, -6]\n",
    "for i in range(len(values)):\n",
    "    print(i)"
   ]
  },
  {
   "cell_type": "markdown",
   "id": "6476d549",
   "metadata": {
    "slideshow": {
     "slide_type": "subslide"
    }
   },
   "source": [
    "* Notice that we called the variable $i$, which stands for index\n",
    "* We can use each index to access the items in the list"
   ]
  },
  {
   "cell_type": "code",
   "execution_count": null,
   "id": "5fc81f9d",
   "metadata": {
    "slideshow": {
     "slide_type": "fragment"
    }
   },
   "outputs": [],
   "source": [
    "values = [4, 10, 3, 8, -6]\n",
    "for i in range(len(values)):\n",
    "    print(i, values[i])"
   ]
  },
  {
   "cell_type": "markdown",
   "id": "0631dbe1",
   "metadata": {
    "slideshow": {
     "slide_type": "subslide"
    }
   },
   "source": [
    "* We can also use them to modify list items"
   ]
  },
  {
   "cell_type": "code",
   "execution_count": null,
   "id": "b8e8a3ff",
   "metadata": {
    "slideshow": {
     "slide_type": "fragment"
    }
   },
   "outputs": [],
   "source": [
    "values = [4, 10, 3, 8, -6]\n",
    "for i in range(len(values)):\n",
    "    values[i] = values[i] * 2\n",
    "\n",
    "print(values)"
   ]
  },
  {
   "cell_type": "markdown",
   "id": "50a03227",
   "metadata": {
    "slideshow": {
     "slide_type": "subslide"
    }
   },
   "source": [
    "* Evaluation of the expression on the right side of the assignment looks up the value at index $i$ and multiplies it by two\n",
    "* Python then assigns that value to the item at index $i$ in the list\n",
    "* When $i$ refers to $1$, for example, values$[i]$ refers to $10$, which is multiplied by $2$ to produce $20$. The list item values$[1]$ is then assigned $20$"
   ]
  },
  {
   "cell_type": "markdown",
   "id": "01209fdc",
   "metadata": {
    "slideshow": {
     "slide_type": "subslide"
    }
   },
   "source": [
    "### Processing Parallel Lists Using Indices<br>\n",
    "* Sometimes the data from one list corresponds to data from another"
   ]
  },
  {
   "cell_type": "code",
   "execution_count": null,
   "id": "a715651e",
   "metadata": {
    "slideshow": {
     "slide_type": "fragment"
    }
   },
   "outputs": [],
   "source": [
    "metals = ['Li', 'Na', 'K']\n",
    "weights = [6.941, 22.98976928, 39.0983]"
   ]
  },
  {
   "cell_type": "markdown",
   "id": "e0a962a5",
   "metadata": {
    "slideshow": {
     "slide_type": "subslide"
    }
   },
   "source": [
    "* The item at index $0$ of metals has its atomic weight at index $0$ of weights\n",
    "* The same is true for the items at index $1$ in the two lists, and so on\n",
    "* These lists are $\\rm\\color{cyan}{parallel\\space lists}$, because the item at index $i$ of one list corresponds to the item at index $i$ of the other list\n",
    "* We would like to print each metal and its weight. To do so, we can loop over each index of the lists, accessing the items in each"
   ]
  },
  {
   "cell_type": "code",
   "execution_count": null,
   "id": "8f492ddd",
   "metadata": {
    "slideshow": {
     "slide_type": "fragment"
    }
   },
   "outputs": [],
   "source": [
    "metals = ['Li', 'Na', 'K']\n",
    "weights = [6.941, 22.98976928, 39.0983]\n",
    "for i in range(len(metals)):\n",
    "    print(metals[i], weights[i])"
   ]
  },
  {
   "cell_type": "markdown",
   "id": "9220691f",
   "metadata": {
    "slideshow": {
     "slide_type": "subslide"
    }
   },
   "source": [
    "* The code above only works when the length of weights is at least as long as the length of metals\n",
    "* If the length of weights is less than the length of metals, then an error would occur when trying to access an index of weights that does not exist\n",
    "* For example, if metals has three items and weights only has two, the first two print function calls would be executed, but during the third function call, an error would occur when evaluating the second argument"
   ]
  },
  {
   "cell_type": "markdown",
   "id": "c201a628",
   "metadata": {
    "slideshow": {
     "slide_type": "subslide"
    }
   },
   "source": [
    "### Nesting Loops in Loops<br>\n",
    "* The block of statements inside a loop can contain another loop\n",
    "* In this example, the inner loop is executed once for each item of list outer"
   ]
  },
  {
   "cell_type": "code",
   "execution_count": null,
   "id": "3bc6a0c3",
   "metadata": {
    "slideshow": {
     "slide_type": "fragment"
    }
   },
   "outputs": [],
   "source": [
    "outer = ['Li', 'Na', 'K']\n",
    "inner = ['F', 'Cl', 'Br']\n",
    "for metal in outer:\n",
    "    for halogen in inner:\n",
    "        print(metal + halogen)"
   ]
  },
  {
   "cell_type": "markdown",
   "id": "a0afc5d6",
   "metadata": {
    "slideshow": {
     "slide_type": "subslide"
    }
   },
   "source": [
    "* The number of times that function print is called is len(outer) * len(inner)\n",
    "* In the table below, we show that for each iteration of the outer loop (that is, for each item in outer), the inner loop executes three times (once per item in inner)\n",
    "---\n",
    "| Iteration of Outer Loop | What metal Refers To | Iteration of Inner Loop | What halogen Refers To | What Is Printed |\n",
    "| :--: | :--: | :--: | :--: | :--: |\n",
    "| 1st | outer[0] | 1st | Inner[0] | LiF |\n",
    "| | | 2nd | Inner[1] | LiCl |\n",
    "| | | 3rd | Inner[2] | LiBr |\n",
    "| 2nd | outer[1] | 1st | Inner[0] | NaF |\n",
    "| | | 2nd | Inner[1] | NaCl |\n",
    "| | | 3rd | Inner[2] | NaBr |\n",
    "| 3rd | outer[3] | 1st | Inner[0] | KF |\n",
    "| | | 2nd | Inner[1] | KCl |\n",
    "| | | 3rd | Inner[2] | KBr |"
   ]
  },
  {
   "cell_type": "markdown",
   "id": "c60a65ca",
   "metadata": {
    "slideshow": {
     "slide_type": "subslide"
    }
   },
   "source": [
    "* Sometimes an inner loop uses the same list as the outer loop\n",
    "* An example of this is shown in a function used to generate a multiplication table\n",
    "* After printing the header row, we use a nested loop to print each row of the table in turn, using tabs to make the columns line up"
   ]
  },
  {
   "cell_type": "code",
   "execution_count": null,
   "id": "cfa9aa0d",
   "metadata": {
    "slideshow": {
     "slide_type": "subslide"
    }
   },
   "outputs": [],
   "source": [
    "def print_table(n):\n",
    "    \"\"\" (int) -> NoneType\n",
    "    \n",
    "    Print the multiplication table for numbers 1 through n inclusive\n",
    "    \n",
    "    >>> print_table(5)\n",
    "      1 2 3 4 5\n",
    "    1 1 2 3 4 5\n",
    "    2 2 4 6 8 10\n",
    "    3 3 6 9 12 15\n",
    "    4 4 8 12 16 20\n",
    "    5 5 10 15 20 25\n",
    "    \"\"\"\n",
    "    \n",
    "    # The numbers to include in the table\n",
    "    numbers = list(range(1, n + 1))\n",
    "\n",
    "    # Print the header row\n",
    "    for i in numbers:\n",
    "        print(f'\\t{str(i)}', end='')\n",
    "\n",
    "    # End the header row\n",
    "    print()\n",
    "\n",
    "    # Print each row number and the contents of each row\n",
    "    for i in numbers:\n",
    "        print (i, end='')\n",
    "        for j in numbers:\n",
    "            print(f'\\t{str(i * j)}', end='')\n",
    "        # End the current row\n",
    "        print()\n",
    "        \n",
    "print_table(5)"
   ]
  },
  {
   "cell_type": "markdown",
   "id": "82c87f03",
   "metadata": {
    "slideshow": {
     "slide_type": "subslide"
    }
   },
   "source": [
    "### Looping Over Nested Lists<br>\n",
    "* In addition to looping over lists of numbers, strings, and Booleans, we can also loop over lists of lists\n",
    "* The loop variable, which we have named inner_list, is assigned an item of nested list elements at the beginning of each iteration"
   ]
  },
  {
   "cell_type": "code",
   "execution_count": null,
   "id": "6750d49b",
   "metadata": {
    "slideshow": {
     "slide_type": "fragment"
    }
   },
   "outputs": [],
   "source": [
    "elements = [['Li', 'Na', 'K'], ['F', 'Cl', 'Br']]\n",
    "for inner_list in elements:\n",
    "    print(inner_list)"
   ]
  },
  {
   "cell_type": "markdown",
   "id": "a7a51b4b",
   "metadata": {
    "slideshow": {
     "slide_type": "subslide"
    }
   },
   "source": [
    "* To access each string in the inner lists, we can loop over the outer list and then over each inner list using a nested loop\n",
    "* Here, we print every string in every inner list"
   ]
  },
  {
   "cell_type": "code",
   "execution_count": null,
   "id": "32773160",
   "metadata": {
    "slideshow": {
     "slide_type": "fragment"
    }
   },
   "outputs": [],
   "source": [
    "elements = [['Li', 'Na', 'K'], ['F', 'Cl', 'Br']]\n",
    "for inner_list in elements:\n",
    "    for item in inner_list:\n",
    "        print(item)"
   ]
  },
  {
   "cell_type": "markdown",
   "id": "aefb5dda",
   "metadata": {
    "slideshow": {
     "slide_type": "fragment"
    }
   },
   "source": [
    "* In the code above, the outer loop variable, inner_list, refers to a list of strings, and the inner loop variable, item, refers to a string from that list\n",
    "* When we have a nested list and we want to do something with every item in the inner lists, we need to use a nested loop"
   ]
  },
  {
   "cell_type": "markdown",
   "id": "124f613e",
   "metadata": {
    "slideshow": {
     "slide_type": "subslide"
    }
   },
   "source": [
    "### Looping Over Ragged Lists<br>\n",
    "* Nothing says that nested lists have to be the same length"
   ]
  },
  {
   "cell_type": "code",
   "execution_count": null,
   "id": "eb1e8c99",
   "metadata": {
    "slideshow": {
     "slide_type": "subslide"
    }
   },
   "outputs": [],
   "source": [
    "info = [['Isaac Newton', 1643, 1727],\n",
    "        ['Charles Darwin', 1809, 1882],\n",
    "        ['Alan Turing', 1912, 1954, 'alan@bletchley.uk']]\n",
    "for item in info:\n",
    "    print(len(item))"
   ]
  },
  {
   "cell_type": "markdown",
   "id": "dd9054c5",
   "metadata": {
    "slideshow": {
     "slide_type": "subslide"
    }
   },
   "source": [
    "* Nested lists with inner lists of varying lengths are called ragged lists\n",
    "* Ragged lists can be tricky to process if the data is not uniform\n",
    "    * For example, trying to assemble a list of email addresses for data where some addresses are missing requires careful thought\n",
    "* Ragged data does arise normally\n",
    "    * For example, if a record is made each day of the time at which a person has a drink of water, each day will have a different number of entries\n",
    "    * The inner loop iterates over the items of day, and the length of that list varies"
   ]
  },
  {
   "cell_type": "code",
   "execution_count": null,
   "id": "2e3df9b7",
   "metadata": {
    "slideshow": {
     "slide_type": "subslide"
    }
   },
   "outputs": [],
   "source": [
    "drinking_times_by_day = [['9:02', '10:17', '13:52', '18:23', '21:31'],\n",
    "                         ['8:45', '12:44', '14:52', '22:17'],\n",
    "                         ['8:55', '11:11', '12:34', '13:46', '15:52', '17:08', '21:15'],\n",
    "                         ['9:15', '11:44', '16:28'],\n",
    "                         ['10:01', '13:33', '16:45', '19:00'],\n",
    "                         ['9:34', '11:16', '15:52', '20:37'],\n",
    "                         ['9:01', '12:24', '18:51', '23:13']]\n",
    "\n",
    "for day in drinking_times_by_day:\n",
    "    for drinking_time in day:\n",
    "        print(drinking_time, end=' ')\n",
    "    print()"
   ]
  },
  {
   "cell_type": "markdown",
   "id": "8ec954ba",
   "metadata": {
    "slideshow": {
     "slide_type": "subslide"
    }
   },
   "source": [
    "### Looping Until a Condition Is Reached<br>\n",
    "* $\\rm\\color{orange}{for}$ loops are useful only if we know how many iterations of the loop we need\n",
    "* In some situations, it is not known in advance how many loop iterations to execute\n",
    "    * In a game program, for example, we cannot know whether a player is going to want to play again or quit\n",
    "* In these situations, we use a $\\rm\\color{orange}{while}$ loop\n",
    "* The general form of a while loop is as follows\n",
    "  \n",
    "        while «expression»:\n",
    "            «block»\n",
    "  \n",
    "* The while loop expression is sometimes called the $\\rm\\color{magenta}{loop\\space condition}$, just like the condition of an if statement\n",
    "    * When Python executes a while loop, it evaluates the expression. If that expression evaluates to False, that is the end of the execution of the loop\n",
    "    * If the expression evaluates to True, on the other hand, Python executes the loop body once and then goes back to the top of the loop and reevaluates the expression\n",
    "    * If it still evaluates to True, the loop body is executed again\n",
    "* This is repeated—expression, body, expression, body—until the expression evaluates to False, at which point Python stops executing the loop"
   ]
  },
  {
   "cell_type": "code",
   "execution_count": null,
   "id": "9a1d530f",
   "metadata": {
    "slideshow": {
     "slide_type": "fragment"
    }
   },
   "outputs": [],
   "source": [
    "rabbits = 3\n",
    "while rabbits > 0:\n",
    "    print(rabbits)\n",
    "    rabbits = rabbits - 1"
   ]
  },
  {
   "cell_type": "markdown",
   "id": "fc8415e7",
   "metadata": {
    "slideshow": {
     "slide_type": "subslide"
    }
   },
   "source": [
    "* Notice that this loop did not print $0$\n",
    "* When the number of rabbits reaches zero, the loop expression evaluates to False, so the body is not executed\n",
    "  \n",
    "![WhileLoop](lec08-02.jpg)"
   ]
  },
  {
   "cell_type": "markdown",
   "id": "0479ee4a",
   "metadata": {
    "slideshow": {
     "slide_type": "subslide"
    }
   },
   "source": [
    "* As a more useful example, we can calculate the growth of a bacterial colony using a simple exponential growth model, which is essentially a calculation of compound interest\n",
    "  \n",
    "        P(t + 1) = P(t) + rP(t)\n",
    "  \n",
    "* In this formula, $P(t)$ is the population size at time $t$, and $r$ is the growth rate\n",
    "* Using this program, let's see how long it takes the bacteria to double their numbers\n",
    "* Because variable time was updated in the loop body, its value after the loop was the time of the last iteration, which is exactly what we want\n",
    "* Running this program gives us the answer we were looking for"
   ]
  },
  {
   "cell_type": "code",
   "execution_count": null,
   "id": "9dce2543",
   "metadata": {
    "slideshow": {
     "slide_type": "fragment"
    }
   },
   "outputs": [],
   "source": [
    "time = 0\n",
    "population = 1000 # 1000 bacteria to start with\n",
    "growth_rate = 0.21 # 21% growth per minute\n",
    "while population < 2000:\n",
    "    population = population + growth_rate * population\n",
    "    print(round(population))\n",
    "    time = time + 1\n",
    "    \n",
    "print(f'It took {time} minutes for the bacteria to double.')\n",
    "print(f'The final population was {round(population)} bacteria.')"
   ]
  },
  {
   "cell_type": "markdown",
   "id": "cde433f9",
   "metadata": {
    "slideshow": {
     "slide_type": "subslide"
    }
   },
   "source": [
    "### Infinite Loops<br>\n",
    "* The preceding example used population $<2000$ as a loop condition so that the loop stopped when the population reached double its initial size or more\n",
    "* What would happen if we stopped only when the population was exactly double its initial size?"
   ]
  },
  {
   "cell_type": "code",
   "execution_count": null,
   "id": "4170e797",
   "metadata": {
    "slideshow": {
     "slide_type": "fragment"
    }
   },
   "outputs": [],
   "source": [
    "# Use multivalued assignment to set up controls\n",
    "time, population, growth_rate = 0, 1000, 0.21\n",
    "\n",
    "# Don't stop until we're exactly double the original size\n",
    "while population != 2000:\n",
    "    population = population + growth_rate * population\n",
    "    print(population)\n",
    "#     print(round(population))\n",
    "    time = time + 1\n",
    "\n",
    "print(f'It took {time} minutes for the bacteria to double.')"
   ]
  },
  {
   "cell_type": "markdown",
   "id": "3caeb756",
   "metadata": {
    "slideshow": {
     "slide_type": "subslide"
    }
   },
   "source": [
    "* Whoops—since the population is never exactly two thousand bacteria, the loop never stops\n",
    "* The first set of dots represents more than three thousand values, each $21$ percent larger than the one before\n",
    "* Eventually, these values are too large for the computer to represent, so it displays inf (or on some computers $\\rm{1.\\#INF}$), which is its way of saying \"effectively infinity.\"\n",
    "* A loop like this one is called an $\\rm\\color{magenta}{infinite\\space loop}$, because the computer will execute it forever (or until you kill your program, whichever comes first).\n",
    "* Infinite loops are a common kind of bug; the usual symptoms include printing the same value over and over again or hanging (doing nothing at all)"
   ]
  },
  {
   "cell_type": "markdown",
   "id": "3bde785c",
   "metadata": {
    "slideshow": {
     "slide_type": "subslide"
    }
   },
   "source": [
    "### Repetition Based on User Input<br>\n",
    "* We can use function input in a loop to make the chemical formula translation example.\n",
    "* We will ask the user to enter a chemical formula, and our program will print its name\n",
    "* This should continue until the user types quit\n",
    "* Since the loop condition checks the value of text, we have to assign it a value before the loop begins\n",
    "* The number of times that this loop executes will vary depending on user input, but it will execute at least once"
   ]
  },
  {
   "cell_type": "code",
   "execution_count": null,
   "id": "2cad5a08",
   "metadata": {
    "slideshow": {
     "slide_type": "subslide"
    }
   },
   "outputs": [],
   "source": [
    "text = ''\n",
    "while text != 'quit':\n",
    "    text = input(f\"Please enter a chemical formula (or 'quit' to exit): \")\n",
    "    if text == 'quit':\n",
    "        print('…exiting program')\n",
    "    elif text == 'H2O':\n",
    "        print('Water')\n",
    "    elif text == 'NH3':\n",
    "        print('Ammonia')\n",
    "    elif text == 'CH4':\n",
    "        print('Methane')\n",
    "    else:\n",
    "        print('Unknown compound')"
   ]
  },
  {
   "cell_type": "markdown",
   "id": "d553e4f6",
   "metadata": {
    "slideshow": {
     "slide_type": "subslide"
    }
   },
   "source": [
    "### Controlling Loops Using Break and Continue<br>\n",
    "* As a rule, for and while loops execute all the statements in their body on each iteration\n",
    "* However, sometimes it is handy to be able to break that rule\n",
    "* Python provides two ways of controlling the iteration of a loop: $\\rm\\color{orange}{break}$, which terminates execution of the loop immediately, and $\\rm\\color{orange}{continue}$, which skips ahead to the next iteration"
   ]
  },
  {
   "cell_type": "markdown",
   "id": "b943741e",
   "metadata": {
    "slideshow": {
     "slide_type": "subslide"
    }
   },
   "source": [
    "### The Break Statement<br>\n",
    "* We just showed a program that continually read input from a user until the user typed quit\n",
    "* Here is a program that accomplishes the same task, but this one uses break to terminate execution of the loop when the user types quit"
   ]
  },
  {
   "cell_type": "code",
   "execution_count": null,
   "id": "c236a45b",
   "metadata": {
    "slideshow": {
     "slide_type": "subslide"
    }
   },
   "outputs": [],
   "source": [
    "while True:\n",
    "    text = input(f\"Please enter a chemical formula (or 'quit' to exit): \")\n",
    "    if text == 'quit':\n",
    "        print('…exiting program')\n",
    "        break\n",
    "    elif text == 'H2O':\n",
    "        print('Water')\n",
    "    elif text == 'NH3':\n",
    "        print('Ammonia')\n",
    "    elif text == 'CH4':\n",
    "        print('Methane')\n",
    "    else:\n",
    "        print('Unknown compound')"
   ]
  },
  {
   "cell_type": "markdown",
   "id": "ea56ac31",
   "metadata": {
    "slideshow": {
     "slide_type": "subslide"
    }
   },
   "source": [
    "* The loop condition is strange: It evaluates to True, so this looks like an infinite loop\n",
    "* However, when the user types quit, the first condition, text == 'quit', evaluates to True. The print('…exiting program') statement is executed, and then the break statement, which causes the loop to terminate\n",
    "* As a style point, we are somewhat allergic to loops that are written like this\n",
    "* We find that a loop with an explicit condition is easier to understand"
   ]
  },
  {
   "cell_type": "markdown",
   "id": "16433974",
   "metadata": {
    "slideshow": {
     "slide_type": "subslide"
    }
   },
   "source": [
    "* Sometimes a loop's task is finished before its final iteration\n",
    "* Using what we have seen so far, though, the loop still has to finish iterating\n",
    "* For example, let's write some code to find the index of the first digit in string '$\\rm{C3H7}$'\n",
    "* The digit $3$ is at index $1$ in this string"
   ]
  },
  {
   "cell_type": "code",
   "execution_count": null,
   "id": "ce046fc0",
   "metadata": {
    "slideshow": {
     "slide_type": "fragment"
    }
   },
   "outputs": [],
   "source": [
    "s = 'C3H7'\n",
    "digit_index = -1 # This will be -1 until we find a digit\n",
    "for i in range(len(s)):\n",
    "    # If we haven't found a digit, and s[i] is a digit\n",
    "    if digit_index == -1 and s[i].isdigit():\n",
    "        digit_index = i\n",
    "\n",
    "print(digit_index)"
   ]
  },
  {
   "cell_type": "markdown",
   "id": "0647aea8",
   "metadata": {
    "slideshow": {
     "slide_type": "subslide"
    }
   },
   "source": [
    "* Here we use variable digit_index to represent the index of the first digit in the string\n",
    "* It initially refers to $-1$, but when a digit is found, the digit's index, $i$, is assigned to digit_index\n",
    "* If the string doesn't contain any digits, then digit_index remains $-1$ throughout execution of the loop\n",
    "* Once digit_index has been assigned a value, it is never again equal to $-1$, so the if condition will not evaluate to True\n",
    "* Even though the job of the loop is done, the loop continues to iterate until the end of the string is reached\n",
    "* To fix this, we can terminate the loop early using a break statement, which jumps out of the loop body immediately"
   ]
  },
  {
   "cell_type": "code",
   "execution_count": null,
   "id": "c1a34a50",
   "metadata": {
    "slideshow": {
     "slide_type": "fragment"
    }
   },
   "outputs": [],
   "source": [
    "s = 'C3H7'\n",
    "digit_index = -1 # This will be -1 until we find a digit.\n",
    "for i in range(len(s)):\n",
    "    # If we find a digit\n",
    "    if s[i].isdigit():\n",
    "        digit_index = i\n",
    "        break # This exits the loop.\n",
    "\n",
    "print(digit_index)"
   ]
  },
  {
   "cell_type": "markdown",
   "id": "42288604",
   "metadata": {
    "slideshow": {
     "slide_type": "subslide"
    }
   },
   "source": [
    "* Notice that because the loop terminates early, we were able to simplify the if statement condition\n",
    "* As soon as digit_index is assigned a new value, the loop terminates, so it is not necessary to check whether digit_index refers to $-1$\n",
    "* That check only existed to prevent digit_index from being assigned the index of a subsequent digit in the string\n",
    "---\n",
    "![Break](lec08-03.jpg)"
   ]
  },
  {
   "cell_type": "markdown",
   "id": "8c4231dc",
   "metadata": {
    "slideshow": {
     "slide_type": "fragment"
    }
   },
   "source": [
    "* One more thing about break: it terminates only the $\\rm\\color{cyan}{innermost}$ loop in which it is contained\n",
    "* This means that in a nested loop, a break statement inside the inner loop will terminate only the inner loop, $\\rm\\color{cyan}{not\\space both}$ loops"
   ]
  },
  {
   "cell_type": "markdown",
   "id": "022072ea",
   "metadata": {
    "slideshow": {
     "slide_type": "subslide"
    }
   },
   "source": [
    "### The Continue Statement<br>\n",
    "* Another way to bend the rules for iteration is to use the continue statement, which causes Python to skip immediately ahead to the next iteration of a loop\n",
    "* Here, we add up all the digits in a string, and we also count how many digits there are\n",
    "* Whenever a nondigit is encountered, we use $\\rm\\color{orange}{continue}$ to skip the rest of the loop body and go back to the top of the loop in order to start the next iteration"
   ]
  },
  {
   "cell_type": "code",
   "execution_count": null,
   "id": "96d0e28f",
   "metadata": {
    "slideshow": {
     "slide_type": "fragment"
    }
   },
   "outputs": [],
   "source": [
    "s = 'C3H7'\n",
    "total = 0 # The sum of the digits seen so far\n",
    "count = 0 # The number of digits seen so far\n",
    "for i in range(len(s)):\n",
    "    if s[i].isalpha():\n",
    "        continue\n",
    "    total = total + int(s[i])\n",
    "    count = count + 1\n",
    "\n",
    "print(total)\n",
    "print(count)"
   ]
  },
  {
   "cell_type": "markdown",
   "id": "bc423c5f",
   "metadata": {
    "slideshow": {
     "slide_type": "subslide"
    }
   },
   "source": [
    "* When continue is executed, it immediately begins the next iteration of the loop\n",
    "* All statements in the loop body that appear after it are skipped, so we only execute the assignments to total and count when $s[i]$ is not a letter\n",
    "---\n",
    "  \n",
    "![Continue](lec08-04.jpg)"
   ]
  },
  {
   "cell_type": "markdown",
   "id": "3fb1c735",
   "metadata": {
    "slideshow": {
     "slide_type": "subslide"
    }
   },
   "source": [
    "* Using continue is one way to skip alphabetic characters, but this can also be accomplished by using $\\rm\\color{orange}{if}$ statements\n",
    "* In the previous code, continue prevents the variables from being modified; in other words, if the character is not alphabetic, it should be processed\n",
    "* The form of the previous sentence matches that of an if statement\n",
    "* This new version is easier to read than the first one\n",
    "* Most of the time, it is better to rewrite the code to avoid continue; almost always, the code ends up being more readable"
   ]
  },
  {
   "cell_type": "code",
   "execution_count": null,
   "id": "931987aa",
   "metadata": {
    "slideshow": {
     "slide_type": "fragment"
    }
   },
   "outputs": [],
   "source": [
    "s = 'C3H7'\n",
    "total = 0\n",
    "count = 0\n",
    "for i in range(len(s)):\n",
    "    if not s[i].isalpha():\n",
    "        total = total + int(s[i])\n",
    "        count = count + 1\n",
    "\n",
    "print(total)\n",
    "print(count)"
   ]
  },
  {
   "cell_type": "markdown",
   "id": "882533af",
   "metadata": {
    "slideshow": {
     "slide_type": "subslide"
    }
   },
   "source": [
    "### A Warning About Break and Continue<br>\n",
    "* $\\rm\\color{orange}{break}$ and $\\rm\\color{orange}{continue}$ have their place, but they should be used sparingly since\n",
    "they can make programs harder to understand\n",
    "* When people see while and for loops in programs, their first assumption is that the whole body will be executed every time—in other words, that the body can be treated as a single \"super statement\" when trying to understand the program\n",
    "    * If the loop contains break or continue, though, that assumption is false\n",
    "* Sometimes only part of the statement body will be executed, which means the reader has to keep two scenarios in mind\n",
    "* There are always alternatives: $\\rm\\color{cyan}{Well-chosen\\space loop\\space conditions\\space can\\space replace\\space break,\\space and\\space if\\space statements\\space can\\space be\\space used\\space to\\space skip\\space statements\\space instead\\space of\\space continue}$\n",
    "* It is up to the programmer to decide which option makes the program clearer and which makes it more complicated\n",
    "* As we previouly mentioned, programs are written for human beings; taking a few moments to make your code as clear as possible, or to make clarity a habit, will pay dividends for the lifetime of the program\n",
    "* Now that code is getting pretty complicated, it's even more important to write comments describing the purpose of each tricky block of statements"
   ]
  },
  {
   "cell_type": "markdown",
   "id": "2bdaa82f",
   "metadata": {
    "slideshow": {
     "slide_type": "subslide"
    }
   },
   "source": [
    "### Example of Break and Continue in Nested Loops"
   ]
  },
  {
   "cell_type": "code",
   "execution_count": null,
   "id": "88f75c68",
   "metadata": {
    "slideshow": {
     "slide_type": "fragment"
    }
   },
   "outputs": [],
   "source": [
    "for outer in range(1, 4): # Outer loop\n",
    "    for inner in ['a', 'b', 'c']: # Inner loop\n",
    "        if inner == 'b':\n",
    "            break # Breaks out of the inner loop only\n",
    "        print(f'Outer: {outer}, Inner: {inner}')\n",
    "    print(f'End of iteration {outer} of the outer loop')"
   ]
  },
  {
   "cell_type": "code",
   "execution_count": null,
   "id": "e27de601",
   "metadata": {
    "slideshow": {
     "slide_type": "subslide"
    }
   },
   "outputs": [],
   "source": [
    "for outer in range(1, 4): # Outer loop\n",
    "    for inner in ['a', 'b', 'c']: # Inner loop\n",
    "        if inner == 'b':\n",
    "            continue # Skips the current iteration of the inner loop\n",
    "        print(f'Outer: {outer}, Inner: {inner}')\n",
    "    print(f'End of iteration {outer} of the outer loop')"
   ]
  }
 ],
 "metadata": {
  "kernelspec": {
   "display_name": "Python 3 (ipykernel)",
   "language": "python",
   "name": "python3"
  },
  "language_info": {
   "codemirror_mode": {
    "name": "ipython",
    "version": 3
   },
   "file_extension": ".py",
   "mimetype": "text/x-python",
   "name": "python",
   "nbconvert_exporter": "python",
   "pygments_lexer": "ipython3",
   "version": "3.11.5"
  }
 },
 "nbformat": 4,
 "nbformat_minor": 5
}
