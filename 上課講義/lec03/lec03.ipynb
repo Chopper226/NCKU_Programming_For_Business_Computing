{
 "cells": [
  {
   "cell_type": "markdown",
   "id": "1e594fbb",
   "metadata": {
    "slideshow": {
     "slide_type": "subslide"
    }
   },
   "source": [
    "### Creating Strings of Characters<br>\n",
    "* In Python, text is represented as a string, which is a sequence of characters (letters, digits, and symbols)\n",
    "* The type whose values are sequences of characters is $\\rm\\color{orange}{str}$\n",
    "* The characters consist of those from the Latin alphabet found on most North American keyboards, as well as Chinese morphograms, chemical symbols, musical symbols, and much more"
   ]
  },
  {
   "cell_type": "markdown",
   "id": "8b25d9ef",
   "metadata": {
    "slideshow": {
     "slide_type": "subslide"
    }
   },
   "source": [
    "* In Python, we indicate that a value is a string by putting either single or double quotes around it\n",
    "* Single and double quotes are equivalent except for strings that contain quotes. You can use whichever you prefer\n",
    "* For docstrings, the Python style guidelines say that double quotes are preferred"
   ]
  },
  {
   "cell_type": "code",
   "execution_count": 1,
   "id": "4c8a22a9",
   "metadata": {
    "slideshow": {
     "slide_type": "fragment"
    }
   },
   "outputs": [
    {
     "name": "stdout",
     "output_type": "stream",
     "text": [
      "NCKU\n",
      "國立成功大學\n",
      "Industrial & Information Management\n",
      "工業與資訊管理學系\n"
     ]
    }
   ],
   "source": [
    "print(\"NCKU\")\n",
    "print(\"國立成功大學\")\n",
    "print('Industrial & Information Management')\n",
    "print('工業與資訊管理學系')"
   ]
  },
  {
   "cell_type": "markdown",
   "id": "765d4ab0",
   "metadata": {
    "slideshow": {
     "slide_type": "subslide"
    }
   },
   "source": [
    "* The opening and closing quotes must match"
   ]
  },
  {
   "cell_type": "code",
   "execution_count": null,
   "id": "187be05d",
   "metadata": {
    "slideshow": {
     "slide_type": "fragment"
    }
   },
   "outputs": [],
   "source": [
    "print('Class 2027\")"
   ]
  },
  {
   "cell_type": "markdown",
   "id": "a7968453",
   "metadata": {
    "slideshow": {
     "slide_type": "subslide"
    }
   },
   "source": [
    "* Strings can contain any number of characters, limited only by computer memory\n",
    "* The shortest string is the $\\rm\\color{magenta}{empty}$ string, containing no characters at all"
   ]
  },
  {
   "cell_type": "code",
   "execution_count": null,
   "id": "3e8117b4",
   "metadata": {
    "slideshow": {
     "slide_type": "fragment"
    }
   },
   "outputs": [],
   "source": [
    "print(\"\")\n",
    "print('')"
   ]
  },
  {
   "cell_type": "markdown",
   "id": "3cf0cc69",
   "metadata": {
    "slideshow": {
     "slide_type": "subslide"
    }
   },
   "source": [
    "### Operations on Strings<br>\n",
    "* Python has a built-in function, $\\rm\\color{orange}{len}$, that returns the number of characters between the opening and closing quotes"
   ]
  },
  {
   "cell_type": "code",
   "execution_count": 3,
   "id": "29482d51",
   "metadata": {
    "slideshow": {
     "slide_type": "fragment"
    }
   },
   "outputs": [
    {
     "name": "stdout",
     "output_type": "stream",
     "text": [
      "14\n",
      "4\n",
      "1\n",
      "0\n"
     ]
    }
   ],
   "source": [
    "print(len('Jameis Winston'))\n",
    "print(len('123!'))\n",
    "print(len(' '))\n",
    "print(len(''))"
   ]
  },
  {
   "cell_type": "markdown",
   "id": "aaf974f3",
   "metadata": {
    "slideshow": {
     "slide_type": "subslide"
    }
   },
   "source": [
    "* We can add two strings using the $\\rm\\color{orange}{+}$ operator, which produces a new string containing the same characters as in the two operands"
   ]
  },
  {
   "cell_type": "code",
   "execution_count": 4,
   "id": "44865c33",
   "metadata": {
    "slideshow": {
     "slide_type": "fragment"
    }
   },
   "outputs": [
    {
     "name": "stdout",
     "output_type": "stream",
     "text": [
      "Jameis Winston\n"
     ]
    }
   ],
   "source": [
    "print('Jameis' + ' Winston')"
   ]
  },
  {
   "cell_type": "markdown",
   "id": "08da0e64",
   "metadata": {
    "slideshow": {
     "slide_type": "subslide"
    }
   },
   "source": [
    "* When + has two string operands, it is referred to as the $\\rm\\color{orange}{concatenation\\space operator}$ ($\\rm\\color{orange}{串連運算子}$)\n",
    "* Operator + is probably the most $\\rm\\color{magenta}{overloaded}$ ($\\rm\\color{magenta}{多載}$) operator in Python\n",
    "* So far, we have applied it to integers, floating-point numbers, and strings, and we will apply it to several more types in later chapters"
   ]
  },
  {
   "cell_type": "code",
   "execution_count": 5,
   "id": "21d97541",
   "metadata": {
    "slideshow": {
     "slide_type": "fragment"
    }
   },
   "outputs": [
    {
     "name": "stdout",
     "output_type": "stream",
     "text": [
      "Devonte Freeman\n",
      "Dalvin Cook\n"
     ]
    }
   ],
   "source": [
    "print('Devonte Freeman' + \"\")\n",
    "print('' + \"Dalvin Cook\")"
   ]
  },
  {
   "cell_type": "markdown",
   "id": "982f9fd3",
   "metadata": {
    "slideshow": {
     "slide_type": "subslide"
    }
   },
   "source": [
    "* Can operator + be applied to a string and a numeric value? If so, would addition or concatenation occur?"
   ]
  },
  {
   "cell_type": "code",
   "execution_count": null,
   "id": "474ece49",
   "metadata": {
    "slideshow": {
     "slide_type": "fragment"
    }
   },
   "outputs": [],
   "source": [
    "print('Class' + 2027)"
   ]
  },
  {
   "cell_type": "markdown",
   "id": "d70f2d75",
   "metadata": {
    "slideshow": {
     "slide_type": "fragment"
    }
   },
   "source": [
    "* Here, Python took exception to our attempts to combine values of different data types because it did not know which version of + we want: The one that adds numbers or the one that concatenates strings\n",
    "* Because the first operand was a string, Python expected the second operand to also be a string but instead it was an integer"
   ]
  },
  {
   "cell_type": "code",
   "execution_count": null,
   "id": "a2f26c42",
   "metadata": {
    "slideshow": {
     "slide_type": "subslide"
    }
   },
   "outputs": [],
   "source": [
    "print(8 + ' planets')"
   ]
  },
  {
   "cell_type": "markdown",
   "id": "4b69d82a",
   "metadata": {
    "slideshow": {
     "slide_type": "fragment"
    }
   },
   "source": [
    "* Here, because Python saw a $8$ first, it expected the second operand to also be numeric\n",
    "* The order of the operands affects the error message"
   ]
  },
  {
   "cell_type": "markdown",
   "id": "cdae6beb",
   "metadata": {
    "slideshow": {
     "slide_type": "subslide"
    }
   },
   "source": [
    "* The concatenation operator MUST be applied to two strings\n",
    "* If you want to join a string with a number, function $\\rm\\color{orange}{str}$ can be applied to the number to get a string representation of it, and then the concatenation can be done"
   ]
  },
  {
   "cell_type": "code",
   "execution_count": 7,
   "id": "4b32ac1d",
   "metadata": {
    "slideshow": {
     "slide_type": "fragment"
    }
   },
   "outputs": [
    {
     "name": "stdout",
     "output_type": "stream",
     "text": [
      "Two thousand and 23 years ago\n"
     ]
    }
   ],
   "source": [
    "print('Two thousand and ' + str(23) + ' years ago')"
   ]
  },
  {
   "cell_type": "markdown",
   "id": "d62101c1",
   "metadata": {
    "slideshow": {
     "slide_type": "subslide"
    }
   },
   "source": [
    "* Function $\\rm\\color{orange}{int}$ can be applied to a string whose contents look like an integer, and $\\rm\\color{orange}{float}$ can be applied to a string whose contents are numeric"
   ]
  },
  {
   "cell_type": "code",
   "execution_count": 2,
   "id": "3dae623c",
   "metadata": {
    "slideshow": {
     "slide_type": "fragment"
    }
   },
   "outputs": [
    {
     "name": "stdout",
     "output_type": "stream",
     "text": [
      "0\n",
      "11\n",
      "-324\n",
      "-324.0\n",
      "56.34\n"
     ]
    }
   ],
   "source": [
    "print(int('0'))\n",
    "print(int(\"11\"))\n",
    "print(int('-324'))\n",
    "print(float('-324'))\n",
    "print(float(\"56.34\"))"
   ]
  },
  {
   "cell_type": "markdown",
   "id": "1b6da26c",
   "metadata": {
    "slideshow": {
     "slide_type": "subslide"
    }
   },
   "source": [
    "* It is not always possible to get an integer or a floating-point representation of a string\n",
    "* When an attempt to do so fails, an error occurs"
   ]
  },
  {
   "cell_type": "code",
   "execution_count": null,
   "id": "eb138135",
   "metadata": {
    "slideshow": {
     "slide_type": "fragment"
    }
   },
   "outputs": [],
   "source": [
    "print(int('a'))"
   ]
  },
  {
   "cell_type": "code",
   "execution_count": null,
   "id": "8e212856",
   "metadata": {
    "slideshow": {
     "slide_type": "fragment"
    }
   },
   "outputs": [],
   "source": [
    "print(float('b'))"
   ]
  },
  {
   "cell_type": "markdown",
   "id": "5b61cbaf",
   "metadata": {
    "slideshow": {
     "slide_type": "subslide"
    }
   },
   "source": [
    "* In addition to +, len, int, and float, operator $\\rm\\color{orange}{*}$ can be applied to strings\n",
    "* A string can be repeated using operator * and an integer"
   ]
  },
  {
   "cell_type": "code",
   "execution_count": 13,
   "id": "00df082a",
   "metadata": {
    "slideshow": {
     "slide_type": "fragment"
    }
   },
   "outputs": [
    {
     "name": "stdout",
     "output_type": "stream",
     "text": [
      "ATATATATAT\n",
      "----\n"
     ]
    }
   ],
   "source": [
    "print('AT' * 5)\n",
    "print(4 * '-')"
   ]
  },
  {
   "cell_type": "markdown",
   "id": "5321d56e",
   "metadata": {
    "slideshow": {
     "slide_type": "subslide"
    }
   },
   "source": [
    "* If the integer is less than or equal to zero, the operator yields the empty string"
   ]
  },
  {
   "cell_type": "code",
   "execution_count": 11,
   "id": "2a81fdd3",
   "metadata": {
    "slideshow": {
     "slide_type": "fragment"
    }
   },
   "outputs": [
    {
     "name": "stdout",
     "output_type": "stream",
     "text": [
      "\n",
      "\n"
     ]
    }
   ],
   "source": [
    "print('GC' * 0)\n",
    "print('TATATATA' * -3)"
   ]
  },
  {
   "cell_type": "markdown",
   "id": "3bff41df",
   "metadata": {
    "slideshow": {
     "slide_type": "subslide"
    }
   },
   "source": [
    "* Strings are $\\rm\\color{magenta}{values}$, so you can assign a string to a variable\n",
    "* Operations on strings can be applied to those variables"
   ]
  },
  {
   "cell_type": "code",
   "execution_count": 14,
   "id": "0dc96ec3",
   "metadata": {
    "slideshow": {
     "slide_type": "fragment"
    }
   },
   "outputs": [
    {
     "name": "stdout",
     "output_type": "stream",
     "text": [
      "10\n",
      "ATTGTCCCCCGGCCTCCTGC\n",
      "ATTGTCCCCCGGCCTCCTGCATTGTCCCCCGGCCTCCTGC\n"
     ]
    }
   ],
   "source": [
    "sequence = 'ATTGTCCCCC'\n",
    "print(len(sequence))\n",
    "new_sequence = sequence + 'GGCCTCCTGC'\n",
    "print(new_sequence)\n",
    "print(new_sequence * 2)"
   ]
  },
  {
   "cell_type": "markdown",
   "id": "62f8bf29",
   "metadata": {
    "slideshow": {
     "slide_type": "subslide"
    }
   },
   "source": [
    "### Using Special Characters in Strings<br>\n",
    "* Suppose you want to put a single quote inside a string. If you write it directly, an error occurs"
   ]
  },
  {
   "cell_type": "code",
   "execution_count": null,
   "id": "b579fcd9",
   "metadata": {
    "slideshow": {
     "slide_type": "fragment"
    }
   },
   "outputs": [],
   "source": [
    "print('That's not going to work')"
   ]
  },
  {
   "cell_type": "markdown",
   "id": "58d01850",
   "metadata": {
    "slideshow": {
     "slide_type": "fragment"
    }
   },
   "source": [
    "* When Python encounters the second quote (the one that is intended to be part of the string) it thinks the string is ended\n",
    "* Then it does not know what to do with the text that comes after the second quote"
   ]
  },
  {
   "cell_type": "markdown",
   "id": "ae76d6bd",
   "metadata": {
    "slideshow": {
     "slide_type": "subslide"
    }
   },
   "source": [
    "* One simple way to fix this is to use double quotes around the string\n",
    "* We can also put single quotes around a string containing a double quote"
   ]
  },
  {
   "cell_type": "code",
   "execution_count": null,
   "id": "d3bdee48",
   "metadata": {
    "slideshow": {
     "slide_type": "fragment"
    }
   },
   "outputs": [],
   "source": [
    "print(\"That's better\")\n",
    "print('She said, \"That is better.\"')"
   ]
  },
  {
   "cell_type": "markdown",
   "id": "9039d7d3",
   "metadata": {
    "slideshow": {
     "slide_type": "subslide"
    }
   },
   "source": [
    "* If you need to put a double quote in a string, you can use single quotes around the string\n",
    "* But what if you want to put both kinds of quote in one string?"
   ]
  },
  {
   "cell_type": "code",
   "execution_count": null,
   "id": "cf369569",
   "metadata": {
    "slideshow": {
     "slide_type": "fragment"
    }
   },
   "outputs": [],
   "source": [
    "print('She said, \"That' + \"'\" + 's hard to read.\"')\n",
    "# print('She said, \"That\\'s hard to read.\"')"
   ]
  },
  {
   "cell_type": "markdown",
   "id": "36fc8db8",
   "metadata": {
    "slideshow": {
     "slide_type": "subslide"
    }
   },
   "source": [
    "* The result is a valid Python string. The backslash is called an $\\rm\\color{magenta}{escape\\space character}$, and the combination of the backslash and the single quote is called an escape sequence\n",
    "* The name comes from the fact that we are \"escaping\" from Python’s usual syntax rules for a moment\n",
    "* When Python sees a backslash inside a string, it means that the next character represents something that Python uses for other purposes, such as marking the end of a string\n",
    "* The escape sequence $\\backslash$' is indicated using two symbols, but those two symbols\n",
    "represent a single character\n",
    "* The length of an escape sequence is $\\rm\\color{magenta}{one}$"
   ]
  },
  {
   "cell_type": "code",
   "execution_count": 16,
   "id": "ba82141f",
   "metadata": {
    "slideshow": {
     "slide_type": "fragment"
    }
   },
   "outputs": [
    {
     "name": "stdout",
     "output_type": "stream",
     "text": [
      "1\n",
      "4\n"
     ]
    }
   ],
   "source": [
    "print(len('\\''))\n",
    "print(len('it\\'s'))"
   ]
  },
  {
   "cell_type": "markdown",
   "id": "54fa8daa",
   "metadata": {
    "slideshow": {
     "slide_type": "subslide"
    }
   },
   "source": [
    "* In order to see how they are used, we will introduce multiline strings and also revisit built-in function\n",
    "print\n",
    "---\n",
    "| Escape Sequence | Description |\n",
    "| :--: | :--: |\n",
    "| $\\backslash$' | Single quote |\n",
    "| $\\backslash$\" | Double quote |\n",
    "| $\\backslash\\backslash$ | Backslash |\n",
    "| $\\backslash$t | Tab |\n",
    "| $\\backslash$n | Newline |\n",
    "| $\\backslash$r | Carriage return |"
   ]
  },
  {
   "cell_type": "markdown",
   "id": "3d9b54ee",
   "metadata": {
    "slideshow": {
     "slide_type": "subslide"
    }
   },
   "source": [
    "### Creating a Multiline String<br>\n",
    "* If you create a string using single or double quotes, the whole string must fit onto a single line\n",
    "* To span multiple lines, put three single quotes or three double quotes around the string instead of one of each\n",
    "* The string can then span as many lines as you want"
   ]
  },
  {
   "cell_type": "code",
   "execution_count": 17,
   "id": "d5e0473a",
   "metadata": {
    "slideshow": {
     "slide_type": "fragment"
    }
   },
   "outputs": [
    {
     "name": "stdout",
     "output_type": "stream",
     "text": [
      "one\n",
      "two\n",
      "three\n"
     ]
    }
   ],
   "source": [
    "print('''one\n",
    "two\n",
    "three''')"
   ]
  },
  {
   "cell_type": "markdown",
   "id": "025317cb",
   "metadata": {
    "slideshow": {
     "slide_type": "subslide"
    }
   },
   "source": [
    "### Printing Information<br>\n",
    "* Built-in function print() was used to print values to the screen\n",
    "* We will use print to print messages to the users of our program\n",
    "* Those messages may include the values that expressions produce and the values that the variables refer to"
   ]
  },
  {
   "cell_type": "code",
   "execution_count": 18,
   "id": "9df366d6",
   "metadata": {
    "slideshow": {
     "slide_type": "fragment"
    }
   },
   "outputs": [
    {
     "name": "stdout",
     "output_type": "stream",
     "text": [
      "2\n",
      "The Latin 'Oryctolagus cuniculus' means 'domestic rabbit'.\n"
     ]
    }
   ],
   "source": [
    "print(1 + 1)\n",
    "print(\"The Latin 'Oryctolagus cuniculus' means 'domestic rabbit'.\")"
   ]
  },
  {
   "cell_type": "markdown",
   "id": "5797b46e",
   "metadata": {
    "slideshow": {
     "slide_type": "fragment"
    }
   },
   "source": [
    "* Function print does not allow any styling of the output: No colors, no italics, no boldface. All output is plain text\n",
    "* The first function call does what you would expect from the numeric examples we have seen previously\n",
    "* The second does something slightly different from previous string examples: It strips off the quotes around the string and\n",
    "shows us the string’s contents rather than its representation"
   ]
  },
  {
   "cell_type": "code",
   "execution_count": null,
   "id": "ac6a6a79",
   "metadata": {
    "slideshow": {
     "slide_type": "fragment"
    }
   },
   "outputs": [],
   "source": [
    "print('In 1859, Charles Darwin revolutionized biology')\n",
    "print('and our understanding of ourselves')\n",
    "print('by publishing \"On the Origin of Species\".')"
   ]
  },
  {
   "cell_type": "markdown",
   "id": "65ba42fb",
   "metadata": {
    "slideshow": {
     "slide_type": "subslide"
    }
   },
   "source": [
    "* And the following example shows that when Python prints a string, it prints the values of any escape sequences in the string rather than their backslashed representations"
   ]
  },
  {
   "cell_type": "code",
   "execution_count": 19,
   "id": "49f4785e",
   "metadata": {
    "slideshow": {
     "slide_type": "fragment"
    }
   },
   "outputs": [
    {
     "name": "stdout",
     "output_type": "stream",
     "text": [
      "one\ttwo\n",
      "three\tfour\n"
     ]
    }
   ],
   "source": [
    "print('one\\ttwo\\nthree\\tfour')"
   ]
  },
  {
   "cell_type": "markdown",
   "id": "95980a5f",
   "metadata": {
    "slideshow": {
     "slide_type": "subslide"
    }
   },
   "source": [
    "* We saw that $\\backslash$n indicates a new line in multiline strings\n",
    "* When a multiline string is printed, those $\\backslash$ n sequences are displayed as new lines"
   ]
  },
  {
   "cell_type": "code",
   "execution_count": 20,
   "id": "f2344814",
   "metadata": {
    "slideshow": {
     "slide_type": "fragment"
    }
   },
   "outputs": [
    {
     "name": "stdout",
     "output_type": "stream",
     "text": [
      "one\n",
      "two\n",
      "three\n"
     ]
    }
   ],
   "source": [
    "numbers = '''one\n",
    "two\n",
    "three'''\n",
    "print(numbers)\n",
    "# numbers = 'one\\ntwo\\nthree'\n",
    "# print(numbers)"
   ]
  },
  {
   "cell_type": "markdown",
   "id": "3de77289",
   "metadata": {
    "slideshow": {
     "slide_type": "subslide"
    }
   },
   "source": [
    "* Function print takes a comma-separated list of values to print and prints the values with a single space between them and a newline after the last value"
   ]
  },
  {
   "cell_type": "code",
   "execution_count": 21,
   "id": "15695e3f",
   "metadata": {
    "slideshow": {
     "slide_type": "fragment"
    }
   },
   "outputs": [
    {
     "name": "stdout",
     "output_type": "stream",
     "text": [
      "1 2 3\n"
     ]
    }
   ],
   "source": [
    "print(1, 2, 3)"
   ]
  },
  {
   "cell_type": "markdown",
   "id": "86b2c015",
   "metadata": {
    "slideshow": {
     "slide_type": "subslide"
    }
   },
   "source": [
    "* When called with no arguments, print ends the current line, advancing to the next one"
   ]
  },
  {
   "cell_type": "code",
   "execution_count": 22,
   "id": "e79bbc56",
   "metadata": {
    "slideshow": {
     "slide_type": "fragment"
    }
   },
   "outputs": [
    {
     "name": "stdout",
     "output_type": "stream",
     "text": [
      "\n"
     ]
    }
   ],
   "source": [
    "print()"
   ]
  },
  {
   "cell_type": "markdown",
   "id": "1bffd7c9",
   "metadata": {
    "slideshow": {
     "slide_type": "subslide"
    }
   },
   "source": [
    "* Function print can print values of any type, and it can even print values of different types in the same function call"
   ]
  },
  {
   "cell_type": "code",
   "execution_count": 23,
   "id": "1696c48b",
   "metadata": {
    "slideshow": {
     "slide_type": "fragment"
    }
   },
   "outputs": [
    {
     "name": "stdout",
     "output_type": "stream",
     "text": [
      "1 two three 4.0\n"
     ]
    }
   ],
   "source": [
    "print(1, 'two', 'three', 4.0)"
   ]
  },
  {
   "cell_type": "markdown",
   "id": "51ad73f7",
   "metadata": {
    "slideshow": {
     "slide_type": "subslide"
    }
   },
   "source": [
    "* It is also possible to call print with an expression as an argument\n",
    "* It will print the value of that expression"
   ]
  },
  {
   "cell_type": "code",
   "execution_count": 24,
   "id": "817901f0",
   "metadata": {
    "slideshow": {
     "slide_type": "fragment"
    }
   },
   "outputs": [
    {
     "name": "stdout",
     "output_type": "stream",
     "text": [
      "The diameter of the circle is 10 cm.\n"
     ]
    }
   ],
   "source": [
    "radius = 5\n",
    "print(\"The diameter of the circle is\", radius * 2, \"cm.\")"
   ]
  },
  {
   "cell_type": "markdown",
   "id": "a4ab6e88",
   "metadata": {
    "slideshow": {
     "slide_type": "subslide"
    }
   },
   "source": [
    "* Function print has a few extra helpful features; here is the help documentation for it"
   ]
  },
  {
   "cell_type": "code",
   "execution_count": null,
   "id": "8ac0f615",
   "metadata": {
    "slideshow": {
     "slide_type": "fragment"
    }
   },
   "outputs": [],
   "source": [
    "help(print)"
   ]
  },
  {
   "cell_type": "markdown",
   "id": "0f30cfa5",
   "metadata": {
    "slideshow": {
     "slide_type": "subslide"
    }
   },
   "source": [
    "* The parameters $\\rm\\color{orange}{sep}$, $\\rm\\color{orange}{end}$, $\\rm\\color{orange}{file}$, and $\\rm\\color{orange}{flush}$ have assignment statements in the function header\n",
    "* These are called $\\rm\\color{magenta}{default\\space parameter\\space values}$: By default, if we call function print with a comma-separated list of values, the separator is a space\n",
    "* Similarly, a newline character appears at the end of every printed string\n",
    "* We will not discuss file and flush; they are beyond the scope of this text"
   ]
  },
  {
   "cell_type": "markdown",
   "id": "89dbe6fe",
   "metadata": {
    "slideshow": {
     "slide_type": "subslide"
    }
   },
   "source": [
    "* We can supply different values by using $\\rm\\color{magenta}{keyword\\space arguments}$\n",
    "    * In the Python documentation, these are often referred to explicitly as $\\rm\\color{orange}{kwargs}$\n",
    "* That is a fancy term for assigning a value to a parameter name in the function call"
   ]
  },
  {
   "cell_type": "code",
   "execution_count": null,
   "id": "18ae4db1",
   "metadata": {
    "slideshow": {
     "slide_type": "fragment"
    }
   },
   "outputs": [],
   "source": [
    "print('a', 'b', 'c')\n",
    "# print('a', 'b', 'c', sep=', ')"
   ]
  },
  {
   "cell_type": "markdown",
   "id": "8c6167aa",
   "metadata": {
    "slideshow": {
     "slide_type": "subslide"
    }
   },
   "source": [
    "* Often you will want to print information but not start a new line\n",
    "* To do this, use the keyword argument end='' to tell Python to end with an empty string instead of a new line"
   ]
  },
  {
   "cell_type": "code",
   "execution_count": 25,
   "id": "745ed57b",
   "metadata": {
    "slideshow": {
     "slide_type": "fragment"
    }
   },
   "outputs": [
    {
     "name": "stdout",
     "output_type": "stream",
     "text": [
      "a, b, cd, e, f"
     ]
    }
   ],
   "source": [
    "print('a', 'b', 'c', sep=', ', end='')\n",
    "print('d', 'e', 'f', sep=', ', end='')"
   ]
  },
  {
   "cell_type": "code",
   "execution_count": null,
   "id": "037c35e0",
   "metadata": {
    "slideshow": {
     "slide_type": "subslide"
    }
   },
   "outputs": [],
   "source": [
    "def convert_to_celsius(fahrenheit):\n",
    "    \"\"\" (number) -> float\n",
    "    \n",
    "    Return the number of Celsius degrees equivalent to fahrenheit degrees.\n",
    "    \n",
    "    >>> convert_to_celsius(75)\n",
    "    23.88888888888889\n",
    "    \"\"\"\n",
    "    \n",
    "    return (fahrenheit - 32.0) * 5.0 / 9.0\n",
    "\n",
    "print('80, 78.8, and 10.4 degrees Fahrenheit are equal to ', end='')\n",
    "print(convert_to_celsius(80), end=', \\n')\n",
    "print(convert_to_celsius(78.8), end=', and ')\n",
    "print(convert_to_celsius(10.4), end=' Celsius.\\n')"
   ]
  },
  {
   "cell_type": "markdown",
   "id": "489edf5e",
   "metadata": {
    "slideshow": {
     "slide_type": "subslide"
    }
   },
   "source": [
    "### Getting Information from the Keyboard<br>\n",
    "* Another built-in function that you will find useful is $\\rm\\color{orange}{input}$ which reads a single line of text from\n",
    "the keyboard\n",
    "* It returns whatever the user enters as a string, even if it looks like a number"
   ]
  },
  {
   "cell_type": "code",
   "execution_count": null,
   "id": "0b682ee4",
   "metadata": {
    "slideshow": {
     "slide_type": "fragment"
    }
   },
   "outputs": [],
   "source": [
    "species = input() # Homo sapiens\n",
    "print(species)\n",
    "population = input() # 6973738433\n",
    "print(population)\n",
    "print(type(population))"
   ]
  },
  {
   "cell_type": "markdown",
   "id": "a8180b0b",
   "metadata": {
    "slideshow": {
     "slide_type": "subslide"
    }
   },
   "source": [
    "* The first and third lines of the example were typed by us in response to the calls on function input\n",
    "---\n",
    "* If we are expecting the user to enter a number, we must use $\\rm\\color{orange}{int}$ or $\\rm\\color{orange}{float}$ to get an integer or a floating-point representation of the string"
   ]
  },
  {
   "cell_type": "code",
   "execution_count": null,
   "id": "31737d45",
   "metadata": {
    "slideshow": {
     "slide_type": "fragment"
    }
   },
   "outputs": [],
   "source": [
    "population = input() # 6973738433\n",
    "print(type(population))\n",
    "print(population)\n",
    "population = int(population)\n",
    "print(population)\n",
    "population += 1\n",
    "print(population)"
   ]
  },
  {
   "cell_type": "markdown",
   "id": "787f46b6",
   "metadata": {
    "slideshow": {
     "slide_type": "subslide"
    }
   },
   "source": [
    "* We do not actually need to stash the value that the call to input produces before converting it\n",
    "* This time function int is called on the result of the call to input and is equivalent to the code above"
   ]
  },
  {
   "cell_type": "code",
   "execution_count": null,
   "id": "8c3176fe",
   "metadata": {
    "slideshow": {
     "slide_type": "fragment"
    }
   },
   "outputs": [],
   "source": [
    "population = int(input()) # 6973738433\n",
    "population += 1\n",
    "print(population)"
   ]
  },
  {
   "cell_type": "markdown",
   "id": "2c79f488",
   "metadata": {
    "slideshow": {
     "slide_type": "subslide"
    }
   },
   "source": [
    "* Finally, input can be given a $\\rm\\color{magenta}{string}$ argument, which is used to prompt the user for input\n",
    "* Notice the $\\rm\\color{magenta}{space}$ at the end of our prompt"
   ]
  },
  {
   "cell_type": "code",
   "execution_count": null,
   "id": "f0e19b96",
   "metadata": {
    "slideshow": {
     "slide_type": "fragment"
    }
   },
   "outputs": [],
   "source": [
    "species = input('Please enter a species: ') # Python curtus\n",
    "print(species)"
   ]
  }
 ],
 "metadata": {
  "kernelspec": {
   "display_name": "Python 3 (ipykernel)",
   "language": "python",
   "name": "python3"
  },
  "language_info": {
   "codemirror_mode": {
    "name": "ipython",
    "version": 3
   },
   "file_extension": ".py",
   "mimetype": "text/x-python",
   "name": "python",
   "nbconvert_exporter": "python",
   "pygments_lexer": "ipython3",
   "version": "3.11.4"
  }
 },
 "nbformat": 4,
 "nbformat_minor": 5
}
