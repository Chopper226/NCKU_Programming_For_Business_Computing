{
 "cells": [
  {
   "cell_type": "markdown",
   "id": "f9a61127",
   "metadata": {
    "slideshow": {
     "slide_type": "subslide"
    }
   },
   "source": [
    "### Expressions and Values: Arithmetic in Python<br>\n",
    "* We're familiar with mathematical expressions like $3+4$ and $2-3/5$. Each expression is built out of\n",
    "    * Values like $2$, $3$, and $5$ \n",
    "    * $\\rm\\color{orange}{Operators}$ (運算子) like $+$ and $-$, which combine their $\\rm\\color{orange}{operands}$ (運算元) in different ways  \n",
    "    * In the expression $4/5$, the operator is $/$ and the operands are $4$ and $5$  \n",
    "* Expressions do not have to involve an operator: A number by itself is an expression\n",
    "    * For example, we consider $212$ to be an expression as well as a value  \n",
    "    * Like any programming language, Python can evaluate basic mathematical expressions"
   ]
  },
  {
   "cell_type": "code",
   "execution_count": null,
   "id": "9d4309c5",
   "metadata": {
    "slideshow": {
     "slide_type": "fragment"
    }
   },
   "outputs": [],
   "source": [
    "print(4 + 13)"
   ]
  },
  {
   "cell_type": "markdown",
   "id": "bb928b17",
   "metadata": {
    "slideshow": {
     "slide_type": "subslide"
    }
   },
   "source": [
    "* Here we typed print($4+13$), and then we pressed the Run key in order to signal that we were done entering that $\\rm\\color{orange}{expression}$\n",
    "* Python then evaluated the expression\n",
    "* When an expression is evaluated, it produces a single value. In the previous expression, the evaluation of $4+13$ produced the value $17$\n",
    "* We use $\\rm\\color{orange}{print()}$ to show the value that is produced on the screen"
   ]
  },
  {
   "cell_type": "code",
   "execution_count": null,
   "id": "f35b2ce4",
   "metadata": {
    "slideshow": {
     "slide_type": "fragment"
    }
   },
   "outputs": [],
   "source": [
    "print(15 - 3)"
   ]
  },
  {
   "cell_type": "code",
   "execution_count": null,
   "id": "14921325",
   "metadata": {
    "slideshow": {
     "slide_type": "fragment"
    }
   },
   "outputs": [],
   "source": [
    "print(4 * 7)"
   ]
  },
  {
   "cell_type": "code",
   "execution_count": null,
   "id": "18dce53d",
   "metadata": {
    "slideshow": {
     "slide_type": "fragment"
    }
   },
   "outputs": [],
   "source": [
    "print(5 / 2)"
   ]
  },
  {
   "cell_type": "markdown",
   "id": "70809a83",
   "metadata": {
    "slideshow": {
     "slide_type": "subslide"
    }
   },
   "source": [
    "* The result has a decimal point. In fact, the result of division $\\rm\\color{orange}{always}$ has a decimal point even if the result is a whole number"
   ]
  },
  {
   "cell_type": "code",
   "execution_count": null,
   "id": "a92f5cc1",
   "metadata": {
    "slideshow": {
     "slide_type": "fragment"
    }
   },
   "outputs": [],
   "source": [
    "print(4 / 2)"
   ]
  },
  {
   "cell_type": "markdown",
   "id": "9fde2001",
   "metadata": {
    "slideshow": {
     "slide_type": "subslide"
    }
   },
   "source": [
    "### Types <br>\n",
    "* Every value in Python has a particular type, and the types of values determine how they behave when they are combined\n",
    "* Values like $4$ and $17$ have type $\\rm\\color{orange}{int}$ (short for integer), and values like $2.5$ and $17.0$ have type $\\rm\\color{orange}{float}$\n",
    "* The word float is short for floating point, which refers to the decimal point that moves around\n",
    "between digits of the number\n",
    "* An expression involving two floats produces a float"
   ]
  },
  {
   "cell_type": "code",
   "execution_count": null,
   "id": "18588bc2",
   "metadata": {
    "slideshow": {
     "slide_type": "fragment"
    }
   },
   "outputs": [],
   "source": [
    "print(17.0 - 10.0)"
   ]
  },
  {
   "cell_type": "markdown",
   "id": "c47249c2",
   "metadata": {
    "slideshow": {
     "slide_type": "subslide"
    }
   },
   "source": [
    "* When an expression’s operands are an int and a float, Python automatically converts the int to a float\n",
    "* This is why the following two expressions both return the same answer"
   ]
  },
  {
   "cell_type": "code",
   "execution_count": null,
   "id": "f81499c3",
   "metadata": {
    "slideshow": {
     "slide_type": "fragment"
    }
   },
   "outputs": [],
   "source": [
    "print(17.0 - 10)\n",
    "print(17 - 10.0)"
   ]
  },
  {
   "cell_type": "markdown",
   "id": "0dd36bd7",
   "metadata": {
    "slideshow": {
     "slide_type": "subslide"
    }
   },
   "source": [
    "* If you want, you can omit the zero after the decimal point when writing a floating-point number\n",
    "* However, most people think this is bad style, since it makes your programs harder to read"
   ]
  },
  {
   "cell_type": "code",
   "execution_count": null,
   "id": "d2fe299d",
   "metadata": {
    "slideshow": {
     "slide_type": "fragment"
    }
   },
   "outputs": [],
   "source": [
    "print(17. - 10)\n",
    "print(17 - 10.)"
   ]
  },
  {
   "cell_type": "markdown",
   "id": "9f037dd5",
   "metadata": {
    "slideshow": {
     "slide_type": "subslide"
    }
   },
   "source": [
    "### Integer Division, Modulo, and Exponentiation<br>\n",
    "* Every now and then, we want only the integer part of a division result\n",
    "* For example, we might want to know how many $24$-hour days there are in $53$ hours\n",
    "* To calculate the number of days, we can use $\\rm\\color{orange}{integer\\space division}$"
   ]
  },
  {
   "cell_type": "code",
   "execution_count": 6,
   "id": "7ec71a9f",
   "metadata": {
    "slideshow": {
     "slide_type": "fragment"
    }
   },
   "outputs": [
    {
     "name": "stdout",
     "output_type": "stream",
     "text": [
      "2\n"
     ]
    }
   ],
   "source": [
    "print(53 // 24)"
   ]
  },
  {
   "cell_type": "markdown",
   "id": "c9aa3c4b",
   "metadata": {
    "slideshow": {
     "slide_type": "subslide"
    }
   },
   "source": [
    "* We can find out how many hours are left over using the $\\rm\\color{orange}{modulo}$ operator, which gives the remainder of the division"
   ]
  },
  {
   "cell_type": "code",
   "execution_count": 7,
   "id": "030386b6",
   "metadata": {
    "slideshow": {
     "slide_type": "fragment"
    }
   },
   "outputs": [
    {
     "name": "stdout",
     "output_type": "stream",
     "text": [
      "5\n"
     ]
    }
   ],
   "source": [
    "print(53 % 24)"
   ]
  },
  {
   "cell_type": "markdown",
   "id": "c6da8b90",
   "metadata": {
    "slideshow": {
     "slide_type": "subslide"
    }
   },
   "source": [
    "* Be careful about using $\\%$ and $//$ with negative operands\n",
    "* Python takes the floor of the result of an integer division, the result is one smaller than you might expect if the result is negative"
   ]
  },
  {
   "cell_type": "code",
   "execution_count": 8,
   "id": "9fa6262e",
   "metadata": {
    "slideshow": {
     "slide_type": "fragment"
    }
   },
   "outputs": [
    {
     "name": "stdout",
     "output_type": "stream",
     "text": [
      "-2\n"
     ]
    }
   ],
   "source": [
    "print(-17 // 10)"
   ]
  },
  {
   "cell_type": "markdown",
   "id": "99a57e4f",
   "metadata": {
    "slideshow": {
     "slide_type": "subslide"
    }
   },
   "source": [
    "* When using modulo, the sign of the result matches the sign of the divisor (除數)"
   ]
  },
  {
   "cell_type": "code",
   "execution_count": 9,
   "id": "ede9f57a",
   "metadata": {
    "slideshow": {
     "slide_type": "fragment"
    }
   },
   "outputs": [
    {
     "name": "stdout",
     "output_type": "stream",
     "text": [
      "3\n",
      "-3\n"
     ]
    }
   ],
   "source": [
    "print(-17 % 10)\n",
    "print(17 % -10)"
   ]
  },
  {
   "cell_type": "markdown",
   "id": "0da8e873",
   "metadata": {
    "slideshow": {
     "slide_type": "subslide"
    }
   },
   "source": [
    "* Floating-point numbers can be operands for $//$ and $\\%$ as well\n",
    "* With $//$, division is performed and the result is rounded down to the nearest whole number, although the type is a floating-point number"
   ]
  },
  {
   "cell_type": "code",
   "execution_count": 10,
   "id": "a8ec56b7",
   "metadata": {
    "slideshow": {
     "slide_type": "fragment"
    }
   },
   "outputs": [
    {
     "name": "stdout",
     "output_type": "stream",
     "text": [
      "3.0\n",
      "3.0\n",
      "2.0\n",
      "3.0\n",
      "2.0\n"
     ]
    }
   ],
   "source": [
    "print(3.3 // 1)\n",
    "print(3 // 1.0)\n",
    "print(3 // 1.1)\n",
    "print(3.5 // 1.1)\n",
    "print(3.5 // 1.3)"
   ]
  },
  {
   "cell_type": "markdown",
   "id": "4822971d",
   "metadata": {
    "slideshow": {
     "slide_type": "subslide"
    }
   },
   "source": [
    "* The following expression calculates $3$ raised to the $6$th power"
   ]
  },
  {
   "cell_type": "code",
   "execution_count": 11,
   "id": "04be741d",
   "metadata": {
    "slideshow": {
     "slide_type": "fragment"
    }
   },
   "outputs": [
    {
     "name": "stdout",
     "output_type": "stream",
     "text": [
      "729\n"
     ]
    }
   ],
   "source": [
    "print(3 ** 6)"
   ]
  },
  {
   "cell_type": "markdown",
   "id": "a03dcd21",
   "metadata": {
    "slideshow": {
     "slide_type": "subslide"
    }
   },
   "source": [
    "### What Is a Type?<br>\n",
    "* We have seen two types of numbers (integers and floating-point numbers), so we ought to explain what we mean by a type\n",
    "* In Python, a type consists of two things:\n",
    "    * A set of values\n",
    "    * A set of operations that can be applied to those values\n",
    "---  \n",
    "| Symbol | Operator | Example | Result |\n",
    "| :--: | :--: | :--: | :--: |\n",
    "| $-$ | Negation | $-5$ | $-5$ |\n",
    "| $+$ | Addition | $11+3.1$ | $14.1$ |\n",
    "| $-$ | Subtraction | $5-19$ | $-14$ |\n",
    "| $*$ | Multiplication | 8.5 * 4 | $34.0$ |\n",
    "| $/$ | Division | 11 / 2 | $5.5$ |\n",
    "| $//$ | Integer Division | 11 // 2 | $5$ |\n",
    "| $\\%$ | Remainder | 8.5 % 3.5 | $1.5$ |\n",
    "| $**$ | Exponentiation | 2 ** 5 | $32$ |"
   ]
  },
  {
   "cell_type": "markdown",
   "id": "d2e54362",
   "metadata": {
    "slideshow": {
     "slide_type": "subslide"
    }
   },
   "source": [
    "### Finite Precision<br>\n",
    "* Floating-point numbers are not exactly the fractions you learned in grade school"
   ]
  },
  {
   "cell_type": "code",
   "execution_count": 12,
   "id": "9cf3b1f8",
   "metadata": {
    "slideshow": {
     "slide_type": "fragment"
    }
   },
   "outputs": [
    {
     "name": "stdout",
     "output_type": "stream",
     "text": [
      "0.6666666666666666\n",
      "1.6666666666666667\n"
     ]
    }
   ],
   "source": [
    "print(2 / 3)\n",
    "print(5 / 3)"
   ]
  },
  {
   "cell_type": "markdown",
   "id": "8f8400a6",
   "metadata": {
    "slideshow": {
     "slide_type": "subslide"
    }
   },
   "source": [
    "* The first value ends with a $6$, and the second with a $7$\n",
    "* This is fishy: Both of them should have an infinite number of $6$s after the decimal point\n",
    "* The problem is that computers have a finite amount of memory\n",
    "    * To make calculations fast and memory efficient, most programming languages limit how much information can be stored for any single number\n",
    "    * The number $0.6666666666666666$ turns out to be the closest value to $2⁄3$ that the computer can actually store in that limited amount of memory\n",
    "    * $1.6666666666666667$ is as close as we get to the real value of $5⁄3$"
   ]
  },
  {
   "cell_type": "markdown",
   "id": "87a03e3f",
   "metadata": {
    "slideshow": {
     "slide_type": "subslide"
    }
   },
   "source": [
    "### More on Numeric Precision<br>\n",
    "* Integers (values of type $\\rm\\color{orange}{int}$) in Python can be as large or as small as you like\n",
    "* Float values are only $\\rm\\color{orange}{approximations}$ to real numbers\n",
    "* Using more memory will $\\rm\\color{orange}{NOT}$ solve the problem\n",
    "    * It will make the approximation closer to the real value\n",
    "    * Writing a larger number of $6$s after the 0 in $0.666$… does not make it exactly equal to $2⁄3$\n",
    "* The difference between $2/3$ and $0.6666666666666666$ may look tiny, but if we use $0.6666666666666666$ in a calculation, then the error may get compounded"
   ]
  },
  {
   "cell_type": "code",
   "execution_count": 13,
   "id": "7335d23f",
   "metadata": {
    "slideshow": {
     "slide_type": "fragment"
    }
   },
   "outputs": [
    {
     "name": "stdout",
     "output_type": "stream",
     "text": [
      "1.6666666666666665\n",
      "1.6666666666666667\n"
     ]
    }
   ],
   "source": [
    "print(2 / 3 + 1)\n",
    "print(5 / 3)"
   ]
  },
  {
   "cell_type": "markdown",
   "id": "edda4fe8",
   "metadata": {
    "slideshow": {
     "slide_type": "subslide"
    }
   },
   "source": [
    "* As we do more calculations, the rounding errors can get larger and larger\n",
    "* Particularly if we are mixing very large and very small numbers"
   ]
  },
  {
   "cell_type": "code",
   "execution_count": 14,
   "id": "73a6e3c3",
   "metadata": {
    "slideshow": {
     "slide_type": "fragment"
    }
   },
   "outputs": [
    {
     "name": "stdout",
     "output_type": "stream",
     "text": [
      "10000000000.0\n"
     ]
    }
   ],
   "source": [
    "print(10000000000 + 0.00000000001)"
   ]
  },
  {
   "cell_type": "markdown",
   "id": "cd98d029",
   "metadata": {
    "slideshow": {
     "slide_type": "subslide"
    }
   },
   "source": [
    "* The result ought to have twenty zeros between the first and last significant digit\n",
    "    * That is too many for the computer to store\n",
    "    * The result is just $10000000000$, as if the addition never took place\n",
    "* Adding lots of small numbers to a large one can therefore have no effect at all\n",
    "    * $\\rm\\color{orange}{Not}$ what a bank wants when it totals up the values of its customers’ savings accounts\n",
    "* It is important to be aware of the floating-point issue\n",
    "* There is no magic bullet to solve it, because computers are limited in both memory and speed\n",
    "---\n",
    "* Numerical analysis, the study of algorithms to approximate continuous mathematics, is one of the largest\n",
    "subfields of computer science and mathematics\n",
    "* $\\rm\\color{orange}{Tip}$: If you have to add up floating-point numbers, add them from smallest to largest in order to minimize the error"
   ]
  },
  {
   "cell_type": "markdown",
   "id": "169a75c5",
   "metadata": {
    "slideshow": {
     "slide_type": "subslide"
    }
   },
   "source": [
    "### Operator Precedence<br>\n",
    "* Let’s put our knowledge of ints and floats to use in converting Fahrenheit to Celsius"
   ]
  },
  {
   "cell_type": "code",
   "execution_count": null,
   "id": "6298251a",
   "metadata": {
    "slideshow": {
     "slide_type": "fragment"
    }
   },
   "outputs": [],
   "source": [
    "print(212 - 32 * 5 / 9)"
   ]
  },
  {
   "cell_type": "markdown",
   "id": "b6ce1975",
   "metadata": {
    "slideshow": {
     "slide_type": "subslide"
    }
   },
   "source": [
    "* Python claims the result is $194.22222222222223$ degrees Celsius, when in fact it should be $100$\n",
    "* The problem is that multiplication and division have higher precedence than subtraction\n",
    "* When an expression contains a mix of operators, the $*$ and $/$ are evaluated before the $-$ and $+$\n",
    "* Operators with higher precedence are applied before those with lower precedence\n",
    "---\n",
    "| Precedence | Operator | Operation |\n",
    "| :--: | :--: | :--: |\n",
    "| Highest | $**$ | Exponentiation |\n",
    "|  | $-$ | Negation |\n",
    "|  | $*$, $/$, $//$, $\\%$ | Multiplication, division, integer division, and remainder |\n",
    "| Lowest | $+$, $-$ | Addition and subtraction |\n",
    "\n",
    "---\n",
    "* Operators on the same row have equal precedence and are applied left to right, except for exponentiation, which is applied right to left"
   ]
  },
  {
   "cell_type": "markdown",
   "id": "bea03b47",
   "metadata": {
    "slideshow": {
     "slide_type": "subslide"
    }
   },
   "source": [
    "### Variables and Computer Memory: Remembering Values<br>\n",
    "* Like mathematicians, programmers frequently name values so that they can use them later\n",
    "* A name that refers to a value is called a $\\rm\\color{orange}{variable}$\n",
    "* In Python, variable names can use letters, digits, and the underscore symbol (but they cannot start with a digit)\n",
    "    * X, species $5618$, and degrees_celsius are all allowed\n",
    "    * $777$ and no-way $!$ are not\n",
    "* We create a new variable by $\\rm\\color{orange}{assigning}$ it a value"
   ]
  },
  {
   "cell_type": "code",
   "execution_count": null,
   "id": "f1ad90da",
   "metadata": {
    "slideshow": {
     "slide_type": "subslide"
    }
   },
   "outputs": [],
   "source": [
    "degrees_celsius = 26.0"
   ]
  },
  {
   "cell_type": "markdown",
   "id": "207ad440",
   "metadata": {
    "slideshow": {
     "slide_type": "fragment"
    }
   },
   "source": [
    "* This statement is called an $\\rm\\color{orange}{assignment}$ (賦值) statement\n",
    "* We say that degrees_celsius is assigned the value $26.0$\n",
    "* That makes degrees_celsius refer to the value $26.0$\n",
    "* We can use variables anywhere we can use values\n",
    "* Whenever Python sees a variable in an expression, it substitutes the value to which the variable refers"
   ]
  },
  {
   "cell_type": "code",
   "execution_count": 15,
   "id": "72755566",
   "metadata": {
    "slideshow": {
     "slide_type": "fragment"
    }
   },
   "outputs": [
    {
     "name": "stdout",
     "output_type": "stream",
     "text": [
      "26.0\n",
      "78.80000000000001\n",
      "1.0\n"
     ]
    }
   ],
   "source": [
    "degrees_celsius = 26.0\n",
    "print(degrees_celsius)\n",
    "print(9 / 5 * degrees_celsius + 32)\n",
    "print(degrees_celsius / degrees_celsius)"
   ]
  },
  {
   "cell_type": "markdown",
   "id": "1cd784c3",
   "metadata": {
    "slideshow": {
     "slide_type": "subslide"
    }
   },
   "source": [
    "* Variables are called variables because their values can vary as the program executes\n",
    "* We can assign a new value to a variable"
   ]
  },
  {
   "cell_type": "code",
   "execution_count": null,
   "id": "4bb5dc2c",
   "metadata": {
    "slideshow": {
     "slide_type": "fragment"
    }
   },
   "outputs": [],
   "source": [
    "degrees_celsius = 26.0\n",
    "print(9 / 5 * degrees_celsius + 32)\n",
    "degrees_celsius = 0.0\n",
    "print(9 / 5 * degrees_celsius + 32)"
   ]
  },
  {
   "cell_type": "markdown",
   "id": "b7720487",
   "metadata": {
    "slideshow": {
     "slide_type": "fragment"
    }
   },
   "source": [
    "* Assigning a value to a variable that already exists does not create a second variable\n",
    "* Instead, the existing variable is reused, which means that the variable no longer refers to its old value"
   ]
  },
  {
   "cell_type": "code",
   "execution_count": null,
   "id": "ea8ed269",
   "metadata": {
    "slideshow": {
     "slide_type": "fragment"
    }
   },
   "outputs": [],
   "source": [
    "degrees_celsius = 15.5\n",
    "difference = 100 - degrees_celsius\n",
    "print(difference)"
   ]
  },
  {
   "cell_type": "markdown",
   "id": "2e4fd97c",
   "metadata": {
    "slideshow": {
     "slide_type": "subslide"
    }
   },
   "source": [
    "### Warning: $=$ Is Not Equality in Python!<br>\n",
    "* In mathematics, $=$ means \"the thing on the left is equal to the thing on the right\"\n",
    "* In Python, it means something quite different: $\\rm\\color{orange}{Assignment}$\n",
    "* Assignment is not symmetric: $x=12$ assigns the value $12$ to variable $x$, but $12=x$ results in an error\n",
    "* Because of this, we never describe the statement $x=12$ as \"$x$ equals $12$.\" Instead, we read this as \"$x$ gets $12$\" or \"$x$ is assigned $12$\""
   ]
  },
  {
   "cell_type": "markdown",
   "id": "922dda8b",
   "metadata": {
    "slideshow": {
     "slide_type": "subslide"
    }
   },
   "source": [
    "### Values, Variables, and Computer Memory<br>\n",
    "* We are going to develop a memory model that will let us trace what happens when Python executes a Python program\n",
    "* The model will help us accurately predict and explain what Python does when it executes code\n",
    "* This skill is a requirement for becoming a good programmer"
   ]
  },
  {
   "cell_type": "markdown",
   "id": "710af55e",
   "metadata": {
    "slideshow": {
     "slide_type": "subslide"
    }
   },
   "source": [
    "* Every location in the computer’s memory has a memory address that uniquely identifies that location\n",
    "    * Much like an address for a house on a street\n",
    "* We are going to mark our memory addresses with an $\\rm\\color{orange}{id}$ prefix (shor for identifier)\n",
    "    * They look different from integers: *id1*, *id2*, *id3*, and so on\n",
    "    * A memory address may look like: 0x001207\n",
    "* Here is how we draw the floating-point value $26.0$ using the memory model\n",
    "  \n",
    "![Assignment01](lec01-01.jpg)  \n",
    "  \n",
    "* This picture shows the value $26.0$ at the memory address *id1*\n",
    "    * We will always show the type of the value as well. In this case, float\n",
    "* We will call this box an $\\rm\\color{orange}{object}$: A value at a memory address with a type\n",
    "* During execution of a program, every value that Python keeps track of is stored inside an object in computer memory"
   ]
  },
  {
   "cell_type": "markdown",
   "id": "1dc8ac65",
   "metadata": {
    "slideshow": {
     "slide_type": "subslide"
    }
   },
   "source": [
    "* A variable contains the memory address of the object to which it refers\n",
    "  \n",
    "![Assignment02](lec01-02.jpg)  \n",
    "  \n",
    "* We usually draw arrows from variables to their objects to make the picture easier to interpret\n",
    "* We use the following terminology\n",
    "    * Value $26.0$ has the memory address *id1*\n",
    "    * The object at the memory address *id1* has type float and the value $26.0$\n",
    "    * Variable degrees_celsius $\\rm\\color{orange}{contains}$ the memory address *id1*\n",
    "    * Variable degrees_celsius $\\rm\\color{orange}{refers}$ to the value $26.0$\n",
    "---\n",
    "* Whenever Python needs to know which value degree_celsius refers to, it looks at the object at the memory address that degree_celsius contains\n",
    "* In this example, that memory address is *id1*, so Python will use the value at the memory address *id1*, which is $26.0$"
   ]
  },
  {
   "cell_type": "markdown",
   "id": "d7bdd091",
   "metadata": {
    "slideshow": {
     "slide_type": "subslide"
    }
   },
   "source": [
    "### Assignment Statement<br>\n",
    "* The general form of an assignment statement is\n",
    "  \n",
    "        «variable» = «expression» \n",
    "  \n",
    "* It is executed as\n",
    "    1. Evaluate the expression on the right of the $=$ sign to produce a value. This value has a memory address\n",
    "    2. Store the memory address of the value in the variable on the left of the $=$\n",
    "    3. Create a new variable if that name does not already exist; otherwise, just reuse the existing variable, replacing the memory address that it contains"
   ]
  },
  {
   "cell_type": "code",
   "execution_count": 16,
   "id": "5055e6ba",
   "metadata": {
    "slideshow": {
     "slide_type": "subslide"
    }
   },
   "outputs": [
    {
     "name": "stdout",
     "output_type": "stream",
     "text": [
      "31.0\n"
     ]
    }
   ],
   "source": [
    "degrees_celsius = 26.0 + 5\n",
    "print(degrees_celsius)"
   ]
  },
  {
   "cell_type": "markdown",
   "id": "0752eb7a",
   "metadata": {
    "slideshow": {
     "slide_type": "fragment"
    }
   },
   "source": [
    "* Here is how Python executes the statement degrees_celsius$=26.0+5$:\n",
    "    1. Evaluate the expression on the right of the $=$ sign: $26.0+5$. This produces the value 31.0, which has a memory address (Remember that Python stores all values in computer memory)\n",
    "    2. Make the variable on the left of the $=$ sign, degrees_celsius, refer to $31.0$ by storing the memory address of $31.0$ in degrees_celsius"
   ]
  },
  {
   "cell_type": "markdown",
   "id": "f9161427",
   "metadata": {
    "slideshow": {
     "slide_type": "subslide"
    }
   },
   "source": [
    "### Reassigning to Variables<br>"
   ]
  },
  {
   "cell_type": "code",
   "execution_count": 17,
   "id": "c99398ab",
   "metadata": {
    "slideshow": {
     "slide_type": "fragment"
    }
   },
   "outputs": [
    {
     "name": "stdout",
     "output_type": "stream",
     "text": [
      "40\n",
      "40\n"
     ]
    }
   ],
   "source": [
    "difference = 20\n",
    "double = 2 * difference\n",
    "print(double)\n",
    "difference = 5\n",
    "print(double)"
   ]
  },
  {
   "cell_type": "markdown",
   "id": "bd4289e1",
   "metadata": {
    "slideshow": {
     "slide_type": "fragment"
    }
   },
   "source": [
    "* This code demonstrates that assigning to a variable $\\rm\\color{orange}{does\\space not\\space change\\space any\\space other\\space variable}$\n",
    "    * We start by assigning value $20$ to variable *difference*\n",
    "    * And then we assign the result of evaluating $2*$ *difference* (which produces $40$) to variable *double*\n",
    "    * Next, we assign value $5$ to variable *difference*, but when we examine the value of *double*, it still refers to $40$"
   ]
  },
  {
   "cell_type": "markdown",
   "id": "4f025a32",
   "metadata": {
    "slideshow": {
     "slide_type": "subslide"
    }
   },
   "source": [
    "* Here is how it works according to our rules: The first statement, difference = $20$, is executed as follows:\n",
    "    1. Evaluate the expression on the right of the $=$ sign: $20$. \n",
    "        * This produces the value $20$, which we will put at memory address *id1*\n",
    "    2. Make the variable on the left of the $=$ sign, *difference*, refer to $20$ by storing *id1* in *difference*  \n",
    "  \n",
    "![Assignment03](lec01-03.jpg)  \n",
    "  \n",
    "* Variable double has not yet been created because we have not yet executed the assignment to it"
   ]
  },
  {
   "cell_type": "markdown",
   "id": "96df6243",
   "metadata": {
    "slideshow": {
     "slide_type": "subslide"
    }
   },
   "source": [
    "* The second statement, *double*$=2*$ *difference*, is executed as follows:\n",
    "    1. Evaluate the expression on the right of the $=$ sign: $2*$ *difference*\n",
    "        * As we see in the memory model, *difference* refers to the value $20$\n",
    "        * So this expression is equivalent to $2*20$, which produces $40$\n",
    "        * We will pick the memory address *id2* for the value $40$\n",
    "    2. Make the variable on the left of the $=$ sign, *double*, refer to $40$ by storing *id2* in *double*  \n",
    "  \n",
    "![Assignment04](lec01-04.jpg)"
   ]
  },
  {
   "cell_type": "markdown",
   "id": "fa7b54eb",
   "metadata": {
    "slideshow": {
     "slide_type": "subslide"
    }
   },
   "source": [
    "* When Python executes the third statement, it merely looks up the value that double refers to ($40$) and displays it\n",
    "---\n",
    "* The fourth statement, *difference* $=5$, is executed as follows:\n",
    "    1. Evaluate the expression on the right of the $=$ sign: $5$\n",
    "        * This produces the value $5$, which we’ll put at the memory address *id3*\n",
    "    2. Make the variable on the left of the $=$ sign, difference, refer to $5$ by storing *id3* in *difference*  \n",
    "  \n",
    "![Assignment05](lec01-05.jpg)  \n",
    "  \n",
    "* Variable double still contains *id2*, so it still refers to $40$. Neither variable refers to $20$ anymore\n",
    "---\n",
    "* The fifth and last statement merely looks up the value that *double* refers to, which is still $40$, and displays it"
   ]
  },
  {
   "cell_type": "code",
   "execution_count": 18,
   "id": "fc4b728a",
   "metadata": {
    "slideshow": {
     "slide_type": "subslide"
    }
   },
   "outputs": [
    {
     "name": "stdout",
     "output_type": "stream",
     "text": [
      "3\n",
      "6\n",
      "36\n"
     ]
    }
   ],
   "source": [
    "number = 3\n",
    "print(number)\n",
    "number = 2 * number\n",
    "print(number)\n",
    "number = number * number\n",
    "print(number)"
   ]
  },
  {
   "cell_type": "markdown",
   "id": "cbd00429",
   "metadata": {
    "slideshow": {
     "slide_type": "subslide"
    }
   },
   "source": [
    "### Augmented Assignment<br>\n",
    "* In the following example, the variable score appears on both sides of the assignment statement"
   ]
  },
  {
   "cell_type": "code",
   "execution_count": 19,
   "id": "97550b6f",
   "metadata": {
    "slideshow": {
     "slide_type": "fragment"
    }
   },
   "outputs": [
    {
     "name": "stdout",
     "output_type": "stream",
     "text": [
      "50\n",
      "70\n"
     ]
    }
   ],
   "source": [
    "score = 50\n",
    "print(score)\n",
    "score = score + 20\n",
    "print(score)"
   ]
  },
  {
   "cell_type": "markdown",
   "id": "fb7dc153",
   "metadata": {
    "slideshow": {
     "slide_type": "subslide"
    }
   },
   "source": [
    "* This is so common that Python provides a shorthand notation for this operation"
   ]
  },
  {
   "cell_type": "code",
   "execution_count": null,
   "id": "d1818a26",
   "metadata": {
    "slideshow": {
     "slide_type": "fragment"
    }
   },
   "outputs": [],
   "source": [
    "score = 50\n",
    "print(score)\n",
    "score += 20\n",
    "print(score)"
   ]
  },
  {
   "cell_type": "markdown",
   "id": "fad96b16",
   "metadata": {
    "slideshow": {
     "slide_type": "subslide"
    }
   },
   "source": [
    "* An augmented assignment combines an assignment statement with an operator to make the statement more concise\n",
    "* An augmented assignment statement is executed as follows:\n",
    "    1. Evaluate the expression on the right of the $=$ sign to produce a value\n",
    "    2. Apply the operator attached to the $=$ sign to the variable on the left of the $=$ and the value that was produced \n",
    "    3. This produces another value. Store the memory address of that value in the variable on the left of the $=$\n",
    "* Note that the operator is applied $\\rm\\color{orange}{after}$ the expression on the right is evaluated"
   ]
  },
  {
   "cell_type": "code",
   "execution_count": 24,
   "id": "bc329c56",
   "metadata": {
    "slideshow": {
     "slide_type": "fragment"
    }
   },
   "outputs": [
    {
     "name": "stdout",
     "output_type": "stream",
     "text": [
      "14\n"
     ]
    }
   ],
   "source": [
    "d = 2\n",
    "d *= 3 + 4\n",
    "print(d)"
   ]
  },
  {
   "cell_type": "code",
   "execution_count": null,
   "id": "e5239588",
   "metadata": {
    "slideshow": {
     "slide_type": "subslide"
    }
   },
   "outputs": [],
   "source": [
    "number = 10\n",
    "number *= number\n",
    "print(number)\n",
    "\n",
    "# This code is equivalent to\n",
    "number = 10\n",
    "number = number * number\n",
    "print(number)"
   ]
  },
  {
   "cell_type": "markdown",
   "id": "09a0fcb9",
   "metadata": {
    "slideshow": {
     "slide_type": "subslide"
    }
   },
   "source": [
    "| Symbol | Example | Result |\n",
    "| :--: | :--: | :--: |\n",
    "| $+=$ | x=7<br>x+=2 | $x$ refers to $9$ |\n",
    "| $-=$ | x=7<br>x-=2 | $x$ refers to $5$ |\n",
    "| $*=$ | x=7<br>x*=2 | $x$ refers to $14$ |\n",
    "| $/=$ | x=7<br>x/=2 | $x$ refers to $3.5$ |\n",
    "| $//=$ | x=7<br>x//=2 | $x$ refers to $3$ |\n",
    "| $\\%=$ | x=7<br>x\\%=2 | $x$ refers to $1$ |\n",
    "| $**=$ | x=7<br>x**=2 | $x$ refers to $49$ |"
   ]
  },
  {
   "cell_type": "markdown",
   "id": "7a8245b9",
   "metadata": {
    "slideshow": {
     "slide_type": "subslide"
    }
   },
   "source": [
    "### How Python Tells You Something Went Wrong<br>\n",
    "* Broadly speaking, there are two kinds of errors in Python\n",
    "    1. $\\rm\\color{orange}{Syntax}$ (語法) errors: Happen when you type something that is not valid Python code\n",
    "    2. $\\rm\\color{orange}{Semantic}$ (語意) errors: Happen when you tell Python to do something that it just cannot do\n",
    "        * For example, divide a number by zero or try to use a variable that does not exist"
   ]
  },
  {
   "cell_type": "code",
   "execution_count": null,
   "id": "73ab7f4c",
   "metadata": {
    "slideshow": {
     "slide_type": "subslide"
    }
   },
   "outputs": [],
   "source": [
    "print(214 + Valentine)"
   ]
  },
  {
   "cell_type": "markdown",
   "id": "75f71c60",
   "metadata": {
    "slideshow": {
     "slide_type": "fragment"
    }
   },
   "source": [
    "* This is pretty cryptic; Python error messages are meant for people who already know Python\n",
    "* The first two lines are not much use right now, though they will be indispensable when we start writing longer programs\n",
    "* The last line is the one that tells us what went wrong: The name *Valentine* was not recognized"
   ]
  },
  {
   "cell_type": "code",
   "execution_count": null,
   "id": "4096c035",
   "metadata": {
    "slideshow": {
     "slide_type": "subslide"
    }
   },
   "outputs": [],
   "source": [
    "print(2 + )"
   ]
  },
  {
   "cell_type": "markdown",
   "id": "accbcb5e",
   "metadata": {
    "slideshow": {
     "slide_type": "fragment"
    }
   },
   "source": [
    "* The rules governing what is and is not legal in a programming language are called its $\\rm\\color{orange}{syntax}$\n",
    "* The message tells us that we violated Python’s syntax rules\n",
    "    * We ask it to add something to $2$ but not telling it what to add"
   ]
  },
  {
   "cell_type": "code",
   "execution_count": null,
   "id": "17de3d9a",
   "metadata": {
    "slideshow": {
     "slide_type": "subslide"
    }
   },
   "outputs": [],
   "source": [
    "12 = x"
   ]
  },
  {
   "cell_type": "markdown",
   "id": "9d87f12d",
   "metadata": {
    "slideshow": {
     "slide_type": "fragment"
    }
   },
   "source": [
    "* A $\\rm\\color{orange}{literal}$ is any value, like $12$ and $26.0$\n",
    "* This is a $\\rm\\color{orange}{SyntaxError}$ because when Python examines that assignment statement, it knows that we cannot assign a value\n",
    "to a number even before it tries to execute it\n",
    "* We cannot change the value of $12$ to anything else. $12$ is just $12$"
   ]
  },
  {
   "cell_type": "markdown",
   "id": "71a5ffcc",
   "metadata": {
    "slideshow": {
     "slide_type": "subslide"
    }
   },
   "source": [
    "### Describing Code<br>\n",
    "* Programs can be quite complicated and are often thousands of lines long\n",
    "* It can be helpful to write a $\\rm\\color{orange}{comment}$ describing parts of the code\n",
    "    * When you or someone else reads it they do not have to spend much time figuring out why the code is there\n",
    "* In Python, any time the $\\#$ character is encountered, Python will ignore the rest of the line\n",
    "* The $\\#$ symbol does not have to be the first character on the line; it can appear at the end of a statement"
   ]
  },
  {
   "cell_type": "code",
   "execution_count": null,
   "id": "1d1d6da2",
   "metadata": {
    "slideshow": {
     "slide_type": "fragment"
    }
   },
   "outputs": [],
   "source": [
    "# Python ignores this sentence because of the # symbol\n",
    "print((212 - 32) * 5 / 9) # Convert 212 degrees Fahrenheit to Celsius"
   ]
  },
  {
   "cell_type": "markdown",
   "id": "21b7cfd5",
   "metadata": {
    "slideshow": {
     "slide_type": "subslide"
    }
   },
   "source": [
    "### Making Code Readable<br>\n",
    "* Much like there are spaces in English sentences to make the words easier to read, we use spaces in Python code to make it easier to read"
   ]
  },
  {
   "cell_type": "code",
   "execution_count": null,
   "id": "a318f988",
   "metadata": {
    "slideshow": {
     "slide_type": "fragment"
    }
   },
   "outputs": [],
   "source": [
    "v = 4 + -2.5 / 3.6\n",
    "v=4+-2.5/3.6"
   ]
  },
  {
   "cell_type": "markdown",
   "id": "33c31cc7",
   "metadata": {
    "slideshow": {
     "slide_type": "subslide"
    }
   },
   "source": [
    "* Since programs can get quite complicated, it is important that you choose names for your variables that will help you remember what they are for \n",
    "    * *id1*, *X2*, and *blah* will not remind you of anything when you come back to look at your program next week\n",
    "    * Use names like *celsius*, *average*, and *final_result* instead\n",
    "* It is also important to use consistent names for variables\n",
    "    * If you call something *maximum* in one place, do not call it *max_val* in another\n",
    "    * If you use the name *max_val*, don’t also use the name *maxVal*, and so on\n",
    "---\n",
    "* These rules are so important that many programming teams require members to follow a style guide for whatever language they are using\n",
    "    * [PEP 8 - Style Guide for Python Code](https://peps.python.org/pep-0008/)\n",
    "    * [Google Python Style Guide](https://google.github.io/styleguide/pyguide.html)"
   ]
  }
 ],
 "metadata": {
  "kernelspec": {
   "display_name": "Python 3 (ipykernel)",
   "language": "python",
   "name": "python3"
  },
  "language_info": {
   "codemirror_mode": {
    "name": "ipython",
    "version": 3
   },
   "file_extension": ".py",
   "mimetype": "text/x-python",
   "name": "python",
   "nbconvert_exporter": "python",
   "pygments_lexer": "ipython3",
   "version": "3.9.17"
  },
  "toc": {
   "base_numbering": 1,
   "nav_menu": {},
   "number_sections": true,
   "sideBar": true,
   "skip_h1_title": false,
   "title_cell": "Table of Contents",
   "title_sidebar": "Contents",
   "toc_cell": false,
   "toc_position": {},
   "toc_section_display": true,
   "toc_window_display": false
  },
  "varInspector": {
   "cols": {
    "lenName": 16,
    "lenType": 16,
    "lenVar": 40
   },
   "kernels_config": {
    "python": {
     "delete_cmd_postfix": "",
     "delete_cmd_prefix": "del ",
     "library": "var_list.py",
     "varRefreshCmd": "print(var_dic_list())"
    },
    "r": {
     "delete_cmd_postfix": ") ",
     "delete_cmd_prefix": "rm(",
     "library": "var_list.r",
     "varRefreshCmd": "cat(var_dic_list()) "
    }
   },
   "types_to_exclude": [
    "module",
    "function",
    "builtin_function_or_method",
    "instance",
    "_Feature"
   ],
   "window_display": false
  }
 },
 "nbformat": 4,
 "nbformat_minor": 5
}
