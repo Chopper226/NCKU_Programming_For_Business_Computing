{
 "cells": [
  {
   "cell_type": "markdown",
   "id": "299d523d",
   "metadata": {
    "slideshow": {
     "slide_type": "subslide"
    }
   },
   "source": [
    "### Storing Collections of Data Using Lists<br>\n",
    "* Up to this point, we have seen numbers, Boolean values, strings, functions, and a few other types. Once one of these objects has been created, it can not be modified\n",
    "* In this lecture, we will learn how to use a Python type named $\\rm\\color{orange}{list}$\n",
    "* Lists contain zero or more objects and are used to keep track of collections of data\n",
    "* Unlike the other types we have learned about, lists $\\rm\\color{cyan}{can}$ be modified"
   ]
  },
  {
   "cell_type": "markdown",
   "id": "11d7727b",
   "metadata": {
    "slideshow": {
     "slide_type": "subslide"
    }
   },
   "source": [
    "* The following table shows the number of gray whales counted near the Coal Oil Point Natural Reserve in a two-week period starting on February $24$, $2008$\n",
    "---\n",
    "| Days | Number of Whales | Days | Number of Whales |\n",
    "| :--: | :--: | :--: | :--: |\n",
    "| 1 | 5 | 8 | 6 |\n",
    "| 2 | 4 | 9 | 4 |\n",
    "| 3 | 7 | 10 | 2 |\n",
    "| 4 | 3 | 11 | 1 |\n",
    "| 5 | 2 | 12 | 7 |\n",
    "| 6 | 3 | 13 | 1 |\n",
    "| 7 | 2 | 14 | 3 |"
   ]
  },
  {
   "cell_type": "markdown",
   "id": "e2035e46",
   "metadata": {
    "slideshow": {
     "slide_type": "subslide"
    }
   },
   "source": [
    "* Using what we have seen so far, we would have to create fourteen variables to keep track of the number of whales counted each day\n",
    "  \n",
    "![Variables](lec07-01.jpg)\n",
    "  \n",
    "* To track an entire year’s worth of observations, we would need $365$ variables\n",
    "* Rather than dealing with this programming nightmare, we can use a $\\rm\\color{orange}{list}$ to keep track of the $14$ days of whale counts\n",
    "* That is, we can use a list to keep track of the $14$ int objects that contain the counts"
   ]
  },
  {
   "cell_type": "code",
   "execution_count": null,
   "id": "4d631e02",
   "metadata": {
    "slideshow": {
     "slide_type": "subslide"
    }
   },
   "outputs": [],
   "source": [
    "whales = [5, 4, 7, 3, 2, 3, 2, 6, 4, 2, 1, 7, 1, 3]\n",
    "print(whales)"
   ]
  },
  {
   "cell_type": "markdown",
   "id": "5bf4a487",
   "metadata": {
    "slideshow": {
     "slide_type": "subslide"
    }
   },
   "source": [
    "* A list is an $\\rm\\color{magenta}{object}$; like any other object, it can be assigned to a variable\n",
    "* Here is what happens in the memory model\n",
    "  \n",
    "![List](lec07-02.jpg)"
   ]
  },
  {
   "cell_type": "markdown",
   "id": "088f78a7",
   "metadata": {
    "slideshow": {
     "slide_type": "subslide"
    }
   },
   "source": [
    "* The general form of a list expression is as follows\n",
    "  \n",
    "        [«expression1», «expression2», ... , «expressionN»]\n",
    "  \n",
    "* The empty list is expressed as $\\rm\\color{magenta}{[]}$\n",
    "* In our whale count example, variable whales refers to a list with fourteen items, also known as $\\rm\\color{magenta}{elements}$\n",
    "* The list itself is an object, but it also contains the memory addresses of fourteen other objects\n",
    "* The memory model above shows whales after this assignment statement has been executed"
   ]
  },
  {
   "cell_type": "markdown",
   "id": "557f5c8a",
   "metadata": {
    "slideshow": {
     "slide_type": "subslide"
    }
   },
   "source": [
    "* The items in a list are $\\rm\\color{magenta}{ordered}$, and each item has an $\\rm\\color{magenta}{index}$ indicating its position in the list\n",
    "* The first item in a list is at index $\\rm\\color{magenta}{0}$, the second at index $\\rm\\color{magenta}{1}$, and so on\n",
    "* It would be more natural to use $1$ as the first index, as human languages do. Python, however, uses the same convention as languages like C and Java and starts counting at zero\n",
    "* To refer to a particular list item, we put the index in brackets after a reference to the list (such as the name of a\n",
    "variable)"
   ]
  },
  {
   "cell_type": "code",
   "execution_count": null,
   "id": "e389541d",
   "metadata": {
    "slideshow": {
     "slide_type": "fragment"
    }
   },
   "outputs": [],
   "source": [
    "whales = [5, 4, 7, 3, 2, 3, 2, 6, 4, 2, 1, 7, 1, 3]\n",
    "print(whales[0])\n",
    "print(whales[1])\n",
    "print(whales[12])\n",
    "print(whales[13])"
   ]
  },
  {
   "cell_type": "markdown",
   "id": "98f0f491",
   "metadata": {
    "slideshow": {
     "slide_type": "subslide"
    }
   },
   "source": [
    "* We can use only those indices that are in the range from zero up to one less than the length of the list, because the list index starts at $0$, not at $1$\n",
    "* In a fourteen-item list, the legal indices are $0$, $1$, $2$, and so on, up to $13$\n",
    "* Trying to use an out-of-range index results in an error"
   ]
  },
  {
   "cell_type": "code",
   "execution_count": null,
   "id": "2cd80dc3",
   "metadata": {
    "slideshow": {
     "slide_type": "fragment"
    }
   },
   "outputs": [],
   "source": [
    "whales = [5, 4, 7, 3, 2, 3, 2, 6, 4, 2, 1, 7, 1, 3]\n",
    "print(whales[1001])"
   ]
  },
  {
   "cell_type": "markdown",
   "id": "0df516d8",
   "metadata": {
    "slideshow": {
     "slide_type": "subslide"
    }
   },
   "source": [
    "* Unlike most programming languages, Python also lets us index backward from the end of a list\n",
    "* The last item is at index $-1$, the one before it at index $-2$, and so on\n",
    "* Negative indices provide a way to access the last item, second-to-last item and so on, without having to figure out the size of the list"
   ]
  },
  {
   "cell_type": "code",
   "execution_count": null,
   "id": "9bad53ad",
   "metadata": {
    "slideshow": {
     "slide_type": "fragment"
    }
   },
   "outputs": [],
   "source": [
    "whales = [5, 4, 7, 3, 2, 3, 2, 6, 4, 2, 1, 7, 1, 3]\n",
    "print(whales[-1])\n",
    "print(whales[-2])\n",
    "print(whales[-14])\n",
    "print(whales[-15])"
   ]
  },
  {
   "cell_type": "markdown",
   "id": "460040d0",
   "metadata": {
    "slideshow": {
     "slide_type": "subslide"
    }
   },
   "source": [
    "* Since each item in a list is an object, the items can be $\\rm\\color{magenta}{assigned}$ to other variables"
   ]
  },
  {
   "cell_type": "code",
   "execution_count": null,
   "id": "0df393e9",
   "metadata": {
    "slideshow": {
     "slide_type": "fragment"
    }
   },
   "outputs": [],
   "source": [
    "whales = [5, 4, 7, 3, 2, 3, 2, 6, 4, 2, 1, 7, 1, 3]\n",
    "third = whales[2]\n",
    "print('Third day:', third)"
   ]
  },
  {
   "cell_type": "markdown",
   "id": "1e4f14e2",
   "metadata": {
    "slideshow": {
     "slide_type": "fragment"
    }
   },
   "source": [
    "* We will learn that an entire list, such as the one that whales refers to, can be assigned to other variables and discover the effect that that has"
   ]
  },
  {
   "cell_type": "markdown",
   "id": "e0b5dd38",
   "metadata": {
    "slideshow": {
     "slide_type": "subslide"
    }
   },
   "source": [
    "### The Empty List<br>\n",
    "* In previous lectures, we saw the empty string, which does not contain any characters. There is also an empty list\n",
    "* An empty list is a list with no items in it. As with all lists, an empty list is represented using brackets"
   ]
  },
  {
   "cell_type": "code",
   "execution_count": null,
   "id": "e92a1a7f",
   "metadata": {
    "slideshow": {
     "slide_type": "fragment"
    }
   },
   "outputs": [],
   "source": [
    "whales = []"
   ]
  },
  {
   "cell_type": "markdown",
   "id": "5689bda9",
   "metadata": {
    "slideshow": {
     "slide_type": "subslide"
    }
   },
   "source": [
    "* Since an empty list has no items, trying to index an empty list results in an error"
   ]
  },
  {
   "cell_type": "code",
   "execution_count": null,
   "id": "881ca03c",
   "metadata": {
    "slideshow": {
     "slide_type": "fragment"
    }
   },
   "outputs": [],
   "source": [
    "print(whales[0])\n",
    "print(whales[-1])"
   ]
  },
  {
   "cell_type": "markdown",
   "id": "9e6f31bc",
   "metadata": {
    "slideshow": {
     "slide_type": "subslide"
    }
   },
   "source": [
    "### Lists Are Heterogeneous<br>\n",
    "* Lists can contain any type of data, including integers, strings, and even other lists\n",
    "* Here is a list of information about the element krypton, including its name, symbol, melting point, and boiling point"
   ]
  },
  {
   "cell_type": "code",
   "execution_count": null,
   "id": "916db4a2",
   "metadata": {
    "slideshow": {
     "slide_type": "fragment"
    }
   },
   "outputs": [],
   "source": [
    "krypton = ['Krypton', 'Kr', -157.2, -153.4]\n",
    "print(krypton[1])\n",
    "print(krypton[2])"
   ]
  },
  {
   "cell_type": "markdown",
   "id": "5d7b5eeb",
   "metadata": {
    "slideshow": {
     "slide_type": "subslide"
    }
   },
   "source": [
    "* A list is usually used to contain items of the same kind, like temperatures or dates or grades in a course\n",
    "* A list can be used to aggregate related information of different kinds, as we did with krypton, but this is prone to error\n",
    "    * We need to remember which temperature comes first and whether the name or the symbol starts the list\n",
    "* Another common source of bugs is when we forget to include a piece of data in our list (or perhaps it was missing in our source of information)\n",
    "    * How, for example, would we keep track of similar information for iridium if we do not know the melting point?\n",
    "    * What information would we put at index 2?\n",
    "    * A better, but more advanced, way to do this is to use object-oriented programming"
   ]
  },
  {
   "cell_type": "markdown",
   "id": "f0d0be71",
   "metadata": {
    "slideshow": {
     "slide_type": "subslide"
    }
   },
   "source": [
    "### Modifying Lists<br>\n",
    "* Suppose we are typing in a list of the noble gases and our fingers slip"
   ]
  },
  {
   "cell_type": "code",
   "execution_count": null,
   "id": "4bd091e7",
   "metadata": {
    "slideshow": {
     "slide_type": "fragment"
    }
   },
   "outputs": [],
   "source": [
    "nobles = ['helium', 'none', 'argon', 'krypton', 'xenon', 'radon']"
   ]
  },
  {
   "cell_type": "markdown",
   "id": "c7b2f549",
   "metadata": {
    "slideshow": {
     "slide_type": "subslide"
    }
   },
   "source": [
    "* The error here is that we typed 'none' instead of 'neon'\n",
    "* Here’s the memory model that was created by that assignment statement\n",
    "  \n",
    "![Modification01](lec07-03.jpg)\n",
    "  \n",
    "* Rather than retyping the whole list, we can assign a new value to a specific element of the list"
   ]
  },
  {
   "cell_type": "code",
   "execution_count": null,
   "id": "b88fb5e7",
   "metadata": {
    "slideshow": {
     "slide_type": "fragment"
    }
   },
   "outputs": [],
   "source": [
    "nobles[1] = 'neon'\n",
    "print(nobles)"
   ]
  },
  {
   "cell_type": "markdown",
   "id": "5ffc339b",
   "metadata": {
    "slideshow": {
     "slide_type": "subslide"
    }
   },
   "source": [
    "* Here is the result after the assignment to nobles[1]:\n",
    "  \n",
    "![Modification02](lec07-04.jpg)\n",
    "  \n",
    "* That memory model also shows that list objects are $\\rm\\color{magenta}{mutable}$. That is, the contents of a list can be mutated"
   ]
  },
  {
   "cell_type": "markdown",
   "id": "9a588772",
   "metadata": {
    "slideshow": {
     "slide_type": "subslide"
    }
   },
   "source": [
    "* In the code above, nobles[1] was used on the left side of the assignment operator\n",
    "* It can also be used on the right side. In general, an expression of the form L[i] (list L at index i) behaves just like a simple variable\n",
    "* If L[i] is used in an expression (such as on the right of an assignment statement), it means \"Get the value referred to by the memory address at index i of list L\"\n",
    "* On the other hand, if L[i] is on the left of an assignment statement (as in nobles[1] = 'neon'), it means \"Look up the memory address at index i of list L so it can be overwritten\""
   ]
  },
  {
   "cell_type": "markdown",
   "id": "af507466",
   "metadata": {
    "slideshow": {
     "slide_type": "subslide"
    }
   },
   "source": [
    "* In contrast to lists, numbers and strings are $\\rm\\color{magenta}{immutable}$\n",
    "* We cannot, for example, change a letter in a string\n",
    "* Methods that appear to do that, like upper, actually create new strings\n",
    "* Because strings are immutable, it is only possible to use an expression of the form s[i] (string s at index i) on the right side of the assignment operator"
   ]
  },
  {
   "cell_type": "code",
   "execution_count": null,
   "id": "25b69693",
   "metadata": {
    "slideshow": {
     "slide_type": "fragment"
    }
   },
   "outputs": [],
   "source": [
    "name = 'Darwin'\n",
    "capitalized = name.upper()\n",
    "print(capitalized)\n",
    "print(name)"
   ]
  },
  {
   "cell_type": "markdown",
   "id": "5649996b",
   "metadata": {
    "slideshow": {
     "slide_type": "subslide"
    }
   },
   "source": [
    "### Operations on Lists<br>\n",
    "* We have introduced a few of Python's built-in functions\n",
    "* Some of these, such as len, can be applied to lists, as well as others we have not seen before\n",
    "---\n",
    "| Function | Description |\n",
    "| :--: | :--: |\n",
    "| len(L) | Returns the number of items in list L |\n",
    "| max(L) | Returns the maximum value in list L |\n",
    "| min(L) | Returns the minimum value in list L |\n",
    "| sum(L) | Returns the sum of the values in list L |\n",
    "| sorted(L) | Returns a copy of list L where the items are in order from smallest to largest (This does not mutate L) |"
   ]
  },
  {
   "cell_type": "markdown",
   "id": "03191043",
   "metadata": {
    "slideshow": {
     "slide_type": "subslide"
    }
   },
   "source": [
    "* The half-life of a radioactive substance is the time taken for half of it to decay\n",
    "* After twice this time has gone by, three quarters of the material will have decayed; after three times, seven eighths, and so on\n",
    "* An isotope is a form of a chemical element. Plutonium has several isotopes, and each has a different half-life\n",
    "* Here are some of the built-in functions in action working on a list of the half-lives of plutonium isotopes Pu-$238$, Pu-$239$, Pu-$240$, Pu-$241$, and Pu-$242$"
   ]
  },
  {
   "cell_type": "code",
   "execution_count": null,
   "id": "da244e10",
   "metadata": {
    "slideshow": {
     "slide_type": "fragment"
    }
   },
   "outputs": [],
   "source": [
    "half_lives = [887.7, 24100.0, 6563.0, 14, 373300.0]\n",
    "print(len(half_lives))\n",
    "print(max(half_lives))\n",
    "print(min(half_lives))\n",
    "print(sum(half_lives))\n",
    "print(sorted(half_lives))\n",
    "print(half_lives)"
   ]
  },
  {
   "cell_type": "markdown",
   "id": "cfd01a0e",
   "metadata": {
    "slideshow": {
     "slide_type": "subslide"
    }
   },
   "source": [
    "* In addition to built-in functions, some of the operators that we have seen can also be applied to lists\n",
    "* Like strings, lists can be combined using the concatenation ($+$) operator"
   ]
  },
  {
   "cell_type": "code",
   "execution_count": null,
   "id": "51bff0d7",
   "metadata": {
    "slideshow": {
     "slide_type": "fragment"
    }
   },
   "outputs": [],
   "source": [
    "original = ['H', 'He', 'Li']\n",
    "final = original + ['Be']\n",
    "print(final)"
   ]
  },
  {
   "cell_type": "markdown",
   "id": "fee4756b",
   "metadata": {
    "slideshow": {
     "slide_type": "subslide"
    }
   },
   "source": [
    "* This code does not mutate either of the original list objects\n",
    "* Instead, it creates a new list whose entries refer to the items in the original lists\n",
    "  \n",
    "![Operation](lec07-05.jpg)"
   ]
  },
  {
   "cell_type": "markdown",
   "id": "7d3aa162",
   "metadata": {
    "slideshow": {
     "slide_type": "subslide"
    }
   },
   "source": [
    "* A list has a type, and Python complains if we use a value of some type in an inappropriate way\n",
    "* For example, an error occurs when the concatenation operator is applied to a list and a string"
   ]
  },
  {
   "cell_type": "code",
   "execution_count": null,
   "id": "98f3613b",
   "metadata": {
    "slideshow": {
     "slide_type": "fragment"
    }
   },
   "outputs": [],
   "source": [
    "print(['H', 'He', 'Li'] + 'Be')"
   ]
  },
  {
   "cell_type": "markdown",
   "id": "10562fc0",
   "metadata": {
    "slideshow": {
     "slide_type": "subslide"
    }
   },
   "source": [
    "* We can also multiply a list by an integer to get a new list containing the elements from the original list repeated that number of times"
   ]
  },
  {
   "cell_type": "code",
   "execution_count": null,
   "id": "3a14d04b",
   "metadata": {
    "slideshow": {
     "slide_type": "fragment"
    }
   },
   "outputs": [],
   "source": [
    "metals = ['Fe', 'Ni']\n",
    "print(metals * 3)"
   ]
  },
  {
   "cell_type": "markdown",
   "id": "47c6d8ca",
   "metadata": {
    "slideshow": {
     "slide_type": "subslide"
    }
   },
   "source": [
    "* As with concatenation, the original list is not modified; instead, a new list is created\n",
    "* One operator that does modify a list is $\\rm\\color{orange}{del}$, which stands for delete\n",
    "* It can be used to remove an item from a list"
   ]
  },
  {
   "cell_type": "code",
   "execution_count": null,
   "id": "3672f4cb",
   "metadata": {
    "slideshow": {
     "slide_type": "fragment"
    }
   },
   "outputs": [],
   "source": [
    "metals = ['Fe', 'Ni']\n",
    "del metals[0]\n",
    "print(metals)"
   ]
  },
  {
   "cell_type": "markdown",
   "id": "9ec3f2e4",
   "metadata": {
    "slideshow": {
     "slide_type": "subslide"
    }
   },
   "source": [
    "### The In Operator on Lists<br>\n",
    "* The in operator can be applied to lists to check whether an object is in a list"
   ]
  },
  {
   "cell_type": "code",
   "execution_count": null,
   "id": "4ec2f41f",
   "metadata": {
    "slideshow": {
     "slide_type": "fragment"
    }
   },
   "outputs": [],
   "source": [
    "nobles = ['helium', 'neon', 'argon', 'krypton', 'xenon', 'radon']\n",
    "gas = input('Enter a gas: ') # argon\n",
    "if gas in nobles:\n",
    "    print(f'{gas} is noble')\n",
    "\n",
    "gas = input('Enter a gas: ') # nitrogen\n",
    "if gas in nobles:\n",
    "    print(f'{gas} is noble')"
   ]
  },
  {
   "cell_type": "markdown",
   "id": "cbfb71d5",
   "metadata": {
    "slideshow": {
     "slide_type": "subslide"
    }
   },
   "source": [
    "* Unlike with strings, when used with lists, the in operator checks only for a single $\\rm\\color{magenta}{item}$; it does not check for sublists\n",
    "* This code checks whether the list $[1,\\space 2]$ is an item in the list $[0,\\space 1,\\space 2,\\space 3]$"
   ]
  },
  {
   "cell_type": "code",
   "execution_count": null,
   "id": "983d21e3",
   "metadata": {
    "slideshow": {
     "slide_type": "fragment"
    }
   },
   "outputs": [],
   "source": [
    "print([1, 2] in [0, 1, 2, 3])"
   ]
  },
  {
   "cell_type": "markdown",
   "id": "8efc0831",
   "metadata": {
    "slideshow": {
     "slide_type": "subslide"
    }
   },
   "source": [
    "### Slicing Lists<br>\n",
    "* Geneticists describe C. elegans phenotypes (nematodes, a type of microscopic worms) using three-letter short-form markers\n",
    "* Examples include Emb (embryonic lethality), Him (high incidence of males), Unc (uncoordinated), Dpy (dumpy: short and fat), Sma (small), and Lon (long). We can keep a list"
   ]
  },
  {
   "cell_type": "code",
   "execution_count": null,
   "id": "077a1f39",
   "metadata": {
    "slideshow": {
     "slide_type": "fragment"
    }
   },
   "outputs": [],
   "source": [
    "celegans_markers = ['Emb', 'Him', 'Unc', 'Lon', 'Dpy', 'Sma']\n",
    "print(celegans_markers)"
   ]
  },
  {
   "cell_type": "markdown",
   "id": "5481c7ed",
   "metadata": {
    "slideshow": {
     "slide_type": "subslide"
    }
   },
   "source": [
    "* It turns out that Dpy worms and Sma worms are difficult to distinguish from each other, so they are not as easily differentiated in complex strains\n",
    "* We can produce a new list based on celegans_phenotypes but without Dpy or Sma by taking a slice of the list"
   ]
  },
  {
   "cell_type": "code",
   "execution_count": null,
   "id": "f068658f",
   "metadata": {
    "slideshow": {
     "slide_type": "fragment"
    }
   },
   "outputs": [],
   "source": [
    "celegans_markers = ['Emb', 'Him', 'Unc', 'Lon', 'Dpy', 'Sma']\n",
    "useful_markers = celegans_markers[0:4]"
   ]
  },
  {
   "cell_type": "markdown",
   "id": "416fb784",
   "metadata": {
    "slideshow": {
     "slide_type": "subslide"
    }
   },
   "source": [
    "* This creates a new list consisting of only the four distinguishable markers, which are the first four items from the list that celegans_phenotypes refers to\n",
    "  \n",
    "![Slicing01](lec07-06.jpg)\n",
    "  \n",
    "* The first index in the slice is the starting point. The second index is one more than the index of the last item we want to include\n",
    "    * For example, the last item we wanted to include, Lon, had an index of $3$, so we use $4$ for the second index\n",
    "* More rigorously, list$[i$:$j]$ is a slice of the original list from index i (inclusive) up to, but not including, index j (exclusive)\n",
    "* Python uses this convention to be consistent with the rule that the legal indices for a list go from 0 up to one less than the list's length"
   ]
  },
  {
   "cell_type": "markdown",
   "id": "c290b9b6",
   "metadata": {
    "slideshow": {
     "slide_type": "subslide"
    }
   },
   "source": [
    "* The first index can be omitted if we want to slice from the beginning of the list, and the last index can be omitted if we want to slice to the end"
   ]
  },
  {
   "cell_type": "code",
   "execution_count": null,
   "id": "d4bce956",
   "metadata": {
    "slideshow": {
     "slide_type": "fragment"
    }
   },
   "outputs": [],
   "source": [
    "celegans_markers = ['Emb', 'Him', 'Unc', 'Lon', 'Dpy', 'Sma']\n",
    "print(celegans_markers[:4])\n",
    "print(celegans_markers[4:])"
   ]
  },
  {
   "cell_type": "markdown",
   "id": "a4a1479e",
   "metadata": {
    "slideshow": {
     "slide_type": "subslide"
    }
   },
   "source": [
    "* To create a copy of the entire list, omit both indices so that the \"slice\" runs from the start of the list to its end"
   ]
  },
  {
   "cell_type": "code",
   "execution_count": null,
   "id": "7b19d2f7",
   "metadata": {
    "slideshow": {
     "slide_type": "fragment"
    }
   },
   "outputs": [],
   "source": [
    "celegans_markers = ['Emb', 'Him', 'Unc', 'Lon', 'Dpy', 'Sma']\n",
    "celegans_copy = celegans_markers[:]\n",
    "celegans_markers[5] = 'Lvl'\n",
    "print(celegans_markers)\n",
    "print(celegans_copy)"
   ]
  },
  {
   "cell_type": "markdown",
   "id": "0fd2fe5a",
   "metadata": {
    "slideshow": {
     "slide_type": "subslide"
    }
   },
   "source": [
    "* The list referred to by celegans_copy is a clone of the list referred to by celegans_markers\n",
    "* The lists have the same items, but the lists themselves are different objects at different memory addresses\n",
    "  \n",
    "![Slicing02](lec07-07.jpg)"
   ]
  },
  {
   "cell_type": "markdown",
   "id": "b6613215",
   "metadata": {
    "slideshow": {
     "slide_type": "subslide"
    }
   },
   "source": [
    "### Aliasing: What's in a Name?<br>\n",
    "* An alias is an alternative name for something\n",
    "* In Python, two variables are said to be aliases when they contain the same memory address\n",
    "* For example, the following code creates two variables, both of which refer to a single list\n",
    "  \n",
    "![Aliasing01](lec07-08.jpg)"
   ]
  },
  {
   "cell_type": "code",
   "execution_count": null,
   "id": "bd4f6a5d",
   "metadata": {
    "slideshow": {
     "slide_type": "fragment"
    }
   },
   "outputs": [],
   "source": [
    "celegans_markers = ['Emb', 'Him', 'Unc', 'Lon', 'Dpy', 'Sma']\n",
    "celegans_alias = celegans_markers\n",
    "celegans_markers[5] = 'Lvl'\n",
    "print(celegans_markers)\n",
    "print(celegans_alias)"
   ]
  },
  {
   "cell_type": "markdown",
   "id": "abbce0ce",
   "metadata": {
    "slideshow": {
     "slide_type": "subslide"
    }
   },
   "source": [
    "* When we modify the list using one of the variables, references through the other variable show the change as well\n",
    "* Aliasing is one of the reasons why the notion of mutability is important\n",
    "    * For example, if x and y refer to the same list, then any changes you make to the list through x will be \"seen\" by y, and vice versa\n",
    "* This can lead to all sorts of hard-to-find errors in which a list's value changes as if by magic, even though our program does not appear to assign anything to it\n",
    "* This can not happen with immutable values like strings. Since a string can not be changed after it has been created, it is safe to have aliases for it"
   ]
  },
  {
   "cell_type": "markdown",
   "id": "5a79c14b",
   "metadata": {
    "slideshow": {
     "slide_type": "subslide"
    }
   },
   "source": [
    "### Mutable Parameters<br>\n",
    "* Aliasing occurs when we use list parameters as well, since parameters are variables\n",
    "* Here is a simple function that takes a list, removes its last item, and returns the list"
   ]
  },
  {
   "cell_type": "code",
   "execution_count": null,
   "id": "713cf604",
   "metadata": {
    "slideshow": {
     "slide_type": "fragment"
    }
   },
   "outputs": [],
   "source": [
    "def remove_last_item(L):\n",
    "    \"\"\" (list) -> list\n",
    "    \n",
    "    Return list L with the last item removed.\n",
    "    \n",
    "    Precondition: len(L) >= 0\n",
    "\n",
    "    >>> remove_last_item([1, 3, 2, 4])\n",
    "    [1, 3, 2]\n",
    "    \"\"\"\n",
    "    \n",
    "    del L[-1]\n",
    "    return L"
   ]
  },
  {
   "cell_type": "markdown",
   "id": "299aa58a",
   "metadata": {
    "slideshow": {
     "slide_type": "subslide"
    }
   },
   "source": [
    "* In the code that follows, a list is created and stored in a variable; then that variable is passed as an argument to $\\rm\\color{magenta}{remove\\_last\\_item}$"
   ]
  },
  {
   "cell_type": "code",
   "execution_count": null,
   "id": "1ce26bfc",
   "metadata": {
    "slideshow": {
     "slide_type": "fragment"
    }
   },
   "outputs": [],
   "source": [
    "celegans_markers = ['Emb', 'Him', 'Unc', 'Lon', 'Dpy', 'Lvl']\n",
    "remove_last_item(celegans_markers)\n",
    "print(celegans_markers)"
   ]
  },
  {
   "cell_type": "markdown",
   "id": "876dbfa1",
   "metadata": {
    "slideshow": {
     "slide_type": "subslide"
    }
   },
   "source": [
    "* When the call on function $\\rm\\color{magenta}{remove\\_last\\_item}$ is executed, parameter L is assigned the memory address that celegans_markers contains\n",
    "* That makes celegans_markers and L $\\rm\\color{magenta}{aliases}$\n",
    "* When the last item of the list that L refers to is removed, that change is \"seen\" by celegan_markers as well\n",
    "* Since $\\rm\\color{magenta}{remove\\_last\\_item}$ modifies the list parameter, the modified list does not actually need to be returned. We can remove the return statement"
   ]
  },
  {
   "cell_type": "code",
   "execution_count": null,
   "id": "b7139e67",
   "metadata": {
    "slideshow": {
     "slide_type": "fragment"
    }
   },
   "outputs": [],
   "source": [
    "def remove_last_item(L):\n",
    "    \"\"\" (list) -> list\n",
    "    \n",
    "    Return list L with the last item removed.\n",
    "    \n",
    "    Precondition: len(L) >= 0\n",
    "\n",
    "    >>> remove_last_item([1, 3, 2, 4])\n",
    "    [1, 3, 2]\n",
    "    \"\"\"\n",
    "    \n",
    "    del L[-1]\n",
    "    \n",
    "celegans_markers = ['Emb', 'Him', 'Unc', 'Lon', 'Dpy', 'Lvl']\n",
    "remove_last_item(celegans_markers)\n",
    "print(celegans_markers)"
   ]
  },
  {
   "cell_type": "markdown",
   "id": "72a5ecf1",
   "metadata": {
    "slideshow": {
     "slide_type": "subslide"
    }
   },
   "source": [
    "### List Methods<br>\n",
    "* Lists are objects and thus have methods\n",
    "* Table below gives some of the most commonly used list methods"
   ]
  },
  {
   "cell_type": "code",
   "execution_count": null,
   "id": "67c64e26",
   "metadata": {
    "slideshow": {
     "slide_type": "fragment"
    }
   },
   "outputs": [],
   "source": [
    "colors = ['red', 'orange', 'green']\n",
    "colors.extend(['black', 'blue'])\n",
    "print(colors)\n",
    "colors.append('purple')\n",
    "print(colors)\n",
    "colors.insert(2, 'yellow')\n",
    "print(colors)\n",
    "colors.remove('black')\n",
    "print(colors)"
   ]
  },
  {
   "cell_type": "markdown",
   "id": "b16d1ab0",
   "metadata": {
    "slideshow": {
     "slide_type": "subslide"
    }
   },
   "source": [
    "| Method | Description |\n",
    "| :--: | :--: |\n",
    "| L.append(v) | Appends value v to list L |\n",
    "| L.clear() | Removes all items from list L |\n",
    "| L.count(v) | Returns the number of occurrences of v in list L |\n",
    "| L.extend(v) | Appends the items in v to L |\n",
    "| L.index(v) | Returns the index of the first occurrence of v in L — an error is raised if v does not occur in L |\n",
    "| L.index(v, beg) | Returns the index of the first occurrence of v at or after index beg in L — an error is raised if v does not occur in that part of L |\n",
    "| L.index(v, beg, end) | Returns the index of the first occurrence of v between indices beg (inclusive) and end (exclusive) in L; an error is raised if v does not occur in that part of L |\n",
    "| L.insert(i, v) | Inserts value v at index i in list L, shifting subsequent items to make room |\n",
    "| L.pop() | Removes and returns the last item of L (which must be nonempty) |\n",
    "| L.remove(v) | Removes the first occurrence of value v from list L |\n",
    "| L.reverse() | Reverses the order of the values in list L |\n",
    "| L.sort() | Sorts the values in list L in ascending order (for strings with the same letter case, it sorts in alphabetical order) |\n",
    "| L.sort(reverse=True) | Sorts the values in list L in descending order (for strings with the same letter case, it sorts in reverse alphabetical order) |"
   ]
  },
  {
   "cell_type": "markdown",
   "id": "5a851483",
   "metadata": {
    "slideshow": {
     "slide_type": "subslide"
    }
   },
   "source": [
    "* All the methods shown above modify the list instead of creating a new list\n",
    "* The same is true for the methods clear, reverse, sort, and pop\n",
    "* Of those methods, only pop returns a value other than None. (pop returns the item that was removed\n",
    "from the list)\n",
    "* In fact, the only method that returns a list is copy, which is equivalent to L$[:]$\n",
    "* Finally, a call to append is not the same as using $+$\n",
    "    * First, append appends a single value, while $+$ expects two lists as operands\n",
    "    * Second, append modifies the list rather than creating a new one"
   ]
  },
  {
   "cell_type": "markdown",
   "id": "89255a1d",
   "metadata": {
    "slideshow": {
     "slide_type": "subslide"
    }
   },
   "source": [
    "### Where Did the List Go?<br>\n",
    "* Programmers occasionally forget that many list methods return $\\rm\\color{orange}{None}$ rather than creating and returning a new list\n",
    "* As a result, lists sometimes seem to disappear"
   ]
  },
  {
   "cell_type": "code",
   "execution_count": null,
   "id": "349d20a2",
   "metadata": {
    "slideshow": {
     "slide_type": "fragment"
    }
   },
   "outputs": [],
   "source": [
    "colors = 'red orange yellow green blue purple'.split()\n",
    "print(colors)\n",
    "sorted_colors = colors.sort()\n",
    "print(sorted_colors)"
   ]
  },
  {
   "cell_type": "markdown",
   "id": "0c509454",
   "metadata": {
    "slideshow": {
     "slide_type": "subslide"
    }
   },
   "source": [
    "* In this example, colors.sort() did two things\n",
    "    * It sorted the items in the list\n",
    "    * It returned the value None\n",
    "* That is why variable sorted_colors refers to None\n",
    "* Variable colors, on the other hand, refers to the sorted list"
   ]
  },
  {
   "cell_type": "code",
   "execution_count": null,
   "id": "7b8f352c",
   "metadata": {
    "slideshow": {
     "slide_type": "fragment"
    }
   },
   "outputs": [],
   "source": [
    "print(colors)"
   ]
  },
  {
   "cell_type": "markdown",
   "id": "98ea5c71",
   "metadata": {
    "slideshow": {
     "slide_type": "fragment"
    }
   },
   "source": [
    "* Methods that mutate a collection, such as append and sort, return None\n",
    "* It is a common error to expect that they will return the resulting list"
   ]
  },
  {
   "cell_type": "markdown",
   "id": "a99dee85",
   "metadata": {
    "slideshow": {
     "slide_type": "subslide"
    }
   },
   "source": [
    "### Working with a List of Lists<br>\n",
    "* We said that lists can contain any type of data. That means that they can contain other lists\n",
    "* A list whose items are lists is called a nested list\n",
    "  \n",
    "![NestedList01](lec07-09.jpg)"
   ]
  },
  {
   "cell_type": "code",
   "execution_count": null,
   "id": "279021f8",
   "metadata": {
    "slideshow": {
     "slide_type": "subslide"
    }
   },
   "outputs": [],
   "source": [
    "life = [['Canada', 76.5], ['United States', 75.5], ['Mexico', 72.0]]"
   ]
  },
  {
   "cell_type": "markdown",
   "id": "29b161b9",
   "metadata": {
    "slideshow": {
     "slide_type": "subslide"
    }
   },
   "source": [
    "* Notice that each item in the outer list is itself a list of two items\n",
    "* We use the standard indexing notation to access the items in the outer list"
   ]
  },
  {
   "cell_type": "code",
   "execution_count": null,
   "id": "c548b46b",
   "metadata": {
    "slideshow": {
     "slide_type": "fragment"
    }
   },
   "outputs": [],
   "source": [
    "life = [['Canada', 76.5], ['United States', 75.5], ['Mexico', 72.0]]\n",
    "print(life[0])\n",
    "print(life[1])\n",
    "print(life[2])"
   ]
  },
  {
   "cell_type": "markdown",
   "id": "427823da",
   "metadata": {
    "slideshow": {
     "slide_type": "subslide"
    }
   },
   "source": [
    "* Since each of these items is also a list, we can index it again, just as we can chain together method calls or nest function calls"
   ]
  },
  {
   "cell_type": "code",
   "execution_count": null,
   "id": "10a1fffe",
   "metadata": {
    "slideshow": {
     "slide_type": "fragment"
    }
   },
   "outputs": [],
   "source": [
    "life = [['Canada', 76.5], ['United States', 75.5], ['Mexico', 72.0]]\n",
    "print(life[1])\n",
    "print(life[1][0])\n",
    "print(life[1][1])"
   ]
  },
  {
   "cell_type": "markdown",
   "id": "c3583f48",
   "metadata": {
    "slideshow": {
     "slide_type": "subslide"
    }
   },
   "source": [
    "* We can also assign sublists to variables"
   ]
  },
  {
   "cell_type": "code",
   "execution_count": null,
   "id": "0e59ad13",
   "metadata": {
    "slideshow": {
     "slide_type": "fragment"
    }
   },
   "outputs": [],
   "source": [
    "life = [['Canada', 76.5], ['United States', 75.5], ['Mexico', 72.0]]\n",
    "canada = life[0]\n",
    "print(canada)\n",
    "print(canada[0])\n",
    "print(canada[1])"
   ]
  },
  {
   "cell_type": "markdown",
   "id": "2f6bf81f",
   "metadata": {
    "slideshow": {
     "slide_type": "subslide"
    }
   },
   "source": [
    "* Assigning a sublist to a variable creates an alias for that sublist\n",
    "  \n",
    "![NestedList02](lec07-10.jpg)\n",
    "  \n",
    "* As before, any change we make through the sublist reference will be seen when we access the main list, and vice versa"
   ]
  },
  {
   "cell_type": "code",
   "execution_count": null,
   "id": "c3bd8cd2",
   "metadata": {
    "slideshow": {
     "slide_type": "fragment"
    }
   },
   "outputs": [],
   "source": [
    "life = [['Canada', 76.5], ['United States', 75.5], ['Mexico', 72.0]]\n",
    "canada = life[0]\n",
    "canada[1] = 80.0\n",
    "print(canada)\n",
    "print(life)"
   ]
  }
 ],
 "metadata": {
  "kernelspec": {
   "display_name": "Python 3 (ipykernel)",
   "language": "python",
   "name": "python3"
  },
  "language_info": {
   "codemirror_mode": {
    "name": "ipython",
    "version": 3
   },
   "file_extension": ".py",
   "mimetype": "text/x-python",
   "name": "python",
   "nbconvert_exporter": "python",
   "pygments_lexer": "ipython3",
   "version": "3.9.12"
  }
 },
 "nbformat": 4,
 "nbformat_minor": 5
}
