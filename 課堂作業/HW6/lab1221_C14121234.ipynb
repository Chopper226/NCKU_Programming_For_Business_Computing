{
 "cells": [
  {
   "cell_type": "markdown",
   "id": "ecf42761",
   "metadata": {},
   "source": [
    "## Process Sales Data<br>\n",
    "#### Objective\n",
    "Your task is to write a Python function named $\\rm\\color{cyan}{process\\_sales\\_data}$ that reads sales data from a file, calculates the total quantity sold for each product, and outputs the results both on the screen and to a separate file.<br><br>\n",
    "\n",
    "#### Background\n",
    "You are provided with a sales data file where each line represents a sale. Each line contains three pieces of information, separated by commas: the date of the sale, the product name, and the quantity sold.<br><br>\n",
    "\n",
    "#### Requirements\n",
    "* Read Sales Data: Your function should read data from a provided text file named $\\rm\\color{cyan}{sales.txt}$. Each line in the file follows the format: date, product_name, quantity_sold. For example: 2023-12-01, WH-1000XM5, 3.\n",
    "* Calculate Total Sales: For each product, calculate the total quantity sold over the entire dataset.<br><br>\n",
    "\n",
    "#### Output Results\n",
    "\n",
    "* Print the total quantity sold for each product on the screen. The output should be sorted alphabetically by the product name.\n",
    "* Write these results to a new text file named $\\rm\\color{cyan}{sales\\_dec.txt}$ in the format: product_name, total_quantity. The products should be listed in alphabetical order.<br><br>\n",
    "\n",
    "#### Constraints\n",
    "* Do not use dictionary data structures.\n",
    "* Avoid using advanced Python features such as zip, lambda, or list comprehensions.\n",
    "* Focus on using basic loops, conditional statements, and list operations.<br><br>\n",
    "\n",
    "#### Tips\n",
    "* Start by reading the file line by line and understand how to extract the necessary information.\n",
    "* Keep track of the total quantity sold for each product using parallel lists.\n",
    "* Sort the results before printing and writing them to the file."
   ]
  },
  {
   "cell_type": "code",
   "execution_count": 3,
   "id": "b33a51d0",
   "metadata": {},
   "outputs": [
    {
     "name": "stdout",
     "output_type": "stream",
     "text": [
      "PlayStation 5,97\n",
      "WH-1000XM5,102\n",
      "XRM-65X95L,90\n",
      "Xperia 1 V,81\n"
     ]
    }
   ],
   "source": [
    "result = []\n",
    "\n",
    "def process_sales_data( line ) :\n",
    "    date , product , value = line.split(',')\n",
    "    product = product.strip()\n",
    "    value = int(value.strip())\n",
    "    check = 1\n",
    "    for i in range( len(result) ) :\n",
    "        if result[i][0] == product : \n",
    "            result[i][1] += value\n",
    "            check = 0\n",
    "    if check :\n",
    "        result.append([product , value])\n",
    "\n",
    "\n",
    "with open ( 'sales.txt' , 'r' ) as data_file :\n",
    "    for line in data_file :\n",
    "        process_sales_data(line)\n",
    "\n",
    "for i in range( len(result) ) :\n",
    "    for j in range( i , len(result) ) :\n",
    "        if result[i][0] > result[j][0] :\n",
    "            tmp = result[i]\n",
    "            result[i] = result[j]\n",
    "            result[j] = tmp\n",
    "\n",
    "with open( 'sales_dec.txt' , 'w' ) as file :\n",
    "    for i in range( len(result) ) :\n",
    "        new_line = f'{result[i][0]} , {result[i][1]}\\n'\n",
    "        file.write( new_line )\n",
    "        print( result[i][0] , result[i][1] , sep=',')\n",
    "\n"
   ]
  },
  {
   "cell_type": "markdown",
   "id": "a8dd7d85",
   "metadata": {},
   "source": [
    "## Calculate Product Scores Based on Customer Feedback<br>\n",
    "#### Objective\n",
    "Develop a Python function named $\\rm\\color{cyan}{calculate\\_product\\_scores}$ that reads customer feedback data from a file, calculates the average sentiment score for each product, and outputs the results on the screen and to a separate file.<br><br>\n",
    "\n",
    "#### Background\n",
    "You are given a file containing customer feedback for various products. Each line in the file includes a date, the product name, and a customer's feedback text. Feedback can be categorized as positive, negative, or neutral based on predefined lists of phrases.<br><br>\n",
    "\n",
    "#### Requirements\n",
    "Read Feedback Data: Your function should read data from a text file named $\\rm\\color{cyan}{customer\\_feedback.txt}$. Each line follows the format: date, product_name, feedback_text.<br><br>\n",
    "\n",
    "#### Calculate Average Scores\n",
    "* Categorize each feedback as positive (+1 point), negative (-1 point), or neutral (0 points).\n",
    "* Calculate the average score for each product based on this categorization.<br><br>\n",
    "\n",
    "#### Output Results\n",
    "* Print the average score for each product on the screen in the format: product_name, average_score.\n",
    "* Write these results to a new text file named $\\rm\\color{cyan}{product\\_score.txt}$. The products should be listed in alphabetical order.<br><br>\n",
    "\n",
    "#### Constraints\n",
    "* Do not use dictionary data structures, zip, lambda, or list comprehensions.\n",
    "* Use basic loops, conditional statements, and list operations.\n",
    "* Utilize parallel lists to track products and their corresponding scores.<br><br>\n",
    "\n",
    "#### Tips\n",
    "* Start by categorizing each feedback based on the predefined lists of positive, negative, and neutral phrases.\n",
    "* Accumulate scores and count feedback for each product using parallel lists.\n",
    "* Calculate the average score for each product and ensure proper formatting for output."
   ]
  },
  {
   "cell_type": "code",
   "execution_count": null,
   "id": "b5e9751e",
   "metadata": {},
   "outputs": [],
   "source": [
    "positive = ['Impressed with the performance and durability. Great job.',\n",
    "            'Top-notch in quality. Highly satisfied.',\n",
    "            'Loved the innovative features. Never disappoints.']\n",
    "negative = ['Disappointed with the reliability. Expected better.',\n",
    "            'Frequently malfunctions. Not up to its standards.',\n",
    "            'Poor build quality. Regret this purchase.']\n",
    "neutral = ['Works fine, but nothing exceptional.',\n",
    "           'Just average - does the job but lacks wow factor.',\n",
    "           'An okay product; meets basic needs without standing out.']\n",
    "products = ['PlayStation 5', 'WH-1000XM5', 'XRM-65X95L', 'Xperia 1 V']"
   ]
  },
  {
   "cell_type": "code",
   "execution_count": 2,
   "id": "a73548c1",
   "metadata": {},
   "outputs": [
    {
     "name": "stdout",
     "output_type": "stream",
     "text": [
      "PlayStation 5 , 0.46\n",
      "WH-1000XM5 , 0.44\n",
      "XRM-65X95L , 0.65\n",
      "Xperia 1 V , -0.68\n"
     ]
    }
   ],
   "source": [
    "result = [ ['PlayStation 5',0], ['WH-1000XM5',0], ['XRM-65X95L',0], ['Xperia 1 V',0]]\n",
    "num=[0,0,0,0]\n",
    "\n",
    "feedback = ['Impressed with the performance and durability. Great job.',\n",
    "            'Top-notch in quality. Highly satisfied.',\n",
    "            'Loved the innovative features. Never disappoints.',\n",
    "            'Disappointed with the reliability. Expected better.',\n",
    "            'Frequently malfunctions. Not up to its standards.',\n",
    "            'Poor build quality. Regret this purchase.',\n",
    "            'Works fine, but nothing exceptional.',\n",
    "            'Just average - does the job but lacks wow factor.',\n",
    "            'An okay product; meets basic needs without standing out.']\n",
    "\n",
    "def calculate_product_scores( product , comment ) :\n",
    "    for i in range( len(result) ) :\n",
    "        if product == result[i][0] :\n",
    "            num[i]+=1\n",
    "            for j in range( len(feedback) ) :\n",
    "                if comment == feedback[j] :\n",
    "                    if j <=2 :  result[i][1] += 1\n",
    "                    elif j <= 5 : result[i][1] -= 1\n",
    "\n",
    "\n",
    "with open ( 'customer_feedback.txt' , 'r' ) as data_file :\n",
    "    lines = data_file.readlines()\n",
    "    for line in lines :\n",
    "        date , product , comment = line.split(',',2)\n",
    "        calculate_product_scores(product.strip() , comment.strip())\n",
    "\n",
    "\n",
    "\n",
    "with open( 'product_score.txt' , 'w' ) as file :\n",
    "    for i in range( len(result) ) :\n",
    "        if num[i] == 0 :\n",
    "            new_line = f'{result[i][0]} , {result[i][1]}\\n'\n",
    "            print( result[i][0] , result[i][1] , sep=' , ')\n",
    "        else :\n",
    "            new_line = f'{result[i][0]} , {round(result[i][1]/num[i],2)}\\n'\n",
    "            print( result[i][0] , round(result[i][1]/num[i],2) , sep=' , ')\n",
    "        file.write( new_line )"
   ]
  },
  {
   "cell_type": "code",
   "execution_count": null,
   "id": "ad5e1bba-b55c-42c8-abbb-ad0da44c829e",
   "metadata": {},
   "outputs": [],
   "source": []
  }
 ],
 "metadata": {
  "kernelspec": {
   "display_name": "Python 3 (ipykernel)",
   "language": "python",
   "name": "python3"
  },
  "language_info": {
   "codemirror_mode": {
    "name": "ipython",
    "version": 3
   },
   "file_extension": ".py",
   "mimetype": "text/x-python",
   "name": "python",
   "nbconvert_exporter": "python",
   "pygments_lexer": "ipython3",
   "version": "3.11.4"
  }
 },
 "nbformat": 4,
 "nbformat_minor": 5
}
