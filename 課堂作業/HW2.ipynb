{
 "cells": [
  {
   "cell_type": "markdown",
   "id": "f2d5a80a",
   "metadata": {},
   "source": [
    "$\\Bbb{Q1}$. Two of Python’s built-in functions are $\\rm\\color{orange}{min()}$ and $\\rm\\color{orange}{max()}$. Execute the following function calls to see how they work."
   ]
  },
  {
   "cell_type": "code",
   "execution_count": 1,
   "id": "c549d3f7",
   "metadata": {},
   "outputs": [
    {
     "name": "stdout",
     "output_type": "stream",
     "text": [
      "2\n",
      "7\n",
      "4\n"
     ]
    }
   ],
   "source": [
    "print(min(2, 3, 4))\n",
    "print(max(2, -3, 4, 7, -5))\n",
    "print(max(2, -3, min(4, 7), -5))"
   ]
  },
  {
   "cell_type": "markdown",
   "id": "0c9b5c9d",
   "metadata": {},
   "source": [
    "$\\Bbb{Q2}$. Following the function design recipe, define a function that has three parameters (grades) between $0$ and $100$, inclusive, and returns the average of those grades. You $\\rm\\color{orange}{CANNOT}$ use built-in functions other than $\\rm\\color{orange}{min()}$ and $\\rm\\color{orange}{max()}$ in your function."
   ]
  },
  {
   "cell_type": "code",
   "execution_count": 5,
   "id": "8dd481df",
   "metadata": {},
   "outputs": [
    {
     "name": "stdout",
     "output_type": "stream",
     "text": [
      "25.0\n",
      "25.0\n",
      "25.0\n",
      "25.0\n",
      "25.0\n",
      "25.0\n"
     ]
    }
   ],
   "source": [
    "def get_the_average( grade1 , grade2 , grade3 ) :\n",
    "    \n",
    "    '''\n",
    "    precondiction : 0 <= grade1 , grade2 , grade3 <= 100 \n",
    "    \n",
    "    @type ( grade1 , grade2 , grade3 ) : ( int , int , int )  \n",
    "    @rtype : double\n",
    "\n",
    "    最大值 : max( grade1 , grade2 , grade3 )\n",
    "    中間值 : max( min( grade1 , grade2 ) , min( grade1 , grade3 ) , min( grade2 , grade3 ) )\n",
    "    最小值 : min( grade1 , grade2 , grade3 )\n",
    "    \n",
    "    max_middle_gap = max_num - middle_num\n",
    "    min_middle_gap = min_num - middle_num\n",
    "    ( 0 <= max_middle_gap <= 100 , -100 <= min_middle_gap <= 0 ) \n",
    "\n",
    "    the average = middle_num + ( max_middle_gap + min_middle_gap )/3\n",
    "\n",
    "    Return the average of ( grade1 , grade2 , grade3 )\n",
    "\n",
    "    >>> get_the_average( 60 , 70 , 80 )\n",
    "    70.0\n",
    "\n",
    "    >>> get_the_average( 0 , 0 , 100 )\n",
    "    33.33333333333333\n",
    "    \n",
    "    >>> get_the_average( 0 , 100 , 100 )\n",
    "    66.66666666666666\n",
    "    \n",
    "    >>> get_the_average( 10 , 10 , 10 )\n",
    "    10.0\n",
    "    '''\n",
    "    \n",
    "    max_middle_gap = max( grade1 , grade2 , grade3 ) - max( min( grade1 , grade2 ) , min( grade1 , grade3 ) , min( grade2 , grade3 ) )\n",
    "    min_middle_gap = min( grade1 , grade2 , grade3 ) - max( min( grade1 , grade2 ) , min( grade1 , grade3 ) , min( grade2 , grade3 ) )\n",
    "    average = max( min( grade1 , grade2 ) , min( grade1 , grade3 ) , min( grade2 , grade3 ) )  + ( max_middle_gap + min_middle_gap )/3\n",
    "    \n",
    "    return ( average )\n",
    "\n",
    "print( get_the_average( 20 , 25 , 30 ) )\n",
    "print( get_the_average( 20 , 30 , 25 ) )\n",
    "print( get_the_average( 25 , 20 , 30 ) )\n",
    "print( get_the_average( 25 , 30 , 20 ) )\n",
    "print( get_the_average( 30 , 25 , 20 ) )\n",
    "print( get_the_average( 30 , 20 , 25 ) )"
   ]
  },
  {
   "cell_type": "markdown",
   "id": "25a5cb74",
   "metadata": {},
   "source": [
    "$\\Bbb{Q3}$. Following the function design recipe, define a function that has four parameters (grades) between $0$ and $100$, inclusive, and returns the average of the best $3$ of those grades. Your function $\\rm\\color{orange}{MUST}$ contain a function call of what you come up with in question $\\Bbb{Q2}$."
   ]
  },
  {
   "cell_type": "code",
   "execution_count": 7,
   "id": "d7fe816b-75da-4866-92c0-060198fa3ac3",
   "metadata": {},
   "outputs": [
    {
     "data": {
      "text/plain": [
       "40.0"
      ]
     },
     "execution_count": 7,
     "metadata": {},
     "output_type": "execute_result"
    }
   ],
   "source": [
    "def get_the_best_three_of_the_grades( num1 , num2 , num3 , num4 ) :\n",
    "    '''\n",
    "    precondiction : 0 <= num1 , num2 , num3 , num4 <= 100\n",
    "    \n",
    "    @type ( num1 , num2 , num3 , num4 ) : ( int , int , int , int )  \n",
    "    @rtype : double\n",
    "    return the average of the best 3 of those grades\n",
    "\n",
    "    >>> get_the_best_three_of_the_grades( 60 , 20 ,70 , 80 )\n",
    "    70.0\n",
    "\n",
    "    >>> get_the_best_three_of_the_grades( 0 , 0, 0 , 100 )\n",
    "    33.33333333333333\n",
    "    \n",
    "    >>> get_the_best_three_of_the_grades( 0 , 0 ,100 , 100 )\n",
    "    66.66666666666666\n",
    "    \n",
    "    >>> get_the_best_three_of_the_grades( 10 ,10 , 10 , 10 )\n",
    "    10.0\n",
    "    \n",
    "    '''\n",
    "    min_num = min( num1 , num2 , num3 , num4 )\n",
    "    \n",
    "    if min_num == num1 :\n",
    "        return ( get_the_average( num2 , num3 , num4 ) )\n",
    "    if min_num == num2 :\n",
    "        return( get_the_average( num1 , num3 , num4 ) )\n",
    "    if min_num == num3 :\n",
    "        return( get_the_average( num1 , num2 , num4 ) )\n",
    "    if min_num == num4 :\n",
    "        return( get_the_average( num1 , num2 , num3 ) )\n",
    "\n",
    "get_the_best_three_of_the_grades( 50 , 30 , 40 , 20 )"
   ]
  }
 ],
 "metadata": {
  "kernelspec": {
   "display_name": "Python 3 (ipykernel)",
   "language": "python",
   "name": "python3"
  },
  "language_info": {
   "codemirror_mode": {
    "name": "ipython",
    "version": 3
   },
   "file_extension": ".py",
   "mimetype": "text/x-python",
   "name": "python",
   "nbconvert_exporter": "python",
   "pygments_lexer": "ipython3",
   "version": "3.11.4"
  }
 },
 "nbformat": 4,
 "nbformat_minor": 5
}
