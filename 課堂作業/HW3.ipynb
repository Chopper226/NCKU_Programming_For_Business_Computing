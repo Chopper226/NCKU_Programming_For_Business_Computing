{
 "cells": [
  {
   "cell_type": "markdown",
   "id": "0241a56b",
   "metadata": {},
   "source": [
    "### The Inventory Management Challenge<br>\n",
    "\n",
    "$\\rm\\bf{Story\\space Background}$\n",
    "  \n",
    "You are the lead programmer for a small retail business, \"Everyday Essentials\", which deals with household goods. The business has an inventory management system that requires updates and your task is to improve the system by writing a Python program that manages inventory restocking based on sales data and predefined restock rules.<br>\n",
    "\n",
    "The inventory management system must be interactive, asking for inputs from the user and providing outputs based on logical conditions and arithmetic calculations. The new system you design should alert the user about which items need to be restocked and in what quantity, taking into account sales velocity, minimum stock thresholds, and supplier discounts for bulk purchases.<br>\n",
    "  \n",
    "<br>\n",
    "$\\rm\\bf{Functional\\space Requirements}$\n",
    "\n",
    "1. The program must have a function, $\\rm\\color{magenta}{check\\_inventory()}$, which takes two arguments: the item's current stock ($\\rm\\color{cyan}{current\\_stock}$) and the item's minimum required stock ($\\rm\\color{cyan}{min\\_stock}$).\n",
    "If the current stock for an item is below the minimum stock, the function should calculate the restock amount. This is the difference between the minimum stock and the current stock increased by $20\\%$ (rounded up to the nearest whole number) to prevent frequent restocking. (HINT: You may use $\\rm\\color{magenta}{math.ceil()}$ to round up the numbers)\n",
    "2. The program must contain another function, $\\rm\\color{magenta}{calculate\\_discount()}$, which calculates the discount for bulk purchases. This function should accept one argument: the restock amount. Discounts are applied as follows:\n",
    "    * If $5$ or more packs (of $10$ items) are restocked, there is a $10\\%$ discount.\n",
    "    * If $10$ or more packs (of $10$ items) are restocked, there is a $20\\%$ discount.\n",
    "3. No discount for fewer than $5$ packs (of $10$ items).\n",
    "4. The $\\rm\\color{magenta}{calculate\\_discount()}$ function should call $\\rm\\color{magenta}{check\\_inventory()}$ within it to get the restock amount.\n",
    "5. Use nested $\\rm\\color{cyan}{if-elif-else}$ structures to decide the discount and restock amount.\n",
    "6. The $\\rm\\color{magenta}{print()}$ function must be used to output the final decision, including the item name, restock amount, and the discount applied. The output should use the $\\rm\\color{cyan}{sep}$ and $\\rm\\color{cyan}{end}$ parameters to format the output.\n",
    "7. The program must use all boolean operators and relational operators to check multiple conditions (e.g., whether current stock is less than minimum stock and if the restock amount qualifies for a discount).\n",
    "8. Basic arithmetic operations must be used to calculate restock amounts and discounts, including modulus ($\\rm\\color{cyan}{\\%}$) and integer division ($\\rm\\color{cyan}{//}$) where appropriate.\n",
    "9. String operations using $\\rm\\color{cyan}{+}$ and $\\rm\\color{cyan}{*}$ should be used to create a user-friendly output message.\n",
    "10. The system should allow for user input to enter the item name, current stock, and minimum stock required.\n",
    "  \n",
    "<br>\n",
    "$\\rm\\bf{Example\\space Output}$<br>\n",
    "$\\Bbb{1}$\n",
    "\n",
    "    Enter the item name for inventory check: Laundry Detergent\n",
    "    Enter the current stock for Laundry Detergent: 20\n",
    "    Enter the minimum required stock for Laundry Detergent: 110\n",
    "    Restocking Required for Laundry Detergent | Restock Amount: 108 units (in 11 packs of 10) | Discount Applied: 20%\n",
    "\n",
    "$\\Bbb{2}$\n",
    "  \n",
    "    Enter the item name for inventory check: Dish Soap\n",
    "    Enter the current stock for Dish Soap: 75\n",
    "    Enter the minimum required stock for Dish Soap: 50\n",
    "    No restocking required for Dish Soap. Current stock meets the minimum required.\n",
    "  \n",
    "$\\Bbb{3}$\n",
    "  \n",
    "    Enter the item name for inventory check: Toilet Paper\n",
    "    Enter the current stock for Toilet Paper: 40\n",
    "    Enter the minimum required stock for Toilet Paper: 80\n",
    "    Restocking Required for Toilet Paper | Restock Amount: 48 units (in 5 packs of 10) | Discount Applied: 10%"
   ]
  },
  {
   "cell_type": "code",
   "execution_count": 6,
   "id": "070d54ab",
   "metadata": {},
   "outputs": [
    {
     "name": "stdin",
     "output_type": "stream",
     "text": [
      "Enter the item name for inventory check: Laundry Detergent\n",
      "Enter the current stock for Laundry Detergent: 2\n",
      "Enter the minimum required stock for Laundry Detergent: 5\n"
     ]
    },
    {
     "name": "stdout",
     "output_type": "stream",
     "text": [
      "Restocking Required forLaundry Detergent | Restock Amount: 4 units (in 1 packs of 10) | Discount Applied: No discount\n"
     ]
    }
   ],
   "source": [
    "import math\n",
    "\n",
    "def check_inventory ( current_stock , min_stock ) :\n",
    "    if current_stock >= min_stock : return ( 0 )\n",
    "    return ( math.ceil( (min_stock - current_stock) * 1.2) ) \n",
    "\n",
    "def calculate_discount( current_stock , min_stock ) :\n",
    "\n",
    "    if check_inventory( current_stock , min_stock )%10 == 0 : \n",
    "        buy = check_inventory( current_stock , min_stock )//10\n",
    "    else : buy = check_inventory( current_stock , min_stock )//10 + 1\n",
    "\n",
    "    if check_inventory( current_stock , min_stock ) == 0 : return ( \"No_required\" )\n",
    "    if buy < 5 : return ( \"No discount\" )\n",
    "    if buy < 10 : return ( \"10%\" )\n",
    "    return( \"20%\" )\n",
    "\n",
    "item_name = input( \"Enter the item name for inventory check:\" )\n",
    "current_stock = int(input(\"Enter the current stock for \" + item_name + \":\"))\n",
    "min_stock = int(input(\"Enter the minimum required stock for \" + item_name + \":\"))\n",
    "\n",
    "\n",
    "if check_inventory( current_stock , min_stock )%10 == 0 : \n",
    "    buy = check_inventory( current_stock , min_stock )//10\n",
    "else : buy = check_inventory( current_stock , min_stock )//10 + 1\n",
    "\n",
    "check = calculate_discount( current_stock , min_stock )\n",
    "\n",
    "if check == \"No_required\" :\n",
    "    print( \" No restocking required for \"+item_name+\". Current stock meets the minimum required.\")\n",
    "else :\n",
    "    print(\"Restocking Required for\" + item_name ,\"| Restock Amount:\",check_inventory( current_stock , min_stock ),\"units (in\",buy ,\"packs of 10) | Discount Applied:\",check)"
   ]
  },
  {
   "cell_type": "code",
   "execution_count": null,
   "id": "0ac0c269-1bf1-432a-9236-3a45a00e5bca",
   "metadata": {},
   "outputs": [],
   "source": []
  }
 ],
 "metadata": {
  "kernelspec": {
   "display_name": "Python 3 (ipykernel)",
   "language": "python",
   "name": "python3"
  },
  "language_info": {
   "codemirror_mode": {
    "name": "ipython",
    "version": 3
   },
   "file_extension": ".py",
   "mimetype": "text/x-python",
   "name": "python",
   "nbconvert_exporter": "python",
   "pygments_lexer": "ipython3",
   "version": "3.11.4"
  },
  "toc": {
   "base_numbering": 1,
   "nav_menu": {},
   "number_sections": true,
   "sideBar": true,
   "skip_h1_title": false,
   "title_cell": "Table of Contents",
   "title_sidebar": "Contents",
   "toc_cell": false,
   "toc_position": {},
   "toc_section_display": true,
   "toc_window_display": false
  },
  "varInspector": {
   "cols": {
    "lenName": 16,
    "lenType": 16,
    "lenVar": 40
   },
   "kernels_config": {
    "python": {
     "delete_cmd_postfix": "",
     "delete_cmd_prefix": "del ",
     "library": "var_list.py",
     "varRefreshCmd": "print(var_dic_list())"
    },
    "r": {
     "delete_cmd_postfix": ") ",
     "delete_cmd_prefix": "rm(",
     "library": "var_list.r",
     "varRefreshCmd": "cat(var_dic_list()) "
    }
   },
   "types_to_exclude": [
    "module",
    "function",
    "builtin_function_or_method",
    "instance",
    "_Feature"
   ],
   "window_display": false
  }
 },
 "nbformat": 4,
 "nbformat_minor": 5
}
